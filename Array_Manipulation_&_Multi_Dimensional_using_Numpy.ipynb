{
  "nbformat": 4,
  "nbformat_minor": 0,
  "metadata": {
    "colab": {
      "name": "Array Manipulation & Multi Dimensional using Numpy",
      "provenance": [],
      "include_colab_link": true
    },
    "kernelspec": {
      "name": "python3",
      "display_name": "Python 3"
    }
  },
  "cells": [
    {
      "cell_type": "markdown",
      "metadata": {
        "id": "view-in-github",
        "colab_type": "text"
      },
      "source": [
        "<a href=\"https://colab.research.google.com/github/ragalaa/Directory/blob/master/Array_Manipulation_%26_Multi_Dimensional_using_Numpy.ipynb\" target=\"_parent\"><img src=\"https://colab.research.google.com/assets/colab-badge.svg\" alt=\"Open In Colab\"/></a>"
      ]
    },
    {
      "cell_type": "code",
      "metadata": {
        "id": "z3KgHnrzkBRj",
        "colab_type": "code",
        "colab": {
          "base_uri": "https://localhost:8080/",
          "height": 292
        },
        "outputId": "b257febd-02e2-4a25-ff1c-fac3037d7502"
      },
      "source": [
        "!pip install numpy --upgrade"
      ],
      "execution_count": 1,
      "outputs": [
        {
          "output_type": "stream",
          "text": [
            "Collecting numpy\n",
            "\u001b[?25l  Downloading https://files.pythonhosted.org/packages/e5/e6/c3fdc53aed9fa19d6ff3abf97dfad768ae3afce1b7431f7500000816bda5/numpy-1.17.2-cp36-cp36m-manylinux1_x86_64.whl (20.4MB)\n",
            "\u001b[K     |████████████████████████████████| 20.4MB 5.1MB/s \n",
            "\u001b[31mERROR: datascience 0.10.6 has requirement folium==0.2.1, but you'll have folium 0.8.3 which is incompatible.\u001b[0m\n",
            "\u001b[31mERROR: albumentations 0.1.12 has requirement imgaug<0.2.7,>=0.2.5, but you'll have imgaug 0.2.9 which is incompatible.\u001b[0m\n",
            "\u001b[?25hInstalling collected packages: numpy\n",
            "  Found existing installation: numpy 1.16.5\n",
            "    Uninstalling numpy-1.16.5:\n",
            "      Successfully uninstalled numpy-1.16.5\n",
            "Successfully installed numpy-1.17.2\n"
          ],
          "name": "stdout"
        },
        {
          "output_type": "display_data",
          "data": {
            "application/vnd.colab-display-data+json": {
              "pip_warning": {
                "packages": [
                  "numpy"
                ]
              }
            }
          },
          "metadata": {
            "tags": []
          }
        }
      ]
    },
    {
      "cell_type": "code",
      "metadata": {
        "id": "5rhKOfnukrMJ",
        "colab_type": "code",
        "colab": {}
      },
      "source": [
        "import numpy as np\n"
      ],
      "execution_count": 0,
      "outputs": []
    },
    {
      "cell_type": "code",
      "metadata": {
        "id": "lHBSSQL0kwTK",
        "colab_type": "code",
        "colab": {
          "base_uri": "https://localhost:8080/",
          "height": 34
        },
        "outputId": "0f127da5-2b9b-4c12-eb58-d657b1aadb7b"
      },
      "source": [
        "array_one  = np.array([1,2,3,4])\n",
        "array_one"
      ],
      "execution_count": 3,
      "outputs": [
        {
          "output_type": "execute_result",
          "data": {
            "text/plain": [
              "array([1, 2, 3, 4])"
            ]
          },
          "metadata": {
            "tags": []
          },
          "execution_count": 3
        }
      ]
    },
    {
      "cell_type": "code",
      "metadata": {
        "id": "-irPVdj3k8gu",
        "colab_type": "code",
        "colab": {
          "base_uri": "https://localhost:8080/",
          "height": 34
        },
        "outputId": "dbccca98-4b24-41ef-cabb-761f8cf01fa3"
      },
      "source": [
        "numbers = [9,8,7,6]\n",
        "array_two = np.array(numbers)\n",
        "array_two"
      ],
      "execution_count": 4,
      "outputs": [
        {
          "output_type": "execute_result",
          "data": {
            "text/plain": [
              "array([9, 8, 7, 6])"
            ]
          },
          "metadata": {
            "tags": []
          },
          "execution_count": 4
        }
      ]
    },
    {
      "cell_type": "code",
      "metadata": {
        "id": "njlHuZVZlKYF",
        "colab_type": "code",
        "colab": {
          "base_uri": "https://localhost:8080/",
          "height": 68
        },
        "outputId": "f925a118-0d6c-43c3-ec4d-57cf9c7edb8d"
      },
      "source": [
        "## array shape 3 rows 4 columns with Zeros.\n",
        "array_of_zeros = np.zeros((3,4))\n",
        "array_of_zeros"
      ],
      "execution_count": 5,
      "outputs": [
        {
          "output_type": "execute_result",
          "data": {
            "text/plain": [
              "array([[0., 0., 0., 0.],\n",
              "       [0., 0., 0., 0.],\n",
              "       [0., 0., 0., 0.]])"
            ]
          },
          "metadata": {
            "tags": []
          },
          "execution_count": 5
        }
      ]
    },
    {
      "cell_type": "code",
      "metadata": {
        "id": "Xgwtnd5AldFo",
        "colab_type": "code",
        "colab": {
          "base_uri": "https://localhost:8080/",
          "height": 68
        },
        "outputId": "37267366-f11a-4683-fa1f-2432d51cd56f"
      },
      "source": [
        "## array shape 3 rows 4 columns with ones of specific type with integer.\n",
        "array_of_ones_int = np.ones((3,4),dtype = np.int16)\n",
        "array_of_ones_int"
      ],
      "execution_count": 6,
      "outputs": [
        {
          "output_type": "execute_result",
          "data": {
            "text/plain": [
              "array([[1, 1, 1, 1],\n",
              "       [1, 1, 1, 1],\n",
              "       [1, 1, 1, 1]], dtype=int16)"
            ]
          },
          "metadata": {
            "tags": []
          },
          "execution_count": 6
        }
      ]
    },
    {
      "cell_type": "code",
      "metadata": {
        "id": "yXUpLfJel4kD",
        "colab_type": "code",
        "colab": {
          "base_uri": "https://localhost:8080/",
          "height": 51
        },
        "outputId": "9d71f56d-5664-41b7-db21-f28439ed240b"
      },
      "source": [
        "## Empty fucntion with shape\n",
        "array_empty = np.empty((2,3),dtype = np.int16)\n",
        "array_empty"
      ],
      "execution_count": 9,
      "outputs": [
        {
          "output_type": "execute_result",
          "data": {
            "text/plain": [
              "array([[0, 0, 0],\n",
              "       [0, 0, 0]], dtype=int16)"
            ]
          },
          "metadata": {
            "tags": []
          },
          "execution_count": 9
        }
      ]
    },
    {
      "cell_type": "code",
      "metadata": {
        "id": "aSv7e6Mtmag8",
        "colab_type": "code",
        "colab": {
          "base_uri": "https://localhost:8080/",
          "height": 68
        },
        "outputId": "cfbabd6b-69b4-4852-bc2e-6d2f32e7a90f"
      },
      "source": [
        "### Square matrix 1 along diagnol with 3*3 matrix\n",
        "array_eye = np.eye(3)\n",
        "array_eye"
      ],
      "execution_count": 10,
      "outputs": [
        {
          "output_type": "execute_result",
          "data": {
            "text/plain": [
              "array([[1., 0., 0.],\n",
              "       [0., 1., 0.],\n",
              "       [0., 0., 1.]])"
            ]
          },
          "metadata": {
            "tags": []
          },
          "execution_count": 10
        }
      ]
    },
    {
      "cell_type": "code",
      "metadata": {
        "id": "FckZQZ1dmu8a",
        "colab_type": "code",
        "colab": {
          "base_uri": "https://localhost:8080/",
          "height": 34
        },
        "outputId": "f9e5a526-314b-4a72-816e-ecd34eb79b08"
      },
      "source": [
        "### arrange to et up specific values with step fucntion with step size 2 until 20\n",
        "array_of_evens = np.arange(2,20,2)\n",
        "array_of_evens"
      ],
      "execution_count": 12,
      "outputs": [
        {
          "output_type": "execute_result",
          "data": {
            "text/plain": [
              "array([ 2,  4,  6,  8, 10, 12, 14, 16, 18])"
            ]
          },
          "metadata": {
            "tags": []
          },
          "execution_count": 12
        }
      ]
    },
    {
      "cell_type": "code",
      "metadata": {
        "id": "GsX_Jc4SnFax",
        "colab_type": "code",
        "colab": {
          "base_uri": "https://localhost:8080/",
          "height": 51
        },
        "outputId": "e62dab4c-985f-4880-b5cf-be1cb66e7d2b"
      },
      "source": [
        "## 2 Dimensional array creation with list of list with 2 rows and 3 columns\n",
        "array_2d = np.array([(2,4,6),(3,5,7)])\n",
        "array_2d"
      ],
      "execution_count": 13,
      "outputs": [
        {
          "output_type": "execute_result",
          "data": {
            "text/plain": [
              "array([[2, 4, 6],\n",
              "       [3, 5, 7]])"
            ]
          },
          "metadata": {
            "tags": []
          },
          "execution_count": 13
        }
      ]
    },
    {
      "cell_type": "code",
      "metadata": {
        "id": "iFdMwAD8p21y",
        "colab_type": "code",
        "colab": {
          "base_uri": "https://localhost:8080/",
          "height": 34
        },
        "outputId": "2c17230f-492f-43e4-94e4-84b74abd85d5"
      },
      "source": [
        "array_2d.shape"
      ],
      "execution_count": 14,
      "outputs": [
        {
          "output_type": "execute_result",
          "data": {
            "text/plain": [
              "(2, 3)"
            ]
          },
          "metadata": {
            "tags": []
          },
          "execution_count": 14
        }
      ]
    },
    {
      "cell_type": "code",
      "metadata": {
        "id": "7Uo7TcxKqVuH",
        "colab_type": "code",
        "colab": {
          "base_uri": "https://localhost:8080/",
          "height": 34
        },
        "outputId": "a4bfeedd-a46f-4fd1-b5e6-2938f8c24c58"
      },
      "source": [
        "arrange = np.arange(6)\n",
        "arrange"
      ],
      "execution_count": 17,
      "outputs": [
        {
          "output_type": "execute_result",
          "data": {
            "text/plain": [
              "array([0, 1, 2, 3, 4, 5])"
            ]
          },
          "metadata": {
            "tags": []
          },
          "execution_count": 17
        }
      ]
    },
    {
      "cell_type": "code",
      "metadata": {
        "id": "LydpHHdyp6vL",
        "colab_type": "code",
        "colab": {
          "base_uri": "https://localhost:8080/",
          "height": 68
        },
        "outputId": "27be3ccb-3f0c-4d82-97ae-6620c3206c0e"
      },
      "source": [
        "### reshaping array to 3* 4 ** be care ful if you try to\n",
        "### reshpe if they don't fit in it will not shape\n",
        "## To test change to (3,4) requires 12 elements but it ahs only 6\n",
        "array_nd = np.arange(6).reshape(3,2)\n",
        "array_nd"
      ],
      "execution_count": 19,
      "outputs": [
        {
          "output_type": "execute_result",
          "data": {
            "text/plain": [
              "array([[0, 1],\n",
              "       [2, 3],\n",
              "       [4, 5]])"
            ]
          },
          "metadata": {
            "tags": []
          },
          "execution_count": 19
        }
      ]
    },
    {
      "cell_type": "code",
      "metadata": {
        "id": "8RWrG_uWqwAr",
        "colab_type": "code",
        "colab": {
          "base_uri": "https://localhost:8080/",
          "height": 68
        },
        "outputId": "d7c70777-9a11-4a89-ec3e-750f136117f6"
      },
      "source": [
        "### Array fills with same shape and prefills with Ones\n",
        "array_ones = np.ones_like(array_nd)\n",
        "array_ones"
      ],
      "execution_count": 20,
      "outputs": [
        {
          "output_type": "execute_result",
          "data": {
            "text/plain": [
              "array([[1, 1],\n",
              "       [1, 1],\n",
              "       [1, 1]])"
            ]
          },
          "metadata": {
            "tags": []
          },
          "execution_count": 20
        }
      ]
    },
    {
      "cell_type": "code",
      "metadata": {
        "id": "cKhxsAyJqj0n",
        "colab_type": "code",
        "colab": {}
      },
      "source": [
        ""
      ],
      "execution_count": 0,
      "outputs": []
    },
    {
      "cell_type": "markdown",
      "metadata": {
        "id": "dS41obuHrHhX",
        "colab_type": "text"
      },
      "source": [
        "Printing Arrays--"
      ]
    },
    {
      "cell_type": "code",
      "metadata": {
        "id": "H_JgrsFprKAs",
        "colab_type": "code",
        "colab": {
          "base_uri": "https://localhost:8080/",
          "height": 34
        },
        "outputId": "f05d4ea8-3c3a-42c7-d0ec-3f6611eef214"
      },
      "source": [
        "a = np.arange(6)\n",
        "print(a)"
      ],
      "execution_count": 21,
      "outputs": [
        {
          "output_type": "stream",
          "text": [
            "[0 1 2 3 4 5]\n"
          ],
          "name": "stdout"
        }
      ]
    },
    {
      "cell_type": "code",
      "metadata": {
        "id": "6_lF2NnQrUqc",
        "colab_type": "code",
        "colab": {
          "base_uri": "https://localhost:8080/",
          "height": 85
        },
        "outputId": "2a2598a3-4f5d-40ef-9421-494932177b0d"
      },
      "source": [
        "b = np.arange(12).reshape(4,3)\n",
        "print(b)"
      ],
      "execution_count": 22,
      "outputs": [
        {
          "output_type": "stream",
          "text": [
            "[[ 0  1  2]\n",
            " [ 3  4  5]\n",
            " [ 6  7  8]\n",
            " [ 9 10 11]]\n"
          ],
          "name": "stdout"
        }
      ]
    },
    {
      "cell_type": "code",
      "metadata": {
        "id": "vfY9VBa9rfc3",
        "colab_type": "code",
        "colab": {
          "base_uri": "https://localhost:8080/",
          "height": 136
        },
        "outputId": "3576cdf3-0b5b-403f-aeef-0806613f9d9e"
      },
      "source": [
        "### 3 dimensional array -- Contains 2 Arrays of Size 3*4\n",
        "c = np.arange(24).reshape(2,3,4)\n",
        "print(d)"
      ],
      "execution_count": 29,
      "outputs": [
        {
          "output_type": "stream",
          "text": [
            "[[[ 0  1  2  3]\n",
            "  [ 4  5  6  7]\n",
            "  [ 8  9 10 11]]\n",
            "\n",
            " [[12 13 14 15]\n",
            "  [16 17 18 19]\n",
            "  [20 21 22 23]]]\n"
          ],
          "name": "stdout"
        }
      ]
    },
    {
      "cell_type": "code",
      "metadata": {
        "id": "mN3R84easeQQ",
        "colab_type": "code",
        "colab": {
          "base_uri": "https://localhost:8080/",
          "height": 136
        },
        "outputId": "155c24fb-e7cd-4957-e5f2-4b585c6b38e7"
      },
      "source": [
        "\n",
        "print(np.arange(10000).reshape(100,100))"
      ],
      "execution_count": 31,
      "outputs": [
        {
          "output_type": "stream",
          "text": [
            "[[   0    1    2 ...   97   98   99]\n",
            " [ 100  101  102 ...  197  198  199]\n",
            " [ 200  201  202 ...  297  298  299]\n",
            " ...\n",
            " [9700 9701 9702 ... 9797 9798 9799]\n",
            " [9800 9801 9802 ... 9897 9898 9899]\n",
            " [9900 9901 9902 ... 9997 9998 9999]]\n"
          ],
          "name": "stdout"
        }
      ]
    },
    {
      "cell_type": "code",
      "metadata": {
        "id": "5QGm-shWsxJV",
        "colab_type": "code",
        "colab": {}
      },
      "source": [
        "## Inorder for the .... to move way and print all elememnts to display we can set the below option\n",
        "np.set_printoptions(threshold = 10000)\n",
        "# print(np.arange(10000).reshape(100,100))"
      ],
      "execution_count": 0,
      "outputs": []
    },
    {
      "cell_type": "markdown",
      "metadata": {
        "id": "9-gB6RblLCWU",
        "colab_type": "text"
      },
      "source": [
        "Basic Numpy Operations ----"
      ]
    },
    {
      "cell_type": "code",
      "metadata": {
        "id": "tDQixCSTLIH8",
        "colab_type": "code",
        "colab": {}
      },
      "source": [
        "## Creating two one dimensional Array\n",
        "## Both have same shape hence the can be added with each element\n",
        "\n",
        "a = np.array([10,10,10])\n",
        "b = np.array([5,5,5])"
      ],
      "execution_count": 0,
      "outputs": []
    },
    {
      "cell_type": "code",
      "metadata": {
        "id": "46BdmoS9LeoN",
        "colab_type": "code",
        "colab": {
          "base_uri": "https://localhost:8080/",
          "height": 34
        },
        "outputId": "e129711a-793c-4ceb-cf8f-9215d44ab2f2"
      },
      "source": [
        "a + b"
      ],
      "execution_count": 42,
      "outputs": [
        {
          "output_type": "execute_result",
          "data": {
            "text/plain": [
              "array([15, 15, 15])"
            ]
          },
          "metadata": {
            "tags": []
          },
          "execution_count": 42
        }
      ]
    },
    {
      "cell_type": "code",
      "metadata": {
        "id": "HR9YKc50LiiV",
        "colab_type": "code",
        "colab": {
          "base_uri": "https://localhost:8080/",
          "height": 34
        },
        "outputId": "428c7a3e-e4c7-4e64-fcb2-a85f94b52b42"
      },
      "source": [
        "a - b"
      ],
      "execution_count": 43,
      "outputs": [
        {
          "output_type": "execute_result",
          "data": {
            "text/plain": [
              "array([5, 5, 5])"
            ]
          },
          "metadata": {
            "tags": []
          },
          "execution_count": 43
        }
      ]
    },
    {
      "cell_type": "code",
      "metadata": {
        "id": "LaIWFfkbLqO6",
        "colab_type": "code",
        "colab": {
          "base_uri": "https://localhost:8080/",
          "height": 34
        },
        "outputId": "eee5a52b-9e46-4b99-e616-13fbcdf9a2e9"
      },
      "source": [
        "### If two elements has same dimension we canmultiply\n",
        "## Element wise division\n",
        "\n",
        "\n",
        "# a * b\n",
        "a % 3\n",
        "\n",
        "## Conditinal operator as well to dimension\n",
        "\n",
        "a < 35"
      ],
      "execution_count": 47,
      "outputs": [
        {
          "output_type": "execute_result",
          "data": {
            "text/plain": [
              "array([ True,  True,  True])"
            ]
          },
          "metadata": {
            "tags": []
          },
          "execution_count": 47
        }
      ]
    },
    {
      "cell_type": "code",
      "metadata": {
        "id": "MixFMVlpMLe1",
        "colab_type": "code",
        "colab": {
          "base_uri": "https://localhost:8080/",
          "height": 34
        },
        "outputId": "bf04b5e3-d786-40f1-b9b9-9fabb6ccc28b"
      },
      "source": [
        "#### chek if all elements are  greater than 25\n",
        " a > 8"
      ],
      "execution_count": 49,
      "outputs": [
        {
          "output_type": "execute_result",
          "data": {
            "text/plain": [
              "array([ True,  True,  True])"
            ]
          },
          "metadata": {
            "tags": []
          },
          "execution_count": 49
        }
      ]
    },
    {
      "cell_type": "code",
      "metadata": {
        "id": "rjvuWW9_MX3d",
        "colab_type": "code",
        "colab": {
          "base_uri": "https://localhost:8080/",
          "height": 119
        },
        "outputId": "5852678f-9ebb-4774-e21a-9486fff57946"
      },
      "source": [
        "### mathematical operations on 2D array\n",
        "\n",
        "A = np.array( [[1,1],[0,1]] )\n",
        "B = np.array( [[2,0],[3,4]] )\n",
        "\n",
        "print( 'A:\\n', A )\n",
        "print( 'B:\\n', B )"
      ],
      "execution_count": 51,
      "outputs": [
        {
          "output_type": "stream",
          "text": [
            "A:\n",
            " [[1 1]\n",
            " [0 1]]\n",
            "B:\n",
            " [[2 0]\n",
            " [3 4]]\n"
          ],
          "name": "stdout"
        }
      ]
    },
    {
      "cell_type": "code",
      "metadata": {
        "id": "6OF-Nx2oNMvJ",
        "colab_type": "code",
        "colab": {
          "base_uri": "https://localhost:8080/",
          "height": 51
        },
        "outputId": "3e340cad-4b61-4943-b290-6f9c570bca7f"
      },
      "source": [
        "#### Element wise result of two dimensional array result\n",
        "\n",
        "A * B"
      ],
      "execution_count": 52,
      "outputs": [
        {
          "output_type": "execute_result",
          "data": {
            "text/plain": [
              "array([[2, 0],\n",
              "       [0, 4]])"
            ]
          },
          "metadata": {
            "tags": []
          },
          "execution_count": 52
        }
      ]
    },
    {
      "cell_type": "code",
      "metadata": {
        "id": "-8ZK4F-0NaQD",
        "colab_type": "code",
        "colab": {
          "base_uri": "https://localhost:8080/",
          "height": 51
        },
        "outputId": "46494389-43fd-4a72-a2ce-d6388de01a63"
      },
      "source": [
        "### matrix multiplication\n",
        "## [row,col] = sum ( all elements in row * all elements in col)\n",
        "### Highscj=hool match   .No of cols in first matrix A should be\n",
        "### equal to no fo rows second matrix B for matrix multiplication \n",
        "## toe be possible\n",
        "\n",
        "A.dot(B)"
      ],
      "execution_count": 53,
      "outputs": [
        {
          "output_type": "execute_result",
          "data": {
            "text/plain": [
              "array([[5, 4],\n",
              "       [3, 4]])"
            ]
          },
          "metadata": {
            "tags": []
          },
          "execution_count": 53
        }
      ]
    },
    {
      "cell_type": "code",
      "metadata": {
        "id": "cJ2igDdTN6L9",
        "colab_type": "code",
        "colab": {
          "base_uri": "https://localhost:8080/",
          "height": 51
        },
        "outputId": "e7cfb33f-73e0-4a9b-c04c-3804e2096bc3"
      },
      "source": [
        "np.dot(A,B)"
      ],
      "execution_count": 54,
      "outputs": [
        {
          "output_type": "execute_result",
          "data": {
            "text/plain": [
              "array([[5, 4],\n",
              "       [3, 4]])"
            ]
          },
          "metadata": {
            "tags": []
          },
          "execution_count": 54
        }
      ]
    },
    {
      "cell_type": "code",
      "metadata": {
        "id": "czaM1fFAOZUW",
        "colab_type": "code",
        "colab": {
          "base_uri": "https://localhost:8080/",
          "height": 34
        },
        "outputId": "8472c725-b79f-423e-8552-880c2c61af32"
      },
      "source": [
        "a  *= 3\n",
        "a"
      ],
      "execution_count": 57,
      "outputs": [
        {
          "output_type": "execute_result",
          "data": {
            "text/plain": [
              "array([90, 90, 90])"
            ]
          },
          "metadata": {
            "tags": []
          },
          "execution_count": 57
        }
      ]
    },
    {
      "cell_type": "code",
      "metadata": {
        "id": "VF0Dzms0Os46",
        "colab_type": "code",
        "colab": {
          "base_uri": "https://localhost:8080/",
          "height": 34
        },
        "outputId": "f3ecadc1-efc9-4549-f089-73bb1f2fa3cb"
      },
      "source": [
        "ages = np.array([12,15,18,20])\n",
        "ages.sum()\n",
        "ages.min()"
      ],
      "execution_count": 59,
      "outputs": [
        {
          "output_type": "execute_result",
          "data": {
            "text/plain": [
              "12"
            ]
          },
          "metadata": {
            "tags": []
          },
          "execution_count": 59
        }
      ]
    },
    {
      "cell_type": "code",
      "metadata": {
        "id": "3W4Xa_7QO5Sr",
        "colab_type": "code",
        "colab": {
          "base_uri": "https://localhost:8080/",
          "height": 68
        },
        "outputId": "37af0bf6-51f5-4bfd-b908-6731843c47ed"
      },
      "source": [
        "numbers = np.arange(12).reshape(3,4)\n",
        "numbers\n"
      ],
      "execution_count": 62,
      "outputs": [
        {
          "output_type": "execute_result",
          "data": {
            "text/plain": [
              "array([[ 0,  1,  2,  3],\n",
              "       [ 4,  5,  6,  7],\n",
              "       [ 8,  9, 10, 11]])"
            ]
          },
          "metadata": {
            "tags": []
          },
          "execution_count": 62
        }
      ]
    },
    {
      "cell_type": "code",
      "metadata": {
        "id": "3-2XBRVaPOJ1",
        "colab_type": "code",
        "colab": {
          "base_uri": "https://localhost:8080/",
          "height": 34
        },
        "outputId": "44aa9eea-a4c1-4126-df65-b7d661a02805"
      },
      "source": [
        "## Summ along axis = 0 column's  Axis = 1 for rows1 can be sum for any 2d array\n",
        "numbers.sum(axis=1)\n",
        "numbers.min(axis=1)"
      ],
      "execution_count": 65,
      "outputs": [
        {
          "output_type": "execute_result",
          "data": {
            "text/plain": [
              "array([0, 4, 8])"
            ]
          },
          "metadata": {
            "tags": []
          },
          "execution_count": 65
        }
      ]
    },
    {
      "cell_type": "markdown",
      "metadata": {
        "id": "mRpa7ciiQHo3",
        "colab_type": "text"
      },
      "source": [
        "Mathematical Operations Universal Functions -- Sin, cos, tan etc.."
      ]
    },
    {
      "cell_type": "code",
      "metadata": {
        "id": "XFOfrvl2QQGS",
        "colab_type": "code",
        "colab": {
          "base_uri": "https://localhost:8080/",
          "height": 34
        },
        "outputId": "475ff799-e261-4b98-ab7f-d19d5732e406"
      },
      "source": [
        "### mathematical Operations will be applied to every element of the angles\n",
        "## array to radians with formula pi/180\n",
        "\n",
        "angles = np.array([0,30,45,60,90])\n",
        "angles_radians = angles * np.pi/180\n",
        "angles_radians\n"
      ],
      "execution_count": 67,
      "outputs": [
        {
          "output_type": "execute_result",
          "data": {
            "text/plain": [
              "array([0.        , 0.52359878, 0.78539816, 1.04719755, 1.57079633])"
            ]
          },
          "metadata": {
            "tags": []
          },
          "execution_count": 67
        }
      ]
    },
    {
      "cell_type": "code",
      "metadata": {
        "id": "RvpzIm1ZQ9pe",
        "colab_type": "code",
        "colab": {
          "base_uri": "https://localhost:8080/",
          "height": 51
        },
        "outputId": "31b2e22d-1963-4e20-9367-78a165ce32a9"
      },
      "source": [
        "print('sine of angles in array')\n",
        "print( np.sin(angles_radians))"
      ],
      "execution_count": 68,
      "outputs": [
        {
          "output_type": "stream",
          "text": [
            "sine of angles in array\n",
            "[0.         0.5        0.70710678 0.8660254  1.        ]\n"
          ],
          "name": "stdout"
        }
      ]
    },
    {
      "cell_type": "code",
      "metadata": {
        "id": "7CUe0l7DRLhh",
        "colab_type": "code",
        "colab": {
          "base_uri": "https://localhost:8080/",
          "height": 51
        },
        "outputId": "7cc60d35-0659-40ad-cefd-e61d2d884702"
      },
      "source": [
        "sin = np.sin( angles * np.pi/180)\n",
        "print(' Compute sine inverse of angles. returned values are in radians' )\n",
        "inv = np.arcsin(sin)\n",
        "print(inv)"
      ],
      "execution_count": 69,
      "outputs": [
        {
          "output_type": "stream",
          "text": [
            " Compute sine inverse of angles. returned values are in radians\n",
            "[0.         0.52359878 0.78539816 1.04719755 1.57079633]\n"
          ],
          "name": "stdout"
        }
      ]
    },
    {
      "cell_type": "code",
      "metadata": {
        "id": "U6P4Zw8nR0E6",
        "colab_type": "code",
        "colab": {
          "base_uri": "https://localhost:8080/",
          "height": 51
        },
        "outputId": "11174729-f24a-47aa-f715-70375c22bac4"
      },
      "source": [
        "### Compute angles to degrees...\n",
        "print('cehck result by converting to degrees:')\n",
        "print( np.degrees(inv))"
      ],
      "execution_count": 70,
      "outputs": [
        {
          "output_type": "stream",
          "text": [
            "cehck result by converting to degrees:\n",
            "[ 0. 30. 45. 60. 90.]\n"
          ],
          "name": "stdout"
        }
      ]
    },
    {
      "cell_type": "code",
      "metadata": {
        "id": "gDYmTMlLSG6L",
        "colab_type": "code",
        "colab": {}
      },
      "source": [
        "#### Statistical scores\n",
        "\n",
        "test_scores = np.array([32.32,56.98,21.52,44,32,\n",
        "                        55.63, 13.75,43.47,43.34])"
      ],
      "execution_count": 0,
      "outputs": []
    },
    {
      "cell_type": "code",
      "metadata": {
        "id": "ugu2dJztSik0",
        "colab_type": "code",
        "colab": {
          "base_uri": "https://localhost:8080/",
          "height": 51
        },
        "outputId": "70fb1294-fd89-47a7-9186-b1213fbdb7ee"
      },
      "source": [
        "print('Mean test scores of students')\n",
        "print(np.mean(test_scores))"
      ],
      "execution_count": 75,
      "outputs": [
        {
          "output_type": "stream",
          "text": [
            "Mean test scores of students\n",
            "38.11222222222222\n"
          ],
          "name": "stdout"
        }
      ]
    },
    {
      "cell_type": "markdown",
      "metadata": {
        "id": "jeGJcvrBTAMq",
        "colab_type": "text"
      },
      "source": [
        "Indexing and Slicing of Arrays :----\n"
      ]
    },
    {
      "cell_type": "code",
      "metadata": {
        "id": "mtyW-VYdTEtk",
        "colab_type": "code",
        "colab": {
          "base_uri": "https://localhost:8080/",
          "height": 34
        },
        "outputId": "751b3e25-89ad-4302-9002-dad7595737d4"
      },
      "source": [
        "## access subset of arrays..\n",
        "subset = np.arange(11)**2\n",
        "subset"
      ],
      "execution_count": 79,
      "outputs": [
        {
          "output_type": "execute_result",
          "data": {
            "text/plain": [
              "array([  0,   1,   4,   9,  16,  25,  36,  49,  64,  81, 100])"
            ]
          },
          "metadata": {
            "tags": []
          },
          "execution_count": 79
        }
      ]
    },
    {
      "cell_type": "code",
      "metadata": {
        "id": "vJtRjeIMUrQF",
        "colab_type": "code",
        "colab": {
          "base_uri": "https://localhost:8080/",
          "height": 34
        },
        "outputId": "62034102-621f-45a6-cff5-4a390ce67fc9"
      },
      "source": [
        "subset[-2]\n",
        "subset[2:7]\n",
        "subset[2:-2]\n",
        "subset[2:]\n",
        "subset[:7]"
      ],
      "execution_count": 84,
      "outputs": [
        {
          "output_type": "execute_result",
          "data": {
            "text/plain": [
              "array([ 0,  1,  4,  9, 16, 25, 36])"
            ]
          },
          "metadata": {
            "tags": []
          },
          "execution_count": 84
        }
      ]
    },
    {
      "cell_type": "code",
      "metadata": {
        "id": "lHLxjh9WVI0e",
        "colab_type": "code",
        "colab": {
          "base_uri": "https://localhost:8080/",
          "height": 34
        },
        "outputId": "00896c3c-45c5-484b-fabc-0c061c50e3bb"
      },
      "source": [
        "### step fucntion\n",
        "### subset[:11:2]-- start:beginnning,end:11,step:2\n",
        "subset[:11:2]"
      ],
      "execution_count": 85,
      "outputs": [
        {
          "output_type": "execute_result",
          "data": {
            "text/plain": [
              "array([  0,   4,  16,  36,  64, 100])"
            ]
          },
          "metadata": {
            "tags": []
          },
          "execution_count": 85
        }
      ]
    },
    {
      "cell_type": "code",
      "metadata": {
        "id": "kMYXu_ozVa-n",
        "colab_type": "code",
        "colab": {
          "base_uri": "https://localhost:8080/",
          "height": 34
        },
        "outputId": "4531cb5b-d6c7-4797-9b58-3f15427e7872"
      },
      "source": [
        "## step in reverse direction-- REVERSE ARRAY\n",
        "subset[::-1]"
      ],
      "execution_count": 86,
      "outputs": [
        {
          "output_type": "execute_result",
          "data": {
            "text/plain": [
              "array([100,  81,  64,  49,  36,  25,  16,   9,   4,   1,   0])"
            ]
          },
          "metadata": {
            "tags": []
          },
          "execution_count": 86
        }
      ]
    },
    {
      "cell_type": "code",
      "metadata": {
        "id": "02yge98xVpLP",
        "colab_type": "code",
        "colab": {
          "base_uri": "https://localhost:8080/",
          "height": 68
        },
        "outputId": "17c5e32a-f344-4fef-c1cb-eeccb9622c03"
      },
      "source": [
        "## Mixed array with strings , Integers\n",
        "## Dtype >>> < Little Endian ; >Big indian , U unicode\n",
        " students = np.array([['Alice','Beth','Cathy','Dorothy'],\n",
        "                     ['65','78','90','81'],\n",
        "                     ['71','82','79','92']])\n",
        "students"
      ],
      "execution_count": 87,
      "outputs": [
        {
          "output_type": "execute_result",
          "data": {
            "text/plain": [
              "array([['Alice', 'Beth', 'Cathy', 'Dorothy'],\n",
              "       ['65', '78', '90', '81'],\n",
              "       ['71', '82', '79', '92']], dtype='<U7')"
            ]
          },
          "metadata": {
            "tags": []
          },
          "execution_count": 87
        }
      ]
    },
    {
      "cell_type": "code",
      "metadata": {
        "id": "C4Z8gkZwWmFp",
        "colab_type": "code",
        "colab": {
          "base_uri": "https://localhost:8080/",
          "height": 34
        },
        "outputId": "b856989a-f1f9-4ab1-e4f1-af7e156968f2"
      },
      "source": [
        "students[1]"
      ],
      "execution_count": 88,
      "outputs": [
        {
          "output_type": "execute_result",
          "data": {
            "text/plain": [
              "array(['65', '78', '90', '81'], dtype='<U7')"
            ]
          },
          "metadata": {
            "tags": []
          },
          "execution_count": 88
        }
      ]
    },
    {
      "cell_type": "code",
      "metadata": {
        "id": "T_J1oTI9Woa5",
        "colab_type": "code",
        "colab": {
          "base_uri": "https://localhost:8080/",
          "height": 34
        },
        "outputId": "eeb38dcd-649c-4240-a148-c4a28d495e0b"
      },
      "source": [
        "students[0]"
      ],
      "execution_count": 89,
      "outputs": [
        {
          "output_type": "execute_result",
          "data": {
            "text/plain": [
              "array(['Alice', 'Beth', 'Cathy', 'Dorothy'], dtype='<U7')"
            ]
          },
          "metadata": {
            "tags": []
          },
          "execution_count": 89
        }
      ]
    },
    {
      "cell_type": "code",
      "metadata": {
        "id": "I4HsJuBVWrP2",
        "colab_type": "code",
        "colab": {
          "base_uri": "https://localhost:8080/",
          "height": 34
        },
        "outputId": "d01476f6-f172-46d1-fa85-c9a18de30e01"
      },
      "source": [
        "students[0,1]"
      ],
      "execution_count": 90,
      "outputs": [
        {
          "output_type": "execute_result",
          "data": {
            "text/plain": [
              "'Beth'"
            ]
          },
          "metadata": {
            "tags": []
          },
          "execution_count": 90
        }
      ]
    },
    {
      "cell_type": "code",
      "metadata": {
        "id": "EgiDfZl3WzMk",
        "colab_type": "code",
        "colab": {
          "base_uri": "https://localhost:8080/",
          "height": 51
        },
        "outputId": "9857e5cb-60a3-40cf-a43b-387e8888689f"
      },
      "source": [
        "### Index range operations in square brackets\n",
        "### 0:2 - rows >> 2:4 - cols\n",
        "students[0:2,2:4]"
      ],
      "execution_count": 91,
      "outputs": [
        {
          "output_type": "execute_result",
          "data": {
            "text/plain": [
              "array([['Cathy', 'Dorothy'],\n",
              "       ['90', '81']], dtype='<U7')"
            ]
          },
          "metadata": {
            "tags": []
          },
          "execution_count": 91
        }
      ]
    },
    {
      "cell_type": "code",
      "metadata": {
        "id": "19gDqgUsXMMl",
        "colab_type": "code",
        "colab": {
          "base_uri": "https://localhost:8080/",
          "height": 68
        },
        "outputId": "6d5d8c00-4828-49f8-98a7-32c3f3e16069"
      },
      "source": [
        "### allrows and 1st coumns\n",
        "students[:,1:2]"
      ],
      "execution_count": 92,
      "outputs": [
        {
          "output_type": "execute_result",
          "data": {
            "text/plain": [
              "array([['Beth'],\n",
              "       ['78'],\n",
              "       ['82']], dtype='<U7')"
            ]
          },
          "metadata": {
            "tags": []
          },
          "execution_count": 92
        }
      ]
    },
    {
      "cell_type": "code",
      "metadata": {
        "id": "UhPk-Ed6Xb6Y",
        "colab_type": "code",
        "colab": {
          "base_uri": "https://localhost:8080/",
          "height": 68
        },
        "outputId": "d87a68b8-1199-46b2-8ec9-0cf950232edd"
      },
      "source": [
        "students[:,1:3]"
      ],
      "execution_count": 93,
      "outputs": [
        {
          "output_type": "execute_result",
          "data": {
            "text/plain": [
              "array([['Beth', 'Cathy'],\n",
              "       ['78', '90'],\n",
              "       ['82', '79']], dtype='<U7')"
            ]
          },
          "metadata": {
            "tags": []
          },
          "execution_count": 93
        }
      ]
    },
    {
      "cell_type": "code",
      "metadata": {
        "id": "F3O5iZb4Xhul",
        "colab_type": "code",
        "colab": {
          "base_uri": "https://localhost:8080/",
          "height": 34
        },
        "outputId": "6739d4fb-e630-4eb0-e880-d2b15c53defc"
      },
      "source": [
        "### Intrested in all cloumns all clumns for last row\n",
        "students[-1,:]"
      ],
      "execution_count": 94,
      "outputs": [
        {
          "output_type": "execute_result",
          "data": {
            "text/plain": [
              "array(['71', '82', '79', '92'], dtype='<U7')"
            ]
          },
          "metadata": {
            "tags": []
          },
          "execution_count": 94
        }
      ]
    },
    {
      "cell_type": "code",
      "metadata": {
        "id": "LPFiXMvyX0bx",
        "colab_type": "code",
        "colab": {
          "base_uri": "https://localhost:8080/",
          "height": 51
        },
        "outputId": "56e3d14e-6d0b-4c9c-829e-1e4781aca130"
      },
      "source": [
        "students[-3:-1,-2:]"
      ],
      "execution_count": 96,
      "outputs": [
        {
          "output_type": "execute_result",
          "data": {
            "text/plain": [
              "array([['Cathy', 'Dorothy'],\n",
              "       ['90', '81']], dtype='<U7')"
            ]
          },
          "metadata": {
            "tags": []
          },
          "execution_count": 96
        }
      ]
    },
    {
      "cell_type": "code",
      "metadata": {
        "id": "r3_mflsrX_vK",
        "colab_type": "code",
        "colab": {
          "base_uri": "https://localhost:8080/",
          "height": 34
        },
        "outputId": "53192f4e-cc4e-48cb-f9e4-4fc5b5a9cb6c"
      },
      "source": [
        "### all elements in row 0\n",
        "\n",
        "students[0,...]"
      ],
      "execution_count": 97,
      "outputs": [
        {
          "output_type": "execute_result",
          "data": {
            "text/plain": [
              "array(['Alice', 'Beth', 'Cathy', 'Dorothy'], dtype='<U7')"
            ]
          },
          "metadata": {
            "tags": []
          },
          "execution_count": 97
        }
      ]
    },
    {
      "cell_type": "markdown",
      "metadata": {
        "id": "iGbEVOXKYRgR",
        "colab_type": "text"
      },
      "source": [
        "Iterating Over Arrays:----"
      ]
    },
    {
      "cell_type": "code",
      "metadata": {
        "id": "eGqx9KMpYYFF",
        "colab_type": "code",
        "colab": {
          "base_uri": "https://localhost:8080/",
          "height": 34
        },
        "outputId": "3418888f-1bdc-4f69-dde5-d502526fff93"
      },
      "source": [
        "Iterate = np.arange(11)**2\n",
        "Iterate"
      ],
      "execution_count": 98,
      "outputs": [
        {
          "output_type": "execute_result",
          "data": {
            "text/plain": [
              "array([  0,   1,   4,   9,  16,  25,  36,  49,  64,  81, 100])"
            ]
          },
          "metadata": {
            "tags": []
          },
          "execution_count": 98
        }
      ]
    },
    {
      "cell_type": "code",
      "metadata": {
        "id": "1UjVJWFSYo7A",
        "colab_type": "code",
        "colab": {
          "base_uri": "https://localhost:8080/",
          "height": 204
        },
        "outputId": "bbb7a329-6c66-472b-948f-021d45ee6f4e"
      },
      "source": [
        "### Sqaure root of all elememnts\n",
        "for i in Iterate:\n",
        "    print( i**(1/2))"
      ],
      "execution_count": 100,
      "outputs": [
        {
          "output_type": "stream",
          "text": [
            "0.0\n",
            "1.0\n",
            "2.0\n",
            "3.0\n",
            "4.0\n",
            "5.0\n",
            "6.0\n",
            "7.0\n",
            "8.0\n",
            "9.0\n",
            "10.0\n"
          ],
          "name": "stdout"
        }
      ]
    },
    {
      "cell_type": "code",
      "metadata": {
        "id": "YfybKlMAY6z9",
        "colab_type": "code",
        "colab": {
          "base_uri": "https://localhost:8080/",
          "height": 68
        },
        "outputId": "c8a3607a-8b4a-4eff-fcd3-c4371276a94c"
      },
      "source": [
        "for i in students:\n",
        "    print('i=' , i)"
      ],
      "execution_count": 101,
      "outputs": [
        {
          "output_type": "stream",
          "text": [
            "i= ['Alice' 'Beth' 'Cathy' 'Dorothy']\n",
            "i= ['65' '78' '90' '81']\n",
            "i= ['71' '82' '79' '92']\n"
          ],
          "name": "stdout"
        }
      ]
    },
    {
      "cell_type": "code",
      "metadata": {
        "id": "Ij4pcYvbZKiD",
        "colab_type": "code",
        "colab": {
          "base_uri": "https://localhost:8080/",
          "height": 221
        },
        "outputId": "6958d021-992b-4a24-8c01-50b4c680c56c"
      },
      "source": [
        "### Fucntion to access individula element in array is { flatten}\n",
        "for element in students.flatten():\n",
        "    print(element)  "
      ],
      "execution_count": 102,
      "outputs": [
        {
          "output_type": "stream",
          "text": [
            "Alice\n",
            "Beth\n",
            "Cathy\n",
            "Dorothy\n",
            "65\n",
            "78\n",
            "90\n",
            "81\n",
            "71\n",
            "82\n",
            "79\n",
            "92\n"
          ],
          "name": "stdout"
        }
      ]
    },
    {
      "cell_type": "code",
      "metadata": {
        "id": "kt4kTUiKZiQ6",
        "colab_type": "code",
        "colab": {
          "base_uri": "https://localhost:8080/",
          "height": 221
        },
        "outputId": "6498dc75-93a3-4138-ef52-1675fe893f75"
      },
      "source": [
        "for element in students.flatten(order= 'F'):\n",
        "    print(element)  "
      ],
      "execution_count": 103,
      "outputs": [
        {
          "output_type": "stream",
          "text": [
            "Alice\n",
            "65\n",
            "71\n",
            "Beth\n",
            "78\n",
            "82\n",
            "Cathy\n",
            "90\n",
            "79\n",
            "Dorothy\n",
            "81\n",
            "92\n"
          ],
          "name": "stdout"
        }
      ]
    },
    {
      "cell_type": "code",
      "metadata": {
        "id": "iLOr-p6EZrFy",
        "colab_type": "code",
        "colab": {
          "base_uri": "https://localhost:8080/",
          "height": 68
        },
        "outputId": "ce867188-500f-4ee4-fbc8-d4afc690e62e"
      },
      "source": [
        "x = np.arange(12).reshape(3,4)\n",
        "x"
      ],
      "execution_count": 104,
      "outputs": [
        {
          "output_type": "execute_result",
          "data": {
            "text/plain": [
              "array([[ 0,  1,  2,  3],\n",
              "       [ 4,  5,  6,  7],\n",
              "       [ 8,  9, 10, 11]])"
            ]
          },
          "metadata": {
            "tags": []
          },
          "execution_count": 104
        }
      ]
    },
    {
      "cell_type": "code",
      "metadata": {
        "id": "NR3UuyDnZzlj",
        "colab_type": "code",
        "colab": {
          "base_uri": "https://localhost:8080/",
          "height": 221
        },
        "outputId": "ffa445ea-7972-45dd-9376-4e3ae93fdadc"
      },
      "source": [
        "for i in np.nditer(x):\n",
        "    print(i)"
      ],
      "execution_count": 106,
      "outputs": [
        {
          "output_type": "stream",
          "text": [
            "0\n",
            "1\n",
            "2\n",
            "3\n",
            "4\n",
            "5\n",
            "6\n",
            "7\n",
            "8\n",
            "9\n",
            "10\n",
            "11\n"
          ],
          "name": "stdout"
        }
      ]
    },
    {
      "cell_type": "code",
      "metadata": {
        "id": "IqjwSxY4aFMI",
        "colab_type": "code",
        "colab": {
          "base_uri": "https://localhost:8080/",
          "height": 221
        },
        "outputId": "aa8f41aa-406d-4a04-8310-c57ebefcedee"
      },
      "source": [
        "for i in np.nditer(x, order = 'F'):\n",
        "    print(i)"
      ],
      "execution_count": 107,
      "outputs": [
        {
          "output_type": "stream",
          "text": [
            "0\n",
            "4\n",
            "8\n",
            "1\n",
            "5\n",
            "9\n",
            "2\n",
            "6\n",
            "10\n",
            "3\n",
            "7\n",
            "11\n"
          ],
          "name": "stdout"
        }
      ]
    },
    {
      "cell_type": "code",
      "metadata": {
        "id": "9cq-qRzPaL2J",
        "colab_type": "code",
        "colab": {
          "base_uri": "https://localhost:8080/",
          "height": 85
        },
        "outputId": "5274ebac-a4f1-4343-9c12-2bab9b8a2f6c"
      },
      "source": [
        "for i in np.nditer(x, order = 'F', flags = ['external_loop']):\n",
        "    print(i)"
      ],
      "execution_count": 109,
      "outputs": [
        {
          "output_type": "stream",
          "text": [
            "[0 4 8]\n",
            "[1 5 9]\n",
            "[ 2  6 10]\n",
            "[ 3  7 11]\n"
          ],
          "name": "stdout"
        }
      ]
    },
    {
      "cell_type": "code",
      "metadata": {
        "id": "QWPVP9Tsb1V5",
        "colab_type": "code",
        "colab": {
          "base_uri": "https://localhost:8080/",
          "height": 68
        },
        "outputId": "672f6a7f-1a14-4cb7-f4a7-d84ca6175e52"
      },
      "source": [
        "#### [...] is current element in row\n",
        "\n",
        "for arr in np.nditer(x, order = 'F', op_flags = ['readwrite']):\n",
        "    arr[...] = arr * arr\n",
        "    \n",
        "x"
      ],
      "execution_count": 111,
      "outputs": [
        {
          "output_type": "execute_result",
          "data": {
            "text/plain": [
              "array([[    0,     1,    16,    81],\n",
              "       [  256,   625,  1296,  2401],\n",
              "       [ 4096,  6561, 10000, 14641]])"
            ]
          },
          "metadata": {
            "tags": []
          },
          "execution_count": 111
        }
      ]
    },
    {
      "cell_type": "markdown",
      "metadata": {
        "id": "O6jQgbD-cUpG",
        "colab_type": "text"
      },
      "source": [
        "Re shaping Array::"
      ]
    }
  ]
}