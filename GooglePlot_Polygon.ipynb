{
  "nbformat": 4,
  "nbformat_minor": 0,
  "metadata": {
    "colab": {
      "name": "GooglePlot_Polygon.ipynb",
      "provenance": [],
      "toc_visible": true,
      "authorship_tag": "ABX9TyMGD4JUNd6OkVrRyV+JjMQn",
      "include_colab_link": true
    },
    "kernelspec": {
      "name": "python3",
      "display_name": "Python 3"
    }
  },
  "cells": [
    {
      "cell_type": "markdown",
      "metadata": {
        "id": "view-in-github",
        "colab_type": "text"
      },
      "source": [
        "<a href=\"https://colab.research.google.com/github/ragalaa/Machine-Learning-Basics/blob/master/GooglePlot_Polygon.ipynb\" target=\"_parent\"><img src=\"https://colab.research.google.com/assets/colab-badge.svg\" alt=\"Open In Colab\"/></a>"
      ]
    },
    {
      "cell_type": "code",
      "metadata": {
        "id": "Fi0IJ2U7mjO5",
        "colab_type": "code",
        "colab": {
          "base_uri": "https://localhost:8080/",
          "height": 290
        },
        "outputId": "d5ae7d90-fa95-4a4a-d83b-0b160a645676"
      },
      "source": [
        "!pip install gmplot\n",
        "import gmplot\n"
      ],
      "execution_count": 2,
      "outputs": [
        {
          "output_type": "stream",
          "text": [
            "Collecting gmplot\n",
            "\u001b[?25l  Downloading https://files.pythonhosted.org/packages/e2/b1/e1429c31a40b3ef5840c16f78b506d03be9f27e517d3870a6fd0b356bd46/gmplot-1.2.0.tar.gz (115kB)\n",
            "\r\u001b[K     |██▉                             | 10kB 18.5MB/s eta 0:00:01\r\u001b[K     |█████▊                          | 20kB 3.0MB/s eta 0:00:01\r\u001b[K     |████████▌                       | 30kB 3.9MB/s eta 0:00:01\r\u001b[K     |███████████▍                    | 40kB 2.8MB/s eta 0:00:01\r\u001b[K     |██████████████▏                 | 51kB 3.2MB/s eta 0:00:01\r\u001b[K     |█████████████████               | 61kB 3.8MB/s eta 0:00:01\r\u001b[K     |████████████████████            | 71kB 4.0MB/s eta 0:00:01\r\u001b[K     |██████████████████████▊         | 81kB 4.3MB/s eta 0:00:01\r\u001b[K     |█████████████████████████▋      | 92kB 4.8MB/s eta 0:00:01\r\u001b[K     |████████████████████████████▍   | 102kB 4.5MB/s eta 0:00:01\r\u001b[K     |███████████████████████████████▎| 112kB 4.5MB/s eta 0:00:01\r\u001b[K     |████████████████████████████████| 122kB 4.5MB/s \n",
            "\u001b[?25hRequirement already satisfied: requests in /usr/local/lib/python3.6/dist-packages (from gmplot) (2.21.0)\n",
            "Requirement already satisfied: certifi>=2017.4.17 in /usr/local/lib/python3.6/dist-packages (from requests->gmplot) (2019.11.28)\n",
            "Requirement already satisfied: chardet<3.1.0,>=3.0.2 in /usr/local/lib/python3.6/dist-packages (from requests->gmplot) (3.0.4)\n",
            "Requirement already satisfied: idna<2.9,>=2.5 in /usr/local/lib/python3.6/dist-packages (from requests->gmplot) (2.8)\n",
            "Requirement already satisfied: urllib3<1.25,>=1.21.1 in /usr/local/lib/python3.6/dist-packages (from requests->gmplot) (1.24.3)\n",
            "Building wheels for collected packages: gmplot\n",
            "  Building wheel for gmplot (setup.py) ... \u001b[?25l\u001b[?25hdone\n",
            "  Created wheel for gmplot: filename=gmplot-1.2.0-cp36-none-any.whl size=143765 sha256=726e75829f04f9fe43fda872b07a42ca81e99d6905be93236ab1c901a70e0fee\n",
            "  Stored in directory: /root/.cache/pip/wheels/81/6a/76/4dd6a7cc310ba765894159ee84871e8cd55221d82ef14b81a1\n",
            "Successfully built gmplot\n",
            "Installing collected packages: gmplot\n",
            "Successfully installed gmplot-1.2.0\n"
          ],
          "name": "stdout"
        }
      ]
    },
    {
      "cell_type": "code",
      "metadata": {
        "id": "g0SYljcemw6O",
        "colab_type": "code",
        "colab": {}
      },
      "source": [
        "latitude_list = [ 30.3358376, 30.307977, 30.3216419 ] \n",
        "longitude_list = [ 77.8701919, 78.048457, 78.0413095 ] \n",
        "  \n",
        "gmap = gmplot.GoogleMapPlotter(30.3164945, \n",
        "                                78.03219179999999, 13) \n",
        "  \n",
        "gmap.scatter( latitude_list, longitude_list, '# FF0000', \n",
        "                                size = 40, marker = False) \n",
        "  \n",
        "# polygon method Draw a polygon with \n",
        "# the help of coordinates \n",
        "gmap.polygon(latitude_list, longitude_list, \n",
        "                   color = 'cornflowerblue'  ) \n",
        "  \n"
      ],
      "execution_count": 0,
      "outputs": []
    },
    {
      "cell_type": "code",
      "metadata": {
        "id": "hsrYS26WnxEE",
        "colab_type": "code",
        "colab": {}
      },
      "source": [
        "gmap.draw( \"test.html\" ) \n"
      ],
      "execution_count": 0,
      "outputs": []
    },
    {
      "cell_type": "code",
      "metadata": {
        "id": "lObK1GFvU5DR",
        "colab_type": "code",
        "colab": {
          "base_uri": "https://localhost:8080/",
          "height": 322
        },
        "outputId": "808bd1d0-2be8-4679-cce8-660c4d3c222d"
      },
      "source": [
        "gmap = gmplot.GoogleMapPlotter.from_geocode( )"
      ],
      "execution_count": 3,
      "outputs": [
        {
          "output_type": "error",
          "ename": "IndexError",
          "evalue": "ignored",
          "traceback": [
            "\u001b[0;31m---------------------------------------------------------------------------\u001b[0m",
            "\u001b[0;31mIndexError\u001b[0m                                Traceback (most recent call last)",
            "\u001b[0;32m<ipython-input-3-f0235015e068>\u001b[0m in \u001b[0;36m<module>\u001b[0;34m()\u001b[0m\n\u001b[0;32m----> 1\u001b[0;31m \u001b[0mgmap\u001b[0m \u001b[0;34m=\u001b[0m \u001b[0mgmplot\u001b[0m\u001b[0;34m.\u001b[0m\u001b[0mGoogleMapPlotter\u001b[0m\u001b[0;34m.\u001b[0m\u001b[0mfrom_geocode\u001b[0m\u001b[0;34m(\u001b[0m\u001b[0;34m\"San Francisco\"\u001b[0m\u001b[0;34m)\u001b[0m\u001b[0;34m\u001b[0m\u001b[0;34m\u001b[0m\u001b[0m\n\u001b[0m",
            "\u001b[0;32m/usr/local/lib/python3.6/dist-packages/gmplot/gmplot.py\u001b[0m in \u001b[0;36mfrom_geocode\u001b[0;34m(cls, location_string, zoom)\u001b[0m\n\u001b[1;32m     33\u001b[0m     \u001b[0;34m@\u001b[0m\u001b[0mclassmethod\u001b[0m\u001b[0;34m\u001b[0m\u001b[0;34m\u001b[0m\u001b[0m\n\u001b[1;32m     34\u001b[0m     \u001b[0;32mdef\u001b[0m \u001b[0mfrom_geocode\u001b[0m\u001b[0;34m(\u001b[0m\u001b[0mcls\u001b[0m\u001b[0;34m,\u001b[0m \u001b[0mlocation_string\u001b[0m\u001b[0;34m,\u001b[0m \u001b[0mzoom\u001b[0m\u001b[0;34m=\u001b[0m\u001b[0;36m13\u001b[0m\u001b[0;34m)\u001b[0m\u001b[0;34m:\u001b[0m\u001b[0;34m\u001b[0m\u001b[0;34m\u001b[0m\u001b[0m\n\u001b[0;32m---> 35\u001b[0;31m         \u001b[0mlat\u001b[0m\u001b[0;34m,\u001b[0m \u001b[0mlng\u001b[0m \u001b[0;34m=\u001b[0m \u001b[0mcls\u001b[0m\u001b[0;34m.\u001b[0m\u001b[0mgeocode\u001b[0m\u001b[0;34m(\u001b[0m\u001b[0mlocation_string\u001b[0m\u001b[0;34m)\u001b[0m\u001b[0;34m\u001b[0m\u001b[0;34m\u001b[0m\u001b[0m\n\u001b[0m\u001b[1;32m     36\u001b[0m         \u001b[0;32mreturn\u001b[0m \u001b[0mcls\u001b[0m\u001b[0;34m(\u001b[0m\u001b[0mlat\u001b[0m\u001b[0;34m,\u001b[0m \u001b[0mlng\u001b[0m\u001b[0;34m,\u001b[0m \u001b[0mzoom\u001b[0m\u001b[0;34m)\u001b[0m\u001b[0;34m\u001b[0m\u001b[0;34m\u001b[0m\u001b[0m\n\u001b[1;32m     37\u001b[0m \u001b[0;34m\u001b[0m\u001b[0m\n",
            "\u001b[0;32m/usr/local/lib/python3.6/dist-packages/gmplot/gmplot.py\u001b[0m in \u001b[0;36mgeocode\u001b[0;34m(self, location_string)\u001b[0m\n\u001b[1;32m     41\u001b[0m             'http://maps.googleapis.com/maps/api/geocode/json?address=\"%s\"' % location_string)\n\u001b[1;32m     42\u001b[0m         \u001b[0mgeocode\u001b[0m \u001b[0;34m=\u001b[0m \u001b[0mjson\u001b[0m\u001b[0;34m.\u001b[0m\u001b[0mloads\u001b[0m\u001b[0;34m(\u001b[0m\u001b[0mgeocode\u001b[0m\u001b[0;34m.\u001b[0m\u001b[0mtext\u001b[0m\u001b[0;34m)\u001b[0m\u001b[0;34m\u001b[0m\u001b[0;34m\u001b[0m\u001b[0m\n\u001b[0;32m---> 43\u001b[0;31m         \u001b[0mlatlng_dict\u001b[0m \u001b[0;34m=\u001b[0m \u001b[0mgeocode\u001b[0m\u001b[0;34m[\u001b[0m\u001b[0;34m'results'\u001b[0m\u001b[0;34m]\u001b[0m\u001b[0;34m[\u001b[0m\u001b[0;36m0\u001b[0m\u001b[0;34m]\u001b[0m\u001b[0;34m[\u001b[0m\u001b[0;34m'geometry'\u001b[0m\u001b[0;34m]\u001b[0m\u001b[0;34m[\u001b[0m\u001b[0;34m'location'\u001b[0m\u001b[0;34m]\u001b[0m\u001b[0;34m\u001b[0m\u001b[0;34m\u001b[0m\u001b[0m\n\u001b[0m\u001b[1;32m     44\u001b[0m         \u001b[0;32mreturn\u001b[0m \u001b[0mlatlng_dict\u001b[0m\u001b[0;34m[\u001b[0m\u001b[0;34m'lat'\u001b[0m\u001b[0;34m]\u001b[0m\u001b[0;34m,\u001b[0m \u001b[0mlatlng_dict\u001b[0m\u001b[0;34m[\u001b[0m\u001b[0;34m'lng'\u001b[0m\u001b[0;34m]\u001b[0m\u001b[0;34m\u001b[0m\u001b[0;34m\u001b[0m\u001b[0m\n\u001b[1;32m     45\u001b[0m \u001b[0;34m\u001b[0m\u001b[0m\n",
            "\u001b[0;31mIndexError\u001b[0m: list index out of range"
          ]
        }
      ]
    },
    {
      "cell_type": "code",
      "metadata": {
        "id": "KQpkdRtrXNsN",
        "colab_type": "code",
        "colab": {
          "base_uri": "https://localhost:8080/",
          "height": 244
        },
        "outputId": "93c15756-4aef-49ac-bfd3-ad72ef5f4ba4"
      },
      "source": [
        "mymap = gmplot.GoogleMapPlotter(37.428, -122.145, 16)\n",
        "mymap = GoogleMapPlotter.from_geocode(\"Stanford University\")\n",
        "\n",
        "mymap.grid(37.42, 37.43, 0.001, -122.15, -122.14, 0.001)\n",
        "mymap.marker(37.427, -122.145, \"yellow\")\n",
        "mymap.marker(37.428, -122.146, \"cornflowerblue\")\n",
        "mymap.marker(37.429, -122.144, \"k\")\n",
        "#lat, lng = mymap.geocode(\"Stanford University\")\n",
        "#mymap.marker(lat, lng, \"red\")\n",
        "mymap.circle(37.429, -122.145, 100, \"#FF0000\", ew=2)\n",
        "path = [(37.429, 37.428, 37.427, 37.427, 37.427),\n",
        "             (-122.145, -122.145, -122.145, -122.146, -122.146)]\n",
        "path2 = [[i+.01 for i in path[0]], [i+.02 for i in path[1]]]\n",
        "path3 = [(37.433302 , 37.431257 , 37.427644 , 37.430303), (-122.14488, -122.133121, -122.137799, -122.148743)]\n",
        "path4 = [(37.423074, 37.422700, 37.422410, 37.422188, 37.422274, 37.422495, 37.422962, 37.423552, 37.424387, 37.425920, 37.425937),\n",
        "         (-122.150288, -122.149794, -122.148936, -122.148142, -122.146747, -122.14561, -122.144773, -122.143936, -122.142992, -122.147863, -122.145953)]\n",
        "mymap.plot(path[0], path[1], \"plum\", edge_width=10)\n",
        "mymap.plot(path2[0], path2[1], \"red\")\n",
        "mymap.polygon(path3[0], path3[1], edge_color=\"cyan\", edge_width=5, face_color=\"blue\", face_alpha=0.1)\n",
        "mymap.heatmap(path4[0], path4[1], threshold=10, radius=40)\n",
        "mymap.heatmap(path3[0], path3[1], threshold=10, radius=40, dissipating=False, gradient=[(30,30,30,0), (30,30,30,1), (50, 50, 50, 1)])\n",
        "mymap.scatter(path4[0], path4[1], c='r', marker=True)\n",
        "mymap.scatter(path4[0], path4[1], s=90, marker=False, alpha=0.9, symbol='x', c='red', edge_width=4)\n",
        "    # Get more points with:\n",
        "    # http://www.findlatitudeandlongitude.com/click-lat-lng-list/\n",
        "scatter_path = ([37.424435, 37.424417, 37.424417, 37.424554, 37.424775, 37.425099, 37.425235, 37.425082, 37.424656, 37.423957, 37.422952, 37.421759, 37.420447, 37.419135, 37.417822, 37.417209],\n",
        "                    [-122.142048, -122.141275, -122.140503, -122.139688, -122.138872, -122.138078, -122.137241, -122.136405, -122.135568, -122.134731, -122.133894, -122.133057, -122.13222, -122.131383, -122.130557, -122.129999])\n",
        "mymap.scatter(scatter_path[0], scatter_path[1], c='r', marker=True)\n",
        "mymap.draw('./mymap.html')"
      ],
      "execution_count": 8,
      "outputs": [
        {
          "output_type": "error",
          "ename": "NameError",
          "evalue": "ignored",
          "traceback": [
            "\u001b[0;31m---------------------------------------------------------------------------\u001b[0m",
            "\u001b[0;31mNameError\u001b[0m                                 Traceback (most recent call last)",
            "\u001b[0;32m<ipython-input-8-12da3ff4e145>\u001b[0m in \u001b[0;36m<module>\u001b[0;34m()\u001b[0m\n\u001b[1;32m      1\u001b[0m \u001b[0mmymap\u001b[0m \u001b[0;34m=\u001b[0m \u001b[0mgmplot\u001b[0m\u001b[0;34m.\u001b[0m\u001b[0mGoogleMapPlotter\u001b[0m\u001b[0;34m(\u001b[0m\u001b[0;36m37.428\u001b[0m\u001b[0;34m,\u001b[0m \u001b[0;34m-\u001b[0m\u001b[0;36m122.145\u001b[0m\u001b[0;34m,\u001b[0m \u001b[0;36m16\u001b[0m\u001b[0;34m)\u001b[0m\u001b[0;34m\u001b[0m\u001b[0;34m\u001b[0m\u001b[0m\n\u001b[0;32m----> 2\u001b[0;31m \u001b[0mmymap\u001b[0m \u001b[0;34m=\u001b[0m \u001b[0mGoogleMapPlotter\u001b[0m\u001b[0;34m.\u001b[0m\u001b[0mfrom_geocode\u001b[0m\u001b[0;34m(\u001b[0m\u001b[0;34m\"Stanford University\"\u001b[0m\u001b[0;34m)\u001b[0m\u001b[0;34m\u001b[0m\u001b[0;34m\u001b[0m\u001b[0m\n\u001b[0m\u001b[1;32m      3\u001b[0m \u001b[0;34m\u001b[0m\u001b[0m\n\u001b[1;32m      4\u001b[0m \u001b[0mmymap\u001b[0m\u001b[0;34m.\u001b[0m\u001b[0mgrid\u001b[0m\u001b[0;34m(\u001b[0m\u001b[0;36m37.42\u001b[0m\u001b[0;34m,\u001b[0m \u001b[0;36m37.43\u001b[0m\u001b[0;34m,\u001b[0m \u001b[0;36m0.001\u001b[0m\u001b[0;34m,\u001b[0m \u001b[0;34m-\u001b[0m\u001b[0;36m122.15\u001b[0m\u001b[0;34m,\u001b[0m \u001b[0;34m-\u001b[0m\u001b[0;36m122.14\u001b[0m\u001b[0;34m,\u001b[0m \u001b[0;36m0.001\u001b[0m\u001b[0;34m)\u001b[0m\u001b[0;34m\u001b[0m\u001b[0;34m\u001b[0m\u001b[0m\n\u001b[1;32m      5\u001b[0m \u001b[0mmymap\u001b[0m\u001b[0;34m.\u001b[0m\u001b[0mmarker\u001b[0m\u001b[0;34m(\u001b[0m\u001b[0;36m37.427\u001b[0m\u001b[0;34m,\u001b[0m \u001b[0;34m-\u001b[0m\u001b[0;36m122.145\u001b[0m\u001b[0;34m,\u001b[0m \u001b[0;34m\"yellow\"\u001b[0m\u001b[0;34m)\u001b[0m\u001b[0;34m\u001b[0m\u001b[0;34m\u001b[0m\u001b[0m\n",
            "\u001b[0;31mNameError\u001b[0m: name 'GoogleMapPlotter' is not defined"
          ]
        }
      ]
    }
  ]
}