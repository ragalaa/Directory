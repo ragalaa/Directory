{
  "nbformat": 4,
  "nbformat_minor": 0,
  "metadata": {
    "colab": {
      "name": "Portfolio_optimization.ipynb",
      "provenance": [],
      "include_colab_link": true
    },
    "kernelspec": {
      "name": "python3",
      "display_name": "Python 3"
    }
  },
  "cells": [
    {
      "cell_type": "markdown",
      "metadata": {
        "id": "view-in-github",
        "colab_type": "text"
      },
      "source": [
        "<a href=\"https://colab.research.google.com/github/ragalaa/Directory/blob/master/Portfolio_optimization.ipynb\" target=\"_parent\"><img src=\"https://colab.research.google.com/assets/colab-badge.svg\" alt=\"Open In Colab\"/></a>"
      ]
    },
    {
      "cell_type": "code",
      "metadata": {
        "id": "XROvMzdkqUt-",
        "colab_type": "code",
        "colab": {}
      },
      "source": [
        "import pandas as pd\n",
        "import numpy as np"
      ],
      "execution_count": 0,
      "outputs": []
    },
    {
      "cell_type": "code",
      "metadata": {
        "id": "idY5a9rxq4eI",
        "colab_type": "code",
        "colab": {}
      },
      "source": [
        "data = pd.read_csv('Portfolio_Data.csv',sep=\",\")"
      ],
      "execution_count": 0,
      "outputs": []
    },
    {
      "cell_type": "code",
      "metadata": {
        "id": "e5aZpkQguLJ_",
        "colab_type": "code",
        "outputId": "f57e6f5d-61e1-4716-e7e1-e5412e7d2873",
        "colab": {
          "base_uri": "https://localhost:8080/",
          "height": 198
        }
      },
      "source": [
        "data.head()"
      ],
      "execution_count": 107,
      "outputs": [
        {
          "output_type": "execute_result",
          "data": {
            "text/html": [
              "<div>\n",
              "<style scoped>\n",
              "    .dataframe tbody tr th:only-of-type {\n",
              "        vertical-align: middle;\n",
              "    }\n",
              "\n",
              "    .dataframe tbody tr th {\n",
              "        vertical-align: top;\n",
              "    }\n",
              "\n",
              "    .dataframe thead th {\n",
              "        text-align: right;\n",
              "    }\n",
              "</style>\n",
              "<table border=\"1\" class=\"dataframe\">\n",
              "  <thead>\n",
              "    <tr style=\"text-align: right;\">\n",
              "      <th></th>\n",
              "      <th>Date</th>\n",
              "      <th>AAPL</th>\n",
              "      <th>ADBE</th>\n",
              "      <th>CVX</th>\n",
              "      <th>GOOG</th>\n",
              "      <th>IBM</th>\n",
              "      <th>MDLZ</th>\n",
              "      <th>MSFT</th>\n",
              "      <th>NFLX</th>\n",
              "      <th>ORCL</th>\n",
              "      <th>SBUX</th>\n",
              "    </tr>\n",
              "  </thead>\n",
              "  <tbody>\n",
              "    <tr>\n",
              "      <th>0</th>\n",
              "      <td>1-Dec-17</td>\n",
              "      <td>164.752060</td>\n",
              "      <td>175.240005</td>\n",
              "      <td>116.974648</td>\n",
              "      <td>1046.400024</td>\n",
              "      <td>141.717285</td>\n",
              "      <td>41.186539</td>\n",
              "      <td>83.141182</td>\n",
              "      <td>191.960007</td>\n",
              "      <td>45.955631</td>\n",
              "      <td>55.369698</td>\n",
              "    </tr>\n",
              "    <tr>\n",
              "      <th>1</th>\n",
              "      <td>1-Nov-17</td>\n",
              "      <td>166.703461</td>\n",
              "      <td>181.470001</td>\n",
              "      <td>110.150375</td>\n",
              "      <td>1021.409973</td>\n",
              "      <td>140.817780</td>\n",
              "      <td>41.321259</td>\n",
              "      <td>81.400795</td>\n",
              "      <td>187.580002</td>\n",
              "      <td>47.685776</td>\n",
              "      <td>55.451946</td>\n",
              "    </tr>\n",
              "    <tr>\n",
              "      <th>2</th>\n",
              "      <td>1-Oct-17</td>\n",
              "      <td>163.977585</td>\n",
              "      <td>175.160004</td>\n",
              "      <td>107.280655</td>\n",
              "      <td>1016.640015</td>\n",
              "      <td>140.900116</td>\n",
              "      <td>39.868191</td>\n",
              "      <td>80.443352</td>\n",
              "      <td>196.429993</td>\n",
              "      <td>49.279865</td>\n",
              "      <td>52.593998</td>\n",
              "    </tr>\n",
              "    <tr>\n",
              "      <th>3</th>\n",
              "      <td>1-Sep-17</td>\n",
              "      <td>149.504440</td>\n",
              "      <td>149.179993</td>\n",
              "      <td>108.771065</td>\n",
              "      <td>959.109985</td>\n",
              "      <td>132.687210</td>\n",
              "      <td>38.915039</td>\n",
              "      <td>72.039268</td>\n",
              "      <td>181.350006</td>\n",
              "      <td>46.811028</td>\n",
              "      <td>51.510277</td>\n",
              "    </tr>\n",
              "    <tr>\n",
              "      <th>4</th>\n",
              "      <td>1-Aug-17</td>\n",
              "      <td>158.466263</td>\n",
              "      <td>155.160004</td>\n",
              "      <td>98.634018</td>\n",
              "      <td>939.330017</td>\n",
              "      <td>129.444641</td>\n",
              "      <td>38.915039</td>\n",
              "      <td>71.926834</td>\n",
              "      <td>174.710007</td>\n",
              "      <td>48.728001</td>\n",
              "      <td>52.376740</td>\n",
              "    </tr>\n",
              "  </tbody>\n",
              "</table>\n",
              "</div>"
            ],
            "text/plain": [
              "       Date      \\nAAPL      \\nADBE  ...      \\nNFLX     \\nORCL     \\nSBUX\n",
              "0  1-Dec-17  164.752060  175.240005  ...  191.960007  45.955631  55.369698\n",
              "1  1-Nov-17  166.703461  181.470001  ...  187.580002  47.685776  55.451946\n",
              "2  1-Oct-17  163.977585  175.160004  ...  196.429993  49.279865  52.593998\n",
              "3  1-Sep-17  149.504440  149.179993  ...  181.350006  46.811028  51.510277\n",
              "4  1-Aug-17  158.466263  155.160004  ...  174.710007  48.728001  52.376740\n",
              "\n",
              "[5 rows x 11 columns]"
            ]
          },
          "metadata": {
            "tags": []
          },
          "execution_count": 107
        }
      ]
    },
    {
      "cell_type": "markdown",
      "metadata": {
        "id": "cBCUvbbt1pja",
        "colab_type": "text"
      },
      "source": [
        "# New Section"
      ]
    },
    {
      "cell_type": "code",
      "metadata": {
        "id": "47eSzfCKub0N",
        "colab_type": "code",
        "colab": {}
      },
      "source": [
        "### Convert date to format present in 4-Jan-19 to (DD-MM-YYY)\n",
        "data['Date'] = pd.to_datetime(data['Date'], format='%d-%b-%y')"
      ],
      "execution_count": 0,
      "outputs": []
    },
    {
      "cell_type": "code",
      "metadata": {
        "id": "74TaX2vGuOaN",
        "colab_type": "code",
        "outputId": "9c85c144-139d-42e0-85c5-9f071cbaa512",
        "colab": {
          "base_uri": "https://localhost:8080/",
          "height": 198
        }
      },
      "source": [
        "data.sample(5)"
      ],
      "execution_count": 109,
      "outputs": [
        {
          "output_type": "execute_result",
          "data": {
            "text/html": [
              "<div>\n",
              "<style scoped>\n",
              "    .dataframe tbody tr th:only-of-type {\n",
              "        vertical-align: middle;\n",
              "    }\n",
              "\n",
              "    .dataframe tbody tr th {\n",
              "        vertical-align: top;\n",
              "    }\n",
              "\n",
              "    .dataframe thead th {\n",
              "        text-align: right;\n",
              "    }\n",
              "</style>\n",
              "<table border=\"1\" class=\"dataframe\">\n",
              "  <thead>\n",
              "    <tr style=\"text-align: right;\">\n",
              "      <th></th>\n",
              "      <th>Date</th>\n",
              "      <th>AAPL</th>\n",
              "      <th>ADBE</th>\n",
              "      <th>CVX</th>\n",
              "      <th>GOOG</th>\n",
              "      <th>IBM</th>\n",
              "      <th>MDLZ</th>\n",
              "      <th>MSFT</th>\n",
              "      <th>NFLX</th>\n",
              "      <th>ORCL</th>\n",
              "      <th>SBUX</th>\n",
              "    </tr>\n",
              "  </thead>\n",
              "  <tbody>\n",
              "    <tr>\n",
              "      <th>46</th>\n",
              "      <td>2014-02-01</td>\n",
              "      <td>67.853470</td>\n",
              "      <td>68.629997</td>\n",
              "      <td>91.652771</td>\n",
              "      <td>605.555237</td>\n",
              "      <td>147.397095</td>\n",
              "      <td>30.744781</td>\n",
              "      <td>33.590370</td>\n",
              "      <td>63.661430</td>\n",
              "      <td>36.010475</td>\n",
              "      <td>32.183372</td>\n",
              "    </tr>\n",
              "    <tr>\n",
              "      <th>70</th>\n",
              "      <td>2012-02-01</td>\n",
              "      <td>67.627808</td>\n",
              "      <td>32.889999</td>\n",
              "      <td>81.217224</td>\n",
              "      <td>307.970642</td>\n",
              "      <td>151.074722</td>\n",
              "      <td>21.828228</td>\n",
              "      <td>26.269470</td>\n",
              "      <td>15.818571</td>\n",
              "      <td>26.339338</td>\n",
              "      <td>21.420267</td>\n",
              "    </tr>\n",
              "    <tr>\n",
              "      <th>13</th>\n",
              "      <td>2016-11-01</td>\n",
              "      <td>105.351799</td>\n",
              "      <td>102.809998</td>\n",
              "      <td>99.262070</td>\n",
              "      <td>758.039978</td>\n",
              "      <td>142.954178</td>\n",
              "      <td>38.963665</td>\n",
              "      <td>56.906445</td>\n",
              "      <td>117.000000</td>\n",
              "      <td>38.447659</td>\n",
              "      <td>54.618652</td>\n",
              "    </tr>\n",
              "    <tr>\n",
              "      <th>106</th>\n",
              "      <td>2009-02-01</td>\n",
              "      <td>11.134572</td>\n",
              "      <td>16.700001</td>\n",
              "      <td>40.673584</td>\n",
              "      <td>168.363937</td>\n",
              "      <td>66.857841</td>\n",
              "      <td>11.613440</td>\n",
              "      <td>12.462632</td>\n",
              "      <td>5.177143</td>\n",
              "      <td>13.651523</td>\n",
              "      <td>3.922260</td>\n",
              "    </tr>\n",
              "    <tr>\n",
              "      <th>77</th>\n",
              "      <td>2011-07-01</td>\n",
              "      <td>48.682426</td>\n",
              "      <td>27.709999</td>\n",
              "      <td>76.203537</td>\n",
              "      <td>300.717834</td>\n",
              "      <td>138.485794</td>\n",
              "      <td>19.398447</td>\n",
              "      <td>22.366825</td>\n",
              "      <td>37.998573</td>\n",
              "      <td>27.372341</td>\n",
              "      <td>17.552820</td>\n",
              "    </tr>\n",
              "  </tbody>\n",
              "</table>\n",
              "</div>"
            ],
            "text/plain": [
              "          Date      \\nAAPL      \\nADBE  ...      \\nNFLX     \\nORCL     \\nSBUX\n",
              "46  2014-02-01   67.853470   68.629997  ...   63.661430  36.010475  32.183372\n",
              "70  2012-02-01   67.627808   32.889999  ...   15.818571  26.339338  21.420267\n",
              "13  2016-11-01  105.351799  102.809998  ...  117.000000  38.447659  54.618652\n",
              "106 2009-02-01   11.134572   16.700001  ...    5.177143  13.651523   3.922260\n",
              "77  2011-07-01   48.682426   27.709999  ...   37.998573  27.372341  17.552820\n",
              "\n",
              "[5 rows x 11 columns]"
            ]
          },
          "metadata": {
            "tags": []
          },
          "execution_count": 109
        }
      ]
    },
    {
      "cell_type": "code",
      "metadata": {
        "id": "e832MyTGv5KZ",
        "colab_type": "code",
        "colab": {}
      },
      "source": [
        "### Sort values by Date\n",
        "data = data.sort_values(['Date'], ascending=[True])\n"
      ],
      "execution_count": 0,
      "outputs": []
    },
    {
      "cell_type": "code",
      "metadata": {
        "id": "82EQ4sSSw893",
        "colab_type": "code",
        "outputId": "11459f41-cb26-4a66-c562-0f5189a31dcd",
        "colab": {
          "base_uri": "https://localhost:8080/",
          "height": 198
        }
      },
      "source": [
        "### Data percentage changes \n",
        "### calculate % changes of adjacent rows in the data frame( on numerical columns only)\n",
        "\n",
        "## data.dtypes return  data types of columns\n",
        "\n",
        "### step 1 :Filter out all columns whose datatype's are not 'float64 and int64'\n",
        "\n",
        "returns = data[[key for key in dict(data.dtypes) if dict(data.dtypes)[key] in ['float64', 'int64']]].pct_change()\n",
        "returns = returns[1:]\n",
        "returns.head()"
      ],
      "execution_count": 111,
      "outputs": [
        {
          "output_type": "execute_result",
          "data": {
            "text/html": [
              "<div>\n",
              "<style scoped>\n",
              "    .dataframe tbody tr th:only-of-type {\n",
              "        vertical-align: middle;\n",
              "    }\n",
              "\n",
              "    .dataframe tbody tr th {\n",
              "        vertical-align: top;\n",
              "    }\n",
              "\n",
              "    .dataframe thead th {\n",
              "        text-align: right;\n",
              "    }\n",
              "</style>\n",
              "<table border=\"1\" class=\"dataframe\">\n",
              "  <thead>\n",
              "    <tr style=\"text-align: right;\">\n",
              "      <th></th>\n",
              "      <th>AAPL</th>\n",
              "      <th>ADBE</th>\n",
              "      <th>CVX</th>\n",
              "      <th>GOOG</th>\n",
              "      <th>IBM</th>\n",
              "      <th>MDLZ</th>\n",
              "      <th>MSFT</th>\n",
              "      <th>NFLX</th>\n",
              "      <th>ORCL</th>\n",
              "      <th>SBUX</th>\n",
              "    </tr>\n",
              "  </thead>\n",
              "  <tbody>\n",
              "    <tr>\n",
              "      <th>130</th>\n",
              "      <td>-0.013065</td>\n",
              "      <td>0.009776</td>\n",
              "      <td>-0.059825</td>\n",
              "      <td>-0.103789</td>\n",
              "      <td>-0.062633</td>\n",
              "      <td>-0.085624</td>\n",
              "      <td>-0.087168</td>\n",
              "      <td>-0.012275</td>\n",
              "      <td>-0.042541</td>\n",
              "      <td>-0.115627</td>\n",
              "    </tr>\n",
              "    <tr>\n",
              "      <th>129</th>\n",
              "      <td>0.098097</td>\n",
              "      <td>0.062420</td>\n",
              "      <td>0.087156</td>\n",
              "      <td>0.019379</td>\n",
              "      <td>0.017259</td>\n",
              "      <td>-0.008456</td>\n",
              "      <td>-0.007219</td>\n",
              "      <td>0.029294</td>\n",
              "      <td>0.103470</td>\n",
              "      <td>0.014887</td>\n",
              "    </tr>\n",
              "    <tr>\n",
              "      <th>128</th>\n",
              "      <td>0.074158</td>\n",
              "      <td>-0.003357</td>\n",
              "      <td>0.051785</td>\n",
              "      <td>0.028855</td>\n",
              "      <td>0.084341</td>\n",
              "      <td>0.065515</td>\n",
              "      <td>0.074273</td>\n",
              "      <td>-0.043984</td>\n",
              "      <td>0.036955</td>\n",
              "      <td>-0.010842</td>\n",
              "    </tr>\n",
              "    <tr>\n",
              "      <th>127</th>\n",
              "      <td>0.214329</td>\n",
              "      <td>0.060154</td>\n",
              "      <td>0.047564</td>\n",
              "      <td>0.056282</td>\n",
              "      <td>0.042951</td>\n",
              "      <td>0.011055</td>\n",
              "      <td>0.025050</td>\n",
              "      <td>-0.012178</td>\n",
              "      <td>0.030851</td>\n",
              "      <td>-0.071245</td>\n",
              "    </tr>\n",
              "    <tr>\n",
              "      <th>126</th>\n",
              "      <td>0.007014</td>\n",
              "      <td>-0.088743</td>\n",
              "      <td>0.041227</td>\n",
              "      <td>0.049788</td>\n",
              "      <td>-0.008821</td>\n",
              "      <td>0.041667</td>\n",
              "      <td>-0.036642</td>\n",
              "      <td>-0.114612</td>\n",
              "      <td>0.017028</td>\n",
              "      <td>-0.089205</td>\n",
              "    </tr>\n",
              "  </tbody>\n",
              "</table>\n",
              "</div>"
            ],
            "text/plain": [
              "       \\nAAPL    \\nADBE     \\nCVX  ...    \\nNFLX    \\nORCL    \\nSBUX\n",
              "130 -0.013065  0.009776 -0.059825  ... -0.012275 -0.042541 -0.115627\n",
              "129  0.098097  0.062420  0.087156  ...  0.029294  0.103470  0.014887\n",
              "128  0.074158 -0.003357  0.051785  ... -0.043984  0.036955 -0.010842\n",
              "127  0.214329  0.060154  0.047564  ... -0.012178  0.030851 -0.071245\n",
              "126  0.007014 -0.088743  0.041227  ... -0.114612  0.017028 -0.089205\n",
              "\n",
              "[5 rows x 10 columns]"
            ]
          },
          "metadata": {
            "tags": []
          },
          "execution_count": 111
        }
      ]
    },
    {
      "cell_type": "code",
      "metadata": {
        "id": "-htKol2rykt_",
        "colab_type": "code",
        "outputId": "f82f87a5-e226-45ab-8ad8-ad3d4f016999",
        "colab": {
          "base_uri": "https://localhost:8080/",
          "height": 217
        }
      },
      "source": [
        "# lists = []\n",
        "# for key in dict(data.dtypes):\n",
        "#     lists.append(key)\n",
        "# lists    \n",
        "dict(data.dtypes)"
      ],
      "execution_count": 112,
      "outputs": [
        {
          "output_type": "execute_result",
          "data": {
            "text/plain": [
              "{'\\nAAPL': dtype('float64'),\n",
              " '\\nADBE': dtype('float64'),\n",
              " '\\nCVX': dtype('float64'),\n",
              " '\\nGOOG': dtype('float64'),\n",
              " '\\nIBM': dtype('float64'),\n",
              " '\\nMDLZ': dtype('float64'),\n",
              " '\\nMSFT': dtype('float64'),\n",
              " '\\nNFLX': dtype('float64'),\n",
              " '\\nORCL': dtype('float64'),\n",
              " '\\nSBUX': dtype('float64'),\n",
              " 'Date': dtype('<M8[ns]')}"
            ]
          },
          "metadata": {
            "tags": []
          },
          "execution_count": 112
        }
      ]
    },
    {
      "cell_type": "code",
      "metadata": {
        "id": "Hpr6CGYn0VUn",
        "colab_type": "code",
        "outputId": "d721db8f-808e-48a4-c250-90335af04f67",
        "colab": {
          "base_uri": "https://localhost:8080/",
          "height": 199
        }
      },
      "source": [
        "### set the tickers\n",
        "stocknames = [\"\\nAAPL\",\"\\nADBE\",\"\\nCVX\",\"\\nGOOG\",\"\\nIBM\",\"\\nMDLZ\",\"\\nMSFT\",\"\\nNFLX\",\"\\nORCL\",\"\\nSBUX\"]\n",
        "stocknames\n"
      ],
      "execution_count": 113,
      "outputs": [
        {
          "output_type": "execute_result",
          "data": {
            "text/plain": [
              "['\\nAAPL',\n",
              " '\\nADBE',\n",
              " '\\nCVX',\n",
              " '\\nGOOG',\n",
              " '\\nIBM',\n",
              " '\\nMDLZ',\n",
              " '\\nMSFT',\n",
              " '\\nNFLX',\n",
              " '\\nORCL',\n",
              " '\\nSBUX']"
            ]
          },
          "metadata": {
            "tags": []
          },
          "execution_count": 113
        }
      ]
    },
    {
      "cell_type": "code",
      "metadata": {
        "id": "ZpnGUrZ_1AKQ",
        "colab_type": "code",
        "outputId": "50559b58-9486-40e3-c8fe-dd79879f9ee1",
        "colab": {
          "base_uri": "https://localhost:8080/",
          "height": 198
        }
      },
      "source": [
        "stockreturns = returns[stocknames]\n",
        "stockreturns.head()"
      ],
      "execution_count": 114,
      "outputs": [
        {
          "output_type": "execute_result",
          "data": {
            "text/html": [
              "<div>\n",
              "<style scoped>\n",
              "    .dataframe tbody tr th:only-of-type {\n",
              "        vertical-align: middle;\n",
              "    }\n",
              "\n",
              "    .dataframe tbody tr th {\n",
              "        vertical-align: top;\n",
              "    }\n",
              "\n",
              "    .dataframe thead th {\n",
              "        text-align: right;\n",
              "    }\n",
              "</style>\n",
              "<table border=\"1\" class=\"dataframe\">\n",
              "  <thead>\n",
              "    <tr style=\"text-align: right;\">\n",
              "      <th></th>\n",
              "      <th>AAPL</th>\n",
              "      <th>ADBE</th>\n",
              "      <th>CVX</th>\n",
              "      <th>GOOG</th>\n",
              "      <th>IBM</th>\n",
              "      <th>MDLZ</th>\n",
              "      <th>MSFT</th>\n",
              "      <th>NFLX</th>\n",
              "      <th>ORCL</th>\n",
              "      <th>SBUX</th>\n",
              "    </tr>\n",
              "  </thead>\n",
              "  <tbody>\n",
              "    <tr>\n",
              "      <th>130</th>\n",
              "      <td>-0.013065</td>\n",
              "      <td>0.009776</td>\n",
              "      <td>-0.059825</td>\n",
              "      <td>-0.103789</td>\n",
              "      <td>-0.062633</td>\n",
              "      <td>-0.085624</td>\n",
              "      <td>-0.087168</td>\n",
              "      <td>-0.012275</td>\n",
              "      <td>-0.042541</td>\n",
              "      <td>-0.115627</td>\n",
              "    </tr>\n",
              "    <tr>\n",
              "      <th>129</th>\n",
              "      <td>0.098097</td>\n",
              "      <td>0.062420</td>\n",
              "      <td>0.087156</td>\n",
              "      <td>0.019379</td>\n",
              "      <td>0.017259</td>\n",
              "      <td>-0.008456</td>\n",
              "      <td>-0.007219</td>\n",
              "      <td>0.029294</td>\n",
              "      <td>0.103470</td>\n",
              "      <td>0.014887</td>\n",
              "    </tr>\n",
              "    <tr>\n",
              "      <th>128</th>\n",
              "      <td>0.074158</td>\n",
              "      <td>-0.003357</td>\n",
              "      <td>0.051785</td>\n",
              "      <td>0.028855</td>\n",
              "      <td>0.084341</td>\n",
              "      <td>0.065515</td>\n",
              "      <td>0.074273</td>\n",
              "      <td>-0.043984</td>\n",
              "      <td>0.036955</td>\n",
              "      <td>-0.010842</td>\n",
              "    </tr>\n",
              "    <tr>\n",
              "      <th>127</th>\n",
              "      <td>0.214329</td>\n",
              "      <td>0.060154</td>\n",
              "      <td>0.047564</td>\n",
              "      <td>0.056282</td>\n",
              "      <td>0.042951</td>\n",
              "      <td>0.011055</td>\n",
              "      <td>0.025050</td>\n",
              "      <td>-0.012178</td>\n",
              "      <td>0.030851</td>\n",
              "      <td>-0.071245</td>\n",
              "    </tr>\n",
              "    <tr>\n",
              "      <th>126</th>\n",
              "      <td>0.007014</td>\n",
              "      <td>-0.088743</td>\n",
              "      <td>0.041227</td>\n",
              "      <td>0.049788</td>\n",
              "      <td>-0.008821</td>\n",
              "      <td>0.041667</td>\n",
              "      <td>-0.036642</td>\n",
              "      <td>-0.114612</td>\n",
              "      <td>0.017028</td>\n",
              "      <td>-0.089205</td>\n",
              "    </tr>\n",
              "  </tbody>\n",
              "</table>\n",
              "</div>"
            ],
            "text/plain": [
              "       \\nAAPL    \\nADBE     \\nCVX  ...    \\nNFLX    \\nORCL    \\nSBUX\n",
              "130 -0.013065  0.009776 -0.059825  ... -0.012275 -0.042541 -0.115627\n",
              "129  0.098097  0.062420  0.087156  ...  0.029294  0.103470  0.014887\n",
              "128  0.074158 -0.003357  0.051785  ... -0.043984  0.036955 -0.010842\n",
              "127  0.214329  0.060154  0.047564  ... -0.012178  0.030851 -0.071245\n",
              "126  0.007014 -0.088743  0.041227  ... -0.114612  0.017028 -0.089205\n",
              "\n",
              "[5 rows x 10 columns]"
            ]
          },
          "metadata": {
            "tags": []
          },
          "execution_count": 114
        }
      ]
    },
    {
      "cell_type": "code",
      "metadata": {
        "id": "kAfWT9aNY2XF",
        "colab_type": "code",
        "colab": {
          "base_uri": "https://localhost:8080/",
          "height": 348
        },
        "outputId": "16d78c53-9509-4282-d5c9-2e863409201d"
      },
      "source": [
        "### Co variance Matrix calculation\n",
        "\n",
        "Covstocks = stockreturns.cov()\n",
        "Covstocks"
      ],
      "execution_count": 115,
      "outputs": [
        {
          "output_type": "execute_result",
          "data": {
            "text/html": [
              "<div>\n",
              "<style scoped>\n",
              "    .dataframe tbody tr th:only-of-type {\n",
              "        vertical-align: middle;\n",
              "    }\n",
              "\n",
              "    .dataframe tbody tr th {\n",
              "        vertical-align: top;\n",
              "    }\n",
              "\n",
              "    .dataframe thead th {\n",
              "        text-align: right;\n",
              "    }\n",
              "</style>\n",
              "<table border=\"1\" class=\"dataframe\">\n",
              "  <thead>\n",
              "    <tr style=\"text-align: right;\">\n",
              "      <th></th>\n",
              "      <th>AAPL</th>\n",
              "      <th>ADBE</th>\n",
              "      <th>CVX</th>\n",
              "      <th>GOOG</th>\n",
              "      <th>IBM</th>\n",
              "      <th>MDLZ</th>\n",
              "      <th>MSFT</th>\n",
              "      <th>NFLX</th>\n",
              "      <th>ORCL</th>\n",
              "      <th>SBUX</th>\n",
              "    </tr>\n",
              "  </thead>\n",
              "  <tbody>\n",
              "    <tr>\n",
              "      <th>\\nAAPL</th>\n",
              "      <td>0.007971</td>\n",
              "      <td>0.003647</td>\n",
              "      <td>1.815202e-03</td>\n",
              "      <td>0.004046</td>\n",
              "      <td>0.001867</td>\n",
              "      <td>0.001202</td>\n",
              "      <td>0.002966</td>\n",
              "      <td>1.502676e-03</td>\n",
              "      <td>0.002714</td>\n",
              "      <td>0.002811</td>\n",
              "    </tr>\n",
              "    <tr>\n",
              "      <th>\\nADBE</th>\n",
              "      <td>0.003647</td>\n",
              "      <td>0.006960</td>\n",
              "      <td>1.838044e-03</td>\n",
              "      <td>0.002828</td>\n",
              "      <td>0.001961</td>\n",
              "      <td>0.001576</td>\n",
              "      <td>0.003210</td>\n",
              "      <td>2.638090e-03</td>\n",
              "      <td>0.002937</td>\n",
              "      <td>0.003553</td>\n",
              "    </tr>\n",
              "    <tr>\n",
              "      <th>\\nCVX</th>\n",
              "      <td>0.001815</td>\n",
              "      <td>0.001838</td>\n",
              "      <td>3.519740e-03</td>\n",
              "      <td>0.001642</td>\n",
              "      <td>0.001243</td>\n",
              "      <td>0.000865</td>\n",
              "      <td>0.001761</td>\n",
              "      <td>4.654898e-07</td>\n",
              "      <td>0.001903</td>\n",
              "      <td>0.000840</td>\n",
              "    </tr>\n",
              "    <tr>\n",
              "      <th>\\nGOOG</th>\n",
              "      <td>0.004046</td>\n",
              "      <td>0.002828</td>\n",
              "      <td>1.641609e-03</td>\n",
              "      <td>0.006554</td>\n",
              "      <td>0.001402</td>\n",
              "      <td>0.001566</td>\n",
              "      <td>0.002976</td>\n",
              "      <td>1.165909e-03</td>\n",
              "      <td>0.002059</td>\n",
              "      <td>0.002463</td>\n",
              "    </tr>\n",
              "    <tr>\n",
              "      <th>\\nIBM</th>\n",
              "      <td>0.001867</td>\n",
              "      <td>0.001961</td>\n",
              "      <td>1.242827e-03</td>\n",
              "      <td>0.001402</td>\n",
              "      <td>0.002859</td>\n",
              "      <td>0.000872</td>\n",
              "      <td>0.001163</td>\n",
              "      <td>1.466549e-03</td>\n",
              "      <td>0.001783</td>\n",
              "      <td>0.001726</td>\n",
              "    </tr>\n",
              "    <tr>\n",
              "      <th>\\nMDLZ</th>\n",
              "      <td>0.001202</td>\n",
              "      <td>0.001576</td>\n",
              "      <td>8.645164e-04</td>\n",
              "      <td>0.001566</td>\n",
              "      <td>0.000872</td>\n",
              "      <td>0.005564</td>\n",
              "      <td>0.000665</td>\n",
              "      <td>4.817736e-04</td>\n",
              "      <td>0.001114</td>\n",
              "      <td>0.001918</td>\n",
              "    </tr>\n",
              "    <tr>\n",
              "      <th>\\nMSFT</th>\n",
              "      <td>0.002966</td>\n",
              "      <td>0.003210</td>\n",
              "      <td>1.761189e-03</td>\n",
              "      <td>0.002976</td>\n",
              "      <td>0.001163</td>\n",
              "      <td>0.000665</td>\n",
              "      <td>0.004969</td>\n",
              "      <td>2.373813e-03</td>\n",
              "      <td>0.002395</td>\n",
              "      <td>0.002014</td>\n",
              "    </tr>\n",
              "    <tr>\n",
              "      <th>\\nNFLX</th>\n",
              "      <td>0.001503</td>\n",
              "      <td>0.002638</td>\n",
              "      <td>4.654898e-07</td>\n",
              "      <td>0.001166</td>\n",
              "      <td>0.001467</td>\n",
              "      <td>0.000482</td>\n",
              "      <td>0.002374</td>\n",
              "      <td>2.855506e-02</td>\n",
              "      <td>0.001493</td>\n",
              "      <td>0.001880</td>\n",
              "    </tr>\n",
              "    <tr>\n",
              "      <th>\\nORCL</th>\n",
              "      <td>0.002714</td>\n",
              "      <td>0.002937</td>\n",
              "      <td>1.903322e-03</td>\n",
              "      <td>0.002059</td>\n",
              "      <td>0.001783</td>\n",
              "      <td>0.001114</td>\n",
              "      <td>0.002395</td>\n",
              "      <td>1.492694e-03</td>\n",
              "      <td>0.004398</td>\n",
              "      <td>0.001962</td>\n",
              "    </tr>\n",
              "    <tr>\n",
              "      <th>\\nSBUX</th>\n",
              "      <td>0.002811</td>\n",
              "      <td>0.003553</td>\n",
              "      <td>8.398749e-04</td>\n",
              "      <td>0.002463</td>\n",
              "      <td>0.001726</td>\n",
              "      <td>0.001918</td>\n",
              "      <td>0.002014</td>\n",
              "      <td>1.879558e-03</td>\n",
              "      <td>0.001962</td>\n",
              "      <td>0.006219</td>\n",
              "    </tr>\n",
              "  </tbody>\n",
              "</table>\n",
              "</div>"
            ],
            "text/plain": [
              "          \\nAAPL    \\nADBE         \\nCVX  ...        \\nNFLX    \\nORCL    \\nSBUX\n",
              "\\nAAPL  0.007971  0.003647  1.815202e-03  ...  1.502676e-03  0.002714  0.002811\n",
              "\\nADBE  0.003647  0.006960  1.838044e-03  ...  2.638090e-03  0.002937  0.003553\n",
              "\\nCVX   0.001815  0.001838  3.519740e-03  ...  4.654898e-07  0.001903  0.000840\n",
              "\\nGOOG  0.004046  0.002828  1.641609e-03  ...  1.165909e-03  0.002059  0.002463\n",
              "\\nIBM   0.001867  0.001961  1.242827e-03  ...  1.466549e-03  0.001783  0.001726\n",
              "\\nMDLZ  0.001202  0.001576  8.645164e-04  ...  4.817736e-04  0.001114  0.001918\n",
              "\\nMSFT  0.002966  0.003210  1.761189e-03  ...  2.373813e-03  0.002395  0.002014\n",
              "\\nNFLX  0.001503  0.002638  4.654898e-07  ...  2.855506e-02  0.001493  0.001880\n",
              "\\nORCL  0.002714  0.002937  1.903322e-03  ...  1.492694e-03  0.004398  0.001962\n",
              "\\nSBUX  0.002811  0.003553  8.398749e-04  ...  1.879558e-03  0.001962  0.006219\n",
              "\n",
              "[10 rows x 10 columns]"
            ]
          },
          "metadata": {
            "tags": []
          },
          "execution_count": 115
        }
      ]
    },
    {
      "cell_type": "code",
      "metadata": {
        "id": "yLHJaLolz_eB",
        "colab_type": "code",
        "colab": {
          "base_uri": "https://localhost:8080/",
          "height": 35
        },
        "outputId": "bb4b13fa-79c7-407f-e13e-0d6fc7041017"
      },
      "source": [
        "### Number  of stocks (n)\n",
        "\n",
        "n = len(stocknames)\n",
        "n"
      ],
      "execution_count": 116,
      "outputs": [
        {
          "output_type": "execute_result",
          "data": {
            "text/plain": [
              "10"
            ]
          },
          "metadata": {
            "tags": []
          },
          "execution_count": 116
        }
      ]
    },
    {
      "cell_type": "code",
      "metadata": {
        "id": "LZfVqMcz3i2C",
        "colab_type": "code",
        "colab": {
          "base_uri": "https://localhost:8080/",
          "height": 35
        },
        "outputId": "88d079f0-a6bf-406b-bb5e-a5a79002107e"
      },
      "source": [
        "!pip install CVXOPT"
      ],
      "execution_count": 117,
      "outputs": [
        {
          "output_type": "stream",
          "text": [
            "Requirement already satisfied: CVXOPT in /usr/local/lib/python3.6/dist-packages (1.2.3)\n"
          ],
          "name": "stdout"
        }
      ]
    },
    {
      "cell_type": "code",
      "metadata": {
        "id": "vYXbsDBM3sIK",
        "colab_type": "code",
        "colab": {}
      },
      "source": [
        "import cvxopt as opt\n",
        "from cvxopt import matrix, solvers"
      ],
      "execution_count": 0,
      "outputs": []
    },
    {
      "cell_type": "code",
      "metadata": {
        "id": "oNdVzMQL4IpY",
        "colab_type": "code",
        "colab": {
          "base_uri": "https://localhost:8080/",
          "height": 217
        },
        "outputId": "045889cd-7de8-4a71-d6f8-3d8d2ea48657"
      },
      "source": [
        "expectreturn = np.mean(stockreturns)\n",
        "expectreturn"
      ],
      "execution_count": 119,
      "outputs": [
        {
          "output_type": "execute_result",
          "data": {
            "text/plain": [
              "\\nAAPL    0.025202\n",
              "\\nADBE    0.015055\n",
              "\\nCVX     0.008877\n",
              "\\nGOOG    0.014171\n",
              "\\nIBM     0.006863\n",
              "\\nMDLZ    0.009698\n",
              "\\nMSFT    0.012271\n",
              "\\nNFLX    0.044845\n",
              "\\nORCL    0.010706\n",
              "\\nSBUX    0.013125\n",
              "dtype: float64"
            ]
          },
          "metadata": {
            "tags": []
          },
          "execution_count": 119
        }
      ]
    },
    {
      "cell_type": "code",
      "metadata": {
        "id": "Y0M7W-uu80HI",
        "colab_type": "code",
        "colab": {}
      },
      "source": [
        ""
      ],
      "execution_count": 0,
      "outputs": []
    },
    {
      "cell_type": "code",
      "metadata": {
        "id": "J2rDyGaw4X8n",
        "colab_type": "code",
        "colab": {
          "base_uri": "https://localhost:8080/",
          "height": 35
        },
        "outputId": "4543d020-3403-4536-854d-b1b29b017a35"
      },
      "source": [
        "### Conver to matrix the expected Return data frame\n",
        "expectreturn = matrix(expectreturn)\n",
        "expectreturn"
      ],
      "execution_count": 120,
      "outputs": [
        {
          "output_type": "execute_result",
          "data": {
            "text/plain": [
              "<10x1 matrix, tc='d'>"
            ]
          },
          "metadata": {
            "tags": []
          },
          "execution_count": 120
        }
      ]
    },
    {
      "cell_type": "code",
      "metadata": {
        "id": "AJTirazM898J",
        "colab_type": "code",
        "colab": {
          "base_uri": "https://localhost:8080/",
          "height": 217
        },
        "outputId": "6adbc680-c7e9-4114-9776-3ce6f35f1a79"
      },
      "source": [
        "maxLoss = np.min(stockreturns)\n",
        "maxLoss"
      ],
      "execution_count": 121,
      "outputs": [
        {
          "output_type": "execute_result",
          "data": {
            "text/plain": [
              "\\nAAPL   -0.329559\n",
              "\\nADBE   -0.325057\n",
              "\\nCVX    -0.146979\n",
              "\\nGOOG   -0.184773\n",
              "\\nIBM    -0.205113\n",
              "\\nMDLZ   -0.353223\n",
              "\\nMSFT   -0.165644\n",
              "\\nNFLX   -0.518020\n",
              "\\nORCL   -0.181818\n",
              "\\nSBUX   -0.319879\n",
              "dtype: float64"
            ]
          },
          "metadata": {
            "tags": []
          },
          "execution_count": 121
        }
      ]
    },
    {
      "cell_type": "code",
      "metadata": {
        "id": "jIQ51aUg9UFc",
        "colab_type": "code",
        "colab": {
          "base_uri": "https://localhost:8080/",
          "height": 217
        },
        "outputId": "76430bfa-37e3-4011-b9c0-c5f2696f9204"
      },
      "source": [
        "maxLoss = -maxLoss\n",
        "maxLoss"
      ],
      "execution_count": 122,
      "outputs": [
        {
          "output_type": "execute_result",
          "data": {
            "text/plain": [
              "\\nAAPL    0.329559\n",
              "\\nADBE    0.325057\n",
              "\\nCVX     0.146979\n",
              "\\nGOOG    0.184773\n",
              "\\nIBM     0.205113\n",
              "\\nMDLZ    0.353223\n",
              "\\nMSFT    0.165644\n",
              "\\nNFLX    0.518020\n",
              "\\nORCL    0.181818\n",
              "\\nSBUX    0.319879\n",
              "dtype: float64"
            ]
          },
          "metadata": {
            "tags": []
          },
          "execution_count": 122
        }
      ]
    },
    {
      "cell_type": "code",
      "metadata": {
        "id": "f2HOMEKp9Zj7",
        "colab_type": "code",
        "colab": {
          "base_uri": "https://localhost:8080/",
          "height": 35
        },
        "outputId": "a6935370-60ab-4ce5-9185-5f788b728803"
      },
      "source": [
        "### 1) Objective Fucntion of Optimuization\n",
        "\n",
        "Objective = matrix(maxLoss)\n",
        "Objective"
      ],
      "execution_count": 123,
      "outputs": [
        {
          "output_type": "execute_result",
          "data": {
            "text/plain": [
              "<10x1 matrix, tc='d'>"
            ]
          },
          "metadata": {
            "tags": []
          },
          "execution_count": 123
        }
      ]
    },
    {
      "cell_type": "code",
      "metadata": {
        "id": "9X6UKVsV9oSq",
        "colab_type": "code",
        "colab": {}
      },
      "source": [
        "### 2) seting Up Constaints "
      ],
      "execution_count": 0,
      "outputs": []
    },
    {
      "cell_type": "code",
      "metadata": {
        "id": "bRouitbQ9BCM",
        "colab_type": "code",
        "colab": {
          "base_uri": "https://localhost:8080/",
          "height": 35
        },
        "outputId": "47cff3dc-5091-4a48-c509-d49951253d74"
      },
      "source": [
        "### Sum of weights = 100%\n",
        "### Define LHS of contraint  1 row , n columns , each value = 1\n",
        "\n",
        "constraintEqualityLhs = matrix(1.0, (1,n))\n",
        "constraintEqualityLhs"
      ],
      "execution_count": 124,
      "outputs": [
        {
          "output_type": "execute_result",
          "data": {
            "text/plain": [
              "<1x10 matrix, tc='d'>"
            ]
          },
          "metadata": {
            "tags": []
          },
          "execution_count": 124
        }
      ]
    },
    {
      "cell_type": "code",
      "metadata": {
        "id": "irkChw4B-ZR2",
        "colab_type": "code",
        "colab": {
          "base_uri": "https://localhost:8080/",
          "height": 35
        },
        "outputId": "3a2bae3f-f8c3-48f0-9b0a-65c1c1fbd50b"
      },
      "source": [
        "### Right hand side of equality\n",
        "### RHS  1 row, 1 column , value = 1\n",
        "constraintEqualityRHS = matrix(1.0)\n",
        "constraintEqualityRHS"
      ],
      "execution_count": 125,
      "outputs": [
        {
          "output_type": "execute_result",
          "data": {
            "text/plain": [
              "<1x1 matrix, tc='d'>"
            ]
          },
          "metadata": {
            "tags": []
          },
          "execution_count": 125
        }
      ]
    },
    {
      "cell_type": "code",
      "metadata": {
        "id": "efq7RVkP-rF0",
        "colab_type": "code",
        "colab": {
          "base_uri": "https://localhost:8080/",
          "height": 35
        },
        "outputId": "9bcb89f8-9771-4657-91a9-1f9b0f3ed047"
      },
      "source": [
        "### Non negative contraints -np.identity(n)\n",
        "### Define LHS as an identity matrix, but multiply by -1(for >=)\n",
        "\n",
        "contraintsInequalityLhsRow1 = matrix(-np.identity(n))\n",
        "contraintsInequalityLhsRow1\n",
        "\n"
      ],
      "execution_count": 126,
      "outputs": [
        {
          "output_type": "execute_result",
          "data": {
            "text/plain": [
              "<10x10 matrix, tc='d'>"
            ]
          },
          "metadata": {
            "tags": []
          },
          "execution_count": 126
        }
      ]
    },
    {
      "cell_type": "code",
      "metadata": {
        "id": "UfRJJpAA_qEg",
        "colab_type": "code",
        "colab": {
          "base_uri": "https://localhost:8080/",
          "height": 35
        },
        "outputId": "884ce060-d2a9-4d5f-8843-7b635b3aeff3"
      },
      "source": [
        "### Non negative constraints :matrix(0.0,(n,1))\n",
        "### define RHS as all zeros,n rows and 1 column\n",
        "\n",
        "contraintsInequalityRhsRow1 = matrix(0.0,(n,1))\n",
        "contraintsInequalityRhsRow1"
      ],
      "execution_count": 127,
      "outputs": [
        {
          "output_type": "execute_result",
          "data": {
            "text/plain": [
              "<10x1 matrix, tc='d'>"
            ]
          },
          "metadata": {
            "tags": []
          },
          "execution_count": 127
        }
      ]
    },
    {
      "cell_type": "code",
      "metadata": {
        "id": "Z7gmwHVS_4Va",
        "colab_type": "code",
        "colab": {
          "base_uri": "https://localhost:8080/",
          "height": 35
        },
        "outputId": "0368da63-2b34-413f-8aab-876bf9e61a00"
      },
      "source": [
        "### one more Inequlaity contraimnts  \n",
        "#### threshold expected return >= 2%\n",
        "### LHS as average of returns of each stock - 1 row, 10 columns\n",
        "contraintsInequalityLhsRow2 = matrix(-np.transpose(np.array(expectreturn)))\n",
        "contraintsInequalityLhsRow2"
      ],
      "execution_count": 128,
      "outputs": [
        {
          "output_type": "execute_result",
          "data": {
            "text/plain": [
              "<1x10 matrix, tc='d'>"
            ]
          },
          "metadata": {
            "tags": []
          },
          "execution_count": 128
        }
      ]
    },
    {
      "cell_type": "code",
      "metadata": {
        "id": "zRKru1BGAlUf",
        "colab_type": "code",
        "colab": {
          "base_uri": "https://localhost:8080/",
          "height": 35
        },
        "outputId": "61d40b21-375c-4d77-ed1e-8325d937fcf1"
      },
      "source": [
        "### LHS = -np.ones(1,1)* 2%\n",
        "contraintsIneuqualityRhsRow2 = matrix(-np.ones((1,1))*0.02)\n",
        "contraintsIneuqualityRhsRow2"
      ],
      "execution_count": 129,
      "outputs": [
        {
          "output_type": "execute_result",
          "data": {
            "text/plain": [
              "<1x1 matrix, tc='d'>"
            ]
          },
          "metadata": {
            "tags": []
          },
          "execution_count": 129
        }
      ]
    },
    {
      "cell_type": "code",
      "metadata": {
        "id": "9OzCBTGUBCYs",
        "colab_type": "code",
        "colab": {
          "base_uri": "https://localhost:8080/",
          "height": 35
        },
        "outputId": "90837bca-7085-4f51-cbdc-34c7972577e4"
      },
      "source": [
        "### concatenate all rows using concatenate into 1 matrix\n",
        "contraintsInequalityLhsCombined = matrix(np.concatenate((contraintsInequalityLhsRow1,contraintsInequalityLhsRow2),0))\n",
        "contraintsInequalityLhsCombined\n"
      ],
      "execution_count": 130,
      "outputs": [
        {
          "output_type": "execute_result",
          "data": {
            "text/plain": [
              "<11x10 matrix, tc='d'>"
            ]
          },
          "metadata": {
            "tags": []
          },
          "execution_count": 130
        }
      ]
    },
    {
      "cell_type": "code",
      "metadata": {
        "id": "KLIm_03ccQR6",
        "colab_type": "code",
        "colab": {
          "base_uri": "https://localhost:8080/",
          "height": 35
        },
        "outputId": "2795234b-6b50-4753-9785-574fc07a7a9b"
      },
      "source": [
        "contraintsInequalityRhsCombined = matrix(np.concatenate((contraintsInequalityRhsRow1,contraintsIneuqualityRhsRow2),0))\n",
        "contraintsInequalityRhsCombined"
      ],
      "execution_count": 131,
      "outputs": [
        {
          "output_type": "execute_result",
          "data": {
            "text/plain": [
              "<11x1 matrix, tc='d'>"
            ]
          },
          "metadata": {
            "tags": []
          },
          "execution_count": 131
        }
      ]
    },
    {
      "cell_type": "code",
      "metadata": {
        "id": "3emWBML1CXFU",
        "colab_type": "code",
        "colab": {
          "base_uri": "https://localhost:8080/",
          "height": 235
        },
        "outputId": "160ced54-ce8a-4631-c871-62a4a044ab7a"
      },
      "source": [
        "#### Usings SOlver for optimizations\n",
        "### solving LPP( Liner programming variance )\n",
        "\n",
        "### Return solution object.\n",
        "\n",
        "solution = solvers.lp(Objective,contraintsInequalityLhsCombined,contraintsInequalityRhsCombined,constraintEqualityLhs,constraintEqualityRHS)\n"
      ],
      "execution_count": 132,
      "outputs": [
        {
          "output_type": "stream",
          "text": [
            "     pcost       dcost       gap    pres   dres   k/t\n",
            " 0:  2.7304e-01  2.9556e-01  1e+01  3e+00  4e+00  1e+00\n",
            " 1:  2.1394e-01  9.4535e-02  7e-01  4e-01  5e-01  4e-03\n",
            " 2:  1.7927e-01  1.6853e-01  6e-02  5e-02  6e-02  5e-03\n",
            " 3:  1.7539e-01  1.7058e-01  4e-02  3e-02  3e-02  4e-03\n",
            " 4:  2.1141e-01  2.1079e-01  7e-02  2e-02  3e-02  6e-03\n",
            " 5:  2.4099e-01  2.4132e-01  4e-02  1e-02  1e-02  3e-03\n",
            " 6:  2.4766e-01  2.4772e-01  3e-03  8e-04  9e-04  3e-04\n",
            " 7:  2.4796e-01  2.4797e-01  5e-04  1e-04  1e-04  5e-05\n",
            " 8:  2.4810e-01  2.4810e-01  5e-06  1e-06  2e-06  5e-07\n",
            " 9:  2.4810e-01  2.4810e-01  5e-08  1e-08  2e-08  5e-09\n",
            "Optimal solution found.\n"
          ],
          "name": "stdout"
        }
      ]
    },
    {
      "cell_type": "code",
      "metadata": {
        "id": "xmfs2jKDeC1V",
        "colab_type": "code",
        "colab": {
          "base_uri": "https://localhost:8080/",
          "height": 35
        },
        "outputId": "f5a8e9a5-57c4-41cc-f7d1-486d0a872aa5"
      },
      "source": [
        "WeightLinear= solution['x']\n",
        "WeightLinear=np.array(WeightLinear)\n",
        "WeightLinear\n",
        "sum(WeightLinear)"
      ],
      "execution_count": 133,
      "outputs": [
        {
          "output_type": "execute_result",
          "data": {
            "text/plain": [
              "array([1.])"
            ]
          },
          "metadata": {
            "tags": []
          },
          "execution_count": 133
        }
      ]
    },
    {
      "cell_type": "code",
      "metadata": {
        "id": "-XrdYJ28egZt",
        "colab_type": "code",
        "colab": {
          "base_uri": "https://localhost:8080/",
          "height": 35
        },
        "outputId": "8a1b7903-1c32-40d1-b890-e27f67401174"
      },
      "source": [
        "### Calculate Risk of Portfolio by \n",
        "### It resturn sum-product of weights and max losses\n",
        "\n",
        "portfolioRiskLinear = np.dot(WeightLinear.T,maxLoss)\n",
        "portfolioRiskLinear"
      ],
      "execution_count": 134,
      "outputs": [
        {
          "output_type": "execute_result",
          "data": {
            "text/plain": [
              "array([0.24809735])"
            ]
          },
          "metadata": {
            "tags": []
          },
          "execution_count": 134
        }
      ]
    },
    {
      "cell_type": "code",
      "metadata": {
        "id": "6saOx5gbe83o",
        "colab_type": "code",
        "colab": {
          "base_uri": "https://localhost:8080/",
          "height": 35
        },
        "outputId": "6dbb28ed-cf03-497a-fdff-cbdeeb3936de"
      },
      "source": [
        "### Calculate Return of Portfolio by \n",
        "### It resturn sum-product of weights and max losses\n",
        "\n",
        "portfolioReturnLinear = np.dot(WeightLinear.T,maxLoss)\n",
        "portfolioReturnLinear"
      ],
      "execution_count": 135,
      "outputs": [
        {
          "output_type": "execute_result",
          "data": {
            "text/plain": [
              "array([0.24809735])"
            ]
          },
          "metadata": {
            "tags": []
          },
          "execution_count": 135
        }
      ]
    },
    {
      "cell_type": "code",
      "metadata": {
        "id": "fuCQBkO9gbpZ",
        "colab_type": "code",
        "colab": {}
      },
      "source": [
        ""
      ],
      "execution_count": 0,
      "outputs": []
    }
  ]
}