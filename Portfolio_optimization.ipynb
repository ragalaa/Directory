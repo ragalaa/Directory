{
  "nbformat": 4,
  "nbformat_minor": 0,
  "metadata": {
    "colab": {
      "name": "Portfolio_optimization.ipynb",
      "provenance": [],
      "include_colab_link": true
    },
    "kernelspec": {
      "name": "python3",
      "display_name": "Python 3"
    }
  },
  "cells": [
    {
      "cell_type": "markdown",
      "metadata": {
        "id": "view-in-github",
        "colab_type": "text"
      },
      "source": [
        "<a href=\"https://colab.research.google.com/github/ragalaa/Machine-Learning-Basics/blob/master/Portfolio_optimization.ipynb\" target=\"_parent\"><img src=\"https://colab.research.google.com/assets/colab-badge.svg\" alt=\"Open In Colab\"/></a>"
      ]
    },
    {
      "cell_type": "code",
      "metadata": {
        "id": "XROvMzdkqUt-",
        "colab_type": "code",
        "colab": {}
      },
      "source": [
        "import pandas as pd\n",
        "import numpy as np\n",
        "from pandas_datareader import data as web\n",
        "import matplotlib.pyplot as plt\n",
        "%matplotlib inline"
      ],
      "execution_count": 0,
      "outputs": []
    },
    {
      "cell_type": "code",
      "metadata": {
        "id": "idY5a9rxq4eI",
        "colab_type": "code",
        "colab": {}
      },
      "source": [
        "assets =  [ 'AAPL','ADBE','CVX','GOOG','IBM','MDLZ','MSFT','NFLX','ORCL','SBUX']    #['NXP']\n",
        "data = pd.DataFrame()\n",
        "for stock in assets:\n",
        "    data[stock] = web.DataReader(stock, data_source='yahoo',start='2017-1-1' ,end='2020-2-1')['Adj Close']\n",
        "\n",
        "# data = pd.read_csv('Portfolio_Data.csv',sep=\",\")"
      ],
      "execution_count": 0,
      "outputs": []
    },
    {
      "cell_type": "code",
      "metadata": {
        "id": "e5aZpkQguLJ_",
        "colab_type": "code",
        "outputId": "c1594db5-d661-487c-c045-bc82fdf42d9a",
        "colab": {
          "base_uri": "https://localhost:8080/",
          "height": 228
        }
      },
      "source": [
        "data.head()"
      ],
      "execution_count": 21,
      "outputs": [
        {
          "output_type": "execute_result",
          "data": {
            "text/html": [
              "<div>\n",
              "<style scoped>\n",
              "    .dataframe tbody tr th:only-of-type {\n",
              "        vertical-align: middle;\n",
              "    }\n",
              "\n",
              "    .dataframe tbody tr th {\n",
              "        vertical-align: top;\n",
              "    }\n",
              "\n",
              "    .dataframe thead th {\n",
              "        text-align: right;\n",
              "    }\n",
              "</style>\n",
              "<table border=\"1\" class=\"dataframe\">\n",
              "  <thead>\n",
              "    <tr style=\"text-align: right;\">\n",
              "      <th></th>\n",
              "      <th>AAPL</th>\n",
              "      <th>ADBE</th>\n",
              "      <th>CVX</th>\n",
              "      <th>GOOG</th>\n",
              "      <th>IBM</th>\n",
              "      <th>MDLZ</th>\n",
              "      <th>MSFT</th>\n",
              "      <th>NFLX</th>\n",
              "      <th>ORCL</th>\n",
              "      <th>SBUX</th>\n",
              "    </tr>\n",
              "    <tr>\n",
              "      <th>Date</th>\n",
              "      <th></th>\n",
              "      <th></th>\n",
              "      <th></th>\n",
              "      <th></th>\n",
              "      <th></th>\n",
              "      <th></th>\n",
              "      <th></th>\n",
              "      <th></th>\n",
              "      <th></th>\n",
              "      <th></th>\n",
              "    </tr>\n",
              "  </thead>\n",
              "  <tbody>\n",
              "    <tr>\n",
              "      <th>2019-01-02</th>\n",
              "      <td>155.214005</td>\n",
              "      <td>224.570007</td>\n",
              "      <td>105.139481</td>\n",
              "      <td>1045.849976</td>\n",
              "      <td>108.800987</td>\n",
              "      <td>39.086918</td>\n",
              "      <td>99.375191</td>\n",
              "      <td>267.660004</td>\n",
              "      <td>44.264744</td>\n",
              "      <td>62.841625</td>\n",
              "    </tr>\n",
              "    <tr>\n",
              "      <th>2019-01-03</th>\n",
              "      <td>139.753540</td>\n",
              "      <td>215.699997</td>\n",
              "      <td>103.125793</td>\n",
              "      <td>1016.059998</td>\n",
              "      <td>106.628937</td>\n",
              "      <td>38.939945</td>\n",
              "      <td>95.719376</td>\n",
              "      <td>271.200012</td>\n",
              "      <td>43.834042</td>\n",
              "      <td>60.115749</td>\n",
              "    </tr>\n",
              "    <tr>\n",
              "      <th>2019-01-04</th>\n",
              "      <td>145.719513</td>\n",
              "      <td>226.190002</td>\n",
              "      <td>105.262962</td>\n",
              "      <td>1070.709961</td>\n",
              "      <td>110.793617</td>\n",
              "      <td>40.017796</td>\n",
              "      <td>100.171211</td>\n",
              "      <td>297.570007</td>\n",
              "      <td>45.723270</td>\n",
              "      <td>62.108860</td>\n",
              "    </tr>\n",
              "    <tr>\n",
              "      <th>2019-01-07</th>\n",
              "      <td>145.395203</td>\n",
              "      <td>229.259995</td>\n",
              "      <td>106.630760</td>\n",
              "      <td>1068.390015</td>\n",
              "      <td>111.577446</td>\n",
              "      <td>40.292156</td>\n",
              "      <td>100.298965</td>\n",
              "      <td>315.339996</td>\n",
              "      <td>46.447636</td>\n",
              "      <td>62.108860</td>\n",
              "    </tr>\n",
              "    <tr>\n",
              "      <th>2019-01-08</th>\n",
              "      <td>148.166870</td>\n",
              "      <td>232.679993</td>\n",
              "      <td>106.165329</td>\n",
              "      <td>1076.280029</td>\n",
              "      <td>113.163979</td>\n",
              "      <td>41.232834</td>\n",
              "      <td>101.026199</td>\n",
              "      <td>320.269989</td>\n",
              "      <td>46.868557</td>\n",
              "      <td>62.157711</td>\n",
              "    </tr>\n",
              "  </tbody>\n",
              "</table>\n",
              "</div>"
            ],
            "text/plain": [
              "                  AAPL        ADBE  ...       ORCL       SBUX\n",
              "Date                                ...                      \n",
              "2019-01-02  155.214005  224.570007  ...  44.264744  62.841625\n",
              "2019-01-03  139.753540  215.699997  ...  43.834042  60.115749\n",
              "2019-01-04  145.719513  226.190002  ...  45.723270  62.108860\n",
              "2019-01-07  145.395203  229.259995  ...  46.447636  62.108860\n",
              "2019-01-08  148.166870  232.679993  ...  46.868557  62.157711\n",
              "\n",
              "[5 rows x 10 columns]"
            ]
          },
          "metadata": {
            "tags": []
          },
          "execution_count": 21
        }
      ]
    },
    {
      "cell_type": "markdown",
      "metadata": {
        "id": "cBCUvbbt1pja",
        "colab_type": "text"
      },
      "source": [
        "# New Section"
      ]
    },
    {
      "cell_type": "code",
      "metadata": {
        "id": "47eSzfCKub0N",
        "colab_type": "code",
        "colab": {}
      },
      "source": [
        "# ### Convert date to format present in 4-Jan-19 to (DD-MM-YYY)\n",
        "# data['Date'] = pd.to_datetime(data['Date'], format='%d-%b-%y')"
      ],
      "execution_count": 0,
      "outputs": []
    },
    {
      "cell_type": "code",
      "metadata": {
        "id": "74TaX2vGuOaN",
        "colab_type": "code",
        "outputId": "37e28b46-de61-4a86-e662-245347b3243a",
        "colab": {
          "base_uri": "https://localhost:8080/",
          "height": 228
        }
      },
      "source": [
        "data.head()"
      ],
      "execution_count": 51,
      "outputs": [
        {
          "output_type": "execute_result",
          "data": {
            "text/html": [
              "<div>\n",
              "<style scoped>\n",
              "    .dataframe tbody tr th:only-of-type {\n",
              "        vertical-align: middle;\n",
              "    }\n",
              "\n",
              "    .dataframe tbody tr th {\n",
              "        vertical-align: top;\n",
              "    }\n",
              "\n",
              "    .dataframe thead th {\n",
              "        text-align: right;\n",
              "    }\n",
              "</style>\n",
              "<table border=\"1\" class=\"dataframe\">\n",
              "  <thead>\n",
              "    <tr style=\"text-align: right;\">\n",
              "      <th></th>\n",
              "      <th>AAPL</th>\n",
              "      <th>ADBE</th>\n",
              "      <th>CVX</th>\n",
              "      <th>GOOG</th>\n",
              "      <th>IBM</th>\n",
              "      <th>MDLZ</th>\n",
              "      <th>MSFT</th>\n",
              "      <th>NFLX</th>\n",
              "      <th>ORCL</th>\n",
              "      <th>SBUX</th>\n",
              "    </tr>\n",
              "    <tr>\n",
              "      <th>Date</th>\n",
              "      <th></th>\n",
              "      <th></th>\n",
              "      <th></th>\n",
              "      <th></th>\n",
              "      <th></th>\n",
              "      <th></th>\n",
              "      <th></th>\n",
              "      <th></th>\n",
              "      <th></th>\n",
              "      <th></th>\n",
              "    </tr>\n",
              "  </thead>\n",
              "  <tbody>\n",
              "    <tr>\n",
              "      <th>2017-01-03</th>\n",
              "      <td>110.691154</td>\n",
              "      <td>103.480003</td>\n",
              "      <td>103.663445</td>\n",
              "      <td>786.140015</td>\n",
              "      <td>145.416626</td>\n",
              "      <td>42.117878</td>\n",
              "      <td>59.133289</td>\n",
              "      <td>127.489998</td>\n",
              "      <td>36.695465</td>\n",
              "      <td>51.889256</td>\n",
              "    </tr>\n",
              "    <tr>\n",
              "      <th>2017-01-04</th>\n",
              "      <td>110.567276</td>\n",
              "      <td>104.139999</td>\n",
              "      <td>103.637070</td>\n",
              "      <td>786.900024</td>\n",
              "      <td>147.217041</td>\n",
              "      <td>42.070927</td>\n",
              "      <td>58.868710</td>\n",
              "      <td>129.410004</td>\n",
              "      <td>36.876324</td>\n",
              "      <td>52.489239</td>\n",
              "    </tr>\n",
              "    <tr>\n",
              "      <th>2017-01-05</th>\n",
              "      <td>111.129562</td>\n",
              "      <td>105.910004</td>\n",
              "      <td>103.188446</td>\n",
              "      <td>794.020020</td>\n",
              "      <td>146.729950</td>\n",
              "      <td>42.258736</td>\n",
              "      <td>58.868710</td>\n",
              "      <td>131.809998</td>\n",
              "      <td>36.781132</td>\n",
              "      <td>52.929848</td>\n",
              "    </tr>\n",
              "    <tr>\n",
              "      <th>2017-01-06</th>\n",
              "      <td>112.368469</td>\n",
              "      <td>108.300003</td>\n",
              "      <td>102.775024</td>\n",
              "      <td>806.150024</td>\n",
              "      <td>147.451843</td>\n",
              "      <td>42.315090</td>\n",
              "      <td>59.378971</td>\n",
              "      <td>131.070007</td>\n",
              "      <td>36.600273</td>\n",
              "      <td>53.557957</td>\n",
              "    </tr>\n",
              "    <tr>\n",
              "      <th>2017-01-09</th>\n",
              "      <td>113.397697</td>\n",
              "      <td>108.570000</td>\n",
              "      <td>101.895409</td>\n",
              "      <td>806.650024</td>\n",
              "      <td>145.816681</td>\n",
              "      <td>41.967617</td>\n",
              "      <td>59.189987</td>\n",
              "      <td>130.949997</td>\n",
              "      <td>37.152374</td>\n",
              "      <td>54.561058</td>\n",
              "    </tr>\n",
              "  </tbody>\n",
              "</table>\n",
              "</div>"
            ],
            "text/plain": [
              "                  AAPL        ADBE  ...       ORCL       SBUX\n",
              "Date                                ...                      \n",
              "2017-01-03  110.691154  103.480003  ...  36.695465  51.889256\n",
              "2017-01-04  110.567276  104.139999  ...  36.876324  52.489239\n",
              "2017-01-05  111.129562  105.910004  ...  36.781132  52.929848\n",
              "2017-01-06  112.368469  108.300003  ...  36.600273  53.557957\n",
              "2017-01-09  113.397697  108.570000  ...  37.152374  54.561058\n",
              "\n",
              "[5 rows x 10 columns]"
            ]
          },
          "metadata": {
            "tags": []
          },
          "execution_count": 51
        }
      ]
    },
    {
      "cell_type": "code",
      "metadata": {
        "id": "e832MyTGv5KZ",
        "colab_type": "code",
        "colab": {}
      },
      "source": [
        "### Sort values by Date\n",
        "data = data.sort_values(['Date'], ascending=[True])\n"
      ],
      "execution_count": 0,
      "outputs": []
    },
    {
      "cell_type": "code",
      "metadata": {
        "id": "82EQ4sSSw893",
        "colab_type": "code",
        "outputId": "bdda9193-a2e4-40e9-8577-9c970ad9805e",
        "colab": {
          "base_uri": "https://localhost:8080/",
          "height": 228
        }
      },
      "source": [
        "### Data percentage changes \n",
        "### calculate % changes of adjacent rows in the data frame( on numerical columns only)\n",
        "\n",
        "## data.dtypes return  data types of columns\n",
        "\n",
        "### step 1 :Filter out all columns whose datatype's are not 'float64 and int64'\n",
        "\n",
        "returns = data[[key for key in dict(data.dtypes) if dict(data.dtypes)[key] in ['float64', 'int64']]].pct_change()\n",
        "returns = returns[1:]\n",
        "returns.head()"
      ],
      "execution_count": 53,
      "outputs": [
        {
          "output_type": "execute_result",
          "data": {
            "text/html": [
              "<div>\n",
              "<style scoped>\n",
              "    .dataframe tbody tr th:only-of-type {\n",
              "        vertical-align: middle;\n",
              "    }\n",
              "\n",
              "    .dataframe tbody tr th {\n",
              "        vertical-align: top;\n",
              "    }\n",
              "\n",
              "    .dataframe thead th {\n",
              "        text-align: right;\n",
              "    }\n",
              "</style>\n",
              "<table border=\"1\" class=\"dataframe\">\n",
              "  <thead>\n",
              "    <tr style=\"text-align: right;\">\n",
              "      <th></th>\n",
              "      <th>AAPL</th>\n",
              "      <th>ADBE</th>\n",
              "      <th>CVX</th>\n",
              "      <th>GOOG</th>\n",
              "      <th>IBM</th>\n",
              "      <th>MDLZ</th>\n",
              "      <th>MSFT</th>\n",
              "      <th>NFLX</th>\n",
              "      <th>ORCL</th>\n",
              "      <th>SBUX</th>\n",
              "    </tr>\n",
              "    <tr>\n",
              "      <th>Date</th>\n",
              "      <th></th>\n",
              "      <th></th>\n",
              "      <th></th>\n",
              "      <th></th>\n",
              "      <th></th>\n",
              "      <th></th>\n",
              "      <th></th>\n",
              "      <th></th>\n",
              "      <th></th>\n",
              "      <th></th>\n",
              "    </tr>\n",
              "  </thead>\n",
              "  <tbody>\n",
              "    <tr>\n",
              "      <th>2017-01-04</th>\n",
              "      <td>-0.001119</td>\n",
              "      <td>0.006378</td>\n",
              "      <td>-0.000254</td>\n",
              "      <td>0.000967</td>\n",
              "      <td>0.012381</td>\n",
              "      <td>-0.001115</td>\n",
              "      <td>-0.004474</td>\n",
              "      <td>0.015060</td>\n",
              "      <td>0.004929</td>\n",
              "      <td>0.011563</td>\n",
              "    </tr>\n",
              "    <tr>\n",
              "      <th>2017-01-05</th>\n",
              "      <td>0.005085</td>\n",
              "      <td>0.016996</td>\n",
              "      <td>-0.004329</td>\n",
              "      <td>0.009048</td>\n",
              "      <td>-0.003309</td>\n",
              "      <td>0.004464</td>\n",
              "      <td>0.000000</td>\n",
              "      <td>0.018546</td>\n",
              "      <td>-0.002581</td>\n",
              "      <td>0.008394</td>\n",
              "    </tr>\n",
              "    <tr>\n",
              "      <th>2017-01-06</th>\n",
              "      <td>0.011148</td>\n",
              "      <td>0.022566</td>\n",
              "      <td>-0.004006</td>\n",
              "      <td>0.015277</td>\n",
              "      <td>0.004920</td>\n",
              "      <td>0.001334</td>\n",
              "      <td>0.008668</td>\n",
              "      <td>-0.005614</td>\n",
              "      <td>-0.004917</td>\n",
              "      <td>0.011867</td>\n",
              "    </tr>\n",
              "    <tr>\n",
              "      <th>2017-01-09</th>\n",
              "      <td>0.009159</td>\n",
              "      <td>0.002493</td>\n",
              "      <td>-0.008559</td>\n",
              "      <td>0.000620</td>\n",
              "      <td>-0.011089</td>\n",
              "      <td>-0.008212</td>\n",
              "      <td>-0.003183</td>\n",
              "      <td>-0.000916</td>\n",
              "      <td>0.015085</td>\n",
              "      <td>0.018729</td>\n",
              "    </tr>\n",
              "    <tr>\n",
              "      <th>2017-01-10</th>\n",
              "      <td>0.001009</td>\n",
              "      <td>-0.002855</td>\n",
              "      <td>-0.007596</td>\n",
              "      <td>-0.002306</td>\n",
              "      <td>-0.012705</td>\n",
              "      <td>-0.011636</td>\n",
              "      <td>-0.000319</td>\n",
              "      <td>-0.008095</td>\n",
              "      <td>-0.009480</td>\n",
              "      <td>-0.005498</td>\n",
              "    </tr>\n",
              "  </tbody>\n",
              "</table>\n",
              "</div>"
            ],
            "text/plain": [
              "                AAPL      ADBE       CVX  ...      NFLX      ORCL      SBUX\n",
              "Date                                      ...                              \n",
              "2017-01-04 -0.001119  0.006378 -0.000254  ...  0.015060  0.004929  0.011563\n",
              "2017-01-05  0.005085  0.016996 -0.004329  ...  0.018546 -0.002581  0.008394\n",
              "2017-01-06  0.011148  0.022566 -0.004006  ... -0.005614 -0.004917  0.011867\n",
              "2017-01-09  0.009159  0.002493 -0.008559  ... -0.000916  0.015085  0.018729\n",
              "2017-01-10  0.001009 -0.002855 -0.007596  ... -0.008095 -0.009480 -0.005498\n",
              "\n",
              "[5 rows x 10 columns]"
            ]
          },
          "metadata": {
            "tags": []
          },
          "execution_count": 53
        }
      ]
    },
    {
      "cell_type": "code",
      "metadata": {
        "id": "-htKol2rykt_",
        "colab_type": "code",
        "outputId": "1009053c-9b6f-486d-9a0e-abb4c49ad2f7",
        "colab": {
          "base_uri": "https://localhost:8080/",
          "height": 199
        }
      },
      "source": [
        "# lists = []\n",
        "# for key in dict(data.dtypes):\n",
        "#     lists.append(key)\n",
        "# lists    \n",
        "dict(data.dtypes)"
      ],
      "execution_count": 54,
      "outputs": [
        {
          "output_type": "execute_result",
          "data": {
            "text/plain": [
              "{'AAPL': dtype('float64'),\n",
              " 'ADBE': dtype('float64'),\n",
              " 'CVX': dtype('float64'),\n",
              " 'GOOG': dtype('float64'),\n",
              " 'IBM': dtype('float64'),\n",
              " 'MDLZ': dtype('float64'),\n",
              " 'MSFT': dtype('float64'),\n",
              " 'NFLX': dtype('float64'),\n",
              " 'ORCL': dtype('float64'),\n",
              " 'SBUX': dtype('float64')}"
            ]
          },
          "metadata": {
            "tags": []
          },
          "execution_count": 54
        }
      ]
    },
    {
      "cell_type": "code",
      "metadata": {
        "id": "Hpr6CGYn0VUn",
        "colab_type": "code",
        "outputId": "0bbf7132-703f-4cb3-bf4b-49eacb071d54",
        "colab": {
          "base_uri": "https://localhost:8080/",
          "height": 35
        }
      },
      "source": [
        "### set the tickers\n",
        "stocknames = [\"AAPL\",\"ADBE\",\"CVX\",\"GOOG\",\"IBM\",\"MDLZ\",\"MSFT\",\"NFLX\",\"ORCL\",\"SBUX\"]\n",
        "stocknames\n"
      ],
      "execution_count": 55,
      "outputs": [
        {
          "output_type": "execute_result",
          "data": {
            "text/plain": [
              "['AAPL', 'ADBE', 'CVX', 'GOOG', 'IBM', 'MDLZ', 'MSFT', 'NFLX', 'ORCL', 'SBUX']"
            ]
          },
          "metadata": {
            "tags": []
          },
          "execution_count": 55
        }
      ]
    },
    {
      "cell_type": "code",
      "metadata": {
        "id": "ZpnGUrZ_1AKQ",
        "colab_type": "code",
        "outputId": "bd9f2506-3f10-4c9b-ba3e-a66b2dd0bd1a",
        "colab": {
          "base_uri": "https://localhost:8080/",
          "height": 228
        }
      },
      "source": [
        "stockreturns = returns[stocknames]\n",
        "stockreturns.head()"
      ],
      "execution_count": 56,
      "outputs": [
        {
          "output_type": "execute_result",
          "data": {
            "text/html": [
              "<div>\n",
              "<style scoped>\n",
              "    .dataframe tbody tr th:only-of-type {\n",
              "        vertical-align: middle;\n",
              "    }\n",
              "\n",
              "    .dataframe tbody tr th {\n",
              "        vertical-align: top;\n",
              "    }\n",
              "\n",
              "    .dataframe thead th {\n",
              "        text-align: right;\n",
              "    }\n",
              "</style>\n",
              "<table border=\"1\" class=\"dataframe\">\n",
              "  <thead>\n",
              "    <tr style=\"text-align: right;\">\n",
              "      <th></th>\n",
              "      <th>AAPL</th>\n",
              "      <th>ADBE</th>\n",
              "      <th>CVX</th>\n",
              "      <th>GOOG</th>\n",
              "      <th>IBM</th>\n",
              "      <th>MDLZ</th>\n",
              "      <th>MSFT</th>\n",
              "      <th>NFLX</th>\n",
              "      <th>ORCL</th>\n",
              "      <th>SBUX</th>\n",
              "    </tr>\n",
              "    <tr>\n",
              "      <th>Date</th>\n",
              "      <th></th>\n",
              "      <th></th>\n",
              "      <th></th>\n",
              "      <th></th>\n",
              "      <th></th>\n",
              "      <th></th>\n",
              "      <th></th>\n",
              "      <th></th>\n",
              "      <th></th>\n",
              "      <th></th>\n",
              "    </tr>\n",
              "  </thead>\n",
              "  <tbody>\n",
              "    <tr>\n",
              "      <th>2017-01-04</th>\n",
              "      <td>-0.001119</td>\n",
              "      <td>0.006378</td>\n",
              "      <td>-0.000254</td>\n",
              "      <td>0.000967</td>\n",
              "      <td>0.012381</td>\n",
              "      <td>-0.001115</td>\n",
              "      <td>-0.004474</td>\n",
              "      <td>0.015060</td>\n",
              "      <td>0.004929</td>\n",
              "      <td>0.011563</td>\n",
              "    </tr>\n",
              "    <tr>\n",
              "      <th>2017-01-05</th>\n",
              "      <td>0.005085</td>\n",
              "      <td>0.016996</td>\n",
              "      <td>-0.004329</td>\n",
              "      <td>0.009048</td>\n",
              "      <td>-0.003309</td>\n",
              "      <td>0.004464</td>\n",
              "      <td>0.000000</td>\n",
              "      <td>0.018546</td>\n",
              "      <td>-0.002581</td>\n",
              "      <td>0.008394</td>\n",
              "    </tr>\n",
              "    <tr>\n",
              "      <th>2017-01-06</th>\n",
              "      <td>0.011148</td>\n",
              "      <td>0.022566</td>\n",
              "      <td>-0.004006</td>\n",
              "      <td>0.015277</td>\n",
              "      <td>0.004920</td>\n",
              "      <td>0.001334</td>\n",
              "      <td>0.008668</td>\n",
              "      <td>-0.005614</td>\n",
              "      <td>-0.004917</td>\n",
              "      <td>0.011867</td>\n",
              "    </tr>\n",
              "    <tr>\n",
              "      <th>2017-01-09</th>\n",
              "      <td>0.009159</td>\n",
              "      <td>0.002493</td>\n",
              "      <td>-0.008559</td>\n",
              "      <td>0.000620</td>\n",
              "      <td>-0.011089</td>\n",
              "      <td>-0.008212</td>\n",
              "      <td>-0.003183</td>\n",
              "      <td>-0.000916</td>\n",
              "      <td>0.015085</td>\n",
              "      <td>0.018729</td>\n",
              "    </tr>\n",
              "    <tr>\n",
              "      <th>2017-01-10</th>\n",
              "      <td>0.001009</td>\n",
              "      <td>-0.002855</td>\n",
              "      <td>-0.007596</td>\n",
              "      <td>-0.002306</td>\n",
              "      <td>-0.012705</td>\n",
              "      <td>-0.011636</td>\n",
              "      <td>-0.000319</td>\n",
              "      <td>-0.008095</td>\n",
              "      <td>-0.009480</td>\n",
              "      <td>-0.005498</td>\n",
              "    </tr>\n",
              "  </tbody>\n",
              "</table>\n",
              "</div>"
            ],
            "text/plain": [
              "                AAPL      ADBE       CVX  ...      NFLX      ORCL      SBUX\n",
              "Date                                      ...                              \n",
              "2017-01-04 -0.001119  0.006378 -0.000254  ...  0.015060  0.004929  0.011563\n",
              "2017-01-05  0.005085  0.016996 -0.004329  ...  0.018546 -0.002581  0.008394\n",
              "2017-01-06  0.011148  0.022566 -0.004006  ... -0.005614 -0.004917  0.011867\n",
              "2017-01-09  0.009159  0.002493 -0.008559  ... -0.000916  0.015085  0.018729\n",
              "2017-01-10  0.001009 -0.002855 -0.007596  ... -0.008095 -0.009480 -0.005498\n",
              "\n",
              "[5 rows x 10 columns]"
            ]
          },
          "metadata": {
            "tags": []
          },
          "execution_count": 56
        }
      ]
    },
    {
      "cell_type": "code",
      "metadata": {
        "id": "kAfWT9aNY2XF",
        "colab_type": "code",
        "outputId": "de3172c8-93a4-4fc9-f50a-91d8dfbfd678",
        "colab": {
          "base_uri": "https://localhost:8080/",
          "height": 348
        }
      },
      "source": [
        "### Co variance Matrix calculation\n",
        "\n",
        "Covstocks = stockreturns.cov()\n",
        "Covstocks"
      ],
      "execution_count": 57,
      "outputs": [
        {
          "output_type": "execute_result",
          "data": {
            "text/html": [
              "<div>\n",
              "<style scoped>\n",
              "    .dataframe tbody tr th:only-of-type {\n",
              "        vertical-align: middle;\n",
              "    }\n",
              "\n",
              "    .dataframe tbody tr th {\n",
              "        vertical-align: top;\n",
              "    }\n",
              "\n",
              "    .dataframe thead th {\n",
              "        text-align: right;\n",
              "    }\n",
              "</style>\n",
              "<table border=\"1\" class=\"dataframe\">\n",
              "  <thead>\n",
              "    <tr style=\"text-align: right;\">\n",
              "      <th></th>\n",
              "      <th>AAPL</th>\n",
              "      <th>ADBE</th>\n",
              "      <th>CVX</th>\n",
              "      <th>GOOG</th>\n",
              "      <th>IBM</th>\n",
              "      <th>MDLZ</th>\n",
              "      <th>MSFT</th>\n",
              "      <th>NFLX</th>\n",
              "      <th>ORCL</th>\n",
              "      <th>SBUX</th>\n",
              "    </tr>\n",
              "  </thead>\n",
              "  <tbody>\n",
              "    <tr>\n",
              "      <th>AAPL</th>\n",
              "      <td>0.000243</td>\n",
              "      <td>0.000145</td>\n",
              "      <td>0.000063</td>\n",
              "      <td>0.000138</td>\n",
              "      <td>0.000074</td>\n",
              "      <td>0.000046</td>\n",
              "      <td>0.000134</td>\n",
              "      <td>0.000164</td>\n",
              "      <td>0.000085</td>\n",
              "      <td>0.000060</td>\n",
              "    </tr>\n",
              "    <tr>\n",
              "      <th>ADBE</th>\n",
              "      <td>0.000145</td>\n",
              "      <td>0.000298</td>\n",
              "      <td>0.000059</td>\n",
              "      <td>0.000158</td>\n",
              "      <td>0.000090</td>\n",
              "      <td>0.000047</td>\n",
              "      <td>0.000179</td>\n",
              "      <td>0.000223</td>\n",
              "      <td>0.000102</td>\n",
              "      <td>0.000070</td>\n",
              "    </tr>\n",
              "    <tr>\n",
              "      <th>CVX</th>\n",
              "      <td>0.000063</td>\n",
              "      <td>0.000059</td>\n",
              "      <td>0.000148</td>\n",
              "      <td>0.000057</td>\n",
              "      <td>0.000051</td>\n",
              "      <td>0.000031</td>\n",
              "      <td>0.000064</td>\n",
              "      <td>0.000071</td>\n",
              "      <td>0.000052</td>\n",
              "      <td>0.000034</td>\n",
              "    </tr>\n",
              "    <tr>\n",
              "      <th>GOOG</th>\n",
              "      <td>0.000138</td>\n",
              "      <td>0.000158</td>\n",
              "      <td>0.000057</td>\n",
              "      <td>0.000211</td>\n",
              "      <td>0.000077</td>\n",
              "      <td>0.000042</td>\n",
              "      <td>0.000144</td>\n",
              "      <td>0.000186</td>\n",
              "      <td>0.000086</td>\n",
              "      <td>0.000067</td>\n",
              "    </tr>\n",
              "    <tr>\n",
              "      <th>IBM</th>\n",
              "      <td>0.000074</td>\n",
              "      <td>0.000090</td>\n",
              "      <td>0.000051</td>\n",
              "      <td>0.000077</td>\n",
              "      <td>0.000171</td>\n",
              "      <td>0.000034</td>\n",
              "      <td>0.000083</td>\n",
              "      <td>0.000086</td>\n",
              "      <td>0.000073</td>\n",
              "      <td>0.000050</td>\n",
              "    </tr>\n",
              "    <tr>\n",
              "      <th>MDLZ</th>\n",
              "      <td>0.000046</td>\n",
              "      <td>0.000047</td>\n",
              "      <td>0.000031</td>\n",
              "      <td>0.000042</td>\n",
              "      <td>0.000034</td>\n",
              "      <td>0.000122</td>\n",
              "      <td>0.000047</td>\n",
              "      <td>0.000048</td>\n",
              "      <td>0.000040</td>\n",
              "      <td>0.000040</td>\n",
              "    </tr>\n",
              "    <tr>\n",
              "      <th>MSFT</th>\n",
              "      <td>0.000134</td>\n",
              "      <td>0.000179</td>\n",
              "      <td>0.000064</td>\n",
              "      <td>0.000144</td>\n",
              "      <td>0.000083</td>\n",
              "      <td>0.000047</td>\n",
              "      <td>0.000186</td>\n",
              "      <td>0.000182</td>\n",
              "      <td>0.000095</td>\n",
              "      <td>0.000066</td>\n",
              "    </tr>\n",
              "    <tr>\n",
              "      <th>NFLX</th>\n",
              "      <td>0.000164</td>\n",
              "      <td>0.000223</td>\n",
              "      <td>0.000071</td>\n",
              "      <td>0.000186</td>\n",
              "      <td>0.000086</td>\n",
              "      <td>0.000048</td>\n",
              "      <td>0.000182</td>\n",
              "      <td>0.000546</td>\n",
              "      <td>0.000107</td>\n",
              "      <td>0.000066</td>\n",
              "    </tr>\n",
              "    <tr>\n",
              "      <th>ORCL</th>\n",
              "      <td>0.000085</td>\n",
              "      <td>0.000102</td>\n",
              "      <td>0.000052</td>\n",
              "      <td>0.000086</td>\n",
              "      <td>0.000073</td>\n",
              "      <td>0.000040</td>\n",
              "      <td>0.000095</td>\n",
              "      <td>0.000107</td>\n",
              "      <td>0.000177</td>\n",
              "      <td>0.000057</td>\n",
              "    </tr>\n",
              "    <tr>\n",
              "      <th>SBUX</th>\n",
              "      <td>0.000060</td>\n",
              "      <td>0.000070</td>\n",
              "      <td>0.000034</td>\n",
              "      <td>0.000067</td>\n",
              "      <td>0.000050</td>\n",
              "      <td>0.000040</td>\n",
              "      <td>0.000066</td>\n",
              "      <td>0.000066</td>\n",
              "      <td>0.000057</td>\n",
              "      <td>0.000161</td>\n",
              "    </tr>\n",
              "  </tbody>\n",
              "</table>\n",
              "</div>"
            ],
            "text/plain": [
              "          AAPL      ADBE       CVX  ...      NFLX      ORCL      SBUX\n",
              "AAPL  0.000243  0.000145  0.000063  ...  0.000164  0.000085  0.000060\n",
              "ADBE  0.000145  0.000298  0.000059  ...  0.000223  0.000102  0.000070\n",
              "CVX   0.000063  0.000059  0.000148  ...  0.000071  0.000052  0.000034\n",
              "GOOG  0.000138  0.000158  0.000057  ...  0.000186  0.000086  0.000067\n",
              "IBM   0.000074  0.000090  0.000051  ...  0.000086  0.000073  0.000050\n",
              "MDLZ  0.000046  0.000047  0.000031  ...  0.000048  0.000040  0.000040\n",
              "MSFT  0.000134  0.000179  0.000064  ...  0.000182  0.000095  0.000066\n",
              "NFLX  0.000164  0.000223  0.000071  ...  0.000546  0.000107  0.000066\n",
              "ORCL  0.000085  0.000102  0.000052  ...  0.000107  0.000177  0.000057\n",
              "SBUX  0.000060  0.000070  0.000034  ...  0.000066  0.000057  0.000161\n",
              "\n",
              "[10 rows x 10 columns]"
            ]
          },
          "metadata": {
            "tags": []
          },
          "execution_count": 57
        }
      ]
    },
    {
      "cell_type": "code",
      "metadata": {
        "id": "yLHJaLolz_eB",
        "colab_type": "code",
        "outputId": "682058a5-290f-4c34-baf6-3ba51ccde96e",
        "colab": {
          "base_uri": "https://localhost:8080/",
          "height": 35
        }
      },
      "source": [
        "### Number  of stocks (n)\n",
        "\n",
        "n = len(stocknames)\n",
        "n"
      ],
      "execution_count": 58,
      "outputs": [
        {
          "output_type": "execute_result",
          "data": {
            "text/plain": [
              "10"
            ]
          },
          "metadata": {
            "tags": []
          },
          "execution_count": 58
        }
      ]
    },
    {
      "cell_type": "code",
      "metadata": {
        "id": "LZfVqMcz3i2C",
        "colab_type": "code",
        "outputId": "1382a248-366c-496f-f3e3-55846321af5c",
        "colab": {
          "base_uri": "https://localhost:8080/",
          "height": 35
        }
      },
      "source": [
        "!pip install CVXOPT"
      ],
      "execution_count": 59,
      "outputs": [
        {
          "output_type": "stream",
          "text": [
            "Requirement already satisfied: CVXOPT in /usr/local/lib/python3.6/dist-packages (1.2.4)\n"
          ],
          "name": "stdout"
        }
      ]
    },
    {
      "cell_type": "code",
      "metadata": {
        "id": "vYXbsDBM3sIK",
        "colab_type": "code",
        "colab": {}
      },
      "source": [
        "import cvxopt as opt\n",
        "from cvxopt import matrix, solvers"
      ],
      "execution_count": 0,
      "outputs": []
    },
    {
      "cell_type": "code",
      "metadata": {
        "id": "oNdVzMQL4IpY",
        "colab_type": "code",
        "outputId": "66ef4930-1733-44b6-d0e8-1abf0d7d985b",
        "colab": {
          "base_uri": "https://localhost:8080/",
          "height": 217
        }
      },
      "source": [
        "expectreturn = np.mean(stockreturns)\n",
        "expectreturn"
      ],
      "execution_count": 61,
      "outputs": [
        {
          "output_type": "execute_result",
          "data": {
            "text/plain": [
              "AAPL    0.001448\n",
              "ADBE    0.001728\n",
              "CVX     0.000102\n",
              "GOOG    0.000883\n",
              "IBM     0.000057\n",
              "MDLZ    0.000460\n",
              "MSFT    0.001456\n",
              "NFLX    0.001559\n",
              "ORCL    0.000551\n",
              "SBUX    0.000710\n",
              "dtype: float64"
            ]
          },
          "metadata": {
            "tags": []
          },
          "execution_count": 61
        }
      ]
    },
    {
      "cell_type": "code",
      "metadata": {
        "id": "Y0M7W-uu80HI",
        "colab_type": "code",
        "colab": {}
      },
      "source": [
        ""
      ],
      "execution_count": 0,
      "outputs": []
    },
    {
      "cell_type": "code",
      "metadata": {
        "id": "J2rDyGaw4X8n",
        "colab_type": "code",
        "outputId": "e497506c-db19-4946-ef17-7dc68d8e4f72",
        "colab": {
          "base_uri": "https://localhost:8080/",
          "height": 35
        }
      },
      "source": [
        "### Conver to matrix the expected Return data frame\n",
        "expectreturn = matrix(expectreturn)\n",
        "expectreturn"
      ],
      "execution_count": 62,
      "outputs": [
        {
          "output_type": "execute_result",
          "data": {
            "text/plain": [
              "<10x1 matrix, tc='d'>"
            ]
          },
          "metadata": {
            "tags": []
          },
          "execution_count": 62
        }
      ]
    },
    {
      "cell_type": "code",
      "metadata": {
        "id": "AJTirazM898J",
        "colab_type": "code",
        "outputId": "aa2da46f-4f15-4e86-a578-9a3bce722e1a",
        "colab": {
          "base_uri": "https://localhost:8080/",
          "height": 217
        }
      },
      "source": [
        "maxLoss = np.min(stockreturns)\n",
        "maxLoss"
      ],
      "execution_count": 63,
      "outputs": [
        {
          "output_type": "execute_result",
          "data": {
            "text/plain": [
              "AAPL   -0.099607\n",
              "ADBE   -0.080372\n",
              "CVX    -0.055666\n",
              "GOOG   -0.076966\n",
              "IBM    -0.076282\n",
              "MDLZ   -0.047829\n",
              "MSFT   -0.054338\n",
              "NFLX   -0.102720\n",
              "ORCL   -0.094321\n",
              "SBUX   -0.092437\n",
              "dtype: float64"
            ]
          },
          "metadata": {
            "tags": []
          },
          "execution_count": 63
        }
      ]
    },
    {
      "cell_type": "code",
      "metadata": {
        "id": "jIQ51aUg9UFc",
        "colab_type": "code",
        "outputId": "e477c333-3d4a-4cc2-fe06-ecb3813b4279",
        "colab": {
          "base_uri": "https://localhost:8080/",
          "height": 217
        }
      },
      "source": [
        "maxLoss = -maxLoss\n",
        "maxLoss"
      ],
      "execution_count": 64,
      "outputs": [
        {
          "output_type": "execute_result",
          "data": {
            "text/plain": [
              "AAPL    0.099607\n",
              "ADBE    0.080372\n",
              "CVX     0.055666\n",
              "GOOG    0.076966\n",
              "IBM     0.076282\n",
              "MDLZ    0.047829\n",
              "MSFT    0.054338\n",
              "NFLX    0.102720\n",
              "ORCL    0.094321\n",
              "SBUX    0.092437\n",
              "dtype: float64"
            ]
          },
          "metadata": {
            "tags": []
          },
          "execution_count": 64
        }
      ]
    },
    {
      "cell_type": "code",
      "metadata": {
        "id": "f2HOMEKp9Zj7",
        "colab_type": "code",
        "outputId": "80f5c97f-64e7-4f29-fb07-ed7c8c93e81f",
        "colab": {
          "base_uri": "https://localhost:8080/",
          "height": 35
        }
      },
      "source": [
        "### 1) Objective Fucntion of Optimuization\n",
        "\n",
        "Objective = matrix(maxLoss)\n",
        "Objective"
      ],
      "execution_count": 65,
      "outputs": [
        {
          "output_type": "execute_result",
          "data": {
            "text/plain": [
              "<10x1 matrix, tc='d'>"
            ]
          },
          "metadata": {
            "tags": []
          },
          "execution_count": 65
        }
      ]
    },
    {
      "cell_type": "code",
      "metadata": {
        "id": "9X6UKVsV9oSq",
        "colab_type": "code",
        "colab": {}
      },
      "source": [
        "### 2) seting Up Constaints "
      ],
      "execution_count": 0,
      "outputs": []
    },
    {
      "cell_type": "code",
      "metadata": {
        "id": "bRouitbQ9BCM",
        "colab_type": "code",
        "outputId": "cbb91d1b-76ce-4f14-d249-183691d6f188",
        "colab": {
          "base_uri": "https://localhost:8080/",
          "height": 35
        }
      },
      "source": [
        "### Sum of weights = 100%\n",
        "### Define LHS of contraint  1 row , n columns , each value = 1\n",
        "\n",
        "constraintEqualityLhs = matrix(1.0, (1,n))\n",
        "constraintEqualityLhs"
      ],
      "execution_count": 67,
      "outputs": [
        {
          "output_type": "execute_result",
          "data": {
            "text/plain": [
              "<1x10 matrix, tc='d'>"
            ]
          },
          "metadata": {
            "tags": []
          },
          "execution_count": 67
        }
      ]
    },
    {
      "cell_type": "code",
      "metadata": {
        "id": "irkChw4B-ZR2",
        "colab_type": "code",
        "outputId": "ab321e31-e4ca-4eb1-d9a0-008606c46967",
        "colab": {
          "base_uri": "https://localhost:8080/",
          "height": 35
        }
      },
      "source": [
        "### Right hand side of equality\n",
        "### RHS  1 row, 1 column , value = 1\n",
        "constraintEqualityRHS = matrix(1.0)\n",
        "constraintEqualityRHS"
      ],
      "execution_count": 68,
      "outputs": [
        {
          "output_type": "execute_result",
          "data": {
            "text/plain": [
              "<1x1 matrix, tc='d'>"
            ]
          },
          "metadata": {
            "tags": []
          },
          "execution_count": 68
        }
      ]
    },
    {
      "cell_type": "code",
      "metadata": {
        "id": "efq7RVkP-rF0",
        "colab_type": "code",
        "outputId": "64a108e1-ab7d-4efb-b148-c96d0495971f",
        "colab": {
          "base_uri": "https://localhost:8080/",
          "height": 35
        }
      },
      "source": [
        "### Non negative contraints -np.identity(n)\n",
        "### Define LHS as an identity matrix, but multiply by -1(for >=)\n",
        "\n",
        "contraintsInequalityLhsRow1 = matrix(-np.identity(n))\n",
        "contraintsInequalityLhsRow1\n",
        "\n"
      ],
      "execution_count": 69,
      "outputs": [
        {
          "output_type": "execute_result",
          "data": {
            "text/plain": [
              "<10x10 matrix, tc='d'>"
            ]
          },
          "metadata": {
            "tags": []
          },
          "execution_count": 69
        }
      ]
    },
    {
      "cell_type": "code",
      "metadata": {
        "id": "UfRJJpAA_qEg",
        "colab_type": "code",
        "outputId": "0679e7b6-974c-42df-d898-9471afc2035f",
        "colab": {
          "base_uri": "https://localhost:8080/",
          "height": 35
        }
      },
      "source": [
        "### Non negative constraints :matrix(0.0,(n,1))\n",
        "### define RHS as all zeros,n rows and 1 column\n",
        "\n",
        "contraintsInequalityRhsRow1 = matrix(0.0,(n,1))\n",
        "contraintsInequalityRhsRow1"
      ],
      "execution_count": 70,
      "outputs": [
        {
          "output_type": "execute_result",
          "data": {
            "text/plain": [
              "<10x1 matrix, tc='d'>"
            ]
          },
          "metadata": {
            "tags": []
          },
          "execution_count": 70
        }
      ]
    },
    {
      "cell_type": "code",
      "metadata": {
        "id": "Z7gmwHVS_4Va",
        "colab_type": "code",
        "outputId": "bab66352-4824-434a-e64e-d7f597e2f292",
        "colab": {
          "base_uri": "https://localhost:8080/",
          "height": 35
        }
      },
      "source": [
        "### one more Inequlaity contraimnts  \n",
        "#### threshold expected return >= 2%\n",
        "### LHS as average of returns of each stock - 1 row, 10 columns\n",
        "contraintsInequalityLhsRow2 = matrix(-np.transpose(np.array(expectreturn)))\n",
        "contraintsInequalityLhsRow2"
      ],
      "execution_count": 71,
      "outputs": [
        {
          "output_type": "execute_result",
          "data": {
            "text/plain": [
              "<1x10 matrix, tc='d'>"
            ]
          },
          "metadata": {
            "tags": []
          },
          "execution_count": 71
        }
      ]
    },
    {
      "cell_type": "code",
      "metadata": {
        "id": "zRKru1BGAlUf",
        "colab_type": "code",
        "outputId": "6b544ef4-1e53-41c8-c4a0-2e9e8780cb31",
        "colab": {
          "base_uri": "https://localhost:8080/",
          "height": 35
        }
      },
      "source": [
        "### LHS = -np.ones(1,1)* 2%\n",
        "contraintsIneuqualityRhsRow2 = matrix(-np.ones((1,1))*0.02)\n",
        "contraintsIneuqualityRhsRow2"
      ],
      "execution_count": 72,
      "outputs": [
        {
          "output_type": "execute_result",
          "data": {
            "text/plain": [
              "<1x1 matrix, tc='d'>"
            ]
          },
          "metadata": {
            "tags": []
          },
          "execution_count": 72
        }
      ]
    },
    {
      "cell_type": "code",
      "metadata": {
        "id": "9OzCBTGUBCYs",
        "colab_type": "code",
        "outputId": "4bfcc98a-f2bc-4467-92dc-e24c6c95cdaf",
        "colab": {
          "base_uri": "https://localhost:8080/",
          "height": 35
        }
      },
      "source": [
        "### concatenate all rows using concatenate into 1 matrix\n",
        "contraintsInequalityLhsCombined = matrix(np.concatenate((contraintsInequalityLhsRow1,contraintsInequalityLhsRow2),0))\n",
        "contraintsInequalityLhsCombined\n"
      ],
      "execution_count": 73,
      "outputs": [
        {
          "output_type": "execute_result",
          "data": {
            "text/plain": [
              "<11x10 matrix, tc='d'>"
            ]
          },
          "metadata": {
            "tags": []
          },
          "execution_count": 73
        }
      ]
    },
    {
      "cell_type": "code",
      "metadata": {
        "id": "KLIm_03ccQR6",
        "colab_type": "code",
        "outputId": "e2a687e2-b189-40e9-84bc-d098f24f6f20",
        "colab": {
          "base_uri": "https://localhost:8080/",
          "height": 35
        }
      },
      "source": [
        "contraintsInequalityRhsCombined = matrix(np.concatenate((contraintsInequalityRhsRow1,contraintsIneuqualityRhsRow2),0))\n",
        "contraintsInequalityRhsCombined"
      ],
      "execution_count": 74,
      "outputs": [
        {
          "output_type": "execute_result",
          "data": {
            "text/plain": [
              "<11x1 matrix, tc='d'>"
            ]
          },
          "metadata": {
            "tags": []
          },
          "execution_count": 74
        }
      ]
    },
    {
      "cell_type": "code",
      "metadata": {
        "id": "3emWBML1CXFU",
        "colab_type": "code",
        "outputId": "49c3018d-2eb0-4232-eedb-ae7dbfa58f5c",
        "colab": {
          "base_uri": "https://localhost:8080/",
          "height": 217
        }
      },
      "source": [
        "#### Usings SOlver for optimizations\n",
        "### solving LPP( Liner programming variance )\n",
        "\n",
        "### Return solution object.\n",
        "\n",
        "solution = solvers.lp(Objective,contraintsInequalityLhsCombined,contraintsInequalityRhsCombined,constraintEqualityLhs,constraintEqualityRHS)\n"
      ],
      "execution_count": 75,
      "outputs": [
        {
          "output_type": "stream",
          "text": [
            "     pcost       dcost       gap    pres   dres   k/t\n",
            " 0:  7.8055e-02  9.8659e-02  1e+01  3e+00  3e+00  1e+00\n",
            " 1:  7.5969e-02 -6.3497e-02  8e-01  5e-01  5e-01  4e-03\n",
            " 2:  7.1528e-02  6.2341e-02  5e-02  7e-02  6e-02  1e-02\n",
            " 3:  8.6693e-02  7.8208e-02  2e-01  1e-01  1e-01  3e-02\n",
            " 4:  9.3883e-02  1.8594e-01  1e+00  1e-01  1e-01  1e-01\n",
            " 5:  9.6721e-02  8.8367e+00  9e+01  1e-01  1e-01  9e+00\n",
            " 6:  9.6722e-02  8.7678e+02  9e+03  1e-01  1e-01  9e+02\n",
            " 7:  9.6722e-02  8.7672e+04  9e+05  1e-01  1e-01  9e+04\n",
            " 8:  9.6722e-02  8.7671e+06  9e+07  1e-01  1e-01  9e+06\n",
            "Certificate of primal infeasibility found.\n"
          ],
          "name": "stdout"
        }
      ]
    },
    {
      "cell_type": "code",
      "metadata": {
        "id": "xmfs2jKDeC1V",
        "colab_type": "code",
        "outputId": "0320f910-140d-4e02-e6ad-beb781d378be",
        "colab": {
          "base_uri": "https://localhost:8080/",
          "height": 207
        }
      },
      "source": [
        "WeightLinear= solution['x']\n",
        "WeightLinear=np.array(WeightLinear)\n",
        "WeightLinear\n",
        "sum(WeightLinear)"
      ],
      "execution_count": 76,
      "outputs": [
        {
          "output_type": "error",
          "ename": "TypeError",
          "evalue": "ignored",
          "traceback": [
            "\u001b[0;31m---------------------------------------------------------------------------\u001b[0m",
            "\u001b[0;31mTypeError\u001b[0m                                 Traceback (most recent call last)",
            "\u001b[0;32m<ipython-input-76-dda99da2952e>\u001b[0m in \u001b[0;36m<module>\u001b[0;34m()\u001b[0m\n\u001b[1;32m      2\u001b[0m \u001b[0mWeightLinear\u001b[0m\u001b[0;34m=\u001b[0m\u001b[0mnp\u001b[0m\u001b[0;34m.\u001b[0m\u001b[0marray\u001b[0m\u001b[0;34m(\u001b[0m\u001b[0mWeightLinear\u001b[0m\u001b[0;34m)\u001b[0m\u001b[0;34m\u001b[0m\u001b[0;34m\u001b[0m\u001b[0m\n\u001b[1;32m      3\u001b[0m \u001b[0mWeightLinear\u001b[0m\u001b[0;34m\u001b[0m\u001b[0;34m\u001b[0m\u001b[0m\n\u001b[0;32m----> 4\u001b[0;31m \u001b[0msum\u001b[0m\u001b[0;34m(\u001b[0m\u001b[0mWeightLinear\u001b[0m\u001b[0;34m)\u001b[0m\u001b[0;34m\u001b[0m\u001b[0;34m\u001b[0m\u001b[0m\n\u001b[0m",
            "\u001b[0;31mTypeError\u001b[0m: iteration over a 0-d array"
          ]
        }
      ]
    },
    {
      "cell_type": "code",
      "metadata": {
        "id": "2MgG8TijE1Lp",
        "colab_type": "code",
        "colab": {
          "base_uri": "https://localhost:8080/",
          "height": 308
        },
        "outputId": "41569f73-bfcf-4c5b-a8df-1d9818a5ca37"
      },
      "source": [
        "solution"
      ],
      "execution_count": 80,
      "outputs": [
        {
          "output_type": "execute_result",
          "data": {
            "text/plain": [
              "{'dual infeasibility': None,\n",
              " 'dual objective': 1.0,\n",
              " 'dual slack': 4.045764668285834,\n",
              " 'gap': None,\n",
              " 'iterations': 8,\n",
              " 'primal infeasibility': None,\n",
              " 'primal objective': None,\n",
              " 'primal slack': None,\n",
              " 'relative gap': None,\n",
              " 'residual as dual infeasibility certificate': None,\n",
              " 'residual as primal infeasibility certificate': 4.198259795212721e-08,\n",
              " 's': None,\n",
              " 'status': 'primal infeasible',\n",
              " 'x': None,\n",
              " 'y': <1x1 matrix, tc='d'>,\n",
              " 'z': <11x1 matrix, tc='d'>}"
            ]
          },
          "metadata": {
            "tags": []
          },
          "execution_count": 80
        }
      ]
    },
    {
      "cell_type": "code",
      "metadata": {
        "id": "-XrdYJ28egZt",
        "colab_type": "code",
        "outputId": "2fdcfb34-cc53-4d61-da5d-0170399f051b",
        "colab": {
          "base_uri": "https://localhost:8080/",
          "height": 244
        }
      },
      "source": [
        "### Calculate Risk of Portfolio by \n",
        "### It resturn sum-product of weights and max losses\n",
        "\n",
        "portfolioRiskLinear = np.dot(WeightLinear.T,maxLoss)\n",
        "portfolioRiskLinear"
      ],
      "execution_count": 77,
      "outputs": [
        {
          "output_type": "error",
          "ename": "TypeError",
          "evalue": "ignored",
          "traceback": [
            "\u001b[0;31m---------------------------------------------------------------------------\u001b[0m",
            "\u001b[0;31mTypeError\u001b[0m                                 Traceback (most recent call last)",
            "\u001b[0;32m<ipython-input-77-385b6f3f3f48>\u001b[0m in \u001b[0;36m<module>\u001b[0;34m()\u001b[0m\n\u001b[1;32m      1\u001b[0m \u001b[0;34m\u001b[0m\u001b[0m\n\u001b[0;32m----> 2\u001b[0;31m \u001b[0mportfolioRiskLinear\u001b[0m \u001b[0;34m=\u001b[0m \u001b[0mnp\u001b[0m\u001b[0;34m.\u001b[0m\u001b[0mdot\u001b[0m\u001b[0;34m(\u001b[0m\u001b[0mWeightLinear\u001b[0m\u001b[0;34m.\u001b[0m\u001b[0mT\u001b[0m\u001b[0;34m,\u001b[0m\u001b[0mmaxLoss\u001b[0m\u001b[0;34m)\u001b[0m\u001b[0;34m\u001b[0m\u001b[0;34m\u001b[0m\u001b[0m\n\u001b[0m\u001b[1;32m      3\u001b[0m \u001b[0mportfolioRiskLinear\u001b[0m\u001b[0;34m\u001b[0m\u001b[0;34m\u001b[0m\u001b[0m\n",
            "\u001b[0;32m<__array_function__ internals>\u001b[0m in \u001b[0;36mdot\u001b[0;34m(*args, **kwargs)\u001b[0m\n",
            "\u001b[0;31mTypeError\u001b[0m: unsupported operand type(s) for *: 'NoneType' and 'float'"
          ]
        }
      ]
    },
    {
      "cell_type": "code",
      "metadata": {
        "id": "6saOx5gbe83o",
        "colab_type": "code",
        "outputId": "6dbb28ed-cf03-497a-fdff-cbdeeb3936de",
        "colab": {
          "base_uri": "https://localhost:8080/",
          "height": 35
        }
      },
      "source": [
        "### Calculate Return of Portfolio by \n",
        "### It resturn sum-product of weights and max losses\n",
        "\n",
        "portfolioReturnLinear = np.dot(WeightLinear.T,maxLoss)\n",
        "portfolioReturnLinear"
      ],
      "execution_count": 0,
      "outputs": [
        {
          "output_type": "execute_result",
          "data": {
            "text/plain": [
              "array([0.24809735])"
            ]
          },
          "metadata": {
            "tags": []
          },
          "execution_count": 135
        }
      ]
    },
    {
      "cell_type": "code",
      "metadata": {
        "id": "fuCQBkO9gbpZ",
        "colab_type": "code",
        "colab": {}
      },
      "source": [
        ""
      ],
      "execution_count": 0,
      "outputs": []
    }
  ]
}