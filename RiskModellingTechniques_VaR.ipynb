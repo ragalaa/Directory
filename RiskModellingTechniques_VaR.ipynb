{
  "nbformat": 4,
  "nbformat_minor": 0,
  "metadata": {
    "colab": {
      "name": "RiskModellingTechniques_VaR.ipynb",
      "provenance": [],
      "authorship_tag": "ABX9TyMoPqDtCwit1hp1Mvgop4Vh",
      "include_colab_link": true
    },
    "kernelspec": {
      "name": "python3",
      "display_name": "Python 3"
    }
  },
  "cells": [
    {
      "cell_type": "markdown",
      "metadata": {
        "id": "view-in-github",
        "colab_type": "text"
      },
      "source": [
        "<a href=\"https://colab.research.google.com/github/ragalaa/Machine-Learning-Basics/blob/master/RiskModellingTechniques_VaR.ipynb\" target=\"_parent\"><img src=\"https://colab.research.google.com/assets/colab-badge.svg\" alt=\"Open In Colab\"/></a>"
      ]
    },
    {
      "cell_type": "code",
      "metadata": {
        "id": "GJvwUnUL0WWh",
        "colab_type": "code",
        "colab": {}
      },
      "source": [
        "import pandas as pd\n",
        "import numpy as np\n",
        "from pandas_datareader import data as web\n",
        "import matplotlib.pyplot as plt\n",
        "%matplotlib inline"
      ],
      "execution_count": 0,
      "outputs": []
    },
    {
      "cell_type": "code",
      "metadata": {
        "id": "w__l5V9m0i_E",
        "colab_type": "code",
        "colab": {}
      },
      "source": [
        "assets =  [ 'AAPL','ADBE','CVX','GOOG','IBM','MDLZ','MSFT','NFLX','ORCL','SBUX','^FVX','^GSPC']    #['NXP']\n",
        "data = pd.DataFrame()\n",
        "for stock in assets:\n",
        "    data[stock] = web.DataReader(stock, data_source='yahoo',start='2007-1-1' ,end='2017-1-31')['Adj Close']\n",
        "\n",
        "# data = pd.read_csv('Portfolio_Data.csv',sep=\",\")"
      ],
      "execution_count": 0,
      "outputs": []
    },
    {
      "cell_type": "code",
      "metadata": {
        "id": "tLjnqzZv2BRX",
        "colab_type": "code",
        "colab": {
          "base_uri": "https://localhost:8080/",
          "height": 437
        },
        "outputId": "0657280d-0570-4d2a-fb5f-2059d553c14d"
      },
      "source": [
        "data = data.sort_values(['Date'], ascending=[True])\n",
        "returns = data[[key for key in dict(data.dtypes) if dict(data.dtypes)[key] in ['float64','int64']]].pct_change()\n",
        "returns = returns[1:]\n",
        "returns['Intercept'] = 1\n",
        "returns"
      ],
      "execution_count": 14,
      "outputs": [
        {
          "output_type": "execute_result",
          "data": {
            "text/html": [
              "<div>\n",
              "<style scoped>\n",
              "    .dataframe tbody tr th:only-of-type {\n",
              "        vertical-align: middle;\n",
              "    }\n",
              "\n",
              "    .dataframe tbody tr th {\n",
              "        vertical-align: top;\n",
              "    }\n",
              "\n",
              "    .dataframe thead th {\n",
              "        text-align: right;\n",
              "    }\n",
              "</style>\n",
              "<table border=\"1\" class=\"dataframe\">\n",
              "  <thead>\n",
              "    <tr style=\"text-align: right;\">\n",
              "      <th></th>\n",
              "      <th>AAPL</th>\n",
              "      <th>ADBE</th>\n",
              "      <th>CVX</th>\n",
              "      <th>GOOG</th>\n",
              "      <th>IBM</th>\n",
              "      <th>MDLZ</th>\n",
              "      <th>MSFT</th>\n",
              "      <th>NFLX</th>\n",
              "      <th>ORCL</th>\n",
              "      <th>SBUX</th>\n",
              "      <th>^FVX</th>\n",
              "      <th>^GSPC</th>\n",
              "      <th>Intercept</th>\n",
              "    </tr>\n",
              "    <tr>\n",
              "      <th>Date</th>\n",
              "      <th></th>\n",
              "      <th></th>\n",
              "      <th></th>\n",
              "      <th></th>\n",
              "      <th></th>\n",
              "      <th></th>\n",
              "      <th></th>\n",
              "      <th></th>\n",
              "      <th></th>\n",
              "      <th></th>\n",
              "      <th></th>\n",
              "      <th></th>\n",
              "      <th></th>\n",
              "    </tr>\n",
              "  </thead>\n",
              "  <tbody>\n",
              "    <tr>\n",
              "      <th>2007-01-04</th>\n",
              "      <td>0.022196</td>\n",
              "      <td>0.022545</td>\n",
              "      <td>-0.009722</td>\n",
              "      <td>0.033512</td>\n",
              "      <td>0.010693</td>\n",
              "      <td>-0.000842</td>\n",
              "      <td>-0.001675</td>\n",
              "      <td>-0.047351</td>\n",
              "      <td>0.009709</td>\n",
              "      <td>0.001135</td>\n",
              "      <td>-0.011166</td>\n",
              "      <td>0.001228</td>\n",
              "      <td>1</td>\n",
              "    </tr>\n",
              "    <tr>\n",
              "      <th>2007-01-05</th>\n",
              "      <td>-0.007121</td>\n",
              "      <td>-0.004900</td>\n",
              "      <td>0.003842</td>\n",
              "      <td>0.008132</td>\n",
              "      <td>-0.009053</td>\n",
              "      <td>-0.011243</td>\n",
              "      <td>-0.005703</td>\n",
              "      <td>-0.021302</td>\n",
              "      <td>-0.002262</td>\n",
              "      <td>-0.004251</td>\n",
              "      <td>0.008469</td>\n",
              "      <td>-0.006085</td>\n",
              "      <td>1</td>\n",
              "    </tr>\n",
              "    <tr>\n",
              "      <th>2007-01-08</th>\n",
              "      <td>0.004938</td>\n",
              "      <td>-0.004185</td>\n",
              "      <td>0.012757</td>\n",
              "      <td>-0.007410</td>\n",
              "      <td>0.015192</td>\n",
              "      <td>-0.006538</td>\n",
              "      <td>0.009784</td>\n",
              "      <td>-0.039500</td>\n",
              "      <td>0.012472</td>\n",
              "      <td>-0.003699</td>\n",
              "      <td>0.003015</td>\n",
              "      <td>0.002220</td>\n",
              "      <td>1</td>\n",
              "    </tr>\n",
              "    <tr>\n",
              "      <th>2007-01-09</th>\n",
              "      <td>0.083070</td>\n",
              "      <td>-0.020272</td>\n",
              "      <td>-0.011477</td>\n",
              "      <td>0.003970</td>\n",
              "      <td>0.011830</td>\n",
              "      <td>0.005151</td>\n",
              "      <td>0.001003</td>\n",
              "      <td>0.006714</td>\n",
              "      <td>-0.002240</td>\n",
              "      <td>-0.004285</td>\n",
              "      <td>-0.000644</td>\n",
              "      <td>-0.000517</td>\n",
              "      <td>1</td>\n",
              "    </tr>\n",
              "    <tr>\n",
              "      <th>2007-01-10</th>\n",
              "      <td>0.047856</td>\n",
              "      <td>-0.010346</td>\n",
              "      <td>-0.017273</td>\n",
              "      <td>0.008157</td>\n",
              "      <td>-0.011791</td>\n",
              "      <td>0.021918</td>\n",
              "      <td>-0.010014</td>\n",
              "      <td>0.003335</td>\n",
              "      <td>-0.002806</td>\n",
              "      <td>-0.003155</td>\n",
              "      <td>0.003437</td>\n",
              "      <td>0.001940</td>\n",
              "      <td>1</td>\n",
              "    </tr>\n",
              "    <tr>\n",
              "      <th>...</th>\n",
              "      <td>...</td>\n",
              "      <td>...</td>\n",
              "      <td>...</td>\n",
              "      <td>...</td>\n",
              "      <td>...</td>\n",
              "      <td>...</td>\n",
              "      <td>...</td>\n",
              "      <td>...</td>\n",
              "      <td>...</td>\n",
              "      <td>...</td>\n",
              "      <td>...</td>\n",
              "      <td>...</td>\n",
              "      <td>...</td>\n",
              "    </tr>\n",
              "    <tr>\n",
              "      <th>2017-01-25</th>\n",
              "      <td>0.015921</td>\n",
              "      <td>0.004661</td>\n",
              "      <td>0.007476</td>\n",
              "      <td>0.014323</td>\n",
              "      <td>0.013587</td>\n",
              "      <td>0.003561</td>\n",
              "      <td>0.002519</td>\n",
              "      <td>-0.004211</td>\n",
              "      <td>0.001247</td>\n",
              "      <td>0.004449</td>\n",
              "      <td>0.025813</td>\n",
              "      <td>0.008026</td>\n",
              "      <td>1</td>\n",
              "    </tr>\n",
              "    <tr>\n",
              "      <th>2017-01-26</th>\n",
              "      <td>0.000492</td>\n",
              "      <td>-0.011991</td>\n",
              "      <td>-0.005885</td>\n",
              "      <td>-0.004212</td>\n",
              "      <td>0.002075</td>\n",
              "      <td>-0.010645</td>\n",
              "      <td>0.009265</td>\n",
              "      <td>-0.004014</td>\n",
              "      <td>-0.000498</td>\n",
              "      <td>-0.004089</td>\n",
              "      <td>-0.012582</td>\n",
              "      <td>-0.000735</td>\n",
              "      <td>1</td>\n",
              "    </tr>\n",
              "    <tr>\n",
              "      <th>2017-01-27</th>\n",
              "      <td>0.000082</td>\n",
              "      <td>0.009833</td>\n",
              "      <td>-0.023681</td>\n",
              "      <td>-0.010623</td>\n",
              "      <td>-0.007612</td>\n",
              "      <td>-0.009191</td>\n",
              "      <td>0.023495</td>\n",
              "      <td>0.025115</td>\n",
              "      <td>0.002492</td>\n",
              "      <td>-0.040027</td>\n",
              "      <td>-0.010703</td>\n",
              "      <td>-0.000866</td>\n",
              "      <td>1</td>\n",
              "    </tr>\n",
              "    <tr>\n",
              "      <th>2017-01-30</th>\n",
              "      <td>-0.002624</td>\n",
              "      <td>-0.001491</td>\n",
              "      <td>-0.017313</td>\n",
              "      <td>-0.025495</td>\n",
              "      <td>-0.008460</td>\n",
              "      <td>0.005204</td>\n",
              "      <td>-0.009882</td>\n",
              "      <td>-0.008635</td>\n",
              "      <td>0.000000</td>\n",
              "      <td>-0.003920</td>\n",
              "      <td>-0.002576</td>\n",
              "      <td>-0.006010</td>\n",
              "      <td>1</td>\n",
              "    </tr>\n",
              "    <tr>\n",
              "      <th>2017-01-31</th>\n",
              "      <td>-0.002302</td>\n",
              "      <td>-0.003866</td>\n",
              "      <td>-0.004203</td>\n",
              "      <td>-0.006893</td>\n",
              "      <td>-0.007281</td>\n",
              "      <td>-0.003376</td>\n",
              "      <td>-0.007370</td>\n",
              "      <td>-0.003611</td>\n",
              "      <td>-0.002983</td>\n",
              "      <td>-0.012165</td>\n",
              "      <td>-0.014463</td>\n",
              "      <td>-0.000890</td>\n",
              "      <td>1</td>\n",
              "    </tr>\n",
              "  </tbody>\n",
              "</table>\n",
              "<p>2537 rows × 13 columns</p>\n",
              "</div>"
            ],
            "text/plain": [
              "                AAPL      ADBE       CVX  ...      ^FVX     ^GSPC  Intercept\n",
              "Date                                      ...                               \n",
              "2007-01-04  0.022196  0.022545 -0.009722  ... -0.011166  0.001228          1\n",
              "2007-01-05 -0.007121 -0.004900  0.003842  ...  0.008469 -0.006085          1\n",
              "2007-01-08  0.004938 -0.004185  0.012757  ...  0.003015  0.002220          1\n",
              "2007-01-09  0.083070 -0.020272 -0.011477  ... -0.000644 -0.000517          1\n",
              "2007-01-10  0.047856 -0.010346 -0.017273  ...  0.003437  0.001940          1\n",
              "...              ...       ...       ...  ...       ...       ...        ...\n",
              "2017-01-25  0.015921  0.004661  0.007476  ...  0.025813  0.008026          1\n",
              "2017-01-26  0.000492 -0.011991 -0.005885  ... -0.012582 -0.000735          1\n",
              "2017-01-27  0.000082  0.009833 -0.023681  ... -0.010703 -0.000866          1\n",
              "2017-01-30 -0.002624 -0.001491 -0.017313  ... -0.002576 -0.006010          1\n",
              "2017-01-31 -0.002302 -0.003866 -0.004203  ... -0.014463 -0.000890          1\n",
              "\n",
              "[2537 rows x 13 columns]"
            ]
          },
          "metadata": {
            "tags": []
          },
          "execution_count": 14
        }
      ]
    },
    {
      "cell_type": "code",
      "metadata": {
        "id": "iHBK_v454AtZ",
        "colab_type": "code",
        "colab": {}
      },
      "source": [
        "stocknames = [ 'AAPL','ADBE','CVX','GOOG','IBM','MDLZ','MSFT','NFLX','ORCL','SBUX'] \n",
        "factornames = ['^FVX','^GSPC','Intercept']"
      ],
      "execution_count": 0,
      "outputs": []
    },
    {
      "cell_type": "code",
      "metadata": {
        "id": "rpmsnz3e4V7V",
        "colab_type": "code",
        "colab": {}
      },
      "source": [
        "stockreturns = returns[stocknames]\n",
        "factorreturns = returns[factornames]"
      ],
      "execution_count": 0,
      "outputs": []
    },
    {
      "cell_type": "code",
      "metadata": {
        "id": "3GULpucF4rAa",
        "colab_type": "code",
        "colab": {}
      },
      "source": [
        "weights = np.array([1.0/len(stocknames)]* len(stocknames))\n"
      ],
      "execution_count": 0,
      "outputs": []
    },
    {
      "cell_type": "code",
      "metadata": {
        "id": "glZMmQLv2CLI",
        "colab_type": "code",
        "colab": {
          "base_uri": "https://localhost:8080/",
          "height": 35
        },
        "outputId": "845ed163-9bab-438e-93a3-01af59187d78"
      },
      "source": [
        "## portfolio variance\n",
        "\"\"\"\n",
        "p = w1Y1 + w2Y2+ w3Y3+....+wkYk\n",
        "Var(p) = W *Cov(Y) * W ^T\n",
        "\"\"\"\n",
        "\n",
        "historicalTotalRisk = np.dot(np.dot(weights,stockreturns.cov()),weights.T)\n",
        "historicalTotalRisk"
      ],
      "execution_count": 26,
      "outputs": [
        {
          "output_type": "execute_result",
          "data": {
            "text/plain": [
              "0.00018625227892472834"
            ]
          },
          "metadata": {
            "tags": []
          },
          "execution_count": 26
        }
      ]
    },
    {
      "cell_type": "code",
      "metadata": {
        "id": "RgD5Q-dW6jn0",
        "colab_type": "code",
        "colab": {}
      },
      "source": [
        "#2. Building Factor Models:\n",
        "## factors of volatility SP500 and Intrest rates.(FVX,GSPC)\n",
        "import statsmodels.api as sm"
      ],
      "execution_count": 0,
      "outputs": []
    },
    {
      "cell_type": "code",
      "metadata": {
        "id": "EIQY5UFb6-cY",
        "colab_type": "code",
        "colab": {
          "base_uri": "https://localhost:8080/",
          "height": 228
        },
        "outputId": "bdcaf3cc-6860-4afd-fb20-247a04cf0269"
      },
      "source": [
        "xdata = factorreturns\n",
        "xdata.head()"
      ],
      "execution_count": 29,
      "outputs": [
        {
          "output_type": "execute_result",
          "data": {
            "text/html": [
              "<div>\n",
              "<style scoped>\n",
              "    .dataframe tbody tr th:only-of-type {\n",
              "        vertical-align: middle;\n",
              "    }\n",
              "\n",
              "    .dataframe tbody tr th {\n",
              "        vertical-align: top;\n",
              "    }\n",
              "\n",
              "    .dataframe thead th {\n",
              "        text-align: right;\n",
              "    }\n",
              "</style>\n",
              "<table border=\"1\" class=\"dataframe\">\n",
              "  <thead>\n",
              "    <tr style=\"text-align: right;\">\n",
              "      <th></th>\n",
              "      <th>^FVX</th>\n",
              "      <th>^GSPC</th>\n",
              "      <th>Intercept</th>\n",
              "    </tr>\n",
              "    <tr>\n",
              "      <th>Date</th>\n",
              "      <th></th>\n",
              "      <th></th>\n",
              "      <th></th>\n",
              "    </tr>\n",
              "  </thead>\n",
              "  <tbody>\n",
              "    <tr>\n",
              "      <th>2007-01-04</th>\n",
              "      <td>-0.011166</td>\n",
              "      <td>0.001228</td>\n",
              "      <td>1</td>\n",
              "    </tr>\n",
              "    <tr>\n",
              "      <th>2007-01-05</th>\n",
              "      <td>0.008469</td>\n",
              "      <td>-0.006085</td>\n",
              "      <td>1</td>\n",
              "    </tr>\n",
              "    <tr>\n",
              "      <th>2007-01-08</th>\n",
              "      <td>0.003015</td>\n",
              "      <td>0.002220</td>\n",
              "      <td>1</td>\n",
              "    </tr>\n",
              "    <tr>\n",
              "      <th>2007-01-09</th>\n",
              "      <td>-0.000644</td>\n",
              "      <td>-0.000517</td>\n",
              "      <td>1</td>\n",
              "    </tr>\n",
              "    <tr>\n",
              "      <th>2007-01-10</th>\n",
              "      <td>0.003437</td>\n",
              "      <td>0.001940</td>\n",
              "      <td>1</td>\n",
              "    </tr>\n",
              "  </tbody>\n",
              "</table>\n",
              "</div>"
            ],
            "text/plain": [
              "                ^FVX     ^GSPC  Intercept\n",
              "Date                                     \n",
              "2007-01-04 -0.011166  0.001228          1\n",
              "2007-01-05  0.008469 -0.006085          1\n",
              "2007-01-08  0.003015  0.002220          1\n",
              "2007-01-09 -0.000644 -0.000517          1\n",
              "2007-01-10  0.003437  0.001940          1"
            ]
          },
          "metadata": {
            "tags": []
          },
          "execution_count": 29
        }
      ]
    },
    {
      "cell_type": "code",
      "metadata": {
        "id": "9PzxOkj87OO7",
        "colab_type": "code",
        "colab": {
          "base_uri": "https://localhost:8080/",
          "height": 1000
        },
        "outputId": "77993e76-e7a4-46ba-cae9-d13d19c5d759"
      },
      "source": [
        "modelcoeffs = []\n",
        "for onestockname in stocknames:\n",
        "    yData = stockreturns[onestockname]\n",
        "    model = sm.OLS(yData,xdata)\n",
        "    result = model.fit()\n",
        "    modelcoeffrow = list(result.params)\n",
        "    modelcoeffrow.append(np.std(result.resid,ddof=1))\n",
        "    modelcoeffs.append(modelcoeffrow)\n",
        "    print(result.summary())"
      ],
      "execution_count": 30,
      "outputs": [
        {
          "output_type": "stream",
          "text": [
            "                            OLS Regression Results                            \n",
            "==============================================================================\n",
            "Dep. Variable:                   AAPL   R-squared:                       0.372\n",
            "Model:                            OLS   Adj. R-squared:                  0.371\n",
            "Method:                 Least Squares   F-statistic:                     749.1\n",
            "Date:                Thu, 27 Feb 2020   Prob (F-statistic):          2.60e-256\n",
            "Time:                        04:39:53   Log-Likelihood:                 6833.1\n",
            "No. Observations:                2537   AIC:                        -1.366e+04\n",
            "Df Residuals:                    2534   BIC:                        -1.364e+04\n",
            "Df Model:                           2                                         \n",
            "Covariance Type:            nonrobust                                         \n",
            "==============================================================================\n",
            "                 coef    std err          t      P>|t|      [0.025      0.975]\n",
            "------------------------------------------------------------------------------\n",
            "^FVX          -0.0056      0.010     -0.573      0.567      -0.025       0.014\n",
            "^GSPC          0.9640      0.027     36.130      0.000       0.912       1.016\n",
            "Intercept      0.0009      0.000      2.772      0.006       0.000       0.002\n",
            "==============================================================================\n",
            "Omnibus:                      371.179   Durbin-Watson:                   1.928\n",
            "Prob(Omnibus):                  0.000   Jarque-Bera (JB):             5500.473\n",
            "Skew:                           0.020   Prob(JB):                         0.00\n",
            "Kurtosis:                      10.213   Cond. No.                         82.9\n",
            "==============================================================================\n",
            "\n",
            "Warnings:\n",
            "[1] Standard Errors assume that the covariance matrix of the errors is correctly specified.\n",
            "                            OLS Regression Results                            \n",
            "==============================================================================\n",
            "Dep. Variable:                   ADBE   R-squared:                       0.485\n",
            "Model:                            OLS   Adj. R-squared:                  0.484\n",
            "Method:                 Least Squares   F-statistic:                     1192.\n",
            "Date:                Thu, 27 Feb 2020   Prob (F-statistic):               0.00\n",
            "Time:                        04:39:53   Log-Likelihood:                 7014.1\n",
            "No. Observations:                2537   AIC:                        -1.402e+04\n",
            "Df Residuals:                    2534   BIC:                        -1.400e+04\n",
            "Df Model:                           2                                         \n",
            "Covariance Type:            nonrobust                                         \n",
            "==============================================================================\n",
            "                 coef    std err          t      P>|t|      [0.025      0.975]\n",
            "------------------------------------------------------------------------------\n",
            "^FVX          -0.0030      0.009     -0.331      0.740      -0.021       0.015\n",
            "^GSPC          1.1288      0.025     45.432      0.000       1.080       1.177\n",
            "Intercept      0.0003      0.000      1.086      0.277      -0.000       0.001\n",
            "==============================================================================\n",
            "Omnibus:                      627.324   Durbin-Watson:                   2.102\n",
            "Prob(Omnibus):                  0.000   Jarque-Bera (JB):            36188.638\n",
            "Skew:                           0.184   Prob(JB):                         0.00\n",
            "Kurtosis:                      21.499   Cond. No.                         82.9\n",
            "==============================================================================\n",
            "\n",
            "Warnings:\n",
            "[1] Standard Errors assume that the covariance matrix of the errors is correctly specified.\n",
            "                            OLS Regression Results                            \n",
            "==============================================================================\n",
            "Dep. Variable:                    CVX   R-squared:                       0.633\n",
            "Model:                            OLS   Adj. R-squared:                  0.633\n",
            "Method:                 Least Squares   F-statistic:                     2189.\n",
            "Date:                Thu, 27 Feb 2020   Prob (F-statistic):               0.00\n",
            "Time:                        04:39:53   Log-Likelihood:                 7937.7\n",
            "No. Observations:                2537   AIC:                        -1.587e+04\n",
            "Df Residuals:                    2534   BIC:                        -1.585e+04\n",
            "Df Model:                           2                                         \n",
            "Covariance Type:            nonrobust                                         \n",
            "==============================================================================\n",
            "                 coef    std err          t      P>|t|      [0.025      0.975]\n",
            "------------------------------------------------------------------------------\n",
            "^FVX          -0.0041      0.006     -0.639      0.523      -0.017       0.008\n",
            "^GSPC          1.0641      0.017     61.638      0.000       1.030       1.098\n",
            "Intercept      0.0002      0.000      0.848      0.397      -0.000       0.001\n",
            "==============================================================================\n",
            "Omnibus:                      357.798   Durbin-Watson:                   1.995\n",
            "Prob(Omnibus):                  0.000   Jarque-Bera (JB):             4523.932\n",
            "Skew:                           0.159   Prob(JB):                         0.00\n",
            "Kurtosis:                       9.534   Cond. No.                         82.9\n",
            "==============================================================================\n",
            "\n",
            "Warnings:\n",
            "[1] Standard Errors assume that the covariance matrix of the errors is correctly specified.\n",
            "                            OLS Regression Results                            \n",
            "==============================================================================\n",
            "Dep. Variable:                   GOOG   R-squared:                       0.420\n",
            "Model:                            OLS   Adj. R-squared:                  0.420\n",
            "Method:                 Least Squares   F-statistic:                     919.3\n",
            "Date:                Thu, 27 Feb 2020   Prob (F-statistic):          6.49e-301\n",
            "Time:                        04:39:53   Log-Likelihood:                 7174.3\n",
            "No. Observations:                2537   AIC:                        -1.434e+04\n",
            "Df Residuals:                    2534   BIC:                        -1.433e+04\n",
            "Df Model:                           2                                         \n",
            "Covariance Type:            nonrobust                                         \n",
            "==============================================================================\n",
            "                 coef    std err          t      P>|t|      [0.025      0.975]\n",
            "------------------------------------------------------------------------------\n",
            "^FVX          -0.0090      0.009     -1.048      0.295      -0.026       0.008\n",
            "^GSPC          0.9370      0.023     40.172      0.000       0.891       0.983\n",
            "Intercept      0.0004      0.000      1.427      0.154      -0.000       0.001\n",
            "==============================================================================\n",
            "Omnibus:                     1291.135   Durbin-Watson:                   1.982\n",
            "Prob(Omnibus):                  0.000   Jarque-Bera (JB):            82494.981\n",
            "Skew:                           1.589   Prob(JB):                         0.00\n",
            "Kurtosis:                      30.754   Cond. No.                         82.9\n",
            "==============================================================================\n",
            "\n",
            "Warnings:\n",
            "[1] Standard Errors assume that the covariance matrix of the errors is correctly specified.\n",
            "                            OLS Regression Results                            \n",
            "==============================================================================\n",
            "Dep. Variable:                    IBM   R-squared:                       0.502\n",
            "Model:                            OLS   Adj. R-squared:                  0.502\n",
            "Method:                 Least Squares   F-statistic:                     1279.\n",
            "Date:                Thu, 27 Feb 2020   Prob (F-statistic):               0.00\n",
            "Time:                        04:39:53   Log-Likelihood:                 8088.5\n",
            "No. Observations:                2537   AIC:                        -1.617e+04\n",
            "Df Residuals:                    2534   BIC:                        -1.615e+04\n",
            "Df Model:                           2                                         \n",
            "Covariance Type:            nonrobust                                         \n",
            "==============================================================================\n",
            "                 coef    std err          t      P>|t|      [0.025      0.975]\n",
            "------------------------------------------------------------------------------\n",
            "^FVX           0.0092      0.006      1.529      0.126      -0.003       0.021\n",
            "^GSPC          0.7539      0.016     46.343      0.000       0.722       0.786\n",
            "Intercept      0.0002      0.000      1.077      0.281      -0.000       0.001\n",
            "==============================================================================\n",
            "Omnibus:                      638.017   Durbin-Watson:                   1.885\n",
            "Prob(Omnibus):                  0.000   Jarque-Bera (JB):            14163.567\n",
            "Skew:                          -0.645   Prob(JB):                         0.00\n",
            "Kurtosis:                      14.503   Cond. No.                         82.9\n",
            "==============================================================================\n",
            "\n",
            "Warnings:\n",
            "[1] Standard Errors assume that the covariance matrix of the errors is correctly specified.\n",
            "                            OLS Regression Results                            \n",
            "==============================================================================\n",
            "Dep. Variable:                   MDLZ   R-squared:                       0.368\n",
            "Model:                            OLS   Adj. R-squared:                  0.368\n",
            "Method:                 Least Squares   F-statistic:                     738.4\n",
            "Date:                Thu, 27 Feb 2020   Prob (F-statistic):          2.10e-253\n",
            "Time:                        04:39:53   Log-Likelihood:                 7857.6\n",
            "No. Observations:                2537   AIC:                        -1.571e+04\n",
            "Df Residuals:                    2534   BIC:                        -1.569e+04\n",
            "Df Model:                           2                                         \n",
            "Covariance Type:            nonrobust                                         \n",
            "==============================================================================\n",
            "                 coef    std err          t      P>|t|      [0.025      0.975]\n",
            "------------------------------------------------------------------------------\n",
            "^FVX          -0.0145      0.007     -2.211      0.027      -0.027      -0.002\n",
            "^GSPC          0.6491      0.018     36.429      0.000       0.614       0.684\n",
            "Intercept      0.0003      0.000      1.283      0.199      -0.000       0.001\n",
            "==============================================================================\n",
            "Omnibus:                      404.188   Durbin-Watson:                   2.078\n",
            "Prob(Omnibus):                  0.000   Jarque-Bera (JB):             6091.508\n",
            "Skew:                           0.226   Prob(JB):                         0.00\n",
            "Kurtosis:                      10.578   Cond. No.                         82.9\n",
            "==============================================================================\n",
            "\n",
            "Warnings:\n",
            "[1] Standard Errors assume that the covariance matrix of the errors is correctly specified.\n",
            "                            OLS Regression Results                            \n",
            "==============================================================================\n",
            "Dep. Variable:                   MSFT   R-squared:                       0.494\n",
            "Model:                            OLS   Adj. R-squared:                  0.494\n",
            "Method:                 Least Squares   F-statistic:                     1237.\n",
            "Date:                Thu, 27 Feb 2020   Prob (F-statistic):               0.00\n",
            "Time:                        04:39:53   Log-Likelihood:                 7486.3\n",
            "No. Observations:                2537   AIC:                        -1.497e+04\n",
            "Df Residuals:                    2534   BIC:                        -1.495e+04\n",
            "Df Model:                           2                                         \n",
            "Covariance Type:            nonrobust                                         \n",
            "==============================================================================\n",
            "                 coef    std err          t      P>|t|      [0.025      0.975]\n",
            "------------------------------------------------------------------------------\n",
            "^FVX          -0.0087      0.008     -1.145      0.252      -0.024       0.006\n",
            "^GSPC          0.9607      0.021     46.580      0.000       0.920       1.001\n",
            "Intercept      0.0003      0.000      1.178      0.239      -0.000       0.001\n",
            "==============================================================================\n",
            "Omnibus:                      526.555   Durbin-Watson:                   1.968\n",
            "Prob(Omnibus):                  0.000   Jarque-Bera (JB):            18669.579\n",
            "Skew:                           0.003   Prob(JB):                         0.00\n",
            "Kurtosis:                      16.290   Cond. No.                         82.9\n",
            "==============================================================================\n",
            "\n",
            "Warnings:\n",
            "[1] Standard Errors assume that the covariance matrix of the errors is correctly specified.\n",
            "                            OLS Regression Results                            \n",
            "==============================================================================\n",
            "Dep. Variable:                   NFLX   R-squared:                       0.115\n",
            "Model:                            OLS   Adj. R-squared:                  0.114\n",
            "Method:                 Least Squares   F-statistic:                     164.0\n",
            "Date:                Thu, 27 Feb 2020   Prob (F-statistic):           1.03e-67\n",
            "Time:                        04:39:53   Log-Likelihood:                 5032.8\n",
            "No. Observations:                2537   AIC:                        -1.006e+04\n",
            "Df Residuals:                    2534   BIC:                        -1.004e+04\n",
            "Df Model:                           2                                         \n",
            "Covariance Type:            nonrobust                                         \n",
            "==============================================================================\n",
            "                 coef    std err          t      P>|t|      [0.025      0.975]\n",
            "------------------------------------------------------------------------------\n",
            "^FVX          -0.0158      0.020     -0.791      0.429      -0.055       0.023\n",
            "^GSPC          0.9270      0.054     17.088      0.000       0.821       1.033\n",
            "Intercept      0.0018      0.001      2.718      0.007       0.001       0.003\n",
            "==============================================================================\n",
            "Omnibus:                      898.082   Durbin-Watson:                   1.916\n",
            "Prob(Omnibus):                  0.000   Jarque-Bera (JB):            54377.540\n",
            "Skew:                           0.844   Prob(JB):                         0.00\n",
            "Kurtosis:                      25.618   Cond. No.                         82.9\n",
            "==============================================================================\n",
            "\n",
            "Warnings:\n",
            "[1] Standard Errors assume that the covariance matrix of the errors is correctly specified.\n",
            "                            OLS Regression Results                            \n",
            "==============================================================================\n",
            "Dep. Variable:                   ORCL   R-squared:                       0.536\n",
            "Model:                            OLS   Adj. R-squared:                  0.535\n",
            "Method:                 Least Squares   F-statistic:                     1461.\n",
            "Date:                Thu, 27 Feb 2020   Prob (F-statistic):               0.00\n",
            "Time:                        04:39:53   Log-Likelihood:                 7558.5\n",
            "No. Observations:                2537   AIC:                        -1.511e+04\n",
            "Df Residuals:                    2534   BIC:                        -1.509e+04\n",
            "Df Model:                           2                                         \n",
            "Covariance Type:            nonrobust                                         \n",
            "==============================================================================\n",
            "                 coef    std err          t      P>|t|      [0.025      0.975]\n",
            "------------------------------------------------------------------------------\n",
            "^FVX           0.0005      0.007      0.063      0.949      -0.014       0.015\n",
            "^GSPC          1.0053      0.020     50.145      0.000       0.966       1.045\n",
            "Intercept      0.0002      0.000      1.021      0.308      -0.000       0.001\n",
            "==============================================================================\n",
            "Omnibus:                      541.671   Durbin-Watson:                   2.072\n",
            "Prob(Omnibus):                  0.000   Jarque-Bera (JB):            19055.918\n",
            "Skew:                          -0.173   Prob(JB):                         0.00\n",
            "Kurtosis:                      16.422   Cond. No.                         82.9\n",
            "==============================================================================\n",
            "\n",
            "Warnings:\n",
            "[1] Standard Errors assume that the covariance matrix of the errors is correctly specified.\n",
            "                            OLS Regression Results                            \n",
            "==============================================================================\n",
            "Dep. Variable:                   SBUX   R-squared:                       0.450\n",
            "Model:                            OLS   Adj. R-squared:                  0.450\n",
            "Method:                 Least Squares   F-statistic:                     1037.\n",
            "Date:                Thu, 27 Feb 2020   Prob (F-statistic):               0.00\n",
            "Time:                        04:39:53   Log-Likelihood:                 7017.6\n",
            "No. Observations:                2537   AIC:                        -1.403e+04\n",
            "Df Residuals:                    2534   BIC:                        -1.401e+04\n",
            "Df Model:                           2                                         \n",
            "Covariance Type:            nonrobust                                         \n",
            "==============================================================================\n",
            "                 coef    std err          t      P>|t|      [0.025      0.975]\n",
            "------------------------------------------------------------------------------\n",
            "^FVX           0.0052      0.009      0.571      0.568      -0.013       0.023\n",
            "^GSPC          1.0434      0.025     42.054      0.000       0.995       1.092\n",
            "Intercept      0.0004      0.000      1.361      0.174      -0.000       0.001\n",
            "==============================================================================\n",
            "Omnibus:                      943.929   Durbin-Watson:                   2.094\n",
            "Prob(Omnibus):                  0.000   Jarque-Bera (JB):            29693.097\n",
            "Skew:                           1.123   Prob(JB):                         0.00\n",
            "Kurtosis:                      19.609   Cond. No.                         82.9\n",
            "==============================================================================\n",
            "\n",
            "Warnings:\n",
            "[1] Standard Errors assume that the covariance matrix of the errors is correctly specified.\n"
          ],
          "name": "stdout"
        }
      ]
    },
    {
      "cell_type": "code",
      "metadata": {
        "id": "YERcdzDN8quj",
        "colab_type": "code",
        "colab": {
          "base_uri": "https://localhost:8080/",
          "height": 348
        },
        "outputId": "6a544808-c555-4dc4-d2e6-76c5efb94fb3"
      },
      "source": [
        "modelcoeffs = pd.DataFrame(modelcoeffs)\n",
        "modelcoeffs.columns =[\"B_SP\",\"B_FVX\",\"Alpha\",\"Residvol\"]\n",
        "modelcoeffs[\"Names\"] = stocknames\n",
        "modelcoeffs"
      ],
      "execution_count": 34,
      "outputs": [
        {
          "output_type": "execute_result",
          "data": {
            "text/html": [
              "<div>\n",
              "<style scoped>\n",
              "    .dataframe tbody tr th:only-of-type {\n",
              "        vertical-align: middle;\n",
              "    }\n",
              "\n",
              "    .dataframe tbody tr th {\n",
              "        vertical-align: top;\n",
              "    }\n",
              "\n",
              "    .dataframe thead th {\n",
              "        text-align: right;\n",
              "    }\n",
              "</style>\n",
              "<table border=\"1\" class=\"dataframe\">\n",
              "  <thead>\n",
              "    <tr style=\"text-align: right;\">\n",
              "      <th></th>\n",
              "      <th>B_SP</th>\n",
              "      <th>B_FVX</th>\n",
              "      <th>Alpha</th>\n",
              "      <th>Residvol</th>\n",
              "      <th>Names</th>\n",
              "    </tr>\n",
              "  </thead>\n",
              "  <tbody>\n",
              "    <tr>\n",
              "      <th>0</th>\n",
              "      <td>-0.005627</td>\n",
              "      <td>0.964032</td>\n",
              "      <td>0.000902</td>\n",
              "      <td>0.016373</td>\n",
              "      <td>AAPL</td>\n",
              "    </tr>\n",
              "    <tr>\n",
              "      <th>1</th>\n",
              "      <td>-0.003033</td>\n",
              "      <td>1.128756</td>\n",
              "      <td>0.000329</td>\n",
              "      <td>0.015245</td>\n",
              "      <td>ADBE</td>\n",
              "    </tr>\n",
              "    <tr>\n",
              "      <th>2</th>\n",
              "      <td>-0.004062</td>\n",
              "      <td>1.064116</td>\n",
              "      <td>0.000178</td>\n",
              "      <td>0.010594</td>\n",
              "      <td>CVX</td>\n",
              "    </tr>\n",
              "    <tr>\n",
              "      <th>3</th>\n",
              "      <td>-0.009006</td>\n",
              "      <td>0.936995</td>\n",
              "      <td>0.000406</td>\n",
              "      <td>0.014313</td>\n",
              "      <td>GOOG</td>\n",
              "    </tr>\n",
              "    <tr>\n",
              "      <th>4</th>\n",
              "      <td>0.009160</td>\n",
              "      <td>0.753905</td>\n",
              "      <td>0.000214</td>\n",
              "      <td>0.009982</td>\n",
              "      <td>IBM</td>\n",
              "    </tr>\n",
              "    <tr>\n",
              "      <th>5</th>\n",
              "      <td>-0.014510</td>\n",
              "      <td>0.649082</td>\n",
              "      <td>0.000279</td>\n",
              "      <td>0.010933</td>\n",
              "      <td>MDLZ</td>\n",
              "    </tr>\n",
              "    <tr>\n",
              "      <th>6</th>\n",
              "      <td>-0.008697</td>\n",
              "      <td>0.960744</td>\n",
              "      <td>0.000296</td>\n",
              "      <td>0.012656</td>\n",
              "      <td>MSFT</td>\n",
              "    </tr>\n",
              "    <tr>\n",
              "      <th>7</th>\n",
              "      <td>-0.015817</td>\n",
              "      <td>0.927033</td>\n",
              "      <td>0.001797</td>\n",
              "      <td>0.033290</td>\n",
              "      <td>NFLX</td>\n",
              "    </tr>\n",
              "    <tr>\n",
              "      <th>8</th>\n",
              "      <td>0.000468</td>\n",
              "      <td>1.005277</td>\n",
              "      <td>0.000249</td>\n",
              "      <td>0.012302</td>\n",
              "      <td>ORCL</td>\n",
              "    </tr>\n",
              "    <tr>\n",
              "      <th>9</th>\n",
              "      <td>0.005220</td>\n",
              "      <td>1.043412</td>\n",
              "      <td>0.000412</td>\n",
              "      <td>0.015225</td>\n",
              "      <td>SBUX</td>\n",
              "    </tr>\n",
              "  </tbody>\n",
              "</table>\n",
              "</div>"
            ],
            "text/plain": [
              "       B_SP     B_FVX     Alpha  Residvol Names\n",
              "0 -0.005627  0.964032  0.000902  0.016373  AAPL\n",
              "1 -0.003033  1.128756  0.000329  0.015245  ADBE\n",
              "2 -0.004062  1.064116  0.000178  0.010594   CVX\n",
              "3 -0.009006  0.936995  0.000406  0.014313  GOOG\n",
              "4  0.009160  0.753905  0.000214  0.009982   IBM\n",
              "5 -0.014510  0.649082  0.000279  0.010933  MDLZ\n",
              "6 -0.008697  0.960744  0.000296  0.012656  MSFT\n",
              "7 -0.015817  0.927033  0.001797  0.033290  NFLX\n",
              "8  0.000468  1.005277  0.000249  0.012302  ORCL\n",
              "9  0.005220  1.043412  0.000412  0.015225  SBUX"
            ]
          },
          "metadata": {
            "tags": []
          },
          "execution_count": 34
        }
      ]
    },
    {
      "cell_type": "code",
      "metadata": {
        "id": "CZIK0UkA942p",
        "colab_type": "code",
        "colab": {}
      },
      "source": [
        "##3.Portfolio variance\n",
        "\"\"\"\n",
        "\n",
        "Totalvar(p) = SystematicVar(p) +IdiosyntricVar(p)\n",
        "\n",
        "SystematicVar = W   *B     *Cov(f)   *B^t   *W^t\n",
        "1*1             1*k k*2    2*2       2*k    k*1\n",
        "\n",
        "Idosyntricvar = ei=1 to K Wi^2Var(ei)\n",
        "\"\"\"\n",
        "\n",
        "factorcov = factorreturns[['^FVX','^GSPC']].cov()\n",
        "reconstructedcov = np.dot(np.dot(modelcoeffs[[\"B_FVX\",\"B_SP\"]],factorcov),modelcoeffs[[\"B_FVX\",\"B_SP\"]].T)\n"
      ],
      "execution_count": 0,
      "outputs": []
    },
    {
      "cell_type": "code",
      "metadata": {
        "id": "voDPQqN-_47-",
        "colab_type": "code",
        "colab": {}
      },
      "source": [
        "systemicRisk = np.dot(np.dot(weights,reconstructedcov),weights.T)\n",
        "IdosyntricRisk = sum(modelcoeffs[\"Residvol\"] * modelcoeffs[\"Residvol\"]*weights*weights)"
      ],
      "execution_count": 0,
      "outputs": []
    },
    {
      "cell_type": "code",
      "metadata": {
        "id": "6OfKS5peA8N_",
        "colab_type": "code",
        "colab": {
          "base_uri": "https://localhost:8080/",
          "height": 35
        },
        "outputId": "c3d311f5-acfa-4e4c-cac5-3ba2f59713b4"
      },
      "source": [
        "factorModelTotalRisk = IdosyntricRisk + systemicRisk\n",
        "factorModelTotalRisk"
      ],
      "execution_count": 45,
      "outputs": [
        {
          "output_type": "execute_result",
          "data": {
            "text/plain": [
              "0.0011568305204948902"
            ]
          },
          "metadata": {
            "tags": []
          },
          "execution_count": 45
        }
      ]
    },
    {
      "cell_type": "code",
      "metadata": {
        "id": "71TxSZPhB0Ps",
        "colab_type": "code",
        "colab": {
          "base_uri": "https://localhost:8080/",
          "height": 54
        },
        "outputId": "b15425b9-7a3d-4925-92a7-1775f708645c"
      },
      "source": [
        "# 4. Scenario stress testing:--\n",
        "## FVX step size of 0.05 ( 5% increase)\n",
        "# SP500 step size 0.02 (2%)\n",
        "\n",
        "fvxscenarios = np.arange(min(returns['^FVX']),max(returns['^FVX']),0.05)\n",
        "fvxscenarios"
      ],
      "execution_count": 47,
      "outputs": [
        {
          "output_type": "execute_result",
          "data": {
            "text/plain": [
              "array([-0.23213383, -0.18213383, -0.13213383, -0.08213383, -0.03213383,\n",
              "        0.01786617,  0.06786617,  0.11786617,  0.16786617])"
            ]
          },
          "metadata": {
            "tags": []
          },
          "execution_count": 47
        }
      ]
    },
    {
      "cell_type": "code",
      "metadata": {
        "id": "KkOTfgNpChlm",
        "colab_type": "code",
        "colab": {}
      },
      "source": [
        "spScenarios = np.arange(min(returns['^GSPC']),max(returns['^GSPC']),0.02)"
      ],
      "execution_count": 0,
      "outputs": []
    },
    {
      "cell_type": "code",
      "metadata": {
        "id": "-wtSGaF6C1Dy",
        "colab_type": "code",
        "colab": {}
      },
      "source": [
        "scenarios = []\n",
        "for oneFVXvalue in fvxscenarios:\n",
        "    for oneSPvalue in spScenarios:\n",
        "        onescenario =[oneFVXvalue,oneSPvalue]\n",
        "        for onestockname in stocknames:\n",
        "            alpha = float(modelcoeffs[modelcoeffs[\"Names\"]== onestockname][\"Alpha\"])\n",
        "            beta_sp = float(modelcoeffs[modelcoeffs[\"Names\"]== onestockname][\"B_SP\"])\n",
        "            bets_FVX = float(modelcoeffs[modelcoeffs[\"Names\"]== onestockname][\"B_FVX\"])\n",
        "            onestockpredictedReturn = alpha+ beta_sp*oneSPvalue + bets_FVX *oneFVXvalue\n",
        "            onescenario.append(onestockpredictedReturn)\n",
        "            scenarios.append(onescenario)"
      ],
      "execution_count": 0,
      "outputs": []
    },
    {
      "cell_type": "code",
      "metadata": {
        "id": "GnC0mrZXEh0t",
        "colab_type": "code",
        "colab": {}
      },
      "source": [
        "scenarios = pd.DataFrame(scenarios)\n",
        "scenarios.columns= ['^FVX','^GSPC', 'AAPL','ADBE','CVX','GOOG','IBM','MDLZ','MSFT','NFLX','ORCL','SBUX'] "
      ],
      "execution_count": 0,
      "outputs": []
    },
    {
      "cell_type": "code",
      "metadata": {
        "id": "wtXHQMSjFNOK",
        "colab_type": "code",
        "colab": {
          "base_uri": "https://localhost:8080/",
          "height": 348
        },
        "outputId": "a50e1849-86d1-49b9-b4bc-1827d733e02a"
      },
      "source": [
        "scenarioscov = scenarios[stocknames].cov()\n",
        "scenarioscov"
      ],
      "execution_count": 58,
      "outputs": [
        {
          "output_type": "execute_result",
          "data": {
            "text/html": [
              "<div>\n",
              "<style scoped>\n",
              "    .dataframe tbody tr th:only-of-type {\n",
              "        vertical-align: middle;\n",
              "    }\n",
              "\n",
              "    .dataframe tbody tr th {\n",
              "        vertical-align: top;\n",
              "    }\n",
              "\n",
              "    .dataframe thead th {\n",
              "        text-align: right;\n",
              "    }\n",
              "</style>\n",
              "<table border=\"1\" class=\"dataframe\">\n",
              "  <thead>\n",
              "    <tr style=\"text-align: right;\">\n",
              "      <th></th>\n",
              "      <th>AAPL</th>\n",
              "      <th>ADBE</th>\n",
              "      <th>CVX</th>\n",
              "      <th>GOOG</th>\n",
              "      <th>IBM</th>\n",
              "      <th>MDLZ</th>\n",
              "      <th>MSFT</th>\n",
              "      <th>NFLX</th>\n",
              "      <th>ORCL</th>\n",
              "      <th>SBUX</th>\n",
              "    </tr>\n",
              "  </thead>\n",
              "  <tbody>\n",
              "    <tr>\n",
              "      <th>AAPL</th>\n",
              "      <td>0.015505</td>\n",
              "      <td>0.018154</td>\n",
              "      <td>0.017115</td>\n",
              "      <td>0.015070</td>\n",
              "      <td>0.012125</td>\n",
              "      <td>0.010440</td>\n",
              "      <td>0.015452</td>\n",
              "      <td>0.014910</td>\n",
              "      <td>0.016168</td>\n",
              "      <td>0.016782</td>\n",
              "    </tr>\n",
              "    <tr>\n",
              "      <th>ADBE</th>\n",
              "      <td>0.018154</td>\n",
              "      <td>0.021256</td>\n",
              "      <td>0.020039</td>\n",
              "      <td>0.017645</td>\n",
              "      <td>0.014197</td>\n",
              "      <td>0.012223</td>\n",
              "      <td>0.018092</td>\n",
              "      <td>0.017458</td>\n",
              "      <td>0.018931</td>\n",
              "      <td>0.019649</td>\n",
              "    </tr>\n",
              "    <tr>\n",
              "      <th>CVX</th>\n",
              "      <td>0.017115</td>\n",
              "      <td>0.020039</td>\n",
              "      <td>0.018892</td>\n",
              "      <td>0.016635</td>\n",
              "      <td>0.013384</td>\n",
              "      <td>0.011524</td>\n",
              "      <td>0.017056</td>\n",
              "      <td>0.016458</td>\n",
              "      <td>0.017847</td>\n",
              "      <td>0.018524</td>\n",
              "    </tr>\n",
              "    <tr>\n",
              "      <th>GOOG</th>\n",
              "      <td>0.015070</td>\n",
              "      <td>0.017645</td>\n",
              "      <td>0.016635</td>\n",
              "      <td>0.014648</td>\n",
              "      <td>0.011785</td>\n",
              "      <td>0.010147</td>\n",
              "      <td>0.015019</td>\n",
              "      <td>0.014492</td>\n",
              "      <td>0.015715</td>\n",
              "      <td>0.016311</td>\n",
              "    </tr>\n",
              "    <tr>\n",
              "      <th>IBM</th>\n",
              "      <td>0.012125</td>\n",
              "      <td>0.014197</td>\n",
              "      <td>0.013384</td>\n",
              "      <td>0.011785</td>\n",
              "      <td>0.009483</td>\n",
              "      <td>0.008163</td>\n",
              "      <td>0.012084</td>\n",
              "      <td>0.011659</td>\n",
              "      <td>0.012644</td>\n",
              "      <td>0.013124</td>\n",
              "    </tr>\n",
              "    <tr>\n",
              "      <th>MDLZ</th>\n",
              "      <td>0.010440</td>\n",
              "      <td>0.012223</td>\n",
              "      <td>0.011524</td>\n",
              "      <td>0.010147</td>\n",
              "      <td>0.008163</td>\n",
              "      <td>0.007030</td>\n",
              "      <td>0.010404</td>\n",
              "      <td>0.010040</td>\n",
              "      <td>0.010886</td>\n",
              "      <td>0.011299</td>\n",
              "    </tr>\n",
              "    <tr>\n",
              "      <th>MSFT</th>\n",
              "      <td>0.015452</td>\n",
              "      <td>0.018092</td>\n",
              "      <td>0.017056</td>\n",
              "      <td>0.015019</td>\n",
              "      <td>0.012084</td>\n",
              "      <td>0.010404</td>\n",
              "      <td>0.015400</td>\n",
              "      <td>0.014860</td>\n",
              "      <td>0.016113</td>\n",
              "      <td>0.016724</td>\n",
              "    </tr>\n",
              "    <tr>\n",
              "      <th>NFLX</th>\n",
              "      <td>0.014910</td>\n",
              "      <td>0.017458</td>\n",
              "      <td>0.016458</td>\n",
              "      <td>0.014492</td>\n",
              "      <td>0.011659</td>\n",
              "      <td>0.010040</td>\n",
              "      <td>0.014860</td>\n",
              "      <td>0.014339</td>\n",
              "      <td>0.015548</td>\n",
              "      <td>0.016137</td>\n",
              "    </tr>\n",
              "    <tr>\n",
              "      <th>ORCL</th>\n",
              "      <td>0.016168</td>\n",
              "      <td>0.018931</td>\n",
              "      <td>0.017847</td>\n",
              "      <td>0.015715</td>\n",
              "      <td>0.012644</td>\n",
              "      <td>0.010886</td>\n",
              "      <td>0.016113</td>\n",
              "      <td>0.015548</td>\n",
              "      <td>0.016860</td>\n",
              "      <td>0.017500</td>\n",
              "    </tr>\n",
              "    <tr>\n",
              "      <th>SBUX</th>\n",
              "      <td>0.016782</td>\n",
              "      <td>0.019649</td>\n",
              "      <td>0.018524</td>\n",
              "      <td>0.016311</td>\n",
              "      <td>0.013124</td>\n",
              "      <td>0.011299</td>\n",
              "      <td>0.016724</td>\n",
              "      <td>0.016137</td>\n",
              "      <td>0.017500</td>\n",
              "      <td>0.018164</td>\n",
              "    </tr>\n",
              "  </tbody>\n",
              "</table>\n",
              "</div>"
            ],
            "text/plain": [
              "          AAPL      ADBE       CVX  ...      NFLX      ORCL      SBUX\n",
              "AAPL  0.015505  0.018154  0.017115  ...  0.014910  0.016168  0.016782\n",
              "ADBE  0.018154  0.021256  0.020039  ...  0.017458  0.018931  0.019649\n",
              "CVX   0.017115  0.020039  0.018892  ...  0.016458  0.017847  0.018524\n",
              "GOOG  0.015070  0.017645  0.016635  ...  0.014492  0.015715  0.016311\n",
              "IBM   0.012125  0.014197  0.013384  ...  0.011659  0.012644  0.013124\n",
              "MDLZ  0.010440  0.012223  0.011524  ...  0.010040  0.010886  0.011299\n",
              "MSFT  0.015452  0.018092  0.017056  ...  0.014860  0.016113  0.016724\n",
              "NFLX  0.014910  0.017458  0.016458  ...  0.014339  0.015548  0.016137\n",
              "ORCL  0.016168  0.018931  0.017847  ...  0.015548  0.016860  0.017500\n",
              "SBUX  0.016782  0.019649  0.018524  ...  0.016137  0.017500  0.018164\n",
              "\n",
              "[10 rows x 10 columns]"
            ]
          },
          "metadata": {
            "tags": []
          },
          "execution_count": 58
        }
      ]
    },
    {
      "cell_type": "code",
      "metadata": {
        "id": "P2HGMRz0FoNI",
        "colab_type": "code",
        "colab": {
          "base_uri": "https://localhost:8080/",
          "height": 35
        },
        "outputId": "38ae44c9-3dc2-4f24-f75c-9da6c5589b46"
      },
      "source": [
        "scenarioTotalRisk = np.dot(np.dot(weights,scenarioscov),weights.T)\n",
        "scenarioTotalRisk"
      ],
      "execution_count": 60,
      "outputs": [
        {
          "output_type": "execute_result",
          "data": {
            "text/plain": [
              "0.014846437033500682"
            ]
          },
          "metadata": {
            "tags": []
          },
          "execution_count": 60
        }
      ]
    },
    {
      "cell_type": "code",
      "metadata": {
        "id": "cUMg6z_rFORU",
        "colab_type": "code",
        "colab": {}
      },
      "source": [
        "## 4. Quantifying the Worst case scenario\n",
        "\"\"\"\n",
        "Calculating Var(Variance at Risk):\n",
        "\n",
        "Var = P *Z(zstats) * sigma * squareroot of h\n",
        "p= $ invested\n",
        "sigma  = square root of variance of returns( from factor model, or scenario or historical analysis)\n",
        "z = number of standard deviations away from mean that the propability = 1- sigma\n",
        "h = number of trading periods\n",
        "\"\"\"\n",
        "\n",
        "from scipy.stats import norm\n",
        "import math"
      ],
      "execution_count": 0,
      "outputs": []
    },
    {
      "cell_type": "code",
      "metadata": {
        "id": "HxbKLJupHJZN",
        "colab_type": "code",
        "colab": {}
      },
      "source": [
        "def calcVaR(risk,conflevel,principal = 1,nummonths = 1):\n",
        "    vol = math.sqrt(risk)\n",
        "    return abs(principal *norm.ppf(1-conflevel,0,1)*vol*math.sqrt(nummonths))"
      ],
      "execution_count": 0,
      "outputs": []
    },
    {
      "cell_type": "code",
      "metadata": {
        "id": "Lv_T-nBpH57u",
        "colab_type": "code",
        "colab": {
          "base_uri": "https://localhost:8080/",
          "height": 35
        },
        "outputId": "33c9ec12-21a3-443a-dcaf-bebc3f6388a2"
      },
      "source": [
        "calcVaR(scenarioTotalRisk,0.99)"
      ],
      "execution_count": 64,
      "outputs": [
        {
          "output_type": "execute_result",
          "data": {
            "text/plain": [
              "0.2834560810824161"
            ]
          },
          "metadata": {
            "tags": []
          },
          "execution_count": 64
        }
      ]
    },
    {
      "cell_type": "code",
      "metadata": {
        "id": "aOhqOwfIIEGo",
        "colab_type": "code",
        "colab": {
          "base_uri": "https://localhost:8080/",
          "height": 35
        },
        "outputId": "dec87b9f-b212-4485-d1aa-38db3f1e14fc"
      },
      "source": [
        "calcVaR(historicalTotalRisk,0.99)"
      ],
      "execution_count": 65,
      "outputs": [
        {
          "output_type": "execute_result",
          "data": {
            "text/plain": [
              "0.03174866408345266"
            ]
          },
          "metadata": {
            "tags": []
          },
          "execution_count": 65
        }
      ]
    },
    {
      "cell_type": "code",
      "metadata": {
        "id": "N7-0WeHxII-l",
        "colab_type": "code",
        "colab": {
          "base_uri": "https://localhost:8080/",
          "height": 35
        },
        "outputId": "bafc5a49-b56d-4b83-ebe5-006c5d504e19"
      },
      "source": [
        "calcVaR(factorModelTotalRisk,0.99)"
      ],
      "execution_count": 66,
      "outputs": [
        {
          "output_type": "execute_result",
          "data": {
            "text/plain": [
              "0.0791242355510623"
            ]
          },
          "metadata": {
            "tags": []
          },
          "execution_count": 66
        }
      ]
    }
  ]
}