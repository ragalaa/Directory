{
  "nbformat": 4,
  "nbformat_minor": 0,
  "metadata": {
    "colab": {
      "name": "Web Scarping_AAPL price.ipynb",
      "provenance": [],
      "include_colab_link": true
    },
    "kernelspec": {
      "name": "python3",
      "display_name": "Python 3"
    }
  },
  "cells": [
    {
      "cell_type": "markdown",
      "metadata": {
        "id": "view-in-github",
        "colab_type": "text"
      },
      "source": [
        "<a href=\"https://colab.research.google.com/github/ragalaa/Machine-Learning-Basics/blob/master/Web_Scarping_AAPL_price.ipynb\" target=\"_parent\"><img src=\"https://colab.research.google.com/assets/colab-badge.svg\" alt=\"Open In Colab\"/></a>"
      ]
    },
    {
      "cell_type": "code",
      "metadata": {
        "id": "xu95Fu_zIh5N",
        "colab_type": "code",
        "colab": {}
      },
      "source": [
        "import bs4\n",
        "import requests\n",
        "from bs4 import BeautifulSoup\n",
        "from urllib.request import urlopen"
      ],
      "execution_count": 0,
      "outputs": []
    },
    {
      "cell_type": "code",
      "metadata": {
        "id": "OETb418GIyBg",
        "colab_type": "code",
        "colab": {}
      },
      "source": [
        "url = 'https://finance.yahoo.com/quote/AAPL?p=AAPL&.tsrc=fin-srch'\n",
        "try:\n",
        " page = urlopen(url)\n",
        "except:\n",
        " print(\"Error opening the URL\")\n",
        "soup = bs4.BeautifulSoup(page,\"html.parser\")"
      ],
      "execution_count": 0,
      "outputs": []
    },
    {
      "cell_type": "code",
      "metadata": {
        "id": "8HX84wZ7JDKp",
        "colab_type": "code",
        "colab": {
          "base_uri": "https://localhost:8080/",
          "height": 55
        },
        "outputId": "fdc15f41-925b-467d-bc84-22309b645f09"
      },
      "source": [
        "soup.find_all('div',{'class': 'My(6px) Pos(r) smartphone_Mt(6px)'})"
      ],
      "execution_count": 16,
      "outputs": [
        {
          "output_type": "execute_result",
          "data": {
            "text/plain": [
              "[<div class=\"My(6px) Pos(r) smartphone_Mt(6px)\" data-reactid=\"12\"><div class=\"\" data-reactid=\"13\"><span class=\"Trsdu(0.3s) Trsdu(0.3s) Fw(b) Fz(36px) Mb(-4px) D(b)\" data-reactid=\"14\">292.41</span><div class=\"D(ib) Va(t) \" data-reactid=\"15\"><span class=\"Trsdu(0.3s) Fw(500) Fz(14px) C($dataGreen)\" data-reactid=\"16\">+2.61 (+0.90%)</span><div class=\"Fw(n) C($tertiaryColor) Fz(12px) Mstart(10px) D(ib) Mstart(0)--mobpsm Mt(6px)--mobpsm\" data-reactid=\"17\" id=\"quote-market-notice\"><span data-reactid=\"18\">As of  1:53PM EST. Market open.</span></div></div></div></div>]"
            ]
          },
          "metadata": {
            "tags": []
          },
          "execution_count": 16
        }
      ]
    },
    {
      "cell_type": "code",
      "metadata": {
        "id": "DRQSwHs_Jmio",
        "colab_type": "code",
        "colab": {
          "base_uri": "https://localhost:8080/",
          "height": 35
        },
        "outputId": "48cc0e66-28a7-4ab6-99d2-0666ce45a67a"
      },
      "source": [
        "## We use the syntax below to narrow down the results to get the price.\n",
        "soup.find('div',{'class': 'My(6px) Pos(r) smartphone_Mt(6px)'}).find('span').text"
      ],
      "execution_count": 21,
      "outputs": [
        {
          "output_type": "execute_result",
          "data": {
            "text/plain": [
              "'292.41'"
            ]
          },
          "metadata": {
            "tags": []
          },
          "execution_count": 21
        }
      ]
    }
  ]
}