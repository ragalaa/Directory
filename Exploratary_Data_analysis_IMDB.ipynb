{
  "nbformat": 4,
  "nbformat_minor": 0,
  "metadata": {
    "colab": {
      "name": "Exploratary Data analysis IMDB.ipynb",
      "provenance": [],
      "toc_visible": true,
      "include_colab_link": true
    },
    "kernelspec": {
      "name": "python3",
      "display_name": "Python 3"
    }
  },
  "cells": [
    {
      "cell_type": "markdown",
      "metadata": {
        "id": "view-in-github",
        "colab_type": "text"
      },
      "source": [
        "<a href=\"https://colab.research.google.com/github/ragalaa/Machine-Learning-Basics/blob/master/Exploratary_Data_analysis_IMDB.ipynb\" target=\"_parent\"><img src=\"https://colab.research.google.com/assets/colab-badge.svg\" alt=\"Open In Colab\"/></a>"
      ]
    },
    {
      "cell_type": "code",
      "metadata": {
        "id": "x7hc8fkQyvk2",
        "colab_type": "code",
        "colab": {}
      },
      "source": [
        "\"\"\"  Data clean up strategies\n",
        "\n",
        "  1.As you can see, there might be different types of errors in a dataset:\n",
        "Outliers: outliers are the numbers in a column that are out of range. In fact, an outlier \n",
        "lies outside of most of the other values in a dataset (red cells in the figure).\n",
        "Duplicates: A dataset can contain repetitive rows or records (purple rows in the figure).\n",
        "Missing values: We might lose data as the result of human error or missing information (orange cells in the figure).\n",
        "Bad character or NULL values: Some values may contain bad characters like ₮ or NULL values. \n",
        "Sometimes null data may be specified with different values like N/A or NA or NAN (light or dark cells in the figure).\n",
        "\n",
        "\n",
        "Nominal: an attribute can be categorical like color that can contain a set of restricted values (e.g., blue,red, brown, ... )\n",
        "Text: an attribute can be a free text or string.\n",
        "Numeric: an attribute can be numeric (e.g.,currency, scores).\n",
        "\n",
        "1.Standardize values\n",
        "2.Normalize values\n",
        "3.Data validation\n",
        "\n",
        "\"\"\""
      ],
      "execution_count": 0,
      "outputs": []
    },
    {
      "cell_type": "code",
      "metadata": {
        "id": "mH6gC2Xiy5W2",
        "colab_type": "code",
        "colab": {
          "base_uri": "https://localhost:8080/",
          "height": 72
        },
        "outputId": "74fb0327-d386-4436-cabf-2ee9cf761bfc"
      },
      "source": [
        "# !curl -O https://raw.githubusercontent.com/erajabi/Python_examples/master/movie_sample_dataset.csv"
      ],
      "execution_count": 2,
      "outputs": [
        {
          "output_type": "stream",
          "text": [
            "  % Total    % Received % Xferd  Average Speed   Time    Time     Time  Current\n",
            "                                 Dload  Upload   Total   Spent    Left  Speed\n",
            "\r  0     0    0     0    0     0      0      0 --:--:-- --:--:-- --:--:--     0\r100 15228  100 15228    0     0  71158      0 --:--:-- --:--:-- --:--:-- 71492\n"
          ],
          "name": "stdout"
        }
      ]
    },
    {
      "cell_type": "code",
      "metadata": {
        "id": "gSIi0f_My9kN",
        "colab_type": "code",
        "colab": {}
      },
      "source": [
        "import pandas as pd\n",
        "import numpy as np"
      ],
      "execution_count": 0,
      "outputs": []
    },
    {
      "cell_type": "code",
      "metadata": {
        "id": "HZ1soINVzQ29",
        "colab_type": "code",
        "colab": {}
      },
      "source": [
        "dataset = pd.read_csv('./movie_sample_dataset.csv',encoding='utf-8')\n",
        "# dataset.head()"
      ],
      "execution_count": 0,
      "outputs": []
    },
    {
      "cell_type": "code",
      "metadata": {
        "id": "1VBPYFzozoKM",
        "colab_type": "code",
        "colab": {}
      },
      "source": [
        "##First of all, we drop the useless columns:\n",
        "\n",
        "dataset.drop(['color','language'], axis= 1, inplace= True)\n"
      ],
      "execution_count": 0,
      "outputs": []
    },
    {
      "cell_type": "code",
      "metadata": {
        "id": "K8CA8eHi0AQ0",
        "colab_type": "code",
        "colab": {}
      },
      "source": [
        "##In the next step, we fill up the empty values of two numeric columns: gross and budget with 0.\n",
        "dataset['gross'].fillna(0, inplace=True)\n",
        "dataset['budget'].fillna(0, inplace=True)"
      ],
      "execution_count": 0,
      "outputs": []
    },
    {
      "cell_type": "code",
      "metadata": {
        "id": "UOMTcs9d0XSD",
        "colab_type": "code",
        "colab": {}
      },
      "source": [
        "##Then, we unify the values for other columns like country, director name, or movie title:\n",
        "# dataset"
      ],
      "execution_count": 0,
      "outputs": []
    },
    {
      "cell_type": "code",
      "metadata": {
        "id": "AhYDByxy0cyf",
        "colab_type": "code",
        "colab": {}
      },
      "source": [
        "# Uppercase all the country values\n",
        "dataset['country'] = dataset['country'].str.upper()\n",
        "dataset['country'] = np.where(dataset['country']=='UNITED STATES','USA', dataset['country'])\n",
        "# dataset.head()\n",
        "\n"
      ],
      "execution_count": 0,
      "outputs": []
    },
    {
      "cell_type": "code",
      "metadata": {
        "id": "54EvQMMj1SZV",
        "colab_type": "code",
        "colab": {}
      },
      "source": [
        "# Bad data entry\n",
        "dataset['director_name'] = np.where(dataset['director_name']=='N/A','', dataset['director_name'])\n",
        "dataset['director_name'] = np.where(dataset['director_name']=='NaN','', dataset['director_name'])\n",
        "dataset['director_name'] = np.where(dataset['director_name']=='Null','', dataset['director_name'])\n",
        "\n",
        "dataset['movie_title'] = dataset['movie_title'].str.replace('Â', '')\n"
      ],
      "execution_count": 0,
      "outputs": []
    },
    {
      "cell_type": "code",
      "metadata": {
        "id": "Rt5vWpx42NqH",
        "colab_type": "code",
        "colab": {}
      },
      "source": [
        "\"\"\"\n",
        "As I mentioned above, one of the solutions to handle the outliers, is filling the correspondent rows with appropriate numbers. \n",
        "For example, movie duration in our dataset cannot be less than 10 or more than 300 minutes. \n",
        "For those cases, we fill up the cells with zero values.\n",
        "\"\"\"\n",
        "\n",
        "dataset['duration'] = np.where(dataset['duration']<=10,0, dataset['duration'])\n",
        "dataset['duration'] = np.where(dataset['duration']>300,0, dataset['duration'])\n",
        "dataset['imdb_score'] = np.where(dataset['imdb_score']<=0,0, dataset['imdb_score'])\n",
        "dataset['title_year'] = np.where(dataset['title_year']<2010,0, dataset['title_year'])"
      ],
      "execution_count": 0,
      "outputs": []
    },
    {
      "cell_type": "code",
      "metadata": {
        "id": "hYhURGMY3l96",
        "colab_type": "code",
        "colab": {}
      },
      "source": [
        "\"\"\"\n",
        "\n",
        "To normalize data, we split up actors into three different attributes and drop the actual column as follows:\n",
        "\"\"\"\n",
        "\n",
        "actor_list = dataset['actors'].str.split(',',n=2 , expand = True)\n",
        "\n",
        "dataset[\"actor1\"]= actor_list[0] \n",
        "dataset[\"actor2\"]= actor_list[1] \n",
        "dataset[\"actor3\"]= actor_list[2] \n",
        "dataset.drop(columns=['actors'], inplace=True)\n",
        "\n"
      ],
      "execution_count": 0,
      "outputs": []
    },
    {
      "cell_type": "code",
      "metadata": {
        "id": "Xu4POW2V3_bb",
        "colab_type": "code",
        "colab": {}
      },
      "source": [
        "#And finally, we define a new metric called GOB that shows gross over budget for each movie:\n",
        "\n",
        "# Add a new metric GOB(Gross over Budget)\n",
        "dataset['GOB'] = dataset.apply(lambda row: row['gross']/row['budget'] if row['budget']!=0 else 0, axis=1)\n",
        "top_GOB=dataset.sort_values('GOB',ascending=False).head(15)\n"
      ],
      "execution_count": 0,
      "outputs": []
    },
    {
      "cell_type": "code",
      "metadata": {
        "id": "b1-OtXJT5Wgo",
        "colab_type": "code",
        "colab": {}
      },
      "source": [
        "###As we have the directors’ full names, I add another column to shorten their names to better visualize them in a graph. To do that, \n",
        "###I just take the second part of the name, which might be their family name.\n",
        "\n",
        "top_GOB['director_familyName'] = dataset[\"director_name\"].str.split(\" \", n = 2, expand = True) [1]\n"
      ],
      "execution_count": 0,
      "outputs": []
    },
    {
      "cell_type": "code",
      "metadata": {
        "id": "Ln2VsA0h89En",
        "colab_type": "code",
        "colab": {}
      },
      "source": [
        "### Step :2  visualizationThe next step is simply visualizing them in a simple bar chart, as follows:\n",
        "\n",
        "import matplotlib.pyplot as plt\n",
        "import seaborn as sns"
      ],
      "execution_count": 0,
      "outputs": []
    },
    {
      "cell_type": "code",
      "metadata": {
        "id": "wPSEAL988t6w",
        "colab_type": "code",
        "colab": {
          "base_uri": "https://localhost:8080/",
          "height": 431
        },
        "outputId": "aab9b88c-d351-48c6-e340-6aa49fab337a"
      },
      "source": [
        "fig,ax = plt.subplots(figsize=(7, 5))\n",
        "# Draw a bar graph\n",
        "ax = sns.barplot(x='director_familyName', y='GOB', data=top_GOB,ci=None)\n",
        "# Rotate the directors' name 45 degrees \n",
        "ax.set_xticklabels(ax.get_xticklabels(), rotation=45)\n",
        "# Title the graph\n",
        "fig.suptitle('Top movie directors with highest GOB', fontsize=12)\n",
        "# Set font size of axis label\n",
        "ax.set_xlabel('Direcot name',fontsize=20)\n",
        "ax.set_ylabel('Gross over Budget',fontsize=20)\n",
        "# Set tick size of axis \n",
        "ax.tick_params(axis='x', labelsize=15)\n",
        "ax.tick_params(axis='y', labelsize=15)\n",
        "#Show the graph\n",
        "plt.show();"
      ],
      "execution_count": 85,
      "outputs": [
        {
          "output_type": "display_data",
          "data": {
            "image/png": "[encoded data removed]",
            "text/plain": [
              "<Figure size 504x360 with 1 Axes>"
            ]
          },
          "metadata": {
            "tags": []
          }
        }
      ]
    },
    {
      "cell_type": "code",
      "metadata": {
        "id": "iguyEZ9z9wER",
        "colab_type": "code",
        "colab": {
          "base_uri": "https://localhost:8080/",
          "height": 554
        },
        "outputId": "b83ea8b9-2d86-4c22-b250-8ea6c155b805"
      },
      "source": [
        "##Which year had the highest GOB?\n",
        "\n",
        "##The next report is getting the years with high gross over budget scores for all the movies. To do that, we should group the records based on title_year. \n",
        "##Pivot table in python is used to group columns and aggregate them based on numeric columns, as shown in the following code.\n",
        "\n",
        "# Group data based on movie year\n",
        "dataset_pivot=top_GOB.pivot_table(index=['title_year'], values=['GOB'], aggfunc=np.mean ,margins=True)\n",
        "\n",
        "##The year column in the dataset includes some missing values, we will ignore it.\n",
        "\n",
        "# # Some cells are empty in year column\n",
        "# dataset_pivot = dataset_pivot.loc[dataset_pivot['title_year'] > 0]\n",
        "# We do not need last record which includes the summary metric\n",
        "dataset_pivot = dataset_pivot[:-1]\n",
        "# As index changed after creating a pivot table, we reset the index\n",
        "dataset_pivot.reset_index(inplace=True)\n",
        "# Some cells are empty in year column\n",
        "# dataset_pivot =dataset_pivot.loc[dataset_pivot['title_year']>0]\n",
        "fig,ax = plt.subplots(figsize=(9, 8))\n",
        "ax=sns.barplot(x=\"title_year\", y=\"GOB\", data=dataset_pivot)\n",
        "fig.suptitle('GOB over the years', fontsize=12)\n",
        "plt.xlabel('Movie year')\n",
        "plt.show()"
      ],
      "execution_count": 97,
      "outputs": [
        {
          "output_type": "display_data",
          "data": {
            "image/png": "[encoded data removed]",
            "text/plain": [
              "<Figure size 648x576 with 1 Axes>"
            ]
          },
          "metadata": {
            "tags": []
          }
        }
      ]
    },
    {
      "cell_type": "code",
      "metadata": {
        "id": "lYc8aw2z-yI0",
        "colab_type": "code",
        "colab": {
          "base_uri": "https://localhost:8080/",
          "height": 269
        },
        "outputId": "7948aae4-6781-4706-be13-509a23529e11"
      },
      "source": [
        "###Can we cluster the movies based on their GOB/ IMDB scores?\n",
        "\n",
        "\"\"\"\n",
        "To this light, we can choose a clustering algorithm to find groups of data. the algorithm we use, \n",
        "depends on several factors including the nature of data, data size, number and types of features in our dataset, etc. I use the K-Means algorithm,one of the popular clustering algorithms, that works iteratively to assign each data point to one of K groups based on the \n",
        "features that are provided. Below, you can see how this algorithm works in the figure. Also, you can find more information about clustering at here.\n",
        "\n",
        "\n",
        "\n",
        "In our dataset, we are looking for a relation between a GOB and IMDB score to see whether or not we can cluster movies based on these two metrics. First, we need to specify the number of clusters we are looking for. I chose three. If you visualize your data in a scatter plot, you may guess about the number of groups you might get from the algorithm, but if not, do not worry. You can change the number of clusters afterwards and run the algorithm again to see if you get a better result or not! \n",
        "I use a simple scatter plot in Python to visualize these two metrics (the GOB and IMDB score) on a graph.\n",
        "\n",
        "\"\"\"\n",
        "\n",
        "plt.scatter(x=dataset['imdb_score'], y=dataset['GOB'])\n",
        "plt.show()"
      ],
      "execution_count": 100,
      "outputs": [
        {
          "output_type": "display_data",
          "data": {
            "image/png": "[encoded data removed]",
            "text/plain": [
              "<Figure size 432x288 with 1 Axes>"
            ]
          },
          "metadata": {
            "tags": []
          }
        }
      ]
    },
    {
      "cell_type": "code",
      "metadata": {
        "id": "AlSF-mOZAU9p",
        "colab_type": "code",
        "colab": {}
      },
      "source": [
        "##Now, I ask the algorithm to cluster my points into three groups.\n",
        "from sklearn.cluster import KMeans\n",
        "# Exclude the missing values and selecy only GOB and IMDB score\n",
        "selected_dataset=dataset.loc[\n",
        "(dataset['GOB']>0) & dataset['imdb_score']>0][['imdb_score','GOB']]\n",
        "# Clustering the dataset usinig K-Means algorithm\n",
        "cls = KMeans(n_clusters=3)\n",
        "# Fit the model into the algorithm\n",
        "cls.fit(selected_dataset)\n",
        "# Give me the center point and label of each group\n",
        "centroids=cls.cluster_centers_\n",
        "labels = cls.labels_"
      ],
      "execution_count": 0,
      "outputs": []
    },
    {
      "cell_type": "code",
      "metadata": {
        "id": "mHO6oCk2AjkQ",
        "colab_type": "code",
        "colab": {
          "base_uri": "https://localhost:8080/",
          "height": 269
        },
        "outputId": "3a5a64d0-cb28-46a0-9156-e485dcd8c479"
      },
      "source": [
        "##As the next step, I would like to color the points based on their groups and specify the center of each group with a marker (x).\n",
        "\n",
        "# We have three cluster, one color for each cluster\n",
        "colors = [\"g.\",\"r.\",\"b.\"]\n",
        "# Create an array of each dataset to traverse over the points\n",
        "dataset_array = np.array(selected_dataset)\n",
        "# ploting the point on a scatter plot\n",
        "for i in range(len(dataset_array)):\n",
        "    plt.plot(dataset_array[i][0], \n",
        "dataset_array[i][1], colors [labels[i]], markersize =25);\n",
        "\n",
        "plt.scatter(centroids[:,0], centroids[:,1], marker='x', s=150);\n",
        "\n",
        "\n",
        "\n",
        "\"\"\"\n",
        "We see three clusters in the figure. First cluster (blue), is the movies with the low GOB score (not sold well) and low IMDB score (not ranked well by IMDB users).\n",
        "The second cluster includes the movies with a very good IMDB score, but not very high GOB score. The third cluster includes few movies with IMDB scores between 7 and 8 and very high GOB. \n",
        "Like I said, this is a subset of movies, you can have a better interpretation when you apply the algorithm over all the movies.\n",
        "\"\"\""
      ],
      "execution_count": 103,
      "outputs": [
        {
          "output_type": "display_data",
          "data": {
            "image/png": "[encoded data removed]",
            "text/plain": [
              "<Figure size 432x288 with 1 Axes>"
            ]
          },
          "metadata": {
            "tags": []
          }
        }
      ]
    },
    {
      "cell_type": "code",
      "metadata": {
        "id": "fGi03VEwBCgf",
        "colab_type": "code",
        "colab": {}
      },
      "source": [
        "###Is there any relationship between IMDB score and Facebook likes of movies?\n",
        "\n",
        "\"\"\"\n",
        "To find a relationship between an IMDB score and Facebook likes, we can use regression algorithm. A simple Linear Regression \n",
        "can be used to model the relationship between a single input independent variable (in our case Facebook likes) and an output variable (e.g., IMDB score)\n",
        "using a linear model i.e a line. This is just an example. In reality we may not find a linear relationship between two variables in a dataset. Find more information about the regression algorithms here.\n",
        "First of all, we make the Facebook likes in a low scale, as they all have more than 10,000 likes, to better visualize the number in the graph.\n",
        "\"\"\""
      ],
      "execution_count": 0,
      "outputs": []
    }
  ]
}