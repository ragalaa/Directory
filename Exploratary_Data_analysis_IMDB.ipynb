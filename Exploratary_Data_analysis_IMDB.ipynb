{
  "nbformat": 4,
  "nbformat_minor": 0,
  "metadata": {
    "colab": {
      "name": "Exploratary Data analysis IMDB.ipynb",
      "provenance": [],
      "toc_visible": true,
      "include_colab_link": true
    },
    "kernelspec": {
      "name": "python3",
      "display_name": "Python 3"
    }
  },
  "cells": [
    {
      "cell_type": "markdown",
      "metadata": {
        "id": "view-in-github",
        "colab_type": "text"
      },
      "source": [
        "<a href=\"https://colab.research.google.com/github/ragalaa/Machine-Learning-Basics/blob/master/Exploratary_Data_analysis_IMDB.ipynb\" target=\"_parent\"><img src=\"https://colab.research.google.com/assets/colab-badge.svg\" alt=\"Open In Colab\"/></a>"
      ]
    },
    {
      "cell_type": "code",
      "metadata": {
        "id": "x7hc8fkQyvk2",
        "colab_type": "code",
        "colab": {}
      },
      "source": [
        "\"\"\"  Data clean up strategies\n",
        "\n",
        "  1.As you can see, there might be different types of errors in a dataset:\n",
        "Outliers: outliers are the numbers in a column that are out of range. In fact, an outlier \n",
        "lies outside of most of the other values in a dataset (red cells in the figure).\n",
        "Duplicates: A dataset can contain repetitive rows or records (purple rows in the figure).\n",
        "Missing values: We might lose data as the result of human error or missing information (orange cells in the figure).\n",
        "Bad character or NULL values: Some values may contain bad characters like ₮ or NULL values. \n",
        "Sometimes null data may be specified with different values like N/A or NA or NAN (light or dark cells in the figure).\n",
        "\n",
        "\n",
        "Nominal: an attribute can be categorical like color that can contain a set of restricted values (e.g., blue,red, brown, ... )\n",
        "Text: an attribute can be a free text or string.\n",
        "Numeric: an attribute can be numeric (e.g.,currency, scores).\n",
        "\n",
        "1.Standardize values\n",
        "2.Normalize values\n",
        "3.Data validation\n",
        "\n",
        "\"\"\""
      ],
      "execution_count": 0,
      "outputs": []
    },
    {
      "cell_type": "code",
      "metadata": {
        "id": "mH6gC2Xiy5W2",
        "colab_type": "code",
        "colab": {
          "base_uri": "https://localhost:8080/",
          "height": 72
        },
        "outputId": "74fb0327-d386-4436-cabf-2ee9cf761bfc"
      },
      "source": [
        "# !curl -O https://raw.githubusercontent.com/erajabi/Python_examples/master/movie_sample_dataset.csv"
      ],
      "execution_count": 2,
      "outputs": [
        {
          "output_type": "stream",
          "text": [
            "  % Total    % Received % Xferd  Average Speed   Time    Time     Time  Current\n",
            "                                 Dload  Upload   Total   Spent    Left  Speed\n",
            "\r  0     0    0     0    0     0      0      0 --:--:-- --:--:-- --:--:--     0\r100 15228  100 15228    0     0  71158      0 --:--:-- --:--:-- --:--:-- 71492\n"
          ],
          "name": "stdout"
        }
      ]
    },
    {
      "cell_type": "code",
      "metadata": {
        "id": "gSIi0f_My9kN",
        "colab_type": "code",
        "colab": {}
      },
      "source": [
        "import pandas as pd\n",
        "import numpy as np"
      ],
      "execution_count": 0,
      "outputs": []
    },
    {
      "cell_type": "code",
      "metadata": {
        "id": "HZ1soINVzQ29",
        "colab_type": "code",
        "colab": {}
      },
      "source": [
        "dataset = pd.read_csv('./movie_sample_dataset.csv',encoding='utf-8')\n",
        "# dataset.head()"
      ],
      "execution_count": 0,
      "outputs": []
    },
    {
      "cell_type": "code",
      "metadata": {
        "id": "1VBPYFzozoKM",
        "colab_type": "code",
        "colab": {}
      },
      "source": [
        "##First of all, we drop the useless columns:\n",
        "\n",
        "dataset.drop(['color','language'], axis= 1, inplace= True)\n"
      ],
      "execution_count": 0,
      "outputs": []
    },
    {
      "cell_type": "code",
      "metadata": {
        "id": "K8CA8eHi0AQ0",
        "colab_type": "code",
        "colab": {}
      },
      "source": [
        "##In the next step, we fill up the empty values of two numeric columns: gross and budget with 0.\n",
        "dataset['gross'].fillna(0, inplace=True)\n",
        "dataset['budget'].fillna(0, inplace=True)"
      ],
      "execution_count": 0,
      "outputs": []
    },
    {
      "cell_type": "code",
      "metadata": {
        "id": "UOMTcs9d0XSD",
        "colab_type": "code",
        "colab": {}
      },
      "source": [
        "##Then, we unify the values for other columns like country, director name, or movie title:\n",
        "# dataset"
      ],
      "execution_count": 0,
      "outputs": []
    },
    {
      "cell_type": "code",
      "metadata": {
        "id": "AhYDByxy0cyf",
        "colab_type": "code",
        "colab": {
          "base_uri": "https://localhost:8080/",
          "height": 374
        },
        "outputId": "dd3075df-937b-4c82-adbc-74b76708d9fd"
      },
      "source": [
        "# Uppercase all the country values\n",
        "dataset['country'] = dataset['country'].str.upper()\n",
        "dataset['country'] = np.where(dataset['country']=='UNITED STATES','USA', dataset['country'])\n",
        "dataset.head()\n",
        "\n"
      ],
      "execution_count": 114,
      "outputs": [
        {
          "output_type": "execute_result",
          "data": {
            "text/html": [
              "<div>\n",
              "<style scoped>\n",
              "    .dataframe tbody tr th:only-of-type {\n",
              "        vertical-align: middle;\n",
              "    }\n",
              "\n",
              "    .dataframe tbody tr th {\n",
              "        vertical-align: top;\n",
              "    }\n",
              "\n",
              "    .dataframe thead th {\n",
              "        text-align: right;\n",
              "    }\n",
              "</style>\n",
              "<table border=\"1\" class=\"dataframe\">\n",
              "  <thead>\n",
              "    <tr style=\"text-align: right;\">\n",
              "      <th></th>\n",
              "      <th>color</th>\n",
              "      <th>director_name</th>\n",
              "      <th>duration</th>\n",
              "      <th>gross</th>\n",
              "      <th>genres</th>\n",
              "      <th>movie_title</th>\n",
              "      <th>title_year</th>\n",
              "      <th>language</th>\n",
              "      <th>country</th>\n",
              "      <th>budget</th>\n",
              "      <th>imdb_score</th>\n",
              "      <th>movie_facebook_likes</th>\n",
              "      <th>GOB</th>\n",
              "      <th>actor1</th>\n",
              "      <th>actor2</th>\n",
              "      <th>actor3</th>\n",
              "    </tr>\n",
              "  </thead>\n",
              "  <tbody>\n",
              "    <tr>\n",
              "      <th>0</th>\n",
              "      <td>Color</td>\n",
              "      <td>Martin Scorsese</td>\n",
              "      <td>240</td>\n",
              "      <td>116866727.0</td>\n",
              "      <td>Biography|Comedy|Crime|Drama</td>\n",
              "      <td>The Wolf of Wall Street</td>\n",
              "      <td>2013</td>\n",
              "      <td>English</td>\n",
              "      <td>USA</td>\n",
              "      <td>100000000.0</td>\n",
              "      <td>8.2</td>\n",
              "      <td>138000</td>\n",
              "      <td>1.168667</td>\n",
              "      <td>Leonardo DiCaprio</td>\n",
              "      <td>Matthew McConaughey</td>\n",
              "      <td>Jon Favreau</td>\n",
              "    </tr>\n",
              "    <tr>\n",
              "      <th>1</th>\n",
              "      <td>Color</td>\n",
              "      <td>Shane Black</td>\n",
              "      <td>195</td>\n",
              "      <td>408992272.0</td>\n",
              "      <td>Action|Adventure|Sci-Fi</td>\n",
              "      <td>Iron Man 3</td>\n",
              "      <td>2013</td>\n",
              "      <td>English</td>\n",
              "      <td>USA</td>\n",
              "      <td>200000000.0</td>\n",
              "      <td>7.2</td>\n",
              "      <td>95000</td>\n",
              "      <td>2.044961</td>\n",
              "      <td>Robert Downey Jr.</td>\n",
              "      <td>Jon Favreau</td>\n",
              "      <td>Don Cheadle</td>\n",
              "    </tr>\n",
              "    <tr>\n",
              "      <th>2</th>\n",
              "      <td>color</td>\n",
              "      <td>Quentin Tarantino</td>\n",
              "      <td>187</td>\n",
              "      <td>54116191.0</td>\n",
              "      <td>Crime|Drama|Mystery|Thriller|Western</td>\n",
              "      <td>The Hateful Eight</td>\n",
              "      <td>2015</td>\n",
              "      <td>English</td>\n",
              "      <td>USA</td>\n",
              "      <td>44000000.0</td>\n",
              "      <td>7.9</td>\n",
              "      <td>114000</td>\n",
              "      <td>1.229913</td>\n",
              "      <td>Craig Stark</td>\n",
              "      <td>Jennifer Jason Leigh</td>\n",
              "      <td>Zoë Bell</td>\n",
              "    </tr>\n",
              "    <tr>\n",
              "      <th>3</th>\n",
              "      <td>Color</td>\n",
              "      <td>Kenneth Lonergan</td>\n",
              "      <td>186</td>\n",
              "      <td>46495.0</td>\n",
              "      <td>Drama</td>\n",
              "      <td>Margaret</td>\n",
              "      <td>2011</td>\n",
              "      <td>English</td>\n",
              "      <td>USA</td>\n",
              "      <td>14000000.0</td>\n",
              "      <td>6.5</td>\n",
              "      <td>0</td>\n",
              "      <td>0.003321</td>\n",
              "      <td>Matt Damon</td>\n",
              "      <td>Kieran Culkin</td>\n",
              "      <td>John Gallagher Jr.</td>\n",
              "    </tr>\n",
              "    <tr>\n",
              "      <th>4</th>\n",
              "      <td>Color</td>\n",
              "      <td>Peter Jackson</td>\n",
              "      <td>186</td>\n",
              "      <td>258355354.0</td>\n",
              "      <td>Adventure|Fantasy</td>\n",
              "      <td>The Hobbit: The Desolation of Smaug</td>\n",
              "      <td>2013</td>\n",
              "      <td>English</td>\n",
              "      <td>USA</td>\n",
              "      <td>225000000.0</td>\n",
              "      <td>7.9</td>\n",
              "      <td>83000</td>\n",
              "      <td>1.148246</td>\n",
              "      <td>Aidan Turner</td>\n",
              "      <td>Adam Brown</td>\n",
              "      <td>James Nesbitt</td>\n",
              "    </tr>\n",
              "  </tbody>\n",
              "</table>\n",
              "</div>"
            ],
            "text/plain": [
              "    color      director_name  ...                actor2              actor3\n",
              "0   Color    Martin Scorsese  ...   Matthew McConaughey         Jon Favreau\n",
              "1   Color        Shane Black  ...           Jon Favreau         Don Cheadle\n",
              "2  color   Quentin Tarantino  ...  Jennifer Jason Leigh            Zoë Bell\n",
              "3   Color   Kenneth Lonergan  ...         Kieran Culkin  John Gallagher Jr.\n",
              "4   Color      Peter Jackson  ...            Adam Brown       James Nesbitt\n",
              "\n",
              "[5 rows x 16 columns]"
            ]
          },
          "metadata": {
            "tags": []
          },
          "execution_count": 114
        }
      ]
    },
    {
      "cell_type": "code",
      "metadata": {
        "id": "54EvQMMj1SZV",
        "colab_type": "code",
        "colab": {}
      },
      "source": [
        "# Bad data entry\n",
        "dataset['director_name'] = np.where(dataset['director_name']=='N/A','', dataset['director_name'])\n",
        "dataset['director_name'] = np.where(dataset['director_name']=='NaN','', dataset['director_name'])\n",
        "dataset['director_name'] = np.where(dataset['director_name']=='Null','', dataset['director_name'])\n",
        "\n",
        "dataset['movie_title'] = dataset['movie_title'].str.replace('Â', '')\n"
      ],
      "execution_count": 0,
      "outputs": []
    },
    {
      "cell_type": "code",
      "metadata": {
        "id": "Rt5vWpx42NqH",
        "colab_type": "code",
        "colab": {}
      },
      "source": [
        "\"\"\"\n",
        "As I mentioned above, one of the solutions to handle the outliers, is filling the correspondent rows with appropriate numbers. \n",
        "For example, movie duration in our dataset cannot be less than 10 or more than 300 minutes. \n",
        "For those cases, we fill up the cells with zero values.\n",
        "\"\"\"\n",
        "\n",
        "dataset['duration'] = np.where(dataset['duration']<=10,0, dataset['duration'])\n",
        "dataset['duration'] = np.where(dataset['duration']>300,0, dataset['duration'])\n",
        "dataset['imdb_score'] = np.where(dataset['imdb_score']<=0,0, dataset['imdb_score'])\n",
        "dataset['title_year'] = np.where(dataset['title_year']<2010,0, dataset['title_year'])"
      ],
      "execution_count": 0,
      "outputs": []
    },
    {
      "cell_type": "code",
      "metadata": {
        "id": "hYhURGMY3l96",
        "colab_type": "code",
        "colab": {
          "base_uri": "https://localhost:8080/",
          "height": 740
        },
        "outputId": "e8c74c16-5ed1-46bf-ac30-0c1c3eeec82a"
      },
      "source": [
        "\"\"\"\n",
        "\n",
        "To normalize data, we split up actors into three different attributes and drop the actual column as follows:\n",
        "\"\"\"\n",
        "\n",
        "actor_list = dataset['actors'].str.split(',',n=2 , expand = True)\n",
        "\n",
        "dataset[\"actor1\"]= actor_list[0] \n",
        "dataset[\"actor2\"]= actor_list[1] \n",
        "dataset[\"actor3\"]= actor_list[2] \n",
        "dataset.drop(columns=['actors'], inplace=True)\n",
        "dataset.head()\n",
        "\n"
      ],
      "execution_count": 113,
      "outputs": [
        {
          "output_type": "error",
          "ename": "KeyError",
          "evalue": "ignored",
          "traceback": [
            "\u001b[0;31m---------------------------------------------------------------------------\u001b[0m",
            "\u001b[0;31mKeyError\u001b[0m                                  Traceback (most recent call last)",
            "\u001b[0;32m/usr/local/lib/python3.6/dist-packages/pandas/core/indexes/base.py\u001b[0m in \u001b[0;36mget_loc\u001b[0;34m(self, key, method, tolerance)\u001b[0m\n\u001b[1;32m   2656\u001b[0m             \u001b[0;32mtry\u001b[0m\u001b[0;34m:\u001b[0m\u001b[0;34m\u001b[0m\u001b[0;34m\u001b[0m\u001b[0m\n\u001b[0;32m-> 2657\u001b[0;31m                 \u001b[0;32mreturn\u001b[0m \u001b[0mself\u001b[0m\u001b[0;34m.\u001b[0m\u001b[0m_engine\u001b[0m\u001b[0;34m.\u001b[0m\u001b[0mget_loc\u001b[0m\u001b[0;34m(\u001b[0m\u001b[0mkey\u001b[0m\u001b[0;34m)\u001b[0m\u001b[0;34m\u001b[0m\u001b[0;34m\u001b[0m\u001b[0m\n\u001b[0m\u001b[1;32m   2658\u001b[0m             \u001b[0;32mexcept\u001b[0m \u001b[0mKeyError\u001b[0m\u001b[0;34m:\u001b[0m\u001b[0;34m\u001b[0m\u001b[0;34m\u001b[0m\u001b[0m\n",
            "\u001b[0;32mpandas/_libs/index.pyx\u001b[0m in \u001b[0;36mpandas._libs.index.IndexEngine.get_loc\u001b[0;34m()\u001b[0m\n",
            "\u001b[0;32mpandas/_libs/index.pyx\u001b[0m in \u001b[0;36mpandas._libs.index.IndexEngine.get_loc\u001b[0;34m()\u001b[0m\n",
            "\u001b[0;32mpandas/_libs/hashtable_class_helper.pxi\u001b[0m in \u001b[0;36mpandas._libs.hashtable.PyObjectHashTable.get_item\u001b[0;34m()\u001b[0m\n",
            "\u001b[0;32mpandas/_libs/hashtable_class_helper.pxi\u001b[0m in \u001b[0;36mpandas._libs.hashtable.PyObjectHashTable.get_item\u001b[0;34m()\u001b[0m\n",
            "\u001b[0;31mKeyError\u001b[0m: 'actors'",
            "\nDuring handling of the above exception, another exception occurred:\n",
            "\u001b[0;31mKeyError\u001b[0m                                  Traceback (most recent call last)",
            "\u001b[0;32m<ipython-input-113-850a5d977e6b>\u001b[0m in \u001b[0;36m<module>\u001b[0;34m()\u001b[0m\n\u001b[1;32m      4\u001b[0m \"\"\"\n\u001b[1;32m      5\u001b[0m \u001b[0;34m\u001b[0m\u001b[0m\n\u001b[0;32m----> 6\u001b[0;31m \u001b[0mactor_list\u001b[0m \u001b[0;34m=\u001b[0m \u001b[0mdataset\u001b[0m\u001b[0;34m[\u001b[0m\u001b[0;34m'actors'\u001b[0m\u001b[0;34m]\u001b[0m\u001b[0;34m.\u001b[0m\u001b[0mstr\u001b[0m\u001b[0;34m.\u001b[0m\u001b[0msplit\u001b[0m\u001b[0;34m(\u001b[0m\u001b[0;34m','\u001b[0m\u001b[0;34m,\u001b[0m\u001b[0mn\u001b[0m\u001b[0;34m=\u001b[0m\u001b[0;36m2\u001b[0m \u001b[0;34m,\u001b[0m \u001b[0mexpand\u001b[0m \u001b[0;34m=\u001b[0m \u001b[0;32mTrue\u001b[0m\u001b[0;34m)\u001b[0m\u001b[0;34m\u001b[0m\u001b[0;34m\u001b[0m\u001b[0m\n\u001b[0m\u001b[1;32m      7\u001b[0m \u001b[0;34m\u001b[0m\u001b[0m\n\u001b[1;32m      8\u001b[0m \u001b[0mdataset\u001b[0m\u001b[0;34m[\u001b[0m\u001b[0;34m\"actor1\"\u001b[0m\u001b[0;34m]\u001b[0m\u001b[0;34m=\u001b[0m \u001b[0mactor_list\u001b[0m\u001b[0;34m[\u001b[0m\u001b[0;36m0\u001b[0m\u001b[0;34m]\u001b[0m\u001b[0;34m\u001b[0m\u001b[0;34m\u001b[0m\u001b[0m\n",
            "\u001b[0;32m/usr/local/lib/python3.6/dist-packages/pandas/core/frame.py\u001b[0m in \u001b[0;36m__getitem__\u001b[0;34m(self, key)\u001b[0m\n\u001b[1;32m   2925\u001b[0m             \u001b[0;32mif\u001b[0m \u001b[0mself\u001b[0m\u001b[0;34m.\u001b[0m\u001b[0mcolumns\u001b[0m\u001b[0;34m.\u001b[0m\u001b[0mnlevels\u001b[0m \u001b[0;34m>\u001b[0m \u001b[0;36m1\u001b[0m\u001b[0;34m:\u001b[0m\u001b[0;34m\u001b[0m\u001b[0;34m\u001b[0m\u001b[0m\n\u001b[1;32m   2926\u001b[0m                 \u001b[0;32mreturn\u001b[0m \u001b[0mself\u001b[0m\u001b[0;34m.\u001b[0m\u001b[0m_getitem_multilevel\u001b[0m\u001b[0;34m(\u001b[0m\u001b[0mkey\u001b[0m\u001b[0;34m)\u001b[0m\u001b[0;34m\u001b[0m\u001b[0;34m\u001b[0m\u001b[0m\n\u001b[0;32m-> 2927\u001b[0;31m             \u001b[0mindexer\u001b[0m \u001b[0;34m=\u001b[0m \u001b[0mself\u001b[0m\u001b[0;34m.\u001b[0m\u001b[0mcolumns\u001b[0m\u001b[0;34m.\u001b[0m\u001b[0mget_loc\u001b[0m\u001b[0;34m(\u001b[0m\u001b[0mkey\u001b[0m\u001b[0;34m)\u001b[0m\u001b[0;34m\u001b[0m\u001b[0;34m\u001b[0m\u001b[0m\n\u001b[0m\u001b[1;32m   2928\u001b[0m             \u001b[0;32mif\u001b[0m \u001b[0mis_integer\u001b[0m\u001b[0;34m(\u001b[0m\u001b[0mindexer\u001b[0m\u001b[0;34m)\u001b[0m\u001b[0;34m:\u001b[0m\u001b[0;34m\u001b[0m\u001b[0;34m\u001b[0m\u001b[0m\n\u001b[1;32m   2929\u001b[0m                 \u001b[0mindexer\u001b[0m \u001b[0;34m=\u001b[0m \u001b[0;34m[\u001b[0m\u001b[0mindexer\u001b[0m\u001b[0;34m]\u001b[0m\u001b[0;34m\u001b[0m\u001b[0;34m\u001b[0m\u001b[0m\n",
            "\u001b[0;32m/usr/local/lib/python3.6/dist-packages/pandas/core/indexes/base.py\u001b[0m in \u001b[0;36mget_loc\u001b[0;34m(self, key, method, tolerance)\u001b[0m\n\u001b[1;32m   2657\u001b[0m                 \u001b[0;32mreturn\u001b[0m \u001b[0mself\u001b[0m\u001b[0;34m.\u001b[0m\u001b[0m_engine\u001b[0m\u001b[0;34m.\u001b[0m\u001b[0mget_loc\u001b[0m\u001b[0;34m(\u001b[0m\u001b[0mkey\u001b[0m\u001b[0;34m)\u001b[0m\u001b[0;34m\u001b[0m\u001b[0;34m\u001b[0m\u001b[0m\n\u001b[1;32m   2658\u001b[0m             \u001b[0;32mexcept\u001b[0m \u001b[0mKeyError\u001b[0m\u001b[0;34m:\u001b[0m\u001b[0;34m\u001b[0m\u001b[0;34m\u001b[0m\u001b[0m\n\u001b[0;32m-> 2659\u001b[0;31m                 \u001b[0;32mreturn\u001b[0m \u001b[0mself\u001b[0m\u001b[0;34m.\u001b[0m\u001b[0m_engine\u001b[0m\u001b[0;34m.\u001b[0m\u001b[0mget_loc\u001b[0m\u001b[0;34m(\u001b[0m\u001b[0mself\u001b[0m\u001b[0;34m.\u001b[0m\u001b[0m_maybe_cast_indexer\u001b[0m\u001b[0;34m(\u001b[0m\u001b[0mkey\u001b[0m\u001b[0;34m)\u001b[0m\u001b[0;34m)\u001b[0m\u001b[0;34m\u001b[0m\u001b[0;34m\u001b[0m\u001b[0m\n\u001b[0m\u001b[1;32m   2660\u001b[0m         \u001b[0mindexer\u001b[0m \u001b[0;34m=\u001b[0m \u001b[0mself\u001b[0m\u001b[0;34m.\u001b[0m\u001b[0mget_indexer\u001b[0m\u001b[0;34m(\u001b[0m\u001b[0;34m[\u001b[0m\u001b[0mkey\u001b[0m\u001b[0;34m]\u001b[0m\u001b[0;34m,\u001b[0m \u001b[0mmethod\u001b[0m\u001b[0;34m=\u001b[0m\u001b[0mmethod\u001b[0m\u001b[0;34m,\u001b[0m \u001b[0mtolerance\u001b[0m\u001b[0;34m=\u001b[0m\u001b[0mtolerance\u001b[0m\u001b[0;34m)\u001b[0m\u001b[0;34m\u001b[0m\u001b[0;34m\u001b[0m\u001b[0m\n\u001b[1;32m   2661\u001b[0m         \u001b[0;32mif\u001b[0m \u001b[0mindexer\u001b[0m\u001b[0;34m.\u001b[0m\u001b[0mndim\u001b[0m \u001b[0;34m>\u001b[0m \u001b[0;36m1\u001b[0m \u001b[0;32mor\u001b[0m \u001b[0mindexer\u001b[0m\u001b[0;34m.\u001b[0m\u001b[0msize\u001b[0m \u001b[0;34m>\u001b[0m \u001b[0;36m1\u001b[0m\u001b[0;34m:\u001b[0m\u001b[0;34m\u001b[0m\u001b[0;34m\u001b[0m\u001b[0m\n",
            "\u001b[0;32mpandas/_libs/index.pyx\u001b[0m in \u001b[0;36mpandas._libs.index.IndexEngine.get_loc\u001b[0;34m()\u001b[0m\n",
            "\u001b[0;32mpandas/_libs/index.pyx\u001b[0m in \u001b[0;36mpandas._libs.index.IndexEngine.get_loc\u001b[0;34m()\u001b[0m\n",
            "\u001b[0;32mpandas/_libs/hashtable_class_helper.pxi\u001b[0m in \u001b[0;36mpandas._libs.hashtable.PyObjectHashTable.get_item\u001b[0;34m()\u001b[0m\n",
            "\u001b[0;32mpandas/_libs/hashtable_class_helper.pxi\u001b[0m in \u001b[0;36mpandas._libs.hashtable.PyObjectHashTable.get_item\u001b[0;34m()\u001b[0m\n",
            "\u001b[0;31mKeyError\u001b[0m: 'actors'"
          ]
        }
      ]
    },
    {
      "cell_type": "code",
      "metadata": {
        "id": "Xu4POW2V3_bb",
        "colab_type": "code",
        "colab": {}
      },
      "source": [
        "#And finally, we define a new metric called GOB that shows gross over budget for each movie:\n",
        "\n",
        "# Add a new metric GOB(Gross over Budget)\n",
        "dataset['GOB'] = dataset.apply(lambda row: row['gross']/row['budget'] if row['budget']!=0 else 0, axis=1)\n",
        "top_GOB=dataset.sort_values('GOB',ascending=False).head(15)\n"
      ],
      "execution_count": 0,
      "outputs": []
    },
    {
      "cell_type": "code",
      "metadata": {
        "id": "b1-OtXJT5Wgo",
        "colab_type": "code",
        "colab": {}
      },
      "source": [
        "###As we have the directors’ full names, I add another column to shorten their names to better visualize them in a graph. To do that, \n",
        "###I just take the second part of the name, which might be their family name.\n",
        "\n",
        "top_GOB['director_familyName'] = dataset[\"director_name\"].str.split(\" \", n = 2, expand = True) [1]\n"
      ],
      "execution_count": 0,
      "outputs": []
    },
    {
      "cell_type": "code",
      "metadata": {
        "id": "Ln2VsA0h89En",
        "colab_type": "code",
        "colab": {}
      },
      "source": [
        "### Step :2  visualizationThe next step is simply visualizing them in a simple bar chart, as follows:\n",
        "\n",
        "import matplotlib.pyplot as plt\n",
        "import seaborn as sns"
      ],
      "execution_count": 0,
      "outputs": []
    },
    {
      "cell_type": "code",
      "metadata": {
        "id": "wPSEAL988t6w",
        "colab_type": "code",
        "colab": {
          "base_uri": "https://localhost:8080/",
          "height": 431
        },
        "outputId": "aab9b88c-d351-48c6-e340-6aa49fab337a"
      },
      "source": [
        "fig,ax = plt.subplots(figsize=(7, 5))\n",
        "# Draw a bar graph\n",
        "ax = sns.barplot(x='director_familyName', y='GOB', data=top_GOB,ci=None)\n",
        "# Rotate the directors' name 45 degrees \n",
        "ax.set_xticklabels(ax.get_xticklabels(), rotation=45)\n",
        "# Title the graph\n",
        "fig.suptitle('Top movie directors with highest GOB', fontsize=12)\n",
        "# Set font size of axis label\n",
        "ax.set_xlabel('Direcot name',fontsize=20)\n",
        "ax.set_ylabel('Gross over Budget',fontsize=20)\n",
        "# Set tick size of axis \n",
        "ax.tick_params(axis='x', labelsize=15)\n",
        "ax.tick_params(axis='y', labelsize=15)\n",
        "#Show the graph\n",
        "plt.show();"
      ],
      "execution_count": 85,
      "outputs": [
        {
          "output_type": "display_data",
          "data": {
            "image/png": "[encoded data removed]",
            "text/plain": [
              "<Figure size 504x360 with 1 Axes>"
            ]
          },
          "metadata": {
            "tags": []
          }
        }
      ]
    },
    {
      "cell_type": "code",
      "metadata": {
        "id": "iguyEZ9z9wER",
        "colab_type": "code",
        "colab": {
          "base_uri": "https://localhost:8080/",
          "height": 554
        },
        "outputId": "b83ea8b9-2d86-4c22-b250-8ea6c155b805"
      },
      "source": [
        "##Which year had the highest GOB?\n",
        "\n",
        "##The next report is getting the years with high gross over budget scores for all the movies. To do that, we should group the records based on title_year. \n",
        "##Pivot table in python is used to group columns and aggregate them based on numeric columns, as shown in the following code.\n",
        "\n",
        "# Group data based on movie year\n",
        "dataset_pivot=top_GOB.pivot_table(index=['title_year'], values=['GOB'], aggfunc=np.mean ,margins=True)\n",
        "\n",
        "##The year column in the dataset includes some missing values, we will ignore it.\n",
        "\n",
        "# # Some cells are empty in year column\n",
        "# dataset_pivot = dataset_pivot.loc[dataset_pivot['title_year'] > 0]\n",
        "# We do not need last record which includes the summary metric\n",
        "dataset_pivot = dataset_pivot[:-1]\n",
        "# As index changed after creating a pivot table, we reset the index\n",
        "dataset_pivot.reset_index(inplace=True)\n",
        "# Some cells are empty in year column\n",
        "# dataset_pivot =dataset_pivot.loc[dataset_pivot['title_year']>0]\n",
        "fig,ax = plt.subplots(figsize=(9, 8))\n",
        "ax=sns.barplot(x=\"title_year\", y=\"GOB\", data=dataset_pivot)\n",
        "fig.suptitle('GOB over the years', fontsize=12)\n",
        "plt.xlabel('Movie year')\n",
        "plt.show()"
      ],
      "execution_count": 97,
      "outputs": [
        {
          "output_type": "display_data",
          "data": {
            "image/png": "[encoded data removed]",
            "text/plain": [
              "<Figure size 648x576 with 1 Axes>"
            ]
          },
          "metadata": {
            "tags": []
          }
        }
      ]
    },
    {
      "cell_type": "code",
      "metadata": {
        "id": "lYc8aw2z-yI0",
        "colab_type": "code",
        "colab": {
          "base_uri": "https://localhost:8080/",
          "height": 269
        },
        "outputId": "7948aae4-6781-4706-be13-509a23529e11"
      },
      "source": [
        "###Can we cluster the movies based on their GOB/ IMDB scores?\n",
        "\n",
        "\"\"\"\n",
        "To this light, we can choose a clustering algorithm to find groups of data. the algorithm we use, \n",
        "depends on several factors including the nature of data, data size, number and types of features in our dataset, etc. I use the K-Means algorithm,one of the popular clustering algorithms, that works iteratively to assign each data point to one of K groups based on the \n",
        "features that are provided. Below, you can see how this algorithm works in the figure. Also, you can find more information about clustering at here.\n",
        "\n",
        "\n",
        "\n",
        "In our dataset, we are looking for a relation between a GOB and IMDB score to see whether or not we can cluster movies based on these two metrics. First, we need to specify the number of clusters we are looking for. I chose three. If you visualize your data in a scatter plot, you may guess about the number of groups you might get from the algorithm, but if not, do not worry. You can change the number of clusters afterwards and run the algorithm again to see if you get a better result or not! \n",
        "I use a simple scatter plot in Python to visualize these two metrics (the GOB and IMDB score) on a graph.\n",
        "\n",
        "\"\"\"\n",
        "\n",
        "plt.scatter(x=dataset['imdb_score'], y=dataset['GOB'])\n",
        "plt.show()"
      ],
      "execution_count": 100,
      "outputs": [
        {
          "output_type": "display_data",
          "data": {
            "image/png": "[encoded data removed]",
            "text/plain": [
              "<Figure size 432x288 with 1 Axes>"
            ]
          },
          "metadata": {
            "tags": []
          }
        }
      ]
    },
    {
      "cell_type": "code",
      "metadata": {
        "id": "AlSF-mOZAU9p",
        "colab_type": "code",
        "colab": {}
      },
      "source": [
        "##Now, I ask the algorithm to cluster my points into three groups.\n",
        "from sklearn.cluster import KMeans\n",
        "# Exclude the missing values and selecy only GOB and IMDB score\n",
        "selected_dataset=dataset.loc[\n",
        "(dataset['GOB']>0) & dataset['imdb_score']>0][['imdb_score','GOB']]\n",
        "# Clustering the dataset usinig K-Means algorithm\n",
        "cls = KMeans(n_clusters=2)\n",
        "# Fit the model into the algorithm\n",
        "cls.fit(selected_dataset)\n",
        "# Give me the center point and label of each group\n",
        "centroids=cls.cluster_centers_\n",
        "labels = cls.labels_\n",
        "# centroids\n",
        "# red = selected_dataset[labels == 1]\n",
        "# red\n",
        "# green = selected_dataset[labels == 0]\n",
        "# green"
      ],
      "execution_count": 0,
      "outputs": []
    },
    {
      "cell_type": "code",
      "metadata": {
        "id": "mHO6oCk2AjkQ",
        "colab_type": "code",
        "colab": {
          "base_uri": "https://localhost:8080/",
          "height": 311
        },
        "outputId": "dbc133bb-ac6c-4940-b185-0abcd398e9c8"
      },
      "source": [
        "##As the next step, I would like to color the points based on their groups and specify the center of each group with a marker (x).\n",
        "\n",
        "# We have three cluster, one color for each cluster\n",
        "colors = [\"g.\",\"r.\",\"b.\",\"y.\",\"p\"]\n",
        "# Create an array of each dataset to traverse over the points\n",
        "dataset_array = np.array(selected_dataset)\n",
        "\n",
        "# ploting the point on a scatter plot\n",
        "for i in range(len(dataset_array)):\n",
        "    plt.plot(dataset_array[i][0], dataset_array[i][1], colors [labels[i]], markersize =25);\n",
        "    plt.scatter(centroids[:,0], centroids[:,1], marker='x', s=150);\n",
        "\n",
        "\n",
        "\n",
        "\"\"\"\n",
        "We see three clusters in the figure. First cluster (blue), is the movies with the low GOB score (not sold well) and low IMDB score (not ranked well by IMDB users).\n",
        "The second cluster includes the movies with a very good IMDB score, but not very high GOB score. The third cluster includes few movies with IMDB scores between 7 and 8 and very high GOB. \n",
        "Like I said, this is a subset of movies, you can have a better interpretation when you apply the algorithm over all the movies.\n",
        "\"\"\""
      ],
      "execution_count": 212,
      "outputs": [
        {
          "output_type": "execute_result",
          "data": {
            "text/plain": [
              "'\\nWe see three clusters in the figure. First cluster (blue), is the movies with the low GOB score (not sold well) and low IMDB score (not ranked well by IMDB users).\\nThe second cluster includes the movies with a very good IMDB score, but not very high GOB score. The third cluster includes few movies with IMDB scores between 7 and 8 and very high GOB. \\nLike I said, this is a subset of movies, you can have a better interpretation when you apply the algorithm over all the movies.\\n'"
            ]
          },
          "metadata": {
            "tags": []
          },
          "execution_count": 212
        },
        {
          "output_type": "display_data",
          "data": {
            "image/png": "[encoded data removed]",
            "text/plain": [
              "<Figure size 432x288 with 1 Axes>"
            ]
          },
          "metadata": {
            "tags": []
          }
        }
      ]
    },
    {
      "cell_type": "code",
      "metadata": {
        "id": "fGi03VEwBCgf",
        "colab_type": "code",
        "colab": {}
      },
      "source": [
        "###Is there any relationship between IMDB score and Facebook likes of movies?\n",
        "\n",
        "\"\"\"\n",
        "To find a relationship between an IMDB score and Facebook likes, we can use regression algorithm. A simple Linear Regression \n",
        "can be used to model the relationship between a single input independent variable (in our case Facebook likes) and an output variable (e.g., IMDB score)\n",
        "using a linear model i.e a line. This is just an example. In reality we may not find a linear relationship between two variables in a dataset. Find more information about the regression algorithms here.\n",
        "\n",
        "\"\"\""
      ],
      "execution_count": 0,
      "outputs": []
    },
    {
      "cell_type": "code",
      "metadata": {
        "id": "9UM2-xQPYuUd",
        "colab_type": "code",
        "colab": {
          "base_uri": "https://localhost:8080/",
          "height": 198
        },
        "outputId": "33720e51-91b9-4f41-d530-38ea95e5c5ef"
      },
      "source": [
        "###First of all, we make the Facebook likes in a low scale, as they all have more than 10,000 likes, to better visualize the number in the graph.\n",
        "selected_dataset['movie_facebook_likes']=dataset['movie_facebook_likes'].apply(lambda row: row/10000)\n",
        "selected_dataset.head()"
      ],
      "execution_count": 156,
      "outputs": [
        {
          "output_type": "execute_result",
          "data": {
            "text/html": [
              "<div>\n",
              "<style scoped>\n",
              "    .dataframe tbody tr th:only-of-type {\n",
              "        vertical-align: middle;\n",
              "    }\n",
              "\n",
              "    .dataframe tbody tr th {\n",
              "        vertical-align: top;\n",
              "    }\n",
              "\n",
              "    .dataframe thead th {\n",
              "        text-align: right;\n",
              "    }\n",
              "</style>\n",
              "<table border=\"1\" class=\"dataframe\">\n",
              "  <thead>\n",
              "    <tr style=\"text-align: right;\">\n",
              "      <th></th>\n",
              "      <th>imdb_score</th>\n",
              "      <th>GOB</th>\n",
              "      <th>movie_facebook_likes</th>\n",
              "    </tr>\n",
              "  </thead>\n",
              "  <tbody>\n",
              "    <tr>\n",
              "      <th>0</th>\n",
              "      <td>8.2</td>\n",
              "      <td>1.168667</td>\n",
              "      <td>13.8</td>\n",
              "    </tr>\n",
              "    <tr>\n",
              "      <th>1</th>\n",
              "      <td>7.2</td>\n",
              "      <td>2.044961</td>\n",
              "      <td>9.5</td>\n",
              "    </tr>\n",
              "    <tr>\n",
              "      <th>2</th>\n",
              "      <td>7.9</td>\n",
              "      <td>1.229913</td>\n",
              "      <td>11.4</td>\n",
              "    </tr>\n",
              "    <tr>\n",
              "      <th>3</th>\n",
              "      <td>6.5</td>\n",
              "      <td>0.003321</td>\n",
              "      <td>0.0</td>\n",
              "    </tr>\n",
              "    <tr>\n",
              "      <th>4</th>\n",
              "      <td>7.9</td>\n",
              "      <td>1.148246</td>\n",
              "      <td>8.3</td>\n",
              "    </tr>\n",
              "  </tbody>\n",
              "</table>\n",
              "</div>"
            ],
            "text/plain": [
              "   imdb_score       GOB  movie_facebook_likes\n",
              "0         8.2  1.168667                  13.8\n",
              "1         7.2  2.044961                   9.5\n",
              "2         7.9  1.229913                  11.4\n",
              "3         6.5  0.003321                   0.0\n",
              "4         7.9  1.148246                   8.3"
            ]
          },
          "metadata": {
            "tags": []
          },
          "execution_count": 156
        }
      ]
    },
    {
      "cell_type": "code",
      "metadata": {
        "id": "mBhoIUGFY74W",
        "colab_type": "code",
        "colab": {
          "base_uri": "https://localhost:8080/",
          "height": 284
        },
        "outputId": "7a8eee35-f192-4137-e9ad-036cef1e26d6"
      },
      "source": [
        "###Then we specify the X and Y axis to be used the regression graph:\n",
        "import pandas as pd\n",
        "X = dataset['budget'].values[:,np.newaxis]\n",
        "y = selected_dataset['movie_facebook_likes'].values\n",
        "\n",
        "\n",
        "ax=sns.regplot('imdb_score', 'movie_facebook_likes',  selected_dataset);\n"
      ],
      "execution_count": 160,
      "outputs": [
        {
          "output_type": "display_data",
          "data": {
            "image/png": "[encoded data removed]",
            "text/plain": [
              "<Figure size 432x288 with 1 Axes>"
            ]
          },
          "metadata": {
            "tags": []
          }
        }
      ]
    },
    {
      "cell_type": "code",
      "metadata": {
        "id": "pq1cPj9za5gz",
        "colab_type": "code",
        "colab": {
          "base_uri": "https://localhost:8080/",
          "height": 283
        },
        "outputId": "6850f946-26cf-4625-fbfa-fd9f65739d76"
      },
      "source": [
        "#Then we set the other configurations to make the graph more readable and fancy:\n",
        "\n",
        "fig.suptitle(' Relation between IMDB score and facebook likes ', fontsize=15)\n",
        "# Set x-axis label\n",
        "plt.xlabel('IMDB score');\n",
        "# Set y-axis label\n",
        "plt.ylabel('Facebook like (10K)');\n",
        "fig.set_size_inches(9,8)\n",
        "font = {'family' : 'Arial',\n",
        "        'size'   : 14}\n",
        "plt.rc('font', **font);\n",
        "plt.show();"
      ],
      "execution_count": 161,
      "outputs": [
        {
          "output_type": "display_data",
          "data": {
            "image/png": "[encoded data removed]",
            "text/plain": [
              "<Figure size 432x288 with 1 Axes>"
            ]
          },
          "metadata": {
            "tags": []
          }
        }
      ]
    },
    {
      "cell_type": "code",
      "metadata": {
        "id": "mjGVXjaCevSl",
        "colab_type": "code",
        "colab": {
          "base_uri": "https://localhost:8080/",
          "height": 291
        },
        "outputId": "c9b77412-54e7-4ded-d687-c9c85494ff6e"
      },
      "source": [
        "ax=sns.regplot('imdb_score', 'movie_facebook_likes',  selected_dataset, ci=80, scatter_kws={\"s\":100}, order=2, fit_reg=True,color=\"g\");"
      ],
      "execution_count": 178,
      "outputs": [
        {
          "output_type": "display_data",
          "data": {
            "image/png": "[encoded data removed]",
            "text/plain": [
              "<Figure size 432x288 with 1 Axes>"
            ]
          },
          "metadata": {
            "tags": []
          }
        }
      ]
    },
    {
      "cell_type": "code",
      "metadata": {
        "id": "oKMc15ghfNs8",
        "colab_type": "code",
        "colab": {
          "base_uri": "https://localhost:8080/",
          "height": 526
        },
        "outputId": "afd19e37-f310-45b8-94b3-6f37c7f2a754"
      },
      "source": [
        "\"\"\"\n",
        "Based on this graph, there is a linear relationship between movies’ IMDB score and their Facebook likes, which means a higher IMDB score results higher Facebook likes.\n",
        "Having said that, we can use a simple linear regression algorithm to predict \n",
        "Facebook likes of a movie based on its IMDB score. In the following code, a movie with IMDB score 8.3 has an estimation of 111,000 likes.\n",
        "\"\"\"\n",
        "from sklearn.linear_model import LinearRegression\n",
        "# Assign imdb_score to X as one of our variables\n",
        "X = selected_dataset['imdb_score'].values[:,np.newaxis]\n",
        "# Assign Facebook likes to Y\n",
        "y = selected_dataset['movie_facebook_likes'].values\n",
        "# Specify the type of mode\n",
        "model = LinearRegression()\n",
        "# Fit the model with X and y\n",
        "model.fit(X, y)\n",
        "# IMDB score input for our prediction\n",
        "IMDB_score=8.5\n",
        "X_test=np.array([IMDB_score]).reshape(1,-1)\n",
        "# make a prediction based on linear regression\n",
        "y_predict = model.predict(X_test)\n",
        "print('Facebook likes estimation (10K):',y_predict)\n",
        "fig,ax = plt.subplots(figsize=(9, 8))\n",
        "# Set x-axis label\n",
        "plt.xlabel('IMDB score');\n",
        "# Set y-axis label\n",
        "plt.ylabel('Facebook like (10K)');\n",
        "# Visualize data and the linear regression line\n",
        "plt.scatter(X, y,color='b')\n",
        "plt.plot(X, model.predict(X),color='g')\n",
        "# Plot the prediction point with a color and size\n",
        "plt.scatter(X_test, y_predict, color='r', s=1000) \n",
        "plt.show()"
      ],
      "execution_count": 175,
      "outputs": [
        {
          "output_type": "stream",
          "text": [
            "Facebook likes estimation (10K): [8.36754048]\n"
          ],
          "name": "stdout"
        },
        {
          "output_type": "display_data",
          "data": {
            "image/png": "[encoded data removed]",
            "text/plain": [
              "<Figure size 648x576 with 1 Axes>"
            ]
          },
          "metadata": {
            "tags": []
          }
        }
      ]
    },
    {
      "cell_type": "code",
      "metadata": {
        "id": "qI9zC3-Yg3lI",
        "colab_type": "code",
        "colab": {}
      },
      "source": [
        ""
      ],
      "execution_count": 0,
      "outputs": []
    }
  ]
}