{
  "nbformat": 4,
  "nbformat_minor": 0,
  "metadata": {
    "colab": {
      "name": "Linear_regression_Yahoo.ipynb",
      "provenance": [],
      "toc_visible": true,
      "include_colab_link": true
    },
    "kernelspec": {
      "name": "python3",
      "display_name": "Python 3"
    }
  },
  "cells": [
    {
      "cell_type": "markdown",
      "metadata": {
        "id": "view-in-github",
        "colab_type": "text"
      },
      "source": [
        "<a href=\"https://colab.research.google.com/github/ragalaa/Machine-Learning-Basics/blob/master/Linear_regression_Yahoo.ipynb\" target=\"_parent\"><img src=\"https://colab.research.google.com/assets/colab-badge.svg\" alt=\"Open In Colab\"/></a>"
      ]
    },
    {
      "cell_type": "markdown",
      "metadata": {
        "id": "cdFNWMRodzf-",
        "colab_type": "text"
      },
      "source": [
        "# FInance: Data from Yahoo to get the Linear regression :"
      ]
    },
    {
      "cell_type": "code",
      "metadata": {
        "id": "VVbzgv3AxWsF",
        "colab_type": "code",
        "colab": {
          "base_uri": "https://localhost:8080/",
          "height": 341
        },
        "outputId": "dc8346fe-3ab1-4f97-dd27-7e196ae6c030"
      },
      "source": [
        "# Import all libraries for this portion of the blog post\n",
        "from scipy.integrate import quad\n",
        "import numpy as np\n",
        "import matplotlib.pyplot as plt\n",
        "%matplotlib inline\n",
        "x = np.linspace(-4, 4, num = 100)\n",
        "constant = 1.0 / np.sqrt(2*np.pi)\n",
        "pdf_normal_distribution = constant * np.exp((-x**2) / 2.0)\n",
        "fig, ax = plt.subplots(figsize=(10, 5));\n",
        "ax.plot(x, pdf_normal_distribution);\n",
        "ax.set_ylim(0);\n",
        "ax.set_title('Normal Distribution', size = 20);\n",
        "ax.set_ylabel('Probability Density', size = 20);"
      ],
      "execution_count": 59,
      "outputs": [
        {
          "output_type": "display_data",
          "data": {
            "image/png": "[encoded data removed]",
            "text/plain": [
              "<Figure size 720x360 with 1 Axes>"
            ]
          },
          "metadata": {
            "tags": []
          }
        }
      ]
    },
    {
      "cell_type": "code",
      "metadata": {
        "id": "3Cwv1wn1MlOi",
        "colab_type": "code",
        "colab": {}
      },
      "source": [
        "# Make PDF for the normal distribution a function\n",
        "def normalProbabilityDensity(x):\n",
        "    constant = 1.0 / np.sqrt(2*np.pi)\n",
        "    return(constant * np.exp((-x**2) / 2.0) )\n"
      ],
      "execution_count": 0,
      "outputs": []
    },
    {
      "cell_type": "code",
      "metadata": {
        "id": "TzjFzSOqMnxW",
        "colab_type": "code",
        "colab": {
          "base_uri": "https://localhost:8080/",
          "height": 35
        },
        "outputId": "b9d4746d-437b-4ea2-932e-76f8a4271570"
      },
      "source": [
        "# Integrate PDF from -.6745 to .6745\n",
        "result_50p, _ = quad(normalProbabilityDensity, -.6745, .6745, limit = 1000)\n",
        "print(result_50p)"
      ],
      "execution_count": 61,
      "outputs": [
        {
          "output_type": "stream",
          "text": [
            "0.5000065142726018\n"
          ],
          "name": "stdout"
        }
      ]
    },
    {
      "cell_type": "code",
      "metadata": {
        "id": "5LRlLt4tMStd",
        "colab_type": "code",
        "colab": {
          "base_uri": "https://localhost:8080/",
          "height": 35
        },
        "outputId": "31536de3-0f6f-416f-f533-35116991d89e"
      },
      "source": [
        "# Integrate PDF from -2.698 to 2.698\n",
        "result_99_3p, _ = quad(normalProbabilityDensity,\n",
        "                     -2.698,\n",
        "                     2.698,\n",
        "                     limit = 1000)\n",
        "print(result_99_3p)"
      ],
      "execution_count": 62,
      "outputs": [
        {
          "output_type": "stream",
          "text": [
            "0.9930242559336101\n"
          ],
          "name": "stdout"
        }
      ]
    },
    {
      "cell_type": "code",
      "metadata": {
        "id": "BCwVgYdXVbd4",
        "colab_type": "code",
        "colab": {
          "base_uri": "https://localhost:8080/",
          "height": 228
        },
        "outputId": "e9cabc9d-74f0-46c8-a0ae-a21fc025b8ec"
      },
      "source": [
        "\n",
        "import pandas_datareader.data as web\n",
        "import pandas as pd\n",
        "import pandas_datareader.data as web\n",
        "import numpy as np\n",
        "import matplotlib.pyplot as plt\n",
        "from sklearn.linear_model import LinearRegression\n",
        "\n",
        "google = web.DataReader('GOOG', data_source = 'yahoo', start = '3/14/2009', end = '4/14/2016')\n",
        "google = google.drop('Volume', axis = 1 )\n",
        "google.head()"
      ],
      "execution_count": 103,
      "outputs": [
        {
          "output_type": "execute_result",
          "data": {
            "text/html": [
              "<div>\n",
              "<style scoped>\n",
              "    .dataframe tbody tr th:only-of-type {\n",
              "        vertical-align: middle;\n",
              "    }\n",
              "\n",
              "    .dataframe tbody tr th {\n",
              "        vertical-align: top;\n",
              "    }\n",
              "\n",
              "    .dataframe thead th {\n",
              "        text-align: right;\n",
              "    }\n",
              "</style>\n",
              "<table border=\"1\" class=\"dataframe\">\n",
              "  <thead>\n",
              "    <tr style=\"text-align: right;\">\n",
              "      <th></th>\n",
              "      <th>High</th>\n",
              "      <th>Low</th>\n",
              "      <th>Open</th>\n",
              "      <th>Close</th>\n",
              "      <th>Adj Close</th>\n",
              "    </tr>\n",
              "    <tr>\n",
              "      <th>Date</th>\n",
              "      <th></th>\n",
              "      <th></th>\n",
              "      <th></th>\n",
              "      <th></th>\n",
              "      <th></th>\n",
              "    </tr>\n",
              "  </thead>\n",
              "  <tbody>\n",
              "    <tr>\n",
              "      <th>2009-03-16</th>\n",
              "      <td>164.249359</td>\n",
              "      <td>158.700150</td>\n",
              "      <td>162.386337</td>\n",
              "      <td>159.248093</td>\n",
              "      <td>159.248093</td>\n",
              "    </tr>\n",
              "    <tr>\n",
              "      <th>2009-03-17</th>\n",
              "      <td>167.043884</td>\n",
              "      <td>158.949219</td>\n",
              "      <td>159.492188</td>\n",
              "      <td>167.043884</td>\n",
              "      <td>167.043884</td>\n",
              "    </tr>\n",
              "    <tr>\n",
              "      <th>2009-03-18</th>\n",
              "      <td>169.365173</td>\n",
              "      <td>163.412491</td>\n",
              "      <td>166.779861</td>\n",
              "      <td>165.928055</td>\n",
              "      <td>165.928055</td>\n",
              "    </tr>\n",
              "    <tr>\n",
              "      <th>2009-03-19</th>\n",
              "      <td>167.372650</td>\n",
              "      <td>163.078735</td>\n",
              "      <td>165.220718</td>\n",
              "      <td>164.353958</td>\n",
              "      <td>164.353958</td>\n",
              "    </tr>\n",
              "    <tr>\n",
              "      <th>2009-03-20</th>\n",
              "      <td>165.873260</td>\n",
              "      <td>162.560684</td>\n",
              "      <td>164.533295</td>\n",
              "      <td>164.463547</td>\n",
              "      <td>164.463547</td>\n",
              "    </tr>\n",
              "  </tbody>\n",
              "</table>\n",
              "</div>"
            ],
            "text/plain": [
              "                  High         Low        Open       Close   Adj Close\n",
              "Date                                                                  \n",
              "2009-03-16  164.249359  158.700150  162.386337  159.248093  159.248093\n",
              "2009-03-17  167.043884  158.949219  159.492188  167.043884  167.043884\n",
              "2009-03-18  169.365173  163.412491  166.779861  165.928055  165.928055\n",
              "2009-03-19  167.372650  163.078735  165.220718  164.353958  164.353958\n",
              "2009-03-20  165.873260  162.560684  164.533295  164.463547  164.463547"
            ]
          },
          "metadata": {
            "tags": []
          },
          "execution_count": 103
        }
      ]
    },
    {
      "cell_type": "code",
      "metadata": {
        "id": "wHp2W_caXQxK",
        "colab_type": "code",
        "colab": {
          "base_uri": "https://localhost:8080/",
          "height": 228
        },
        "outputId": "d7e6063c-30b6-4c42-cce6-d6e80f516a3c"
      },
      "source": [
        "\n",
        "google['Ticks'] = range(0,len(google.index.values))\n",
        "google.head()"
      ],
      "execution_count": 104,
      "outputs": [
        {
          "output_type": "execute_result",
          "data": {
            "text/html": [
              "<div>\n",
              "<style scoped>\n",
              "    .dataframe tbody tr th:only-of-type {\n",
              "        vertical-align: middle;\n",
              "    }\n",
              "\n",
              "    .dataframe tbody tr th {\n",
              "        vertical-align: top;\n",
              "    }\n",
              "\n",
              "    .dataframe thead th {\n",
              "        text-align: right;\n",
              "    }\n",
              "</style>\n",
              "<table border=\"1\" class=\"dataframe\">\n",
              "  <thead>\n",
              "    <tr style=\"text-align: right;\">\n",
              "      <th></th>\n",
              "      <th>High</th>\n",
              "      <th>Low</th>\n",
              "      <th>Open</th>\n",
              "      <th>Close</th>\n",
              "      <th>Adj Close</th>\n",
              "      <th>Ticks</th>\n",
              "    </tr>\n",
              "    <tr>\n",
              "      <th>Date</th>\n",
              "      <th></th>\n",
              "      <th></th>\n",
              "      <th></th>\n",
              "      <th></th>\n",
              "      <th></th>\n",
              "      <th></th>\n",
              "    </tr>\n",
              "  </thead>\n",
              "  <tbody>\n",
              "    <tr>\n",
              "      <th>2009-03-16</th>\n",
              "      <td>164.249359</td>\n",
              "      <td>158.700150</td>\n",
              "      <td>162.386337</td>\n",
              "      <td>159.248093</td>\n",
              "      <td>159.248093</td>\n",
              "      <td>0</td>\n",
              "    </tr>\n",
              "    <tr>\n",
              "      <th>2009-03-17</th>\n",
              "      <td>167.043884</td>\n",
              "      <td>158.949219</td>\n",
              "      <td>159.492188</td>\n",
              "      <td>167.043884</td>\n",
              "      <td>167.043884</td>\n",
              "      <td>1</td>\n",
              "    </tr>\n",
              "    <tr>\n",
              "      <th>2009-03-18</th>\n",
              "      <td>169.365173</td>\n",
              "      <td>163.412491</td>\n",
              "      <td>166.779861</td>\n",
              "      <td>165.928055</td>\n",
              "      <td>165.928055</td>\n",
              "      <td>2</td>\n",
              "    </tr>\n",
              "    <tr>\n",
              "      <th>2009-03-19</th>\n",
              "      <td>167.372650</td>\n",
              "      <td>163.078735</td>\n",
              "      <td>165.220718</td>\n",
              "      <td>164.353958</td>\n",
              "      <td>164.353958</td>\n",
              "      <td>3</td>\n",
              "    </tr>\n",
              "    <tr>\n",
              "      <th>2009-03-20</th>\n",
              "      <td>165.873260</td>\n",
              "      <td>162.560684</td>\n",
              "      <td>164.533295</td>\n",
              "      <td>164.463547</td>\n",
              "      <td>164.463547</td>\n",
              "      <td>4</td>\n",
              "    </tr>\n",
              "  </tbody>\n",
              "</table>\n",
              "</div>"
            ],
            "text/plain": [
              "                  High         Low        Open       Close   Adj Close  Ticks\n",
              "Date                                                                         \n",
              "2009-03-16  164.249359  158.700150  162.386337  159.248093  159.248093      0\n",
              "2009-03-17  167.043884  158.949219  159.492188  167.043884  167.043884      1\n",
              "2009-03-18  169.365173  163.412491  166.779861  165.928055  165.928055      2\n",
              "2009-03-19  167.372650  163.078735  165.220718  164.353958  164.353958      3\n",
              "2009-03-20  165.873260  162.560684  164.533295  164.463547  164.463547      4"
            ]
          },
          "metadata": {
            "tags": []
          },
          "execution_count": 104
        }
      ]
    },
    {
      "cell_type": "code",
      "metadata": {
        "id": "fcR9ly8CXYNv",
        "colab_type": "code",
        "colab": {
          "base_uri": "https://localhost:8080/",
          "height": 295
        },
        "outputId": "2bfab676-548d-4ffa-c978-95bb3c6bd835"
      },
      "source": [
        "fig = plt.figure(1)\n",
        "ax =fig.add_subplot(111)\n",
        "ax.set_xlabel('Ticks')\n",
        "ax.set_ylabel('Price')\n",
        "ax.set_title('Original Plot')\n",
        "ax.plot('Ticks','Open',data=google);\n"
      ],
      "execution_count": 106,
      "outputs": [
        {
          "output_type": "display_data",
          "data": {
            "image/png": "[encoded data removed]",
            "text/plain": [
              "<Figure size 432x288 with 1 Axes>"
            ]
          },
          "metadata": {
            "tags": []
          }
        }
      ]
    },
    {
      "cell_type": "code",
      "metadata": {
        "id": "fyyrKsZ4ZoAz",
        "colab_type": "code",
        "colab": {
          "base_uri": "https://localhost:8080/",
          "height": 198
        },
        "outputId": "9598d4e0-a5f6-45eb-855f-3096c2ac090c"
      },
      "source": [
        "one_tenth = google.sample(frac = .1, random_state=np.random.randint(10))\n",
        "# removing index name\n",
        "one_tenth.index.name = None\n",
        "one_tenth = one_tenth.sort_values(by=['Ticks'], ascending=[True])\n",
        "one_tenth.head()"
      ],
      "execution_count": 107,
      "outputs": [
        {
          "output_type": "execute_result",
          "data": {
            "text/html": [
              "<div>\n",
              "<style scoped>\n",
              "    .dataframe tbody tr th:only-of-type {\n",
              "        vertical-align: middle;\n",
              "    }\n",
              "\n",
              "    .dataframe tbody tr th {\n",
              "        vertical-align: top;\n",
              "    }\n",
              "\n",
              "    .dataframe thead th {\n",
              "        text-align: right;\n",
              "    }\n",
              "</style>\n",
              "<table border=\"1\" class=\"dataframe\">\n",
              "  <thead>\n",
              "    <tr style=\"text-align: right;\">\n",
              "      <th></th>\n",
              "      <th>High</th>\n",
              "      <th>Low</th>\n",
              "      <th>Open</th>\n",
              "      <th>Close</th>\n",
              "      <th>Adj Close</th>\n",
              "      <th>Ticks</th>\n",
              "    </tr>\n",
              "  </thead>\n",
              "  <tbody>\n",
              "    <tr>\n",
              "      <th>2009-03-18</th>\n",
              "      <td>169.365173</td>\n",
              "      <td>163.412491</td>\n",
              "      <td>166.779861</td>\n",
              "      <td>165.928055</td>\n",
              "      <td>165.928055</td>\n",
              "      <td>2</td>\n",
              "    </tr>\n",
              "    <tr>\n",
              "      <th>2009-03-24</th>\n",
              "      <td>176.259338</td>\n",
              "      <td>171.357712</td>\n",
              "      <td>172.603043</td>\n",
              "      <td>172.936783</td>\n",
              "      <td>172.936783</td>\n",
              "      <td>6</td>\n",
              "    </tr>\n",
              "    <tr>\n",
              "      <th>2009-04-21</th>\n",
              "      <td>191.432465</td>\n",
              "      <td>187.347778</td>\n",
              "      <td>187.382645</td>\n",
              "      <td>190.022751</td>\n",
              "      <td>190.022751</td>\n",
              "      <td>25</td>\n",
              "    </tr>\n",
              "    <tr>\n",
              "      <th>2009-05-11</th>\n",
              "      <td>205.230743</td>\n",
              "      <td>199.850906</td>\n",
              "      <td>200.647919</td>\n",
              "      <td>203.228256</td>\n",
              "      <td>203.228256</td>\n",
              "      <td>39</td>\n",
              "    </tr>\n",
              "    <tr>\n",
              "      <th>2009-06-09</th>\n",
              "      <td>219.427536</td>\n",
              "      <td>215.073853</td>\n",
              "      <td>218.471115</td>\n",
              "      <td>216.996643</td>\n",
              "      <td>216.996643</td>\n",
              "      <td>59</td>\n",
              "    </tr>\n",
              "  </tbody>\n",
              "</table>\n",
              "</div>"
            ],
            "text/plain": [
              "                  High         Low        Open       Close   Adj Close  Ticks\n",
              "2009-03-18  169.365173  163.412491  166.779861  165.928055  165.928055      2\n",
              "2009-03-24  176.259338  171.357712  172.603043  172.936783  172.936783      6\n",
              "2009-04-21  191.432465  187.347778  187.382645  190.022751  190.022751     25\n",
              "2009-05-11  205.230743  199.850906  200.647919  203.228256  203.228256     39\n",
              "2009-06-09  219.427536  215.073853  218.471115  216.996643  216.996643     59"
            ]
          },
          "metadata": {
            "tags": []
          },
          "execution_count": 107
        }
      ]
    },
    {
      "cell_type": "code",
      "metadata": {
        "id": "TcgNT4cvZ0rj",
        "colab_type": "code",
        "colab": {
          "base_uri": "https://localhost:8080/",
          "height": 336
        },
        "outputId": "51a64d1d-9178-4972-d81e-55e5215936e3"
      },
      "source": [
        "fig, axes = plt.subplots(nrows = 1, ncols = 2, figsize = (10,5));\n",
        "axes[0].plot('Ticks', 'Open', data = google);\n",
        "axes[0].set_title('Original Plot');\n",
        "axes[1].plot('Ticks', 'Open', data = one_tenth);\n",
        "axes[1].set_title('Sampled Plot');"
      ],
      "execution_count": 108,
      "outputs": [
        {
          "output_type": "display_data",
          "data": {
            "image/png": "[encoded data removed]",
            "text/plain": [
              "<Figure size 720x360 with 2 Axes>"
            ]
          },
          "metadata": {
            "tags": []
          }
        }
      ]
    },
    {
      "cell_type": "code",
      "metadata": {
        "id": "O1Y2zTYsaNR-",
        "colab_type": "code",
        "colab": {
          "base_uri": "https://localhost:8080/",
          "height": 198
        },
        "outputId": "251aa1ab-50fb-432e-cb5a-94d2f71e911d"
      },
      "source": [
        "google = google.reset_index()\n",
        "\n",
        "google['Rolling_Mean'] = google['Open'].rolling(window = 20).mean()\n",
        "google.head(5)"
      ],
      "execution_count": 109,
      "outputs": [
        {
          "output_type": "execute_result",
          "data": {
            "text/html": [
              "<div>\n",
              "<style scoped>\n",
              "    .dataframe tbody tr th:only-of-type {\n",
              "        vertical-align: middle;\n",
              "    }\n",
              "\n",
              "    .dataframe tbody tr th {\n",
              "        vertical-align: top;\n",
              "    }\n",
              "\n",
              "    .dataframe thead th {\n",
              "        text-align: right;\n",
              "    }\n",
              "</style>\n",
              "<table border=\"1\" class=\"dataframe\">\n",
              "  <thead>\n",
              "    <tr style=\"text-align: right;\">\n",
              "      <th></th>\n",
              "      <th>Date</th>\n",
              "      <th>High</th>\n",
              "      <th>Low</th>\n",
              "      <th>Open</th>\n",
              "      <th>Close</th>\n",
              "      <th>Adj Close</th>\n",
              "      <th>Ticks</th>\n",
              "      <th>Rolling_Mean</th>\n",
              "    </tr>\n",
              "  </thead>\n",
              "  <tbody>\n",
              "    <tr>\n",
              "      <th>0</th>\n",
              "      <td>2009-03-16</td>\n",
              "      <td>164.249359</td>\n",
              "      <td>158.700150</td>\n",
              "      <td>162.386337</td>\n",
              "      <td>159.248093</td>\n",
              "      <td>159.248093</td>\n",
              "      <td>0</td>\n",
              "      <td>NaN</td>\n",
              "    </tr>\n",
              "    <tr>\n",
              "      <th>1</th>\n",
              "      <td>2009-03-17</td>\n",
              "      <td>167.043884</td>\n",
              "      <td>158.949219</td>\n",
              "      <td>159.492188</td>\n",
              "      <td>167.043884</td>\n",
              "      <td>167.043884</td>\n",
              "      <td>1</td>\n",
              "      <td>NaN</td>\n",
              "    </tr>\n",
              "    <tr>\n",
              "      <th>2</th>\n",
              "      <td>2009-03-18</td>\n",
              "      <td>169.365173</td>\n",
              "      <td>163.412491</td>\n",
              "      <td>166.779861</td>\n",
              "      <td>165.928055</td>\n",
              "      <td>165.928055</td>\n",
              "      <td>2</td>\n",
              "      <td>NaN</td>\n",
              "    </tr>\n",
              "    <tr>\n",
              "      <th>3</th>\n",
              "      <td>2009-03-19</td>\n",
              "      <td>167.372650</td>\n",
              "      <td>163.078735</td>\n",
              "      <td>165.220718</td>\n",
              "      <td>164.353958</td>\n",
              "      <td>164.353958</td>\n",
              "      <td>3</td>\n",
              "      <td>NaN</td>\n",
              "    </tr>\n",
              "    <tr>\n",
              "      <th>4</th>\n",
              "      <td>2009-03-20</td>\n",
              "      <td>165.873260</td>\n",
              "      <td>162.560684</td>\n",
              "      <td>164.533295</td>\n",
              "      <td>164.463547</td>\n",
              "      <td>164.463547</td>\n",
              "      <td>4</td>\n",
              "      <td>NaN</td>\n",
              "    </tr>\n",
              "  </tbody>\n",
              "</table>\n",
              "</div>"
            ],
            "text/plain": [
              "        Date        High         Low  ...   Adj Close  Ticks  Rolling_Mean\n",
              "0 2009-03-16  164.249359  158.700150  ...  159.248093      0           NaN\n",
              "1 2009-03-17  167.043884  158.949219  ...  167.043884      1           NaN\n",
              "2 2009-03-18  169.365173  163.412491  ...  165.928055      2           NaN\n",
              "3 2009-03-19  167.372650  163.078735  ...  164.353958      3           NaN\n",
              "4 2009-03-20  165.873260  162.560684  ...  164.463547      4           NaN\n",
              "\n",
              "[5 rows x 8 columns]"
            ]
          },
          "metadata": {
            "tags": []
          },
          "execution_count": 109
        }
      ]
    },
    {
      "cell_type": "code",
      "metadata": {
        "id": "umAjbfjJaSC3",
        "colab_type": "code",
        "colab": {
          "base_uri": "https://localhost:8080/",
          "height": 336
        },
        "outputId": "9918e75b-83d6-450d-b863-76e62e8b01f6"
      },
      "source": [
        "fig, axes = plt.subplots(nrows = 1, ncols = 3, figsize = (15,5));\n",
        "axes[0].plot('Ticks', 'Open', data = google);\n",
        "axes[0].set_title('Original');\n",
        "axes[1].plot('Ticks', 'Open', data = one_tenth);\n",
        "axes[1].set_title('Sampled');\n",
        "axes[2].plot('Ticks', 'Rolling_Mean', data = google);\n",
        "axes[2].set_title('Smoothed (Rolling_Mean)');"
      ],
      "execution_count": 110,
      "outputs": [
        {
          "output_type": "display_data",
          "data": {
            "image/png": "[encoded data removed]",
            "text/plain": [
              "<Figure size 1080x360 with 3 Axes>"
            ]
          },
          "metadata": {
            "tags": []
          }
        }
      ]
    },
    {
      "cell_type": "code",
      "metadata": {
        "id": "v94mvCSfaigd",
        "colab_type": "code",
        "colab": {
          "base_uri": "https://localhost:8080/",
          "height": 295
        },
        "outputId": "e884c429-f2dc-4a5f-a8c3-18b7a3728b2f"
      },
      "source": [
        "## Overlay one graph on another:\n",
        "\n",
        "fig = plt.figure();\n",
        "ax = fig.add_subplot(111);\n",
        "ax.plot(google['Ticks'], google['Rolling_Mean'], color = (0,1,0), linewidth = 4, alpha = .9, label = 'Smoothed');\n",
        "ax.plot(google['Ticks'], google['Open'], color = (1,0,0), label = 'Original');\n",
        "ax.set_title('Original and Smoothed Price')\n",
        "ax.set_xlabel('Ticks')\n",
        "ax.set_ylabel('Price')\n",
        "ax.legend(loc='lower right');"
      ],
      "execution_count": 111,
      "outputs": [
        {
          "output_type": "display_data",
          "data": {
            "image/png": "[encoded data removed]",
            "text/plain": [
              "<Figure size 432x288 with 1 Axes>"
            ]
          },
          "metadata": {
            "tags": []
          }
        }
      ]
    },
    {
      "cell_type": "code",
      "metadata": {
        "id": "nPeKkvrYbWy2",
        "colab_type": "code",
        "colab": {}
      },
      "source": [
        "filt_google = google[(google['Ticks'] >= 800) & (google['Ticks'] <= 1200)]"
      ],
      "execution_count": 0,
      "outputs": []
    },
    {
      "cell_type": "code",
      "metadata": {
        "id": "TnBvYyXHbZBx",
        "colab_type": "code",
        "colab": {
          "base_uri": "https://localhost:8080/",
          "height": 198
        },
        "outputId": "5c4c6ff8-04f6-43e8-ab47-54854c9b4223"
      },
      "source": [
        "filt_google.head()"
      ],
      "execution_count": 113,
      "outputs": [
        {
          "output_type": "execute_result",
          "data": {
            "text/html": [
              "<div>\n",
              "<style scoped>\n",
              "    .dataframe tbody tr th:only-of-type {\n",
              "        vertical-align: middle;\n",
              "    }\n",
              "\n",
              "    .dataframe tbody tr th {\n",
              "        vertical-align: top;\n",
              "    }\n",
              "\n",
              "    .dataframe thead th {\n",
              "        text-align: right;\n",
              "    }\n",
              "</style>\n",
              "<table border=\"1\" class=\"dataframe\">\n",
              "  <thead>\n",
              "    <tr style=\"text-align: right;\">\n",
              "      <th></th>\n",
              "      <th>Date</th>\n",
              "      <th>High</th>\n",
              "      <th>Low</th>\n",
              "      <th>Open</th>\n",
              "      <th>Close</th>\n",
              "      <th>Adj Close</th>\n",
              "      <th>Ticks</th>\n",
              "      <th>Rolling_Mean</th>\n",
              "    </tr>\n",
              "  </thead>\n",
              "  <tbody>\n",
              "    <tr>\n",
              "      <th>800</th>\n",
              "      <td>2012-05-16</td>\n",
              "      <td>313.873535</td>\n",
              "      <td>306.819977</td>\n",
              "      <td>307.826202</td>\n",
              "      <td>313.290710</td>\n",
              "      <td>313.290710</td>\n",
              "      <td>800</td>\n",
              "      <td>301.850592</td>\n",
              "    </tr>\n",
              "    <tr>\n",
              "      <th>801</th>\n",
              "      <td>2012-05-17</td>\n",
              "      <td>317.734070</td>\n",
              "      <td>309.455078</td>\n",
              "      <td>315.731567</td>\n",
              "      <td>310.361694</td>\n",
              "      <td>310.361694</td>\n",
              "      <td>801</td>\n",
              "      <td>302.551465</td>\n",
              "    </tr>\n",
              "    <tr>\n",
              "      <th>802</th>\n",
              "      <td>2012-05-18</td>\n",
              "      <td>315.029205</td>\n",
              "      <td>297.235901</td>\n",
              "      <td>311.382874</td>\n",
              "      <td>299.078979</td>\n",
              "      <td>299.078979</td>\n",
              "      <td>802</td>\n",
              "      <td>303.070769</td>\n",
              "    </tr>\n",
              "    <tr>\n",
              "      <th>803</th>\n",
              "      <td>2012-05-21</td>\n",
              "      <td>306.695435</td>\n",
              "      <td>298.879730</td>\n",
              "      <td>299.133759</td>\n",
              "      <td>305.908386</td>\n",
              "      <td>305.908386</td>\n",
              "      <td>803</td>\n",
              "      <td>303.260307</td>\n",
              "    </tr>\n",
              "    <tr>\n",
              "      <th>804</th>\n",
              "      <td>2012-05-22</td>\n",
              "      <td>305.758942</td>\n",
              "      <td>296.887207</td>\n",
              "      <td>305.574646</td>\n",
              "      <td>299.278229</td>\n",
              "      <td>299.278229</td>\n",
              "      <td>804</td>\n",
              "      <td>303.638889</td>\n",
              "    </tr>\n",
              "  </tbody>\n",
              "</table>\n",
              "</div>"
            ],
            "text/plain": [
              "          Date        High         Low  ...   Adj Close  Ticks  Rolling_Mean\n",
              "800 2012-05-16  313.873535  306.819977  ...  313.290710    800    301.850592\n",
              "801 2012-05-17  317.734070  309.455078  ...  310.361694    801    302.551465\n",
              "802 2012-05-18  315.029205  297.235901  ...  299.078979    802    303.070769\n",
              "803 2012-05-21  306.695435  298.879730  ...  305.908386    803    303.260307\n",
              "804 2012-05-22  305.758942  296.887207  ...  299.278229    804    303.638889\n",
              "\n",
              "[5 rows x 8 columns]"
            ]
          },
          "metadata": {
            "tags": []
          },
          "execution_count": 113
        }
      ]
    },
    {
      "cell_type": "code",
      "metadata": {
        "id": "yC4Y9jz_byzt",
        "colab_type": "code",
        "colab": {
          "base_uri": "https://localhost:8080/",
          "height": 35
        },
        "outputId": "c3d85fc1-506f-4264-aaf4-569e98bde16f"
      },
      "source": [
        "model = LinearRegression().fit(filt_google[['Ticks']], filt_google[['Rolling_Mean']])\n",
        "\n",
        "m = model.coef_[0]\n",
        "b = model.intercept_\n",
        "#equation of the line\n",
        "print('y = ', round(m[0],2), 'x + ', round(b[0],2))"
      ],
      "execution_count": 122,
      "outputs": [
        {
          "output_type": "stream",
          "text": [
            "y =  0.53 x +  -138.4\n"
          ],
          "name": "stdout"
        }
      ]
    },
    {
      "cell_type": "code",
      "metadata": {
        "id": "KiTlV_svcRVI",
        "colab_type": "code",
        "colab": {
          "base_uri": "https://localhost:8080/",
          "height": 108
        },
        "outputId": "d589afb0-c36d-49b9-b323-8c528daf7b62"
      },
      "source": [
        "# using the equation of the line to get y values\n",
        "predictions = model.predict(filt_google[['Ticks']])\n",
        "predictions[0:5]\n"
      ],
      "execution_count": 126,
      "outputs": [
        {
          "output_type": "execute_result",
          "data": {
            "text/plain": [
              "array([[283.1871891],\n",
              "       [283.7141685],\n",
              "       [284.2411479],\n",
              "       [284.7681273],\n",
              "       [285.2951067]])"
            ]
          },
          "metadata": {
            "tags": []
          },
          "execution_count": 126
        }
      ]
    },
    {
      "cell_type": "code",
      "metadata": {
        "id": "QThU2Go8cxJi",
        "colab_type": "code",
        "colab": {
          "base_uri": "https://localhost:8080/",
          "height": 198
        },
        "outputId": "8298df31-3b7d-4731-a8b2-d6cc6261fe1d"
      },
      "source": [
        "# making a DataFrame for the predictions\n",
        "predictions = pd.DataFrame(data = predictions, index = filt_google.index.values, columns = ['Pred'])\n",
        "predictions.head()"
      ],
      "execution_count": 127,
      "outputs": [
        {
          "output_type": "execute_result",
          "data": {
            "text/html": [
              "<div>\n",
              "<style scoped>\n",
              "    .dataframe tbody tr th:only-of-type {\n",
              "        vertical-align: middle;\n",
              "    }\n",
              "\n",
              "    .dataframe tbody tr th {\n",
              "        vertical-align: top;\n",
              "    }\n",
              "\n",
              "    .dataframe thead th {\n",
              "        text-align: right;\n",
              "    }\n",
              "</style>\n",
              "<table border=\"1\" class=\"dataframe\">\n",
              "  <thead>\n",
              "    <tr style=\"text-align: right;\">\n",
              "      <th></th>\n",
              "      <th>Pred</th>\n",
              "    </tr>\n",
              "  </thead>\n",
              "  <tbody>\n",
              "    <tr>\n",
              "      <th>800</th>\n",
              "      <td>283.187189</td>\n",
              "    </tr>\n",
              "    <tr>\n",
              "      <th>801</th>\n",
              "      <td>283.714169</td>\n",
              "    </tr>\n",
              "    <tr>\n",
              "      <th>802</th>\n",
              "      <td>284.241148</td>\n",
              "    </tr>\n",
              "    <tr>\n",
              "      <th>803</th>\n",
              "      <td>284.768127</td>\n",
              "    </tr>\n",
              "    <tr>\n",
              "      <th>804</th>\n",
              "      <td>285.295107</td>\n",
              "    </tr>\n",
              "  </tbody>\n",
              "</table>\n",
              "</div>"
            ],
            "text/plain": [
              "           Pred\n",
              "800  283.187189\n",
              "801  283.714169\n",
              "802  284.241148\n",
              "803  284.768127\n",
              "804  285.295107"
            ]
          },
          "metadata": {
            "tags": []
          },
          "execution_count": 127
        }
      ]
    },
    {
      "cell_type": "code",
      "metadata": {
        "id": "Xur9gZkvdP8U",
        "colab_type": "code",
        "colab": {
          "base_uri": "https://localhost:8080/",
          "height": 198
        },
        "outputId": "871a3c0f-ec54-4aca-ffc1-7636c94b1e1b"
      },
      "source": [
        "joined_df = filt_google.join(predictions, how = 'inner')\n",
        "joined_df.head()"
      ],
      "execution_count": 128,
      "outputs": [
        {
          "output_type": "execute_result",
          "data": {
            "text/html": [
              "<div>\n",
              "<style scoped>\n",
              "    .dataframe tbody tr th:only-of-type {\n",
              "        vertical-align: middle;\n",
              "    }\n",
              "\n",
              "    .dataframe tbody tr th {\n",
              "        vertical-align: top;\n",
              "    }\n",
              "\n",
              "    .dataframe thead th {\n",
              "        text-align: right;\n",
              "    }\n",
              "</style>\n",
              "<table border=\"1\" class=\"dataframe\">\n",
              "  <thead>\n",
              "    <tr style=\"text-align: right;\">\n",
              "      <th></th>\n",
              "      <th>Date</th>\n",
              "      <th>High</th>\n",
              "      <th>Low</th>\n",
              "      <th>Open</th>\n",
              "      <th>Close</th>\n",
              "      <th>Adj Close</th>\n",
              "      <th>Ticks</th>\n",
              "      <th>Rolling_Mean</th>\n",
              "      <th>Pred</th>\n",
              "    </tr>\n",
              "  </thead>\n",
              "  <tbody>\n",
              "    <tr>\n",
              "      <th>800</th>\n",
              "      <td>2012-05-16</td>\n",
              "      <td>313.873535</td>\n",
              "      <td>306.819977</td>\n",
              "      <td>307.826202</td>\n",
              "      <td>313.290710</td>\n",
              "      <td>313.290710</td>\n",
              "      <td>800</td>\n",
              "      <td>301.850592</td>\n",
              "      <td>283.187189</td>\n",
              "    </tr>\n",
              "    <tr>\n",
              "      <th>801</th>\n",
              "      <td>2012-05-17</td>\n",
              "      <td>317.734070</td>\n",
              "      <td>309.455078</td>\n",
              "      <td>315.731567</td>\n",
              "      <td>310.361694</td>\n",
              "      <td>310.361694</td>\n",
              "      <td>801</td>\n",
              "      <td>302.551465</td>\n",
              "      <td>283.714169</td>\n",
              "    </tr>\n",
              "    <tr>\n",
              "      <th>802</th>\n",
              "      <td>2012-05-18</td>\n",
              "      <td>315.029205</td>\n",
              "      <td>297.235901</td>\n",
              "      <td>311.382874</td>\n",
              "      <td>299.078979</td>\n",
              "      <td>299.078979</td>\n",
              "      <td>802</td>\n",
              "      <td>303.070769</td>\n",
              "      <td>284.241148</td>\n",
              "    </tr>\n",
              "    <tr>\n",
              "      <th>803</th>\n",
              "      <td>2012-05-21</td>\n",
              "      <td>306.695435</td>\n",
              "      <td>298.879730</td>\n",
              "      <td>299.133759</td>\n",
              "      <td>305.908386</td>\n",
              "      <td>305.908386</td>\n",
              "      <td>803</td>\n",
              "      <td>303.260307</td>\n",
              "      <td>284.768127</td>\n",
              "    </tr>\n",
              "    <tr>\n",
              "      <th>804</th>\n",
              "      <td>2012-05-22</td>\n",
              "      <td>305.758942</td>\n",
              "      <td>296.887207</td>\n",
              "      <td>305.574646</td>\n",
              "      <td>299.278229</td>\n",
              "      <td>299.278229</td>\n",
              "      <td>804</td>\n",
              "      <td>303.638889</td>\n",
              "      <td>285.295107</td>\n",
              "    </tr>\n",
              "  </tbody>\n",
              "</table>\n",
              "</div>"
            ],
            "text/plain": [
              "          Date        High         Low  ...  Ticks  Rolling_Mean        Pred\n",
              "800 2012-05-16  313.873535  306.819977  ...    800    301.850592  283.187189\n",
              "801 2012-05-17  317.734070  309.455078  ...    801    302.551465  283.714169\n",
              "802 2012-05-18  315.029205  297.235901  ...    802    303.070769  284.241148\n",
              "803 2012-05-21  306.695435  298.879730  ...    803    303.260307  284.768127\n",
              "804 2012-05-22  305.758942  296.887207  ...    804    303.638889  285.295107\n",
              "\n",
              "[5 rows x 9 columns]"
            ]
          },
          "metadata": {
            "tags": []
          },
          "execution_count": 128
        }
      ]
    },
    {
      "cell_type": "code",
      "metadata": {
        "id": "eEIMR90bdbLF",
        "colab_type": "code",
        "colab": {
          "base_uri": "https://localhost:8080/",
          "height": 295
        },
        "outputId": "03cfd77e-ebc6-423a-dc17-75c505282741"
      },
      "source": [
        "fig = plt.figure();\n",
        "ax = fig.add_subplot(111);\n",
        "ax.plot(joined_df['Ticks'], joined_df['Rolling_Mean'], color = (0,0,0), linewidth = 4, alpha = .9, label = 'Smoothed');\n",
        "ax.plot(joined_df['Ticks'], joined_df['Pred'], color = (1,0,0), label = 'Prediction');\n",
        "ax.set_title('Rolling Mean vs Linear Regression')\n",
        "ax.set_xlabel('Ticks')\n",
        "ax.set_ylabel('Price')\n",
        "ax.legend(loc='lower right');"
      ],
      "execution_count": 129,
      "outputs": [
        {
          "output_type": "display_data",
          "data": {
            "image/png": "[encoded data removed]",
            "text/plain": [
              "<Figure size 432x288 with 1 Axes>"
            ]
          },
          "metadata": {
            "tags": []
          }
        }
      ]
    },
    {
      "cell_type": "code",
      "metadata": {
        "id": "qA118uAOdmL1",
        "colab_type": "code",
        "colab": {
          "base_uri": "https://localhost:8080/",
          "height": 35
        },
        "outputId": "514d6e84-7e87-4d88-c0d8-058d1d98cb60"
      },
      "source": [
        "import sklearn\n",
        "r_squared = sklearn.metrics.r2_score(joined_df['Rolling_Mean'],joined_df['Pred'],multioutput='uniform_average')\n",
        "r_squared"
      ],
      "execution_count": 130,
      "outputs": [
        {
          "output_type": "execute_result",
          "data": {
            "text/plain": [
              "0.9303563011985321"
            ]
          },
          "metadata": {
            "tags": []
          },
          "execution_count": 130
        }
      ]
    }
  ]
}