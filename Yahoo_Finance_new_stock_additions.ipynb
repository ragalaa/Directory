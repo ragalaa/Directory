{
  "nbformat": 4,
  "nbformat_minor": 0,
  "metadata": {
    "colab": {
      "name": "Yahoo Finance new stock additions.ipynb",
      "provenance": [],
      "authorship_tag": "ABX9TyNvuPwXfjFISG4AHaV+M6me",
      "include_colab_link": true
    },
    "kernelspec": {
      "name": "python3",
      "display_name": "Python 3"
    }
  },
  "cells": [
    {
      "cell_type": "markdown",
      "metadata": {
        "id": "view-in-github",
        "colab_type": "text"
      },
      "source": [
        "<a href=\"https://colab.research.google.com/github/ragalaa/Machine-Learning-Basics/blob/master/Yahoo_Finance_new_stock_additions.ipynb\" target=\"_parent\"><img src=\"https://colab.research.google.com/assets/colab-badge.svg\" alt=\"Open In Colab\"/></a>"
      ]
    },
    {
      "cell_type": "code",
      "metadata": {
        "id": "8JA8Dk2euNLH",
        "colab_type": "code",
        "colab": {}
      },
      "source": [
        "%matplotlib inline\n",
        "%config InlineBackend.figure_format = 'retina'"
      ],
      "execution_count": 0,
      "outputs": []
    },
    {
      "cell_type": "code",
      "metadata": {
        "id": "J69E8NBEuSmo",
        "colab_type": "code",
        "colab": {}
      },
      "source": [
        "import matplotlib.pyplot as plt\n",
        "import warnings\n",
        "\n",
        "plt.style.use('seaborn')\n",
        "warnings.simplefilter(action='ignore', category=FutureWarning)"
      ],
      "execution_count": 0,
      "outputs": []
    },
    {
      "cell_type": "code",
      "metadata": {
        "id": "7SqDlnLEuUJE",
        "colab_type": "code",
        "colab": {
          "base_uri": "https://localhost:8080/",
          "height": 435
        },
        "outputId": "469dae7f-376f-46c0-97ce-53773f188de4"
      },
      "source": [
        "!pip install yfinance\n",
        "!pip install yahoofinancials\n",
        "import pandas as pd\n",
        "import yfinance as yf\n",
        "from yahoofinancials import YahooFinancials"
      ],
      "execution_count": 6,
      "outputs": [
        {
          "output_type": "stream",
          "text": [
            "Collecting yfinance\n",
            "  Downloading https://files.pythonhosted.org/packages/c2/31/8b374a12b90def92a4e27d0fc595fc43635f395984e36a075244d98bd265/yfinance-0.1.54.tar.gz\n",
            "Requirement already satisfied: pandas>=0.24 in /usr/local/lib/python3.6/dist-packages (from yfinance) (0.25.3)\n",
            "Requirement already satisfied: numpy>=1.15 in /usr/local/lib/python3.6/dist-packages (from yfinance) (1.17.5)\n",
            "Requirement already satisfied: requests>=2.20 in /usr/local/lib/python3.6/dist-packages (from yfinance) (2.21.0)\n",
            "Requirement already satisfied: multitasking>=0.0.7 in /usr/local/lib/python3.6/dist-packages (from yfinance) (0.0.9)\n",
            "Requirement already satisfied: python-dateutil>=2.6.1 in /usr/local/lib/python3.6/dist-packages (from pandas>=0.24->yfinance) (2.6.1)\n",
            "Requirement already satisfied: pytz>=2017.2 in /usr/local/lib/python3.6/dist-packages (from pandas>=0.24->yfinance) (2018.9)\n",
            "Requirement already satisfied: chardet<3.1.0,>=3.0.2 in /usr/local/lib/python3.6/dist-packages (from requests>=2.20->yfinance) (3.0.4)\n",
            "Requirement already satisfied: certifi>=2017.4.17 in /usr/local/lib/python3.6/dist-packages (from requests>=2.20->yfinance) (2019.11.28)\n",
            "Requirement already satisfied: urllib3<1.25,>=1.21.1 in /usr/local/lib/python3.6/dist-packages (from requests>=2.20->yfinance) (1.24.3)\n",
            "Requirement already satisfied: idna<2.9,>=2.5 in /usr/local/lib/python3.6/dist-packages (from requests>=2.20->yfinance) (2.8)\n",
            "Requirement already satisfied: six>=1.5 in /usr/local/lib/python3.6/dist-packages (from python-dateutil>=2.6.1->pandas>=0.24->yfinance) (1.12.0)\n",
            "Building wheels for collected packages: yfinance\n",
            "  Building wheel for yfinance (setup.py) ... \u001b[?25l\u001b[?25hdone\n",
            "  Created wheel for yfinance: filename=yfinance-0.1.54-py2.py3-none-any.whl size=22409 sha256=6522fb4987107c6351e7b881cfbad1ef0357fec0f091d2ab2da74d878651b5d2\n",
            "  Stored in directory: /root/.cache/pip/wheels/f9/e3/5b/ec24dd2984b12d61e0abf26289746c2436a0e7844f26f2515c\n",
            "Successfully built yfinance\n",
            "Installing collected packages: yfinance\n",
            "Successfully installed yfinance-0.1.54\n",
            "Requirement already satisfied: yahoofinancials in /usr/local/lib/python3.6/dist-packages (1.5)\n",
            "Requirement already satisfied: beautifulsoup4 in /usr/local/lib/python3.6/dist-packages (from yahoofinancials) (4.6.3)\n",
            "Requirement already satisfied: pytz in /usr/local/lib/python3.6/dist-packages (from yahoofinancials) (2018.9)\n"
          ],
          "name": "stdout"
        }
      ]
    },
    {
      "cell_type": "code",
      "metadata": {
        "id": "PF-z-mmNumc-",
        "colab_type": "code",
        "colab": {
          "base_uri": "https://localhost:8080/",
          "height": 228
        },
        "outputId": "772f29ab-2591-493f-8238-3bf54f3c9c6e"
      },
      "source": [
        "tsla_df = yf.download('TSLA', start='2019-02-01', \n",
        "                      end='2020-02-06', progress=False)\n",
        "tsla_df.head()"
      ],
      "execution_count": 9,
      "outputs": [
        {
          "output_type": "execute_result",
          "data": {
            "text/html": [
              "<div>\n",
              "<style scoped>\n",
              "    .dataframe tbody tr th:only-of-type {\n",
              "        vertical-align: middle;\n",
              "    }\n",
              "\n",
              "    .dataframe tbody tr th {\n",
              "        vertical-align: top;\n",
              "    }\n",
              "\n",
              "    .dataframe thead th {\n",
              "        text-align: right;\n",
              "    }\n",
              "</style>\n",
              "<table border=\"1\" class=\"dataframe\">\n",
              "  <thead>\n",
              "    <tr style=\"text-align: right;\">\n",
              "      <th></th>\n",
              "      <th>Open</th>\n",
              "      <th>High</th>\n",
              "      <th>Low</th>\n",
              "      <th>Close</th>\n",
              "      <th>Adj Close</th>\n",
              "      <th>Volume</th>\n",
              "    </tr>\n",
              "    <tr>\n",
              "      <th>Date</th>\n",
              "      <th></th>\n",
              "      <th></th>\n",
              "      <th></th>\n",
              "      <th></th>\n",
              "      <th></th>\n",
              "      <th></th>\n",
              "    </tr>\n",
              "  </thead>\n",
              "  <tbody>\n",
              "    <tr>\n",
              "      <th>2019-02-01</th>\n",
              "      <td>305.420013</td>\n",
              "      <td>316.100006</td>\n",
              "      <td>303.500000</td>\n",
              "      <td>312.209991</td>\n",
              "      <td>312.209991</td>\n",
              "      <td>7283400</td>\n",
              "    </tr>\n",
              "    <tr>\n",
              "      <th>2019-02-04</th>\n",
              "      <td>312.980011</td>\n",
              "      <td>315.299988</td>\n",
              "      <td>301.880005</td>\n",
              "      <td>312.890015</td>\n",
              "      <td>312.890015</td>\n",
              "      <td>7352100</td>\n",
              "    </tr>\n",
              "    <tr>\n",
              "      <th>2019-02-05</th>\n",
              "      <td>312.489990</td>\n",
              "      <td>322.440002</td>\n",
              "      <td>312.250000</td>\n",
              "      <td>321.350006</td>\n",
              "      <td>321.350006</td>\n",
              "      <td>6742800</td>\n",
              "    </tr>\n",
              "    <tr>\n",
              "      <th>2019-02-06</th>\n",
              "      <td>319.589996</td>\n",
              "      <td>324.239990</td>\n",
              "      <td>315.619995</td>\n",
              "      <td>317.220001</td>\n",
              "      <td>317.220001</td>\n",
              "      <td>5038500</td>\n",
              "    </tr>\n",
              "    <tr>\n",
              "      <th>2019-02-07</th>\n",
              "      <td>313.299988</td>\n",
              "      <td>314.700012</td>\n",
              "      <td>303.000000</td>\n",
              "      <td>307.510010</td>\n",
              "      <td>307.510010</td>\n",
              "      <td>6520600</td>\n",
              "    </tr>\n",
              "  </tbody>\n",
              "</table>\n",
              "</div>"
            ],
            "text/plain": [
              "                  Open        High         Low       Close   Adj Close   Volume\n",
              "Date                                                                           \n",
              "2019-02-01  305.420013  316.100006  303.500000  312.209991  312.209991  7283400\n",
              "2019-02-04  312.980011  315.299988  301.880005  312.890015  312.890015  7352100\n",
              "2019-02-05  312.489990  322.440002  312.250000  321.350006  321.350006  6742800\n",
              "2019-02-06  319.589996  324.239990  315.619995  317.220001  317.220001  5038500\n",
              "2019-02-07  313.299988  314.700012  303.000000  307.510010  307.510010  6520600"
            ]
          },
          "metadata": {
            "tags": []
          },
          "execution_count": 9
        }
      ]
    },
    {
      "cell_type": "code",
      "metadata": {
        "id": "Xpbmsfziu-ku",
        "colab_type": "code",
        "colab": {
          "base_uri": "https://localhost:8080/",
          "height": 375
        },
        "outputId": "7c15deaa-d7bc-4e09-bef7-2f24b8603bb1"
      },
      "source": [
        "\n",
        "ticker = yf.Ticker('TSLA')\n",
        "tsla_df = ticker.history(period=\"max\")\n",
        "tsla_df['Close'].plot(title=\"TSLA's stock price\");\n"
      ],
      "execution_count": 45,
      "outputs": [
        {
          "output_type": "execute_result",
          "data": {
            "text/plain": [
              "Series([], Name: Dividends, dtype: int64)"
            ]
          },
          "metadata": {
            "tags": []
          },
          "execution_count": 45
        },
        {
          "output_type": "display_data",
          "data": {
            "image/png": "[encoded data removed]",
            "text/plain": [
              "<Figure size 576x396 with 1 Axes>"
            ]
          },
          "metadata": {
            "tags": [],
            "image/png": {
              "width": 484,
              "height": 339
            }
          }
        }
      ]
    },
    {
      "cell_type": "code",
      "metadata": {
        "id": "NZlowcxh06gA",
        "colab_type": "code",
        "colab": {
          "base_uri": "https://localhost:8080/",
          "height": 437
        },
        "outputId": "b9a15fc1-71cf-4543-c556-e3949dfa3511"
      },
      "source": [
        "# show balance heet\n",
        "# ticker.balance_sheet\n",
        "# ticker.quarterly_balance_sheet\n",
        "\n",
        "# show cashflow\n",
        "# ticker.cashflow\n",
        "# ticker.quarterly_cashflow\n",
        "\n",
        "ticker.recommendations"
      ],
      "execution_count": 52,
      "outputs": [
        {
          "output_type": "execute_result",
          "data": {
            "text/html": [
              "<div>\n",
              "<style scoped>\n",
              "    .dataframe tbody tr th:only-of-type {\n",
              "        vertical-align: middle;\n",
              "    }\n",
              "\n",
              "    .dataframe tbody tr th {\n",
              "        vertical-align: top;\n",
              "    }\n",
              "\n",
              "    .dataframe thead th {\n",
              "        text-align: right;\n",
              "    }\n",
              "</style>\n",
              "<table border=\"1\" class=\"dataframe\">\n",
              "  <thead>\n",
              "    <tr style=\"text-align: right;\">\n",
              "      <th></th>\n",
              "      <th>Firm</th>\n",
              "      <th>To Grade</th>\n",
              "      <th>From Grade</th>\n",
              "      <th>Action</th>\n",
              "    </tr>\n",
              "    <tr>\n",
              "      <th>Date</th>\n",
              "      <th></th>\n",
              "      <th></th>\n",
              "      <th></th>\n",
              "      <th></th>\n",
              "    </tr>\n",
              "  </thead>\n",
              "  <tbody>\n",
              "    <tr>\n",
              "      <th>2012-07-18</th>\n",
              "      <td>Wunderlich</td>\n",
              "      <td>Sell</td>\n",
              "      <td></td>\n",
              "      <td>down</td>\n",
              "    </tr>\n",
              "    <tr>\n",
              "      <th>2012-09-17</th>\n",
              "      <td>Morgan Stanley</td>\n",
              "      <td>Overweight</td>\n",
              "      <td></td>\n",
              "      <td>up</td>\n",
              "    </tr>\n",
              "    <tr>\n",
              "      <th>2012-09-25</th>\n",
              "      <td>Bank of America</td>\n",
              "      <td>Neutral</td>\n",
              "      <td></td>\n",
              "      <td>main</td>\n",
              "    </tr>\n",
              "    <tr>\n",
              "      <th>2012-09-25</th>\n",
              "      <td>Goldman Sachs</td>\n",
              "      <td>Buy</td>\n",
              "      <td></td>\n",
              "      <td>main</td>\n",
              "    </tr>\n",
              "    <tr>\n",
              "      <th>2012-09-26</th>\n",
              "      <td>Jefferies</td>\n",
              "      <td>Buy</td>\n",
              "      <td></td>\n",
              "      <td>main</td>\n",
              "    </tr>\n",
              "    <tr>\n",
              "      <th>...</th>\n",
              "      <td>...</td>\n",
              "      <td>...</td>\n",
              "      <td>...</td>\n",
              "      <td>...</td>\n",
              "    </tr>\n",
              "    <tr>\n",
              "      <th>2020-01-02</th>\n",
              "      <td>Canaccord Genuity</td>\n",
              "      <td>Buy</td>\n",
              "      <td></td>\n",
              "      <td>main</td>\n",
              "    </tr>\n",
              "    <tr>\n",
              "      <th>2020-01-06</th>\n",
              "      <td>RBC Capital</td>\n",
              "      <td>Underperform</td>\n",
              "      <td></td>\n",
              "      <td>main</td>\n",
              "    </tr>\n",
              "    <tr>\n",
              "      <th>2020-01-09</th>\n",
              "      <td>CFRA</td>\n",
              "      <td>Sell</td>\n",
              "      <td>Hold</td>\n",
              "      <td>down</td>\n",
              "    </tr>\n",
              "    <tr>\n",
              "      <th>2020-01-09</th>\n",
              "      <td>Baird</td>\n",
              "      <td>Neutral</td>\n",
              "      <td>Outperform</td>\n",
              "      <td>down</td>\n",
              "    </tr>\n",
              "    <tr>\n",
              "      <th>2020-01-10</th>\n",
              "      <td>Piper Sandler</td>\n",
              "      <td>Overweight</td>\n",
              "      <td></td>\n",
              "      <td>main</td>\n",
              "    </tr>\n",
              "  </tbody>\n",
              "</table>\n",
              "<p>241 rows × 4 columns</p>\n",
              "</div>"
            ],
            "text/plain": [
              "                         Firm      To Grade  From Grade Action\n",
              "Date                                                          \n",
              "2012-07-18         Wunderlich          Sell               down\n",
              "2012-09-17     Morgan Stanley    Overweight                 up\n",
              "2012-09-25    Bank of America       Neutral               main\n",
              "2012-09-25      Goldman Sachs           Buy               main\n",
              "2012-09-26          Jefferies           Buy               main\n",
              "...                       ...           ...         ...    ...\n",
              "2020-01-02  Canaccord Genuity           Buy               main\n",
              "2020-01-06        RBC Capital  Underperform               main\n",
              "2020-01-09               CFRA          Sell        Hold   down\n",
              "2020-01-09              Baird       Neutral  Outperform   down\n",
              "2020-01-10      Piper Sandler    Overweight               main\n",
              "\n",
              "[241 rows x 4 columns]"
            ]
          },
          "metadata": {
            "tags": []
          },
          "execution_count": 52
        }
      ]
    },
    {
      "cell_type": "code",
      "metadata": {
        "id": "tJlUXsQNvVag",
        "colab_type": "code",
        "colab": {
          "base_uri": "https://localhost:8080/",
          "height": 228
        },
        "outputId": "9241ce72-4b52-45b5-b946-2f56fd51bc23"
      },
      "source": [
        "yahoo_financials = YahooFinancials('TSLA')\n",
        "\n",
        "data = yahoo_financials.get_historical_price_data(start_date='2000-01-01', \n",
        "                                                  end_date='2019-12-31', \n",
        "                                                  time_interval='weekly')\n",
        "\n",
        "tsla_df = pd.DataFrame(data['TSLA']['prices'])\n",
        "tsla_df = tsla_df.drop('date', axis=1).set_index('formatted_date')\n",
        "tsla_df.head()"
      ],
      "execution_count": 16,
      "outputs": [
        {
          "output_type": "execute_result",
          "data": {
            "text/html": [
              "<div>\n",
              "<style scoped>\n",
              "    .dataframe tbody tr th:only-of-type {\n",
              "        vertical-align: middle;\n",
              "    }\n",
              "\n",
              "    .dataframe tbody tr th {\n",
              "        vertical-align: top;\n",
              "    }\n",
              "\n",
              "    .dataframe thead th {\n",
              "        text-align: right;\n",
              "    }\n",
              "</style>\n",
              "<table border=\"1\" class=\"dataframe\">\n",
              "  <thead>\n",
              "    <tr style=\"text-align: right;\">\n",
              "      <th></th>\n",
              "      <th>high</th>\n",
              "      <th>low</th>\n",
              "      <th>open</th>\n",
              "      <th>close</th>\n",
              "      <th>volume</th>\n",
              "      <th>adjclose</th>\n",
              "    </tr>\n",
              "    <tr>\n",
              "      <th>formatted_date</th>\n",
              "      <th></th>\n",
              "      <th></th>\n",
              "      <th></th>\n",
              "      <th></th>\n",
              "      <th></th>\n",
              "      <th></th>\n",
              "    </tr>\n",
              "  </thead>\n",
              "  <tbody>\n",
              "    <tr>\n",
              "      <th>2010-06-28</th>\n",
              "      <td>30.42</td>\n",
              "      <td>17.540001</td>\n",
              "      <td>19.000000</td>\n",
              "      <td>19.200001</td>\n",
              "      <td>49312000</td>\n",
              "      <td>19.200001</td>\n",
              "    </tr>\n",
              "    <tr>\n",
              "      <th>2010-07-05</th>\n",
              "      <td>20.00</td>\n",
              "      <td>14.980000</td>\n",
              "      <td>20.000000</td>\n",
              "      <td>17.400000</td>\n",
              "      <td>25550600</td>\n",
              "      <td>17.400000</td>\n",
              "    </tr>\n",
              "    <tr>\n",
              "      <th>2010-07-12</th>\n",
              "      <td>21.50</td>\n",
              "      <td>16.900000</td>\n",
              "      <td>17.950001</td>\n",
              "      <td>20.639999</td>\n",
              "      <td>15438900</td>\n",
              "      <td>20.639999</td>\n",
              "    </tr>\n",
              "    <tr>\n",
              "      <th>2010-07-19</th>\n",
              "      <td>22.25</td>\n",
              "      <td>19.500000</td>\n",
              "      <td>21.370001</td>\n",
              "      <td>21.290001</td>\n",
              "      <td>7175700</td>\n",
              "      <td>21.290001</td>\n",
              "    </tr>\n",
              "    <tr>\n",
              "      <th>2010-07-26</th>\n",
              "      <td>21.50</td>\n",
              "      <td>19.549999</td>\n",
              "      <td>21.500000</td>\n",
              "      <td>19.940001</td>\n",
              "      <td>3052000</td>\n",
              "      <td>19.940001</td>\n",
              "    </tr>\n",
              "  </tbody>\n",
              "</table>\n",
              "</div>"
            ],
            "text/plain": [
              "                 high        low       open      close    volume   adjclose\n",
              "formatted_date                                                             \n",
              "2010-06-28      30.42  17.540001  19.000000  19.200001  49312000  19.200001\n",
              "2010-07-05      20.00  14.980000  20.000000  17.400000  25550600  17.400000\n",
              "2010-07-12      21.50  16.900000  17.950001  20.639999  15438900  20.639999\n",
              "2010-07-19      22.25  19.500000  21.370001  21.290001   7175700  21.290001\n",
              "2010-07-26      21.50  19.549999  21.500000  19.940001   3052000  19.940001"
            ]
          },
          "metadata": {
            "tags": []
          },
          "execution_count": 16
        }
      ]
    },
    {
      "cell_type": "code",
      "metadata": {
        "id": "P_f9gmycv3g0",
        "colab_type": "code",
        "colab": {
          "base_uri": "https://localhost:8080/",
          "height": 217
        },
        "outputId": "98f763d4-8b64-4890-a9d1-27962ab518fc"
      },
      "source": [
        "yahoo_financials.get_stock_quote_type_data()"
      ],
      "execution_count": 17,
      "outputs": [
        {
          "output_type": "execute_result",
          "data": {
            "text/plain": [
              "{'TSLA': {'exchange': 'NMS',\n",
              "  'exchangeTimezoneName': 'America/New_York',\n",
              "  'exchangeTimezoneShortName': 'EST',\n",
              "  'gmtOffSetMilliseconds': '-18000000',\n",
              "  'isEsgPopulated': False,\n",
              "  'longName': 'Tesla, Inc.',\n",
              "  'market': 'us_market',\n",
              "  'messageBoardId': 'finmb_27444752',\n",
              "  'quoteType': 'EQUITY',\n",
              "  'shortName': 'Tesla, Inc.',\n",
              "  'symbol': 'TSLA'}}"
            ]
          },
          "metadata": {
            "tags": []
          },
          "execution_count": 17
        }
      ]
    },
    {
      "cell_type": "code",
      "metadata": {
        "id": "vaqo8yaEvj6m",
        "colab_type": "code",
        "colab": {
          "base_uri": "https://localhost:8080/",
          "height": 945
        },
        "outputId": "7b75ab6c-57a9-4350-cfde-75966923c766"
      },
      "source": [
        "yahoo_financials.get_key_statistics_data()"
      ],
      "execution_count": 18,
      "outputs": [
        {
          "output_type": "execute_result",
          "data": {
            "text/plain": [
              "{'TSLA': {'52WeekChange': 1.3891907,\n",
              "  'SandP52WeekChange': 0.23230898,\n",
              "  'annualHoldingsTurnover': None,\n",
              "  'annualReportExpenseRatio': None,\n",
              "  'beta': 0.563604,\n",
              "  'beta3Year': None,\n",
              "  'bookValue': 36.767,\n",
              "  'category': None,\n",
              "  'dateShortInterest': 1579046400,\n",
              "  'earningsQuarterlyGrowth': -0.247,\n",
              "  'enterpriseToEbitda': 63.066,\n",
              "  'enterpriseToRevenue': 5.732,\n",
              "  'enterpriseValue': 140888997888,\n",
              "  'fiveYearAverageReturn': None,\n",
              "  'floatShares': 141949800,\n",
              "  'forwardEps': 15.03,\n",
              "  'forwardPE': 49.83101,\n",
              "  'fundFamily': None,\n",
              "  'fundInceptionDate': '-',\n",
              "  'heldPercentInsiders': 0.20957,\n",
              "  'heldPercentInstitutions': 0.53478,\n",
              "  'lastCapGain': None,\n",
              "  'lastDividendValue': None,\n",
              "  'lastFiscalYearEnd': 1577750400,\n",
              "  'lastSplitDate': '-',\n",
              "  'lastSplitFactor': None,\n",
              "  'legalType': None,\n",
              "  'maxAge': 1,\n",
              "  'morningStarOverallRating': None,\n",
              "  'morningStarRiskRating': None,\n",
              "  'mostRecentQuarter': 1577750400,\n",
              "  'netIncomeToCommon': -862000000,\n",
              "  'nextFiscalYearEnd': 1640908800,\n",
              "  'pegRatio': 2.65,\n",
              "  'priceHint': 2,\n",
              "  'priceToBook': 20.370443,\n",
              "  'priceToSalesTrailing12Months': None,\n",
              "  'profitMargins': -0.03507,\n",
              "  'revenueQuarterlyGrowth': None,\n",
              "  'sharesOutstanding': 180244992,\n",
              "  'sharesPercentSharesOut': 0.1384,\n",
              "  'sharesShort': 24954265,\n",
              "  'sharesShortPreviousMonthDate': '2019-12-13',\n",
              "  'sharesShortPriorMonth': 27496754,\n",
              "  'shortPercentOfFloat': None,\n",
              "  'shortRatio': 2.66,\n",
              "  'threeYearAverageReturn': None,\n",
              "  'totalAssets': None,\n",
              "  'trailingEps': -4.92,\n",
              "  'yield': None,\n",
              "  'ytdReturn': None}}"
            ]
          },
          "metadata": {
            "tags": []
          },
          "execution_count": 18
        }
      ]
    },
    {
      "cell_type": "code",
      "metadata": {
        "id": "8ylSgv8BwIsP",
        "colab_type": "code",
        "colab": {
          "base_uri": "https://localhost:8080/",
          "height": 945
        },
        "outputId": "2ace581a-0cc3-4ada-9e82-6388fe9921db"
      },
      "source": [
        "yahoo_financials.get_summary_data()"
      ],
      "execution_count": 19,
      "outputs": [
        {
          "output_type": "execute_result",
          "data": {
            "text/plain": [
              "{'TSLA': {'algorithm': None,\n",
              "  'ask': 747,\n",
              "  'askSize': 800,\n",
              "  'averageDailyVolume10Day': 30551125,\n",
              "  'averageVolume': 14620014,\n",
              "  'averageVolume10days': 30551125,\n",
              "  'beta': 0.563604,\n",
              "  'bid': 746.25,\n",
              "  'bidSize': 900,\n",
              "  'circulatingSupply': None,\n",
              "  'currency': 'USD',\n",
              "  'dayHigh': 795.83,\n",
              "  'dayLow': 687,\n",
              "  'dividendRate': None,\n",
              "  'dividendYield': None,\n",
              "  'exDividendDate': '-',\n",
              "  'expireDate': '-',\n",
              "  'fiftyDayAverage': 522.58185,\n",
              "  'fiftyTwoWeekHigh': 968.99,\n",
              "  'fiftyTwoWeekLow': 176.99,\n",
              "  'fiveYearAvgDividendYield': None,\n",
              "  'forwardPE': 49.83101,\n",
              "  'fromCurrency': None,\n",
              "  'lastMarket': None,\n",
              "  'marketCap': 134996295680,\n",
              "  'maxAge': 1,\n",
              "  'maxSupply': None,\n",
              "  'navPrice': None,\n",
              "  'open': 699.92,\n",
              "  'openInterest': None,\n",
              "  'payoutRatio': 0,\n",
              "  'previousClose': 734.7,\n",
              "  'priceHint': 2,\n",
              "  'priceToSalesTrailing12Months': 5.492566,\n",
              "  'regularMarketDayHigh': 795.83,\n",
              "  'regularMarketDayLow': 687,\n",
              "  'regularMarketOpen': 699.92,\n",
              "  'regularMarketPreviousClose': 734.7,\n",
              "  'regularMarketVolume': 39458478,\n",
              "  'startDate': '-',\n",
              "  'strikePrice': None,\n",
              "  'totalAssets': None,\n",
              "  'tradeable': True,\n",
              "  'trailingAnnualDividendRate': None,\n",
              "  'trailingAnnualDividendYield': None,\n",
              "  'twoHundredDayAverage': 333.2034,\n",
              "  'volume': 39458478,\n",
              "  'volume24Hr': None,\n",
              "  'volumeAllCurrencies': None,\n",
              "  'yield': None,\n",
              "  'ytdReturn': None}}"
            ]
          },
          "metadata": {
            "tags": []
          },
          "execution_count": 19
        }
      ]
    },
    {
      "cell_type": "code",
      "metadata": {
        "id": "G4RS0FokwOe2",
        "colab_type": "code",
        "colab": {
          "base_uri": "https://localhost:8080/",
          "height": 35
        },
        "outputId": "1bf0abd5-183f-4888-f673-1d6478c2b81d"
      },
      "source": [
        "yahoo_financials.get_stock_earnings_data()"
      ],
      "execution_count": 22,
      "outputs": [
        {
          "output_type": "execute_result",
          "data": {
            "text/plain": [
              "{'TSLA': None}"
            ]
          },
          "metadata": {
            "tags": []
          },
          "execution_count": 22
        }
      ]
    },
    {
      "cell_type": "code",
      "metadata": {
        "id": "nPfI-X1bwouc",
        "colab_type": "code",
        "colab": {
          "base_uri": "https://localhost:8080/",
          "height": 407
        },
        "outputId": "b096119a-f6a9-43c8-8814-3267cf11d2cf"
      },
      "source": [
        "### Git hub account for new  data financials:\n",
        "# https://github.com/ranaroussi/yfinance\n",
        "\n",
        "assets = ['TSLA', 'MSFT', 'FB' , 'IBM','AAPL','GOOG','AMZN']\n",
        "\n",
        "yahoo_financials = YahooFinancials(assets)\n",
        "\n",
        "data = yahoo_financials.get_historical_price_data(start_date='2019-01-01', \n",
        "                                                  end_date='2020-01-01', \n",
        "                                                  time_interval='Daily')\n",
        "\n",
        "prices_df = pd.DataFrame({\n",
        "    a: {x['formatted_date']: x['adjclose'] for x in data[a]['prices']} for a in assets\n",
        "})\n",
        "\n",
        "prices_df.sort_index(ascending= True)"
      ],
      "execution_count": 70,
      "outputs": [
        {
          "output_type": "execute_result",
          "data": {
            "text/html": [
              "<div>\n",
              "<style scoped>\n",
              "    .dataframe tbody tr th:only-of-type {\n",
              "        vertical-align: middle;\n",
              "    }\n",
              "\n",
              "    .dataframe tbody tr th {\n",
              "        vertical-align: top;\n",
              "    }\n",
              "\n",
              "    .dataframe thead th {\n",
              "        text-align: right;\n",
              "    }\n",
              "</style>\n",
              "<table border=\"1\" class=\"dataframe\">\n",
              "  <thead>\n",
              "    <tr style=\"text-align: right;\">\n",
              "      <th></th>\n",
              "      <th>TSLA</th>\n",
              "      <th>MSFT</th>\n",
              "      <th>FB</th>\n",
              "      <th>IBM</th>\n",
              "      <th>AAPL</th>\n",
              "      <th>GOOG</th>\n",
              "      <th>AMZN</th>\n",
              "    </tr>\n",
              "  </thead>\n",
              "  <tbody>\n",
              "    <tr>\n",
              "      <th>2019-01-02</th>\n",
              "      <td>310.119995</td>\n",
              "      <td>99.646614</td>\n",
              "      <td>135.679993</td>\n",
              "      <td>109.937111</td>\n",
              "      <td>155.582367</td>\n",
              "      <td>1045.849976</td>\n",
              "      <td>1539.130005</td>\n",
              "    </tr>\n",
              "    <tr>\n",
              "      <th>2019-01-03</th>\n",
              "      <td>300.359985</td>\n",
              "      <td>95.980820</td>\n",
              "      <td>131.740005</td>\n",
              "      <td>107.742371</td>\n",
              "      <td>140.085220</td>\n",
              "      <td>1016.059998</td>\n",
              "      <td>1500.280029</td>\n",
              "    </tr>\n",
              "    <tr>\n",
              "      <th>2019-01-04</th>\n",
              "      <td>317.690002</td>\n",
              "      <td>100.444817</td>\n",
              "      <td>137.949997</td>\n",
              "      <td>111.950539</td>\n",
              "      <td>146.065353</td>\n",
              "      <td>1070.709961</td>\n",
              "      <td>1575.390015</td>\n",
              "    </tr>\n",
              "    <tr>\n",
              "      <th>2019-01-07</th>\n",
              "      <td>334.959991</td>\n",
              "      <td>100.572922</td>\n",
              "      <td>138.050003</td>\n",
              "      <td>112.742554</td>\n",
              "      <td>145.740265</td>\n",
              "      <td>1068.390015</td>\n",
              "      <td>1629.510010</td>\n",
              "    </tr>\n",
              "    <tr>\n",
              "      <th>2019-01-08</th>\n",
              "      <td>335.350006</td>\n",
              "      <td>101.302139</td>\n",
              "      <td>142.529999</td>\n",
              "      <td>114.345657</td>\n",
              "      <td>148.518509</td>\n",
              "      <td>1076.280029</td>\n",
              "      <td>1656.579956</td>\n",
              "    </tr>\n",
              "    <tr>\n",
              "      <th>...</th>\n",
              "      <td>...</td>\n",
              "      <td>...</td>\n",
              "      <td>...</td>\n",
              "      <td>...</td>\n",
              "      <td>...</td>\n",
              "      <td>...</td>\n",
              "      <td>...</td>\n",
              "    </tr>\n",
              "    <tr>\n",
              "      <th>2019-12-24</th>\n",
              "      <td>425.250000</td>\n",
              "      <td>157.380005</td>\n",
              "      <td>205.119995</td>\n",
              "      <td>134.979996</td>\n",
              "      <td>284.269989</td>\n",
              "      <td>1343.560059</td>\n",
              "      <td>1789.209961</td>\n",
              "    </tr>\n",
              "    <tr>\n",
              "      <th>2019-12-26</th>\n",
              "      <td>430.940002</td>\n",
              "      <td>158.669998</td>\n",
              "      <td>207.789993</td>\n",
              "      <td>134.910004</td>\n",
              "      <td>289.910004</td>\n",
              "      <td>1360.400024</td>\n",
              "      <td>1868.770020</td>\n",
              "    </tr>\n",
              "    <tr>\n",
              "      <th>2019-12-27</th>\n",
              "      <td>430.380005</td>\n",
              "      <td>158.960007</td>\n",
              "      <td>208.100006</td>\n",
              "      <td>135.270004</td>\n",
              "      <td>289.799988</td>\n",
              "      <td>1351.890015</td>\n",
              "      <td>1869.800049</td>\n",
              "    </tr>\n",
              "    <tr>\n",
              "      <th>2019-12-30</th>\n",
              "      <td>414.700012</td>\n",
              "      <td>157.589996</td>\n",
              "      <td>204.410004</td>\n",
              "      <td>132.809998</td>\n",
              "      <td>291.519989</td>\n",
              "      <td>1336.140015</td>\n",
              "      <td>1846.890015</td>\n",
              "    </tr>\n",
              "    <tr>\n",
              "      <th>2019-12-31</th>\n",
              "      <td>418.329987</td>\n",
              "      <td>157.699997</td>\n",
              "      <td>205.250000</td>\n",
              "      <td>134.039993</td>\n",
              "      <td>293.649994</td>\n",
              "      <td>1337.020020</td>\n",
              "      <td>1847.839966</td>\n",
              "    </tr>\n",
              "  </tbody>\n",
              "</table>\n",
              "<p>252 rows × 7 columns</p>\n",
              "</div>"
            ],
            "text/plain": [
              "                  TSLA        MSFT  ...         GOOG         AMZN\n",
              "2019-01-02  310.119995   99.646614  ...  1045.849976  1539.130005\n",
              "2019-01-03  300.359985   95.980820  ...  1016.059998  1500.280029\n",
              "2019-01-04  317.690002  100.444817  ...  1070.709961  1575.390015\n",
              "2019-01-07  334.959991  100.572922  ...  1068.390015  1629.510010\n",
              "2019-01-08  335.350006  101.302139  ...  1076.280029  1656.579956\n",
              "...                ...         ...  ...          ...          ...\n",
              "2019-12-24  425.250000  157.380005  ...  1343.560059  1789.209961\n",
              "2019-12-26  430.940002  158.669998  ...  1360.400024  1868.770020\n",
              "2019-12-27  430.380005  158.960007  ...  1351.890015  1869.800049\n",
              "2019-12-30  414.700012  157.589996  ...  1336.140015  1846.890015\n",
              "2019-12-31  418.329987  157.699997  ...  1337.020020  1847.839966\n",
              "\n",
              "[252 rows x 7 columns]"
            ]
          },
          "metadata": {
            "tags": []
          },
          "execution_count": 70
        }
      ]
    },
    {
      "cell_type": "code",
      "metadata": {
        "id": "9sNO9INXwwYa",
        "colab_type": "code",
        "colab": {
          "base_uri": "https://localhost:8080/",
          "height": 145
        },
        "outputId": "3cde4e44-1a65-464c-a4e6-d18e9342c419"
      },
      "source": [
        "!pip install PyPortfolioOpt\n",
        "from pypfopt.efficient_frontier import EfficientFrontier\n",
        "from pypfopt import risk_models\n",
        "from pypfopt import expected_returns"
      ],
      "execution_count": 61,
      "outputs": [
        {
          "output_type": "stream",
          "text": [
            "Requirement already satisfied: PyPortfolioOpt in /usr/local/lib/python3.6/dist-packages (0.5.3)\n",
            "Requirement already satisfied: pandas<0.26.0,>=0.25.3 in /usr/local/lib/python3.6/dist-packages (from PyPortfolioOpt) (0.25.3)\n",
            "Requirement already satisfied: numpy in /usr/local/lib/python3.6/dist-packages (from PyPortfolioOpt) (1.17.5)\n",
            "Requirement already satisfied: scipy in /usr/local/lib/python3.6/dist-packages (from PyPortfolioOpt) (1.4.1)\n",
            "Requirement already satisfied: python-dateutil>=2.6.1 in /usr/local/lib/python3.6/dist-packages (from pandas<0.26.0,>=0.25.3->PyPortfolioOpt) (2.6.1)\n",
            "Requirement already satisfied: pytz>=2017.2 in /usr/local/lib/python3.6/dist-packages (from pandas<0.26.0,>=0.25.3->PyPortfolioOpt) (2018.9)\n",
            "Requirement already satisfied: six>=1.5 in /usr/local/lib/python3.6/dist-packages (from python-dateutil>=2.6.1->pandas<0.26.0,>=0.25.3->PyPortfolioOpt) (1.12.0)\n"
          ],
          "name": "stdout"
        }
      ]
    },
    {
      "cell_type": "code",
      "metadata": {
        "id": "lR5lHtz3NazZ",
        "colab_type": "code",
        "colab": {
          "base_uri": "https://localhost:8080/",
          "height": 145
        },
        "outputId": "fc84880f-ec41-4594-b420-59389bd9274b"
      },
      "source": [
        "# calculate expected returns and sample covariance amtrix\n",
        "avg_returns = expected_returns.mean_historical_return(prices_df)\n",
        "cov_mat = risk_models.sample_cov(prices_df)\n",
        "\n",
        "# get weights maximizing the Sharpe ratio\n",
        "ef = EfficientFrontier(avg_returns, cov_mat)\n",
        "weights = ef.max_sharpe()\n",
        "cleaned_weights = ef.clean_weights()\n",
        "cleaned_weights\n"
      ],
      "execution_count": 71,
      "outputs": [
        {
          "output_type": "execute_result",
          "data": {
            "text/plain": [
              "{'AAPL': 0.49564,\n",
              " 'AMZN': 0.0,\n",
              " 'FB': 0.03366,\n",
              " 'GOOG': 0.0,\n",
              " 'IBM': 0.0,\n",
              " 'MSFT': 0.4707,\n",
              " 'TSLA': 0.0}"
            ]
          },
          "metadata": {
            "tags": []
          },
          "execution_count": 71
        }
      ]
    }
  ]
}