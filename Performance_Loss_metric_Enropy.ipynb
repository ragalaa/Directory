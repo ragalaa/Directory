{
  "nbformat": 4,
  "nbformat_minor": 0,
  "metadata": {
    "colab": {
      "name": "Performance/Loss metric Enropy.ipynb",
      "provenance": [],
      "include_colab_link": true
    },
    "kernelspec": {
      "name": "python3",
      "display_name": "Python 3"
    }
  },
  "cells": [
    {
      "cell_type": "markdown",
      "metadata": {
        "id": "view-in-github",
        "colab_type": "text"
      },
      "source": [
        "<a href=\"https://colab.research.google.com/github/ragalaa/Machine-Learning-Basics/blob/master/Performance_Loss_metric_Enropy.ipynb\" target=\"_parent\"><img src=\"https://colab.research.google.com/assets/colab-badge.svg\" alt=\"Open In Colab\"/></a>"
      ]
    },
    {
      "cell_type": "code",
      "metadata": {
        "id": "dltnDcGgUJ8o",
        "colab_type": "code",
        "colab": {}
      },
      "source": [
        "import numpy as np\n",
        "import pandas as pd\n",
        "import seaborn as sns\n",
        "\n",
        "### performance metric\n",
        "\n",
        "\"\"\"\n",
        "\n",
        "Accuracy = correct prediction/ total prediction\n",
        "\"\"\"\n",
        "## Accurcy metric\n",
        "def get_accuracy(truth, predictions, threshold=0.5 ,roundoff = 2):\n",
        "    \"\"\"\n",
        "    Args:\n",
        "     Truth : Truth can be Boolean(False, Truth), Int(0,1) or float(0,1)\n",
        "     predictyions:number between 0 and 1 Inclusive\n",
        "     threshold:  we convert predictons to ls if they are above this value\n",
        "     roundof = report accircay to how many decimals.\n",
        "   Return:\n",
        "     accuracy:number converted diivded by total predictions  \n",
        "    \"\"\"\n",
        "    truth = np.array(truth) == (1|True)\n",
        "    predicted=np.array(predictions) >= threshold\n",
        "    matches= sum(predicted == truth)\n",
        "    accuracy =  float(matches) /len(truth)\n",
        "    return round(accuracy,roundoff)\n",
        "    \n",
        "## Cross entorpy is loss fucntion:\n",
        "\"\"\"\n",
        "  \" Are your 1 's  near 1.\n",
        "    log(1) = 0  -> no penality\n",
        "    log(0) = inf -> big penality\n",
        "\"\"\"\n",
        "\n",
        "def get_loss(predictions,truth):\n",
        "    # Our methods will be using cross entropy loss.\n",
        "    return -np.mean( truth * np.log(predictions) + ( 1- truth) * np.log(1-  predictions))"
      ],
      "execution_count": 0,
      "outputs": []
    },
    {
      "cell_type": "code",
      "metadata": {
        "id": "2tassbOgYOTR",
        "colab_type": "code",
        "colab": {
          "base_uri": "https://localhost:8080/",
          "height": 35
        },
        "outputId": "34ec9717-b93f-498a-87c5-569d6ee43bd2"
      },
      "source": [
        "##Try it out:;\n",
        " acc = get_accuracy(truth= [0,False,1],predictions=[0.2,0.7,0.6])\n",
        " print('Accuracy is :' +str(acc) + '.')"
      ],
      "execution_count": 14,
      "outputs": [
        {
          "output_type": "stream",
          "text": [
            "Accuracy is :0.67.\n"
          ],
          "name": "stdout"
        }
      ]
    },
    {
      "cell_type": "code",
      "metadata": {
        "id": "Qq9-XHPtVTd6",
        "colab_type": "code",
        "colab": {
          "base_uri": "https://localhost:8080/",
          "height": 198
        },
        "outputId": "946e0df2-d134-41f9-93dc-3222590d4ee7"
      },
      "source": [
        "## Compare loss fuction with perfromance metrics:\n",
        "## Simulate certain situations..\n",
        "loss = []\n",
        "acc = []\n",
        "for i in range(1000):\n",
        "    for n in [10 ,100,1000]:\n",
        "        p = np.random.uniform(0.01 ,0.99,(1,1))\n",
        "        y = np.random.binomial(1,p,(n,1))\n",
        "        x = np.random.uniform(0.01,0.99,(n,1))\n",
        "        acc = np.append(acc,get_accuracy(truth=y,predictions=x, roundoff=6))\n",
        "        loss = np.append(loss,get_loss(predictions=x,truth=y))\n",
        "df = pd.DataFrame({'accuracy':acc,'cross-entropy': loss}) \n",
        "\n",
        "df.tail()"
      ],
      "execution_count": 66,
      "outputs": [
        {
          "output_type": "execute_result",
          "data": {
            "text/html": [
              "<div>\n",
              "<style scoped>\n",
              "    .dataframe tbody tr th:only-of-type {\n",
              "        vertical-align: middle;\n",
              "    }\n",
              "\n",
              "    .dataframe tbody tr th {\n",
              "        vertical-align: top;\n",
              "    }\n",
              "\n",
              "    .dataframe thead th {\n",
              "        text-align: right;\n",
              "    }\n",
              "</style>\n",
              "<table border=\"1\" class=\"dataframe\">\n",
              "  <thead>\n",
              "    <tr style=\"text-align: right;\">\n",
              "      <th></th>\n",
              "      <th>accuracy</th>\n",
              "      <th>cross-entropy</th>\n",
              "    </tr>\n",
              "  </thead>\n",
              "  <tbody>\n",
              "    <tr>\n",
              "      <th>2995</th>\n",
              "      <td>0.470</td>\n",
              "      <td>1.044196</td>\n",
              "    </tr>\n",
              "    <tr>\n",
              "      <th>2996</th>\n",
              "      <td>0.519</td>\n",
              "      <td>0.931480</td>\n",
              "    </tr>\n",
              "    <tr>\n",
              "      <th>2997</th>\n",
              "      <td>0.500</td>\n",
              "      <td>1.073832</td>\n",
              "    </tr>\n",
              "    <tr>\n",
              "      <th>2998</th>\n",
              "      <td>0.540</td>\n",
              "      <td>0.981309</td>\n",
              "    </tr>\n",
              "    <tr>\n",
              "      <th>2999</th>\n",
              "      <td>0.485</td>\n",
              "      <td>0.992219</td>\n",
              "    </tr>\n",
              "  </tbody>\n",
              "</table>\n",
              "</div>"
            ],
            "text/plain": [
              "      accuracy  cross-entropy\n",
              "2995     0.470       1.044196\n",
              "2996     0.519       0.931480\n",
              "2997     0.500       1.073832\n",
              "2998     0.540       0.981309\n",
              "2999     0.485       0.992219"
            ]
          },
          "metadata": {
            "tags": []
          },
          "execution_count": 66
        }
      ]
    },
    {
      "cell_type": "code",
      "metadata": {
        "id": "ykX2O019Z507",
        "colab_type": "code",
        "colab": {
          "base_uri": "https://localhost:8080/",
          "height": 297
        },
        "outputId": "f2a22669-8a81-4600-a0fc-14a137b8d093"
      },
      "source": [
        "### Visualize with seaborne:\n",
        "\n",
        "%matplotlib inline\n",
        "sns.regplot(x= \"accuracy\",y = 'cross-entropy', data= df)\n"
      ],
      "execution_count": 26,
      "outputs": [
        {
          "output_type": "execute_result",
          "data": {
            "text/plain": [
              "<matplotlib.axes._subplots.AxesSubplot at 0x7fc1954fb438>"
            ]
          },
          "metadata": {
            "tags": []
          },
          "execution_count": 26
        },
        {
          "output_type": "display_data",
          "data": {
            "image/png": "[encoded data removed]",
            "text/plain": [
              "<Figure size 432x288 with 1 Axes>"
            ]
          },
          "metadata": {
            "tags": []
          }
        }
      ]
    },
    {
      "cell_type": "code",
      "metadata": {
        "id": "D5e7qUlLcDyF",
        "colab_type": "code",
        "colab": {}
      },
      "source": [
        "## Commit to some perfomance set up like 80%\n",
        "## to producytiionize adn  launch..\n",
        "## Hyppthesis test..\n",
        " SIGNIFICANT_LEVEL = 0.05\n",
        " TARGET_ACCURACY  = 0.80\n",
        "\n",
        " # Hypothesis test we'll use:\n",
        " from statsmodels.stats.proportion import proportions_ztest\n",
        "    "
      ],
      "execution_count": 0,
      "outputs": []
    },
    {
      "cell_type": "code",
      "metadata": {
        "id": "EOgDdjIacrXT",
        "colab_type": "code",
        "colab": {
          "base_uri": "https://localhost:8080/",
          "height": 35
        },
        "outputId": "e00e1b83-0f0c-48bd-fb79-7120a68b5962"
      },
      "source": [
        "## Using standardnotation for one sided test of one population proportion:\n",
        "n = 100  #Example number of predictions\n",
        "x = 95   #Example number of correct predictions\n",
        "p_value = proportions_ztest(count=x,nobs= n,value= TARGET_ACCURACY,alternative='larger')[1]\n",
        "if p_value < SIGNIFICANT_LEVEL:\n",
        "    print(\" Congrats your model is good enough to build it passes testing. Awesome!!\")\n",
        "else:\n",
        "    print( \" too bad,better luck next project , you need pristine dataset\")    "
      ],
      "execution_count": 30,
      "outputs": [
        {
          "output_type": "execute_result",
          "data": {
            "text/plain": [
              "2.941136161936797e-12"
            ]
          },
          "metadata": {
            "tags": []
          },
          "execution_count": 30
        }
      ]
    },
    {
      "cell_type": "code",
      "metadata": {
        "id": "H9hDsyaTdZgD",
        "colab_type": "code",
        "colab": {}
      },
      "source": [
        "n_outputs = 5 ## Attempting to learn XORin this example so inputs & outputs are same\n",
        "n_hidden_units = 10 # single hidden layer with number of units in it\n",
        "n_obs =  500 #how many observations of XOR input to output vector will we use for learning\n",
        "# How quicku we want to update our weights\n",
        "learning_rate = 0.1\n",
        "# How mny times we will try to use each observation to improve weights\n",
        "epochs = 10 ## think of iteration w like\n",
        "# set random seed so that excercise works out the same way to everyone\n",
        "np.random.seed(42)"
      ],
      "execution_count": 0,
      "outputs": []
    },
    {
      "cell_type": "code",
      "metadata": {
        "id": "JB5RtYxNjV8R",
        "colab_type": "code",
        "colab": {
          "base_uri": "https://localhost:8080/",
          "height": 54
        },
        "outputId": "18c8db26-cf54-492b-f09a-ad638b6159c8"
      },
      "source": [
        "# create Inputs\n",
        "training_vectors = np.random.binomial(1,0.8,(n_obs,n_outputs))\n",
        "\n",
        "## Each row is biniomial vectore to learn from\n",
        "print ('One instance with '+str(n_outputs) + ' features' +str(training_vectors[0]))\n",
        "\n",
        "\n",
        "#Create the correct XOR outputs( t is for traget:)\n",
        "Xor_training_vectors =  training_vectors^1 # this is just XOR, everything is deterministic\n",
        "print ('Correct label( simply XOR):' +str(Xor_training_vectors[0]))"
      ],
      "execution_count": 65,
      "outputs": [
        {
          "output_type": "stream",
          "text": [
            "One instance with 5 features[1 0 1 1 1]\n",
            "Correct label( simply XOR):[0 1 0 0 0]\n"
          ],
          "name": "stdout"
        }
      ]
    },
    {
      "cell_type": "code",
      "metadata": {
        "id": "-DXQPS4TkhJP",
        "colab_type": "code",
        "colab": {
          "base_uri": "https://localhost:8080/",
          "height": 35
        },
        "outputId": "07af2092-48ec-4af0-9134-0350c500f91c"
      },
      "source": [
        " p = np.random.uniform(1 ,1,(1,1))\n",
        " p"
      ],
      "execution_count": 85,
      "outputs": [
        {
          "output_type": "execute_result",
          "data": {
            "text/plain": [
              "array([[1.]])"
            ]
          },
          "metadata": {
            "tags": []
          },
          "execution_count": 85
        }
      ]
    }
  ]
}