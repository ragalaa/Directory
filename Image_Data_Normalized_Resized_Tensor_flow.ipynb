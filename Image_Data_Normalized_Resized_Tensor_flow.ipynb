{
  "nbformat": 4,
  "nbformat_minor": 0,
  "metadata": {
    "colab": {
      "name": "Image_Data_Normalized_Resized_Tensor-flow",
      "provenance": [],
      "toc_visible": true,
      "include_colab_link": true
    },
    "kernelspec": {
      "name": "python3",
      "display_name": "Python 3"
    }
  },
  "cells": [
    {
      "cell_type": "markdown",
      "metadata": {
        "id": "view-in-github",
        "colab_type": "text"
      },
      "source": [
        "<a href=\"https://colab.research.google.com/github/ragalaa/Machine-Learning-Basics/blob/master/Image_Data_Normalized_Resized_Tensor_flow.ipynb\" target=\"_parent\"><img src=\"https://colab.research.google.com/assets/colab-badge.svg\" alt=\"Open In Colab\"/></a>"
      ]
    },
    {
      "cell_type": "code",
      "metadata": {
        "id": "R5XPkTkRtLSh",
        "colab_type": "code",
        "colab": {}
      },
      "source": [
        "import tensorflow as tf\n",
        "import numpy as np\n",
        "import pandas as pd\n",
        "import os\n",
        "import datetime"
      ],
      "execution_count": 0,
      "outputs": []
    },
    {
      "cell_type": "code",
      "metadata": {
        "id": "1M8vFr5ptXP1",
        "colab_type": "code",
        "colab": {}
      },
      "source": [
        "def read_tensor_from_image_file(filename, \n",
        "                                input_height = 331,\n",
        "                                input_width=331,\n",
        "                                input_mean = 0,\n",
        "                                input_std = 255):\n",
        "\n",
        "    input_name = \"file_reader\"\n",
        "    output_name = \"normalized\"\n",
        "    file_reader = tf.read_file(filename,input_name)\n",
        "    if filename.endswith(\".png\"):\n",
        "        image_reader = tf.image.decode_png(file_reader,channels=3,name=\"png_reader\")\n",
        "    elif filename.endswith(\".gif\"):\n",
        "        image_reader = tf.squeeze( tf.image.decode_gif(file_reader,name=\"gif_reader\"))\n",
        "    elif filename.endswith(\".bmp\"):\n",
        "        image_reader = tf.image.decode_bmp(file_reader,name=\"bmp_reader\")\n",
        "    else:\n",
        "        image_reader = tf.image.decode_jpeg(file_reader,channels=3,name=\"jpeg_reader\")\n",
        "        print(image_reader)   \n",
        "    \n",
        "    float_caster = tf.cast(image_reader,tf.float32)\n",
        "    print(\"float caster :\" ,float_caster)\n",
        "    dims_expander = tf.expand_dims(float_caster,0)\n",
        "    print(\"dims expander:\" ,dims_expander.shape)\n",
        "    resized = tf.image.resize_bilinear(dims_expander,[input_height,input_width])\n",
        "    print(\"resized:\" ,resized.shape)\n",
        "    normalized = tf.divide(tf.subtract(resized,[input_mean]),[input_std])\n",
        "    print(\" Normaizedtype:\", normalized)\n",
        "#     normarray = tf.(normalized)\n",
        "#     print(\"Arry type before normalized:\",normarray)\n",
        "    config = tf.ConfigProto()\n",
        "    config.gpu_options.allow_growth = True\n",
        "    sess = tf.Session(config=config)\n",
        "    result = sess.run(normalized)\n",
        "\n",
        "    return result"
      ],
      "execution_count": 0,
      "outputs": []
    },
    {
      "cell_type": "code",
      "metadata": {
        "id": "auBzWl3OyBOv",
        "colab_type": "code",
        "colab": {
          "base_uri": "https://localhost:8080/",
          "height": 999
        },
        "outputId": "e66ea37e-efea-405c-d5d6-21f666d1a973"
      },
      "source": [
        "image_data = read_tensor_from_image_file('./Babyfeet.JPG')\n",
        "# image_data"
      ],
      "execution_count": 51,
      "outputs": [
        {
          "output_type": "stream",
          "text": [
            "Tensor(\"jpeg_reader_18:0\", shape=(?, ?, 3), dtype=uint8)\n",
            "float caster : Tensor(\"Cast_17:0\", shape=(?, ?, 3), dtype=float32)\n",
            "dims expander: (1, ?, ?, 3)\n",
            "resized: (1, 331, 331, 3)\n",
            " Normaizedtype: Tensor(\"truediv_16:0\", shape=(1, 331, 331, 3), dtype=float32)\n"
          ],
          "name": "stdout"
        },
        {
          "output_type": "execute_result",
          "data": {
            "text/plain": [
              "array([[[[0.85098046, 0.86666673, 0.8705883 ],\n",
              "         [0.84779346, 0.86347973, 0.8674013 ],\n",
              "         [0.8176412 , 0.8333275 , 0.83724904],\n",
              "         ...,\n",
              "         [0.8315983 , 0.7923826 , 0.788461  ],\n",
              "         [0.848528  , 0.8171555 , 0.80931234],\n",
              "         [0.87426114, 0.8428886 , 0.83504546]],\n",
              "\n",
              "        [[0.84068483, 0.8563711 , 0.8602927 ],\n",
              "         [0.8427481 , 0.8584344 , 0.86235595],\n",
              "         [0.8225852 , 0.8382715 , 0.84219307],\n",
              "         ...,\n",
              "         [0.8342614 , 0.79504573, 0.79112417],\n",
              "         [0.8557195 , 0.82434696, 0.8165038 ],\n",
              "         [0.8739549 , 0.84258235, 0.8347392 ]],\n",
              "\n",
              "        [[0.82810265, 0.8437889 , 0.8477105 ],\n",
              "         [0.8368462 , 0.85253245, 0.856454  ],\n",
              "         [0.8291251 , 0.8448114 , 0.84873295],\n",
              "         ...,\n",
              "         [0.835087  , 0.7958713 , 0.79194975],\n",
              "         [0.8594361 , 0.82806355, 0.8202204 ],\n",
              "         [0.87248576, 0.8411132 , 0.8332701 ]],\n",
              "\n",
              "        ...,\n",
              "\n",
              "        [[0.8710742 , 0.87499577, 0.8553879 ],\n",
              "         [0.866418  , 0.8703396 , 0.85073173],\n",
              "         [0.8682004 , 0.872122  , 0.85251415],\n",
              "         ...,\n",
              "         [0.906617  , 0.92230326, 0.9183817 ],\n",
              "         [0.9151947 , 0.93088096, 0.9269594 ],\n",
              "         [0.91911626, 0.93480253, 0.93088096]],\n",
              "\n",
              "        [[0.88757807, 0.89149964, 0.8718918 ],\n",
              "         [0.87632453, 0.8802461 , 0.86063826],\n",
              "         [0.8689534 , 0.872875  , 0.85326713],\n",
              "         ...,\n",
              "         [0.90416455, 0.9198508 , 0.91592926],\n",
              "         [0.91376466, 0.9294509 , 0.92552936],\n",
              "         [0.92385536, 0.93954164, 0.93562007]],\n",
              "\n",
              "        [[0.9003261 , 0.90424764, 0.8846398 ],\n",
              "         [0.88358617, 0.88750774, 0.8678999 ],\n",
              "         [0.8717512 , 0.87567276, 0.8560649 ],\n",
              "         ...,\n",
              "         [0.9010604 , 0.9167467 , 0.9128251 ],\n",
              "         [0.91274226, 0.92842853, 0.92450696],\n",
              "         [0.9260717 , 0.941758  , 0.9378364 ]]]], dtype=float32)"
            ]
          },
          "metadata": {
            "tags": []
          },
          "execution_count": 51
        }
      ]
    },
    {
      "cell_type": "code",
      "metadata": {
        "id": "kCyZ9nup2Ng-",
        "colab_type": "code",
        "colab": {}
      },
      "source": [
        ""
      ],
      "execution_count": 0,
      "outputs": []
    }
  ]
}