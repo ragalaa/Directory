{
  "nbformat": 4,
  "nbformat_minor": 0,
  "metadata": {
    "colab": {
      "name": "Untitled2.ipynb",
      "provenance": [],
      "include_colab_link": true
    },
    "kernelspec": {
      "name": "python3",
      "display_name": "Python 3"
    }
  },
  "cells": [
    {
      "cell_type": "markdown",
      "metadata": {
        "id": "view-in-github",
        "colab_type": "text"
      },
      "source": [
        "<a href=\"https://colab.research.google.com/github/ragalaa/Directory/blob/master/Untitled2.ipynb\" target=\"_parent\"><img src=\"https://colab.research.google.com/assets/colab-badge.svg\" alt=\"Open In Colab\"/></a>"
      ]
    },
    {
      "cell_type": "code",
      "metadata": {
        "id": "VSwBKJMz4v67",
        "colab_type": "code",
        "colab": {
          "base_uri": "https://localhost:8080/",
          "height": 34
        },
        "outputId": "508bec4d-d5a8-485c-87f8-e2f545ee9648"
      },
      "source": [
        "# load an example dataset\n",
        "from vega_datasets import data\n",
        "cars = data.cars()\n",
        "sum_weight =sum(cars['Weight_in_lbs'])\n",
        "cars.shape\n",
        "length = len(cars)\n",
        "type(cars['Weight_in_lbs'])\n",
        "sorted_size = sorted(cars['Weight_in_lbs'])\n",
        "sorted_size[403:-1]\n"
      ],
      "execution_count": 29,
      "outputs": [
        {
          "output_type": "execute_result",
          "data": {
            "text/plain": [
              "[4955, 4997]"
            ]
          },
          "metadata": {
            "tags": []
          },
          "execution_count": 29
        }
      ]
    },
    {
      "cell_type": "markdown",
      "metadata": {
        "id": "9uVrZyhS9dxW",
        "colab_type": "text"
      },
      "source": [
        "## **Mode selevtin for weight in Lbs as to find the frequency of value with multiople times.**"
      ]
    },
    {
      "cell_type": "code",
      "metadata": {
        "id": "ysN7UKQs8Rrh",
        "colab_type": "code",
        "colab": {
          "base_uri": "https://localhost:8080/",
          "height": 51
        },
        "outputId": "072ca4c4-f274-46a3-f88f-43aad80f1257"
      },
      "source": [
        "size_counts = {}\n",
        "for p in cars['Weight_in_lbs']:\n",
        "    if p not in size_counts:\n",
        "       size_counts[p] = 1\n",
        "    else:\n",
        "        size_counts[p] += 1   \n",
        "        \n",
        "        \n",
        "count = 0\n",
        "size = 0\n",
        "for s ,c in size_counts.items():\n",
        "    if count < c:\n",
        "      count = c\n",
        "      size = s\n",
        "          \n",
        "print('size' , size , '\\nFrequency:' , count)         "
      ],
      "execution_count": 41,
      "outputs": [
        {
          "output_type": "stream",
          "text": [
            "size 2130 \n",
            "Frequency: 4\n"
          ],
          "name": "stdout"
        }
      ]
    },
    {
      "cell_type": "code",
      "metadata": {
        "id": "Q90JZVS19uSg",
        "colab_type": "code",
        "colab": {}
      },
      "source": [
        ""
      ],
      "execution_count": 0,
      "outputs": []
    }
  ]
}