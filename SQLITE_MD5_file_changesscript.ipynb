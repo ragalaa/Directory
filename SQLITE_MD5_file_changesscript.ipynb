{
  "nbformat": 4,
  "nbformat_minor": 0,
  "metadata": {
    "colab": {
      "name": "SQLITE MD5 file changesscript.ipynb",
      "provenance": [],
      "authorship_tag": "ABX9TyPY4Ul/ztnw41zOejOPqUF9",
      "include_colab_link": true
    },
    "kernelspec": {
      "name": "python3",
      "display_name": "Python 3"
    }
  },
  "cells": [
    {
      "cell_type": "markdown",
      "metadata": {
        "id": "view-in-github",
        "colab_type": "text"
      },
      "source": [
        "<a href=\"https://colab.research.google.com/github/ragalaa/Machine-Learning-Basics/blob/master/SQLITE_MD5_file_changesscript.ipynb\" target=\"_parent\"><img src=\"https://colab.research.google.com/assets/colab-badge.svg\" alt=\"Open In Colab\"/></a>"
      ]
    },
    {
      "cell_type": "code",
      "metadata": {
        "id": "b-8nJiTG72NQ",
        "colab_type": "code",
        "colab": {}
      },
      "source": [
        "import os\n",
        "import sqlite3\n",
        "import hashlib"
      ],
      "execution_count": 0,
      "outputs": []
    },
    {
      "cell_type": "code",
      "metadata": {
        "id": "pF0QJYtK8Gou",
        "colab_type": "code",
        "colab": {}
      },
      "source": [
        "def getbasefile():\n",
        "    \"\"\" Name of SQLite DB file\n",
        "        Return name of SQLdatabase file which has the same\n",
        "        name as python script\n",
        "     \"\"\"\n",
        "    return os.path.splitext(os.path.basename(__file__))[0]\n",
        "\n"
      ],
      "execution_count": 0,
      "outputs": []
    },
    {
      "cell_type": "code",
      "metadata": {
        "id": "xRc7bUBB8tNU",
        "colab_type": "code",
        "colab": {}
      },
      "source": [
        "def connectdb():\n",
        "    \"\"\" Connect to SQLite DB \"\"\"\n",
        "    try:\n",
        "        dbfile = 'SAP_Extract' + '.sqlite'\n",
        "        conn = sqlite3.connect(dbfile, timeout=2)\n",
        "    except  err:\n",
        "        print (err)\n",
        "        conn = None\n",
        "    return conn        "
      ],
      "execution_count": 0,
      "outputs": []
    },
    {
      "cell_type": "code",
      "metadata": {
        "id": "TWf-do99-SIs",
        "colab_type": "code",
        "colab": {}
      },
      "source": [
        "## Write to data base\n",
        "def corecursor(conn,query):\n",
        "    \"\"\" Opens SQLDB cursor \"\"\"\n",
        "    result = False\n",
        "    try:\n",
        "        cursor = conn.cursor()\n",
        "        cursor.execute(query)\n",
        "        rows = cursor.fetchall()\n",
        "        \n",
        "        numrows = len(list(rows))\n",
        "        print(numrows)\n",
        "        if numrows >0:\n",
        "            result = True\n",
        "    except sqlite3.OperationalError:\n",
        "        print ('Corecursor error')\n",
        "        cursor.close()\n",
        "    finally:\n",
        "        cursor.close()\n",
        "    return result                "
      ],
      "execution_count": 0,
      "outputs": []
    },
    {
      "cell_type": "code",
      "metadata": {
        "id": "6D5yBN_d_T9k",
        "colab_type": "code",
        "colab": {}
      },
      "source": [
        "def tableexists(table):\n",
        "    \"\"\" Checks if a SQlite DB table exists\"\"\"\n",
        "    result = False\n",
        "    try:\n",
        "        conn = connectdb()\n",
        "        if not conn is None:\n",
        "            core = \"SELECT name FROM sqlite_master WHERE type= 'table' AND name= '\"\n",
        "            query = core + table +\"'\"\n",
        "            result = corecursor(conn, query)\n",
        "            print( result)\n",
        "            conn.close()\n",
        "    except sqlite3.OperationalError:\n",
        "        conn.close()\n",
        "    return result            "
      ],
      "execution_count": 0,
      "outputs": []
    },
    {
      "cell_type": "code",
      "metadata": {
        "id": "BcayI_D-AdXf",
        "colab_type": "code",
        "colab": {}
      },
      "source": [
        "def createhashtableidx():\n",
        "    \"\"\" create a SQlite DB Tbale index\"\"\"\n",
        "    table = 'files'\n",
        "    query = 'CREATE INDEX idxfile on files (file, md5)'\n",
        "    try:\n",
        "        conn = connectdb()\n",
        "        if not conn is None:\n",
        "            if not tableexists(table):\n",
        "               \n",
        "                \n",
        "                try:\n",
        "                    cursor = conn.cursor()\n",
        "                    cursor.execute(query)\n",
        "                    \n",
        "                except sqlite3.OperationalError:\n",
        "                    cursor.close()\n",
        "                finally:\n",
        "                    conn.commit()\n",
        "                    conn.close()\n",
        "    except sqlite3.OperationalError:\n",
        "        print ('createhashtableidx error') \n",
        "        conn.close()  \n",
        "    finally:\n",
        "        conn.close()                        "
      ],
      "execution_count": 0,
      "outputs": []
    },
    {
      "cell_type": "code",
      "metadata": {
        "id": "Tegc_R0MBcya",
        "colab_type": "code",
        "colab": {}
      },
      "source": [
        "def runcmd(qry):\n",
        "    \"\"\" Run a specific command on the SQLite DB\"\"\"\n",
        "    try:\n",
        "        conn = connectdb()\n",
        "\n",
        "        if not conn is None:\n",
        "            if tableexists('files'):\n",
        "            \n",
        "                try:\n",
        "                    cursor = conn.cursor()\n",
        "                    cursor.execute(qry)\n",
        "                    \n",
        "                except sqlite3.OperationalError:\n",
        "                 cursor.close() \n",
        "                   \n",
        "                \n",
        "                finally:\n",
        "                    conn.commit()\n",
        "                    conn.close()\n",
        "    except sqlite3.OperationalError:\n",
        "        print ('runcmd error')\n",
        "        conn.close()\n",
        "    finally:\n",
        "        conn.close()                    "
      ],
      "execution_count": 0,
      "outputs": []
    },
    {
      "cell_type": "code",
      "metadata": {
        "id": "LMe6-v3ICdaf",
        "colab_type": "code",
        "colab": {}
      },
      "source": [
        "def updatehashtable(fname,md5):\n",
        "    \"\"\" Update the SQlite File tbale\"\"\"\n",
        "    qry = \"UPDATE files SET md5 = '{md5}' WHERE file ='{fname}'\".format(fname = fname,md5 =md5)\n",
        "    runcmd(qry)"
      ],
      "execution_count": 0,
      "outputs": []
    },
    {
      "cell_type": "code",
      "metadata": {
        "id": "UIf9YVpnDA50",
        "colab_type": "code",
        "colab": {}
      },
      "source": [
        "def inserthashtable(fname,md5):\n",
        "    \"\"\" Insert the SQlite File tbale\"\"\"\n",
        "    qry = \"INSERT INTO FILES (file,md5) VALUES ('{fname}','{md5}')\".format(fname = fname,md5 =md5)\n",
        "    runcmd(qry)"
      ],
      "execution_count": 0,
      "outputs": []
    },
    {
      "cell_type": "code",
      "metadata": {
        "id": "RdHxSBRkDaWy",
        "colab_type": "code",
        "colab": {}
      },
      "source": [
        "def sethashtable(fname,md5):\n",
        "    \"\"\" Set's up has table\"\"\"\n",
        "    createhashtable()\n",
        "    createhashtableidx()\n",
        "    inserthashtable(fname,md5)"
      ],
      "execution_count": 0,
      "outputs": []
    },
    {
      "cell_type": "code",
      "metadata": {
        "id": "8ewM06Ij27hB",
        "colab_type": "code",
        "colab": {
          "base_uri": "https://localhost:8080/",
          "height": 54
        },
        "outputId": "b48b80f5-389f-450a-bb65-82172196b216"
      },
      "source": [
        "# insert = inserthashtable('./SAP_Extract/SAP_Extract.xlsx','f4c5aeb97e0d3845f6a10941cf1bd38')"
      ],
      "execution_count": 285,
      "outputs": [
        {
          "output_type": "stream",
          "text": [
            "0\n",
            "False\n"
          ],
          "name": "stdout"
        }
      ]
    },
    {
      "cell_type": "code",
      "metadata": {
        "id": "RRRksCBnqp7Q",
        "colab_type": "code",
        "colab": {}
      },
      "source": [
        "def createhashtable():\n",
        "    conn = connectdb()\n",
        "    try:\n",
        "        cursor = conn.cursor()\n",
        "        cursor.execute('''CREATE TABLE FILES\n",
        "         (file CHAR PRIMARY KEY  NOT NULL,\n",
        "          MD5           CHAR(32) NOT NULL);''')                  \n",
        "    except sqlite3.OperationalError:\n",
        "            cursor.close()              \n",
        "    finally:\n",
        "            conn.commit()\n",
        "            conn.close()\n",
        "\n"
      ],
      "execution_count": 0,
      "outputs": []
    },
    {
      "cell_type": "code",
      "metadata": {
        "id": "j2oVyurIEK_Q",
        "colab_type": "code",
        "colab": {}
      },
      "source": [
        "def md5indb(fname):\n",
        "    \"\"\" Check if the md5 hash tag exists in the SQlite DB \"\"\"\n",
        "    items = []\n",
        "    qry = \"SELECT md5 FROM FILES\" \n",
        "    #WHERE file = '\" + fname + \"'\"\n",
        "    try:\n",
        "        conn = connectdb()\n",
        "        print(fname)\n",
        "        \n",
        "        if not conn is None:\n",
        "            # if tableexists('files'):\n",
        "            #     print('2.table exists')\n",
        "                try:\n",
        "                    cursor = conn.cursor()\n",
        "                    cursor.execute(qry)\n",
        "                    for row in cursor:\n",
        "                        print(cursor ,'started')\n",
        "                        items.append(row[0])\n",
        "                        print(items)\n",
        "                except sqlite3.OperationalError:                    \n",
        "                    cursor.close()\n",
        "                finally:\n",
        "                    cursor.close()\n",
        "    except sqlite3.OperationalError:\n",
        "        print ('md5indb error')\n",
        "        conn.close()\n",
        "    finally:\n",
        "        conn.close()\n",
        "    return items                                    \n"
      ],
      "execution_count": 0,
      "outputs": []
    },
    {
      "cell_type": "code",
      "metadata": {
        "id": "i7Bywdr33Xan",
        "colab_type": "code",
        "colab": {
          "base_uri": "https://localhost:8080/",
          "height": 54
        },
        "outputId": "dd4da241-481e-414d-d04c-8a2d1200379e"
      },
      "source": [
        "rows = md5indb('./SAP_Extract/SAP_Extract.xlsx')\n",
        "rows"
      ],
      "execution_count": 286,
      "outputs": [
        {
          "output_type": "stream",
          "text": [
            "./SAP_Extract/SAP_Extract.xlsx\n"
          ],
          "name": "stdout"
        },
        {
          "output_type": "execute_result",
          "data": {
            "text/plain": [
              "[]"
            ]
          },
          "metadata": {
            "tags": []
          },
          "execution_count": 286
        }
      ]
    },
    {
      "cell_type": "code",
      "metadata": {
        "id": "dN6IgUxFFXZX",
        "colab_type": "code",
        "colab": {}
      },
      "source": [
        " def haschanged(fname,md5):\n",
        "     \"\"\" checkst if filehas changed\"\"\"\n",
        "     result = False\n",
        "     oldmd5 = md5indb(fname)\n",
        "     numits = len(oldmd5)\n",
        "     print(numits)\n",
        "     if numits > 0:\n",
        "         if oldmd5[0] != md5:\n",
        "             result = True\n",
        "             updatehashtable(fname,md5)\n",
        "     else:\n",
        "        sethashtable(fname,md5) \n",
        "     return result           "
      ],
      "execution_count": 0,
      "outputs": []
    },
    {
      "cell_type": "code",
      "metadata": {
        "id": "mwkpfqBNGTUF",
        "colab_type": "code",
        "colab": {}
      },
      "source": [
        "def getfileext(fname):\n",
        " # Get the file name extension \"\"\"\n",
        "    rootext = os.path.splitext(fname)\n",
        "    return rootext[1]"
      ],
      "execution_count": 0,
      "outputs": []
    },
    {
      "cell_type": "code",
      "metadata": {
        "id": "gbj839H1HDqx",
        "colab_type": "code",
        "colab": {}
      },
      "source": [
        "def getmoddate(fname):\n",
        "    \"\"\" Get file modified date \"\"\"\n",
        "    try:\n",
        "        mtime = os.path.getmtime(fname)\n",
        "    except OSError:\n",
        "        # print str(emsg)\n",
        "        mtime = 0\n",
        "    return mtime        "
      ],
      "execution_count": 0,
      "outputs": []
    },
    {
      "cell_type": "code",
      "metadata": {
        "id": "3LFjb5TQHb31",
        "colab_type": "code",
        "colab": {}
      },
      "source": [
        "def md5short(fname):\n",
        "    \"\"\" Get md5 file hash tag\"\"\"\n",
        "    Encoded = str(fname).encode('utf-8')\n",
        "    Pipe = str('|').encode('utf-8')\n",
        "    Mdate = str(getmoddate(fname)).encode('utf-8')\n",
        "   \n",
        "    return hashlib.md5(Encoded + Pipe + Mdate).hexdigest()"
      ],
      "execution_count": 0,
      "outputs": []
    },
    {
      "cell_type": "code",
      "metadata": {
        "id": "MNZg75EZH13j",
        "colab_type": "code",
        "colab": {}
      },
      "source": [
        "def checkfilechanges(folder,exclude):\n",
        "    \"\"\" Checks for files changes\"\"\"\n",
        "    for subdir,dirs,files in os.walk(folder):\n",
        "      \n",
        "        for fname in files:\n",
        "            origin = os.path.join(subdir, fname)\n",
        "            if os.path.isfile(origin):\n",
        "                fext = getfileext(origin)\n",
        "                if not fext in exclude:\n",
        "                    md5 = md5short(origin)\n",
        "                    print(md5,origin)\n",
        "                    if haschanged(origin,md5):\n",
        "                       print(origin + 'has CHnaged...')\n",
        "                    else:\n",
        "                        print(origin +' has not changed')   "
      ],
      "execution_count": 0,
      "outputs": []
    },
    {
      "cell_type": "code",
      "metadata": {
        "id": "0YWucZLcI130",
        "colab_type": "code",
        "colab": {
          "base_uri": "https://localhost:8080/",
          "height": 181
        },
        "outputId": "d813475d-ca16-4183-e270-499a85a6586e"
      },
      "source": [
        "checkfilechanges(\"./SAP_Extract\", ['.db','.py'])"
      ],
      "execution_count": 284,
      "outputs": [
        {
          "output_type": "stream",
          "text": [
            "f4c5aeb97e0d3845f6a10941cf1bd384 ./SAP_Extract/SAP_Extract.xlsx\n",
            "./SAP_Extract/SAP_Extract.xlsx\n",
            "0\n",
            "0\n",
            "False\n",
            "1.tbale exists\n",
            "0\n",
            "False\n",
            "./SAP_Extract/SAP_Extract.xlsx has not changed\n"
          ],
          "name": "stdout"
        }
      ]
    }
  ]
}