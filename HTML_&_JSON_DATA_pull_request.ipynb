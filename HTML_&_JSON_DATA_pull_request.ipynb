{
  "nbformat": 4,
  "nbformat_minor": 0,
  "metadata": {
    "colab": {
      "name": "HTML & JSON DATA pull request",
      "provenance": [],
      "toc_visible": true,
      "include_colab_link": true
    },
    "kernelspec": {
      "name": "python3",
      "display_name": "Python 3"
    }
  },
  "cells": [
    {
      "cell_type": "markdown",
      "metadata": {
        "id": "view-in-github",
        "colab_type": "text"
      },
      "source": [
        "<a href=\"https://colab.research.google.com/github/ragalaa/Directory/blob/master/HTML_%26_JSON_DATA_pull_request.ipynb\" target=\"_parent\"><img src=\"https://colab.research.google.com/assets/colab-badge.svg\" alt=\"Open In Colab\"/></a>"
      ]
    },
    {
      "cell_type": "code",
      "metadata": {
        "id": "NenQWb5WdeMy",
        "colab_type": "code",
        "colab": {
          "base_uri": "https://localhost:8080/",
          "height": 198
        },
        "outputId": "91286fe0-4da2-40c8-b4bd-72005b92cb1b"
      },
      "source": [
        "import pandas as pd\n",
        "tables = pd.read_html('./fdic_failed_bank_list.html')\n",
        "len(tables)\n",
        "tables\n",
        "failures = tables[0]\n",
        "# type(failures)\n",
        "failures.sample(5)\n"
      ],
      "execution_count": 108,
      "outputs": [
        {
          "output_type": "execute_result",
          "data": {
            "text/html": [
              "<div>\n",
              "<style scoped>\n",
              "    .dataframe tbody tr th:only-of-type {\n",
              "        vertical-align: middle;\n",
              "    }\n",
              "\n",
              "    .dataframe tbody tr th {\n",
              "        vertical-align: top;\n",
              "    }\n",
              "\n",
              "    .dataframe thead th {\n",
              "        text-align: right;\n",
              "    }\n",
              "</style>\n",
              "<table border=\"1\" class=\"dataframe\">\n",
              "  <thead>\n",
              "    <tr style=\"text-align: right;\">\n",
              "      <th></th>\n",
              "      <th>Bank Name</th>\n",
              "      <th>City</th>\n",
              "      <th>ST</th>\n",
              "      <th>CERT</th>\n",
              "      <th>Acquiring Institution</th>\n",
              "      <th>Closing Date</th>\n",
              "      <th>Updated Date</th>\n",
              "    </tr>\n",
              "  </thead>\n",
              "  <tbody>\n",
              "    <tr>\n",
              "      <th>516</th>\n",
              "      <td>First Integrity Bank, NA</td>\n",
              "      <td>Staples</td>\n",
              "      <td>MN</td>\n",
              "      <td>12736</td>\n",
              "      <td>First International Bank and Trust</td>\n",
              "      <td>May 30, 2008</td>\n",
              "      <td>October 20, 2016</td>\n",
              "    </tr>\n",
              "    <tr>\n",
              "      <th>420</th>\n",
              "      <td>Union Bank, National Association</td>\n",
              "      <td>Gilbert</td>\n",
              "      <td>AZ</td>\n",
              "      <td>34485</td>\n",
              "      <td>MidFirst Bank</td>\n",
              "      <td>August 14, 2009</td>\n",
              "      <td>August 21, 2012</td>\n",
              "    </tr>\n",
              "    <tr>\n",
              "      <th>108</th>\n",
              "      <td>Central Progressive Bank</td>\n",
              "      <td>Lacombe</td>\n",
              "      <td>LA</td>\n",
              "      <td>19657</td>\n",
              "      <td>First NBC Bank</td>\n",
              "      <td>November 18, 2011</td>\n",
              "      <td>February 5, 2015</td>\n",
              "    </tr>\n",
              "    <tr>\n",
              "      <th>241</th>\n",
              "      <td>ShoreBank</td>\n",
              "      <td>Chicago</td>\n",
              "      <td>IL</td>\n",
              "      <td>15640</td>\n",
              "      <td>Urban Partnership Bank</td>\n",
              "      <td>August 20, 2010</td>\n",
              "      <td>May 16, 2013</td>\n",
              "    </tr>\n",
              "    <tr>\n",
              "      <th>345</th>\n",
              "      <td>First National Bank of Georgia</td>\n",
              "      <td>Carrollton</td>\n",
              "      <td>GA</td>\n",
              "      <td>16480</td>\n",
              "      <td>Community &amp; Southern Bank</td>\n",
              "      <td>January 29, 2010</td>\n",
              "      <td>March 21, 2014</td>\n",
              "    </tr>\n",
              "  </tbody>\n",
              "</table>\n",
              "</div>"
            ],
            "text/plain": [
              "                            Bank Name  ...      Updated Date\n",
              "516          First Integrity Bank, NA  ...  October 20, 2016\n",
              "420  Union Bank, National Association  ...   August 21, 2012\n",
              "108          Central Progressive Bank  ...  February 5, 2015\n",
              "241                         ShoreBank  ...      May 16, 2013\n",
              "345    First National Bank of Georgia  ...    March 21, 2014\n",
              "\n",
              "[5 rows x 7 columns]"
            ]
          },
          "metadata": {
            "tags": []
          },
          "execution_count": 108
        }
      ]
    },
    {
      "cell_type": "markdown",
      "metadata": {
        "id": "DWx5qSMcwByT",
        "colab_type": "text"
      },
      "source": [
        "# HTML mapping to dataframe:"
      ]
    },
    {
      "cell_type": "code",
      "metadata": {
        "id": "NNAAs5SFhAYY",
        "colab_type": "code",
        "colab": {
          "base_uri": "https://localhost:8080/",
          "height": 308
        },
        "outputId": "5d194050-116b-4825-972e-f53855ebeb67"
      },
      "source": [
        "close_timestamps = pd.to_datetime(failures['Closing Date'])\n",
        "close_timestamps.dt.year.value_counts()"
      ],
      "execution_count": 18,
      "outputs": [
        {
          "output_type": "execute_result",
          "data": {
            "text/plain": [
              "2010    157\n",
              "2009    140\n",
              "2011     92\n",
              "2012     51\n",
              "2008     25\n",
              "2013     24\n",
              "2014     18\n",
              "2002     11\n",
              "2015      8\n",
              "2016      5\n",
              "2004      4\n",
              "2001      4\n",
              "2007      3\n",
              "2003      3\n",
              "2000      2\n",
              "Name: Closing Date, dtype: int64"
            ]
          },
          "metadata": {
            "tags": []
          },
          "execution_count": 18
        }
      ]
    },
    {
      "cell_type": "markdown",
      "metadata": {
        "id": "uMepO8DewHoS",
        "colab_type": "text"
      },
      "source": [
        "# JSON mapping to Dataframe\n",
        "Example:in Datasert folder"
      ]
    },
    {
      "cell_type": "code",
      "metadata": {
        "id": "lgNhB8cxhZyc",
        "colab_type": "code",
        "colab": {}
      },
      "source": [
        "from lxml import objectify\n",
        "\n",
        "path = './mta_perf_Performance_MNR.xml'\n",
        "parsed = objectify.parse(open(path))\n",
        "root = parsed.getroot()"
      ],
      "execution_count": 0,
      "outputs": []
    },
    {
      "cell_type": "code",
      "metadata": {
        "id": "VY1tp-aHhz-_",
        "colab_type": "code",
        "colab": {
          "base_uri": "https://localhost:8080/",
          "height": 255
        },
        "outputId": "35ecf95a-41e4-42fe-b396-f1ae7e882600"
      },
      "source": [
        "data = []\n",
        "\n",
        "skip_fields = ['PARENT_SEQ', 'INDICATOR_SEQ',\n",
        "               'DESIRED_CHANGE', 'DECIMAL_PLACES']\n",
        "\n",
        "for elt in root.INDICATOR:\n",
        "    el_data = {}\n",
        "    for child in elt.getchildren():\n",
        "        if child.tag in skip_fields:\n",
        "            continue\n",
        "        el_data[child.tag] = child.pyval\n",
        "    data.append(el_data)\n",
        "  "
      ],
      "execution_count": 22,
      "outputs": [
        {
          "output_type": "execute_result",
          "data": {
            "text/plain": [
              "{'AGENCY_NAME': 'Metro-North Railroad',\n",
              " 'CATEGORY': 'Service Indicators',\n",
              " 'DESCRIPTION': 'Percent of the time that escalators are operational systemwide. The availability rate is based on physical observations performed the morning of regular business days only. This is a new indicator the agency began reporting in 2009.',\n",
              " 'FREQUENCY': 'M',\n",
              " 'INDICATOR_NAME': 'Escalator Availability',\n",
              " 'INDICATOR_UNIT': '%',\n",
              " 'MONTHLY_ACTUAL': '',\n",
              " 'MONTHLY_TARGET': 97.0,\n",
              " 'PERIOD_MONTH': 12,\n",
              " 'PERIOD_YEAR': 2011,\n",
              " 'YTD_ACTUAL': '',\n",
              " 'YTD_TARGET': 97.0}"
            ]
          },
          "metadata": {
            "tags": []
          },
          "execution_count": 22
        }
      ]
    },
    {
      "cell_type": "code",
      "metadata": {
        "id": "-GKMI1s8iA1f",
        "colab_type": "code",
        "colab": {
          "base_uri": "https://localhost:8080/",
          "height": 457
        },
        "outputId": "a4e54166-fa3b-4c96-a011-148915c9d98a"
      },
      "source": [
        "perf = pd.DataFrame(data)\n",
        "perf.head()"
      ],
      "execution_count": 23,
      "outputs": [
        {
          "output_type": "execute_result",
          "data": {
            "text/html": [
              "<div>\n",
              "<style scoped>\n",
              "    .dataframe tbody tr th:only-of-type {\n",
              "        vertical-align: middle;\n",
              "    }\n",
              "\n",
              "    .dataframe tbody tr th {\n",
              "        vertical-align: top;\n",
              "    }\n",
              "\n",
              "    .dataframe thead th {\n",
              "        text-align: right;\n",
              "    }\n",
              "</style>\n",
              "<table border=\"1\" class=\"dataframe\">\n",
              "  <thead>\n",
              "    <tr style=\"text-align: right;\">\n",
              "      <th></th>\n",
              "      <th>AGENCY_NAME</th>\n",
              "      <th>CATEGORY</th>\n",
              "      <th>DESCRIPTION</th>\n",
              "      <th>FREQUENCY</th>\n",
              "      <th>INDICATOR_NAME</th>\n",
              "      <th>INDICATOR_UNIT</th>\n",
              "      <th>MONTHLY_ACTUAL</th>\n",
              "      <th>MONTHLY_TARGET</th>\n",
              "      <th>PERIOD_MONTH</th>\n",
              "      <th>PERIOD_YEAR</th>\n",
              "      <th>YTD_ACTUAL</th>\n",
              "      <th>YTD_TARGET</th>\n",
              "    </tr>\n",
              "  </thead>\n",
              "  <tbody>\n",
              "    <tr>\n",
              "      <th>0</th>\n",
              "      <td>Metro-North Railroad</td>\n",
              "      <td>Service Indicators</td>\n",
              "      <td>Percent of commuter trains that arrive at thei...</td>\n",
              "      <td>M</td>\n",
              "      <td>On-Time Performance (West of Hudson)</td>\n",
              "      <td>%</td>\n",
              "      <td>96.9</td>\n",
              "      <td>95</td>\n",
              "      <td>1</td>\n",
              "      <td>2008</td>\n",
              "      <td>96.9</td>\n",
              "      <td>95</td>\n",
              "    </tr>\n",
              "    <tr>\n",
              "      <th>1</th>\n",
              "      <td>Metro-North Railroad</td>\n",
              "      <td>Service Indicators</td>\n",
              "      <td>Percent of commuter trains that arrive at thei...</td>\n",
              "      <td>M</td>\n",
              "      <td>On-Time Performance (West of Hudson)</td>\n",
              "      <td>%</td>\n",
              "      <td>95</td>\n",
              "      <td>95</td>\n",
              "      <td>2</td>\n",
              "      <td>2008</td>\n",
              "      <td>96</td>\n",
              "      <td>95</td>\n",
              "    </tr>\n",
              "    <tr>\n",
              "      <th>2</th>\n",
              "      <td>Metro-North Railroad</td>\n",
              "      <td>Service Indicators</td>\n",
              "      <td>Percent of commuter trains that arrive at thei...</td>\n",
              "      <td>M</td>\n",
              "      <td>On-Time Performance (West of Hudson)</td>\n",
              "      <td>%</td>\n",
              "      <td>96.9</td>\n",
              "      <td>95</td>\n",
              "      <td>3</td>\n",
              "      <td>2008</td>\n",
              "      <td>96.3</td>\n",
              "      <td>95</td>\n",
              "    </tr>\n",
              "    <tr>\n",
              "      <th>3</th>\n",
              "      <td>Metro-North Railroad</td>\n",
              "      <td>Service Indicators</td>\n",
              "      <td>Percent of commuter trains that arrive at thei...</td>\n",
              "      <td>M</td>\n",
              "      <td>On-Time Performance (West of Hudson)</td>\n",
              "      <td>%</td>\n",
              "      <td>98.3</td>\n",
              "      <td>95</td>\n",
              "      <td>4</td>\n",
              "      <td>2008</td>\n",
              "      <td>96.8</td>\n",
              "      <td>95</td>\n",
              "    </tr>\n",
              "    <tr>\n",
              "      <th>4</th>\n",
              "      <td>Metro-North Railroad</td>\n",
              "      <td>Service Indicators</td>\n",
              "      <td>Percent of commuter trains that arrive at thei...</td>\n",
              "      <td>M</td>\n",
              "      <td>On-Time Performance (West of Hudson)</td>\n",
              "      <td>%</td>\n",
              "      <td>95.8</td>\n",
              "      <td>95</td>\n",
              "      <td>5</td>\n",
              "      <td>2008</td>\n",
              "      <td>96.6</td>\n",
              "      <td>95</td>\n",
              "    </tr>\n",
              "  </tbody>\n",
              "</table>\n",
              "</div>"
            ],
            "text/plain": [
              "            AGENCY_NAME            CATEGORY  ... YTD_ACTUAL YTD_TARGET\n",
              "0  Metro-North Railroad  Service Indicators  ...       96.9         95\n",
              "1  Metro-North Railroad  Service Indicators  ...         96         95\n",
              "2  Metro-North Railroad  Service Indicators  ...       96.3         95\n",
              "3  Metro-North Railroad  Service Indicators  ...       96.8         95\n",
              "4  Metro-North Railroad  Service Indicators  ...       96.6         95\n",
              "\n",
              "[5 rows x 12 columns]"
            ]
          },
          "metadata": {
            "tags": []
          },
          "execution_count": 23
        }
      ]
    },
    {
      "cell_type": "code",
      "metadata": {
        "id": "2E7UlsQ7jTuf",
        "colab_type": "code",
        "colab": {
          "base_uri": "https://localhost:8080/",
          "height": 35
        },
        "outputId": "e94b4942-c4da-4f6a-ecce-e384e7482a72"
      },
      "source": [
        "## read one more from business partner!!!\n",
        "path = './Test_pat.XML'\n",
        "parsed = objectify.parse(open(path))\n",
        "root = parsed.getroot()\n",
        "root"
      ],
      "execution_count": 36,
      "outputs": [
        {
          "output_type": "execute_result",
          "data": {
            "text/plain": [
              "<Element MessagePayload at 0x7efd99e316c8>"
            ]
          },
          "metadata": {
            "tags": []
          },
          "execution_count": 36
        }
      ]
    },
    {
      "cell_type": "code",
      "metadata": {
        "id": "_XN91v8pjiJM",
        "colab_type": "code",
        "colab": {
          "base_uri": "https://localhost:8080/",
          "height": 1000
        },
        "outputId": "b91ad353-a156-4197-9ae3-7039a6c4bdcd"
      },
      "source": [
        "PartnerData = []\n",
        "\n",
        "# skip_fields = ['PARENT_SEQ', 'INDICATOR_SEQ',\n",
        "#                'DESIRED_CHANGE', 'DECIMAL_PLACES']\n",
        "\n",
        "for elt in root.Record:\n",
        "    el_data = {}\n",
        "    for child in elt.getchildren():\n",
        "        if child.tag in skip_fields:\n",
        "            continue\n",
        "        el_data[child.tag] = child.pyval\n",
        "    PartnerData.append(el_data)\n",
        "    \n",
        "PartnerData\n",
        "  "
      ],
      "execution_count": 40,
      "outputs": [
        {
          "output_type": "execute_result",
          "data": {
            "text/plain": [
              "[{'ContactFirstName': 'RYANNE',\n",
              "  'ContactLastName': 'SANDERS',\n",
              "  'CustomerName': 'STREMICK HERITAGE FOODS LLC',\n",
              "  'CustomerNumber': 9303934,\n",
              "  'DeviceLocation': 'OFFICE',\n",
              "  'DeviceType': 'EMAIL',\n",
              "  'Phone1': 'RYANNE.SANDERS@SCE.COM',\n",
              "  'RelationshipType': 341,\n",
              "  'RelationshipTypeDesc': 'PLANNED OUTAGE NOTIFY',\n",
              "  'SourceCode': 'SAP CRM'},\n",
              " {'ContactFirstName': 'TIM',\n",
              "  'ContactLastName': 'BARBER',\n",
              "  'CustomerName': 'STREMICK HERITAGE FOODS LLC',\n",
              "  'CustomerNumber': 9303934,\n",
              "  'DeviceLocation': 'OFFICE',\n",
              "  'DeviceType': 'PHONE',\n",
              "  'Phone1': '(714)  348-1890',\n",
              "  'RelationshipType': 341,\n",
              "  'RelationshipTypeDesc': 'PLANNED OUTAGE NOTIFY',\n",
              "  'SourceCode': 'SAP CRM'},\n",
              " {'ContactFirstName': 'TIM',\n",
              "  'ContactLastName': 'BARBER',\n",
              "  'CustomerName': 'STREMICK HERITAGE FOODS LLC',\n",
              "  'CustomerNumber': 9303934,\n",
              "  'DeviceLocation': 'OFFICE',\n",
              "  'DeviceType': 'EMAIL',\n",
              "  'Phone1': 'TBARBER@HERITAGE-FOODS.COM',\n",
              "  'RelationshipType': 341,\n",
              "  'RelationshipTypeDesc': 'PLANNED OUTAGE NOTIFY',\n",
              "  'SourceCode': 'SAP CRM'},\n",
              " {'ContactFirstName': 'ROBERT',\n",
              "  'ContactLastName': 'BALL',\n",
              "  'CustomerName': 'STREMICK HERITAGE FOODS LLC',\n",
              "  'CustomerNumber': 9303934,\n",
              "  'DeviceLocation': 'OFFICE',\n",
              "  'DeviceType': 'PHONE',\n",
              "  'Phone1': '(714)  775-5081',\n",
              "  'RelationshipType': 341,\n",
              "  'RelationshipTypeDesc': 'PLANNED OUTAGE NOTIFY',\n",
              "  'SourceCode': 'SAP CRM'},\n",
              " {'ContactFirstName': 'ROBERT',\n",
              "  'ContactLastName': 'BALL',\n",
              "  'CustomerName': 'STREMICK HERITAGE FOODS LLC',\n",
              "  'CustomerNumber': 9303934,\n",
              "  'DeviceLocation': 'OFFICE',\n",
              "  'DeviceType': 'EMAIL',\n",
              "  'Phone1': 'ROBBALL@HERITAGE-FOODS.COM',\n",
              "  'RelationshipType': 341,\n",
              "  'RelationshipTypeDesc': 'PLANNED OUTAGE NOTIFY',\n",
              "  'SourceCode': 'SAP CRM'},\n",
              " {'ContactFirstName': 'JACK',\n",
              "  'ContactLastName': 'NOENICKX',\n",
              "  'CustomerName': 'STREMICK HERITAGE FOODS LLC',\n",
              "  'CustomerNumber': 9303934,\n",
              "  'DeviceLocation': 'OFFICE',\n",
              "  'DeviceType': 'PHONE',\n",
              "  'Phone1': '(714)  775-5004',\n",
              "  'RelationshipType': 341,\n",
              "  'RelationshipTypeDesc': 'PLANNED OUTAGE NOTIFY',\n",
              "  'SourceCode': 'SAP CRM'},\n",
              " {'ContactFirstName': 'JACK',\n",
              "  'ContactLastName': 'NOENICKX',\n",
              "  'CustomerName': 'STREMICK HERITAGE FOODS LLC',\n",
              "  'CustomerNumber': 9303934,\n",
              "  'DeviceLocation': 'OFFICE',\n",
              "  'DeviceType': 'EMAIL',\n",
              "  'Phone1': 'JACKNOENICKX@HERITAGE-FOODS.COM',\n",
              "  'RelationshipType': 341,\n",
              "  'RelationshipTypeDesc': 'PLANNED OUTAGE NOTIFY',\n",
              "  'SourceCode': 'SAP CRM'},\n",
              " {'ContactFirstName': 'HA',\n",
              "  'ContactLastName': 'TON',\n",
              "  'CustomerName': 'STREMICK HERITAGE FOODS LLC',\n",
              "  'CustomerNumber': 9303934,\n",
              "  'DeviceLocation': 'OFFICE',\n",
              "  'DeviceType': 'PHONE',\n",
              "  'Phone1': '(714)  775-5044',\n",
              "  'RelationshipType': 341,\n",
              "  'RelationshipTypeDesc': 'PLANNED OUTAGE NOTIFY',\n",
              "  'SourceCode': 'SAP CRM'},\n",
              " {'ContactFirstName': 'HA',\n",
              "  'ContactLastName': 'TON',\n",
              "  'CustomerName': 'STREMICK HERITAGE FOODS LLC',\n",
              "  'CustomerNumber': 9303934,\n",
              "  'DeviceLocation': 'OFFICE',\n",
              "  'DeviceType': 'EMAIL',\n",
              "  'Phone1': 'haton@heritage-foods.com',\n",
              "  'RelationshipType': 341,\n",
              "  'RelationshipTypeDesc': 'PLANNED OUTAGE NOTIFY',\n",
              "  'SourceCode': 'SAP CRM'}]"
            ]
          },
          "metadata": {
            "tags": []
          },
          "execution_count": 40
        }
      ]
    },
    {
      "cell_type": "code",
      "metadata": {
        "id": "ZH2FMuyjmlOU",
        "colab_type": "code",
        "colab": {
          "base_uri": "https://localhost:8080/",
          "height": 288
        },
        "outputId": "cc26db27-f42b-4840-da03-d841ba5ab573"
      },
      "source": [
        "perf_bus = pd.DataFrame(PartnerData)\n",
        "perf_bus.loc[0:2,:]\n",
        "perf_bus.iloc[1:9,2:-1]\n"
      ],
      "execution_count": 93,
      "outputs": [
        {
          "output_type": "execute_result",
          "data": {
            "text/html": [
              "<div>\n",
              "<style scoped>\n",
              "    .dataframe tbody tr th:only-of-type {\n",
              "        vertical-align: middle;\n",
              "    }\n",
              "\n",
              "    .dataframe tbody tr th {\n",
              "        vertical-align: top;\n",
              "    }\n",
              "\n",
              "    .dataframe thead th {\n",
              "        text-align: right;\n",
              "    }\n",
              "</style>\n",
              "<table border=\"1\" class=\"dataframe\">\n",
              "  <thead>\n",
              "    <tr style=\"text-align: right;\">\n",
              "      <th></th>\n",
              "      <th>CustomerName</th>\n",
              "      <th>CustomerNumber</th>\n",
              "      <th>DeviceLocation</th>\n",
              "      <th>DeviceType</th>\n",
              "      <th>Phone1</th>\n",
              "      <th>RelationshipType</th>\n",
              "      <th>RelationshipTypeDesc</th>\n",
              "    </tr>\n",
              "  </thead>\n",
              "  <tbody>\n",
              "    <tr>\n",
              "      <th>1</th>\n",
              "      <td>STREMICK HERITAGE FOODS LLC</td>\n",
              "      <td>9303934</td>\n",
              "      <td>OFFICE</td>\n",
              "      <td>PHONE</td>\n",
              "      <td>(714)  348-1890</td>\n",
              "      <td>341</td>\n",
              "      <td>PLANNED OUTAGE NOTIFY</td>\n",
              "    </tr>\n",
              "    <tr>\n",
              "      <th>2</th>\n",
              "      <td>STREMICK HERITAGE FOODS LLC</td>\n",
              "      <td>9303934</td>\n",
              "      <td>OFFICE</td>\n",
              "      <td>EMAIL</td>\n",
              "      <td>TBARBER@HERITAGE-FOODS.COM</td>\n",
              "      <td>341</td>\n",
              "      <td>PLANNED OUTAGE NOTIFY</td>\n",
              "    </tr>\n",
              "    <tr>\n",
              "      <th>3</th>\n",
              "      <td>STREMICK HERITAGE FOODS LLC</td>\n",
              "      <td>9303934</td>\n",
              "      <td>OFFICE</td>\n",
              "      <td>PHONE</td>\n",
              "      <td>(714)  775-5081</td>\n",
              "      <td>341</td>\n",
              "      <td>PLANNED OUTAGE NOTIFY</td>\n",
              "    </tr>\n",
              "    <tr>\n",
              "      <th>4</th>\n",
              "      <td>STREMICK HERITAGE FOODS LLC</td>\n",
              "      <td>9303934</td>\n",
              "      <td>OFFICE</td>\n",
              "      <td>EMAIL</td>\n",
              "      <td>ROBBALL@HERITAGE-FOODS.COM</td>\n",
              "      <td>341</td>\n",
              "      <td>PLANNED OUTAGE NOTIFY</td>\n",
              "    </tr>\n",
              "    <tr>\n",
              "      <th>5</th>\n",
              "      <td>STREMICK HERITAGE FOODS LLC</td>\n",
              "      <td>9303934</td>\n",
              "      <td>OFFICE</td>\n",
              "      <td>PHONE</td>\n",
              "      <td>(714)  775-5004</td>\n",
              "      <td>341</td>\n",
              "      <td>PLANNED OUTAGE NOTIFY</td>\n",
              "    </tr>\n",
              "    <tr>\n",
              "      <th>6</th>\n",
              "      <td>STREMICK HERITAGE FOODS LLC</td>\n",
              "      <td>9303934</td>\n",
              "      <td>OFFICE</td>\n",
              "      <td>EMAIL</td>\n",
              "      <td>JACKNOENICKX@HERITAGE-FOODS.COM</td>\n",
              "      <td>341</td>\n",
              "      <td>PLANNED OUTAGE NOTIFY</td>\n",
              "    </tr>\n",
              "    <tr>\n",
              "      <th>7</th>\n",
              "      <td>STREMICK HERITAGE FOODS LLC</td>\n",
              "      <td>9303934</td>\n",
              "      <td>OFFICE</td>\n",
              "      <td>PHONE</td>\n",
              "      <td>(714)  775-5044</td>\n",
              "      <td>341</td>\n",
              "      <td>PLANNED OUTAGE NOTIFY</td>\n",
              "    </tr>\n",
              "    <tr>\n",
              "      <th>8</th>\n",
              "      <td>STREMICK HERITAGE FOODS LLC</td>\n",
              "      <td>9303934</td>\n",
              "      <td>OFFICE</td>\n",
              "      <td>EMAIL</td>\n",
              "      <td>haton@heritage-foods.com</td>\n",
              "      <td>341</td>\n",
              "      <td>PLANNED OUTAGE NOTIFY</td>\n",
              "    </tr>\n",
              "  </tbody>\n",
              "</table>\n",
              "</div>"
            ],
            "text/plain": [
              "                  CustomerName  ...   RelationshipTypeDesc\n",
              "1  STREMICK HERITAGE FOODS LLC  ...  PLANNED OUTAGE NOTIFY\n",
              "2  STREMICK HERITAGE FOODS LLC  ...  PLANNED OUTAGE NOTIFY\n",
              "3  STREMICK HERITAGE FOODS LLC  ...  PLANNED OUTAGE NOTIFY\n",
              "4  STREMICK HERITAGE FOODS LLC  ...  PLANNED OUTAGE NOTIFY\n",
              "5  STREMICK HERITAGE FOODS LLC  ...  PLANNED OUTAGE NOTIFY\n",
              "6  STREMICK HERITAGE FOODS LLC  ...  PLANNED OUTAGE NOTIFY\n",
              "7  STREMICK HERITAGE FOODS LLC  ...  PLANNED OUTAGE NOTIFY\n",
              "8  STREMICK HERITAGE FOODS LLC  ...  PLANNED OUTAGE NOTIFY\n",
              "\n",
              "[8 rows x 7 columns]"
            ]
          },
          "metadata": {
            "tags": []
          },
          "execution_count": 93
        }
      ]
    },
    {
      "cell_type": "code",
      "metadata": {
        "id": "yuhlbbrXntJe",
        "colab_type": "code",
        "colab": {
          "base_uri": "https://localhost:8080/",
          "height": 72
        },
        "outputId": "7b6aab77-0145-4248-ea4a-9b06fbc6c986"
      },
      "source": [
        "SAT = pd.Series(perf_bus['DeviceType'])\n",
        "SAT.value_counts()"
      ],
      "execution_count": 70,
      "outputs": [
        {
          "output_type": "execute_result",
          "data": {
            "text/plain": [
              "EMAIL    5\n",
              "PHONE    4\n",
              "Name: DeviceType, dtype: int64"
            ]
          },
          "metadata": {
            "tags": []
          },
          "execution_count": 70
        }
      ]
    },
    {
      "cell_type": "markdown",
      "metadata": {
        "id": "fRhUI2Qgwf74",
        "colab_type": "text"
      },
      "source": [
        "# API Calls:Interacting with Web APIs¶"
      ]
    },
    {
      "cell_type": "code",
      "metadata": {
        "id": "5f49yRV8pEM-",
        "colab_type": "code",
        "colab": {
          "base_uri": "https://localhost:8080/",
          "height": 35
        },
        "outputId": "c0ec4f1c-4662-4c77-9dcc-58e1fa6a16c1"
      },
      "source": [
        "import requests\n",
        "url = 'https://api.github.com/repos/pandas-dev/pandas/issues'\n",
        "resp = requests.get(url)\n",
        "resp"
      ],
      "execution_count": 109,
      "outputs": [
        {
          "output_type": "execute_result",
          "data": {
            "text/plain": [
              "<Response [200]>"
            ]
          },
          "metadata": {
            "tags": []
          },
          "execution_count": 109
        }
      ]
    },
    {
      "cell_type": "code",
      "metadata": {
        "id": "LrBZT9mKw2GO",
        "colab_type": "code",
        "colab": {
          "base_uri": "https://localhost:8080/",
          "height": 35
        },
        "outputId": "b9a9bad7-6abb-4dcd-acba-6b1bd467e04f"
      },
      "source": [
        "data = resp.json()\n",
        "data[0]['number']\n",
        "# data"
      ],
      "execution_count": 120,
      "outputs": [
        {
          "output_type": "execute_result",
          "data": {
            "text/plain": [
              "28913"
            ]
          },
          "metadata": {
            "tags": []
          },
          "execution_count": 120
        }
      ]
    },
    {
      "cell_type": "code",
      "metadata": {
        "id": "aIal_-AlxQ3c",
        "colab_type": "code",
        "colab": {
          "base_uri": "https://localhost:8080/",
          "height": 948
        },
        "outputId": "afa2a77d-436f-4546-bafe-7014a8be9981"
      },
      "source": [
        "issues = pd.DataFrame(data, columns=['number', 'title',\n",
        "                                     'labels', 'state'])\n",
        "issues"
      ],
      "execution_count": 114,
      "outputs": [
        {
          "output_type": "execute_result",
          "data": {
            "text/html": [
              "<div>\n",
              "<style scoped>\n",
              "    .dataframe tbody tr th:only-of-type {\n",
              "        vertical-align: middle;\n",
              "    }\n",
              "\n",
              "    .dataframe tbody tr th {\n",
              "        vertical-align: top;\n",
              "    }\n",
              "\n",
              "    .dataframe thead th {\n",
              "        text-align: right;\n",
              "    }\n",
              "</style>\n",
              "<table border=\"1\" class=\"dataframe\">\n",
              "  <thead>\n",
              "    <tr style=\"text-align: right;\">\n",
              "      <th></th>\n",
              "      <th>number</th>\n",
              "      <th>title</th>\n",
              "      <th>labels</th>\n",
              "      <th>state</th>\n",
              "    </tr>\n",
              "  </thead>\n",
              "  <tbody>\n",
              "    <tr>\n",
              "      <th>0</th>\n",
              "      <td>28913</td>\n",
              "      <td>CLN: simplify maybe_promote in float and compl...</td>\n",
              "      <td>[]</td>\n",
              "      <td>open</td>\n",
              "    </tr>\n",
              "    <tr>\n",
              "      <th>1</th>\n",
              "      <td>28912</td>\n",
              "      <td>Maintain Timezone Awareness with to_json and d...</td>\n",
              "      <td>[{'id': 49379259, 'node_id': 'MDU6TGFiZWw0OTM3...</td>\n",
              "      <td>open</td>\n",
              "    </tr>\n",
              "    <tr>\n",
              "      <th>2</th>\n",
              "      <td>28911</td>\n",
              "      <td>REF: get rid of register_dtype</td>\n",
              "      <td>[]</td>\n",
              "      <td>open</td>\n",
              "    </tr>\n",
              "    <tr>\n",
              "      <th>3</th>\n",
              "      <td>28910</td>\n",
              "      <td>TYPING: errors reported by mypy 0.730</td>\n",
              "      <td>[{'id': 1280988427, 'node_id': 'MDU6TGFiZWwxMj...</td>\n",
              "      <td>open</td>\n",
              "    </tr>\n",
              "    <tr>\n",
              "      <th>4</th>\n",
              "      <td>28909</td>\n",
              "      <td>DOC: diff() when using unsigned ints</td>\n",
              "      <td>[]</td>\n",
              "      <td>open</td>\n",
              "    </tr>\n",
              "    <tr>\n",
              "      <th>5</th>\n",
              "      <td>28908</td>\n",
              "      <td>TYPING: fix type annotation for pandas.io.form...</td>\n",
              "      <td>[{'id': 1280988427, 'node_id': 'MDU6TGFiZWwxMj...</td>\n",
              "      <td>open</td>\n",
              "    </tr>\n",
              "    <tr>\n",
              "      <th>6</th>\n",
              "      <td>28907</td>\n",
              "      <td>Added note to 'contributing.rst file', telling...</td>\n",
              "      <td>[]</td>\n",
              "      <td>open</td>\n",
              "    </tr>\n",
              "    <tr>\n",
              "      <th>7</th>\n",
              "      <td>28906</td>\n",
              "      <td>read_json doesn't work on binary files with li...</td>\n",
              "      <td>[{'id': 49379259, 'node_id': 'MDU6TGFiZWw0OTM3...</td>\n",
              "      <td>open</td>\n",
              "    </tr>\n",
              "    <tr>\n",
              "      <th>8</th>\n",
              "      <td>28905</td>\n",
              "      <td>Warning when plotting a DataFrame with a singl...</td>\n",
              "      <td>[{'id': 2413328, 'node_id': 'MDU6TGFiZWwyNDEzM...</td>\n",
              "      <td>open</td>\n",
              "    </tr>\n",
              "    <tr>\n",
              "      <th>9</th>\n",
              "      <td>28904</td>\n",
              "      <td>clean tests/indexing/common.py</td>\n",
              "      <td>[{'id': 211029535, 'node_id': 'MDU6TGFiZWwyMTE...</td>\n",
              "      <td>open</td>\n",
              "    </tr>\n",
              "    <tr>\n",
              "      <th>10</th>\n",
              "      <td>28903</td>\n",
              "      <td>groupby boxplot example does not work</td>\n",
              "      <td>[]</td>\n",
              "      <td>open</td>\n",
              "    </tr>\n",
              "    <tr>\n",
              "      <th>11</th>\n",
              "      <td>28902</td>\n",
              "      <td>No metadata preventing installs of other packages</td>\n",
              "      <td>[]</td>\n",
              "      <td>open</td>\n",
              "    </tr>\n",
              "    <tr>\n",
              "      <th>12</th>\n",
              "      <td>28901</td>\n",
              "      <td>Unable to map background gradient from numeric...</td>\n",
              "      <td>[]</td>\n",
              "      <td>open</td>\n",
              "    </tr>\n",
              "    <tr>\n",
              "      <th>13</th>\n",
              "      <td>28900</td>\n",
              "      <td>API/DEPR: numeric_only kwarg for apply/reductions</td>\n",
              "      <td>[]</td>\n",
              "      <td>open</td>\n",
              "    </tr>\n",
              "    <tr>\n",
              "      <th>14</th>\n",
              "      <td>28899</td>\n",
              "      <td>REF: simplify maybe_promote integer cases</td>\n",
              "      <td>[]</td>\n",
              "      <td>open</td>\n",
              "    </tr>\n",
              "    <tr>\n",
              "      <th>15</th>\n",
              "      <td>28898</td>\n",
              "      <td>AttributeError: module 'pandas.core.common' ha...</td>\n",
              "      <td>[{'id': 211029535, 'node_id': 'MDU6TGFiZWwyMTE...</td>\n",
              "      <td>open</td>\n",
              "    </tr>\n",
              "    <tr>\n",
              "      <th>16</th>\n",
              "      <td>28897</td>\n",
              "      <td>REF: maybe_promote refactor/cleanup</td>\n",
              "      <td>[]</td>\n",
              "      <td>open</td>\n",
              "    </tr>\n",
              "    <tr>\n",
              "      <th>17</th>\n",
              "      <td>28896</td>\n",
              "      <td>Failing multiplication if both dataframes cont...</td>\n",
              "      <td>[]</td>\n",
              "      <td>open</td>\n",
              "    </tr>\n",
              "    <tr>\n",
              "      <th>18</th>\n",
              "      <td>28894</td>\n",
              "      <td>def item( was broken</td>\n",
              "      <td>[]</td>\n",
              "      <td>open</td>\n",
              "    </tr>\n",
              "    <tr>\n",
              "      <th>19</th>\n",
              "      <td>28893</td>\n",
              "      <td>whitespaces in column name handled differently...</td>\n",
              "      <td>[]</td>\n",
              "      <td>open</td>\n",
              "    </tr>\n",
              "    <tr>\n",
              "      <th>20</th>\n",
              "      <td>28892</td>\n",
              "      <td>A question about pd.qcut</td>\n",
              "      <td>[]</td>\n",
              "      <td>open</td>\n",
              "    </tr>\n",
              "    <tr>\n",
              "      <th>21</th>\n",
              "      <td>28890</td>\n",
              "      <td>Update performance comparison section of io docs</td>\n",
              "      <td>[]</td>\n",
              "      <td>open</td>\n",
              "    </tr>\n",
              "    <tr>\n",
              "      <th>22</th>\n",
              "      <td>28886</td>\n",
              "      <td>REF: use fused types for groupby_helper</td>\n",
              "      <td>[{'id': 31404521, 'node_id': 'MDU6TGFiZWwzMTQw...</td>\n",
              "      <td>open</td>\n",
              "    </tr>\n",
              "    <tr>\n",
              "      <th>23</th>\n",
              "      <td>28882</td>\n",
              "      <td>Crash during groupby quantile</td>\n",
              "      <td>[]</td>\n",
              "      <td>open</td>\n",
              "    </tr>\n",
              "    <tr>\n",
              "      <th>24</th>\n",
              "      <td>28881</td>\n",
              "      <td>Type check on dataframe aggregation functions</td>\n",
              "      <td>[]</td>\n",
              "      <td>open</td>\n",
              "    </tr>\n",
              "    <tr>\n",
              "      <th>25</th>\n",
              "      <td>28876</td>\n",
              "      <td>ENH: show numbers on .info() with verbose flag</td>\n",
              "      <td>[]</td>\n",
              "      <td>open</td>\n",
              "    </tr>\n",
              "    <tr>\n",
              "      <th>26</th>\n",
              "      <td>28875</td>\n",
              "      <td>BUG: Allow all int types for merge (GH28870)</td>\n",
              "      <td>[{'id': 76811, 'node_id': 'MDU6TGFiZWw3NjgxMQ=...</td>\n",
              "      <td>open</td>\n",
              "    </tr>\n",
              "    <tr>\n",
              "      <th>27</th>\n",
              "      <td>28874</td>\n",
              "      <td>use requests when it is installed</td>\n",
              "      <td>[{'id': 35818298, 'node_id': 'MDU6TGFiZWwzNTgx...</td>\n",
              "      <td>open</td>\n",
              "    </tr>\n",
              "    <tr>\n",
              "      <th>28</th>\n",
              "      <td>28872</td>\n",
              "      <td>IntervalIndex: outer intervals closed 'both' s...</td>\n",
              "      <td>[]</td>\n",
              "      <td>open</td>\n",
              "    </tr>\n",
              "    <tr>\n",
              "      <th>29</th>\n",
              "      <td>28871</td>\n",
              "      <td>columns sometimes not added to empty dataframe</td>\n",
              "      <td>[{'id': 76811, 'node_id': 'MDU6TGFiZWw3NjgxMQ=...</td>\n",
              "      <td>open</td>\n",
              "    </tr>\n",
              "  </tbody>\n",
              "</table>\n",
              "</div>"
            ],
            "text/plain": [
              "    number  ... state\n",
              "0    28913  ...  open\n",
              "1    28912  ...  open\n",
              "2    28911  ...  open\n",
              "3    28910  ...  open\n",
              "4    28909  ...  open\n",
              "5    28908  ...  open\n",
              "6    28907  ...  open\n",
              "7    28906  ...  open\n",
              "8    28905  ...  open\n",
              "9    28904  ...  open\n",
              "10   28903  ...  open\n",
              "11   28902  ...  open\n",
              "12   28901  ...  open\n",
              "13   28900  ...  open\n",
              "14   28899  ...  open\n",
              "15   28898  ...  open\n",
              "16   28897  ...  open\n",
              "17   28896  ...  open\n",
              "18   28894  ...  open\n",
              "19   28893  ...  open\n",
              "20   28892  ...  open\n",
              "21   28890  ...  open\n",
              "22   28886  ...  open\n",
              "23   28882  ...  open\n",
              "24   28881  ...  open\n",
              "25   28876  ...  open\n",
              "26   28875  ...  open\n",
              "27   28874  ...  open\n",
              "28   28872  ...  open\n",
              "29   28871  ...  open\n",
              "\n",
              "[30 rows x 4 columns]"
            ]
          },
          "metadata": {
            "tags": []
          },
          "execution_count": 114
        }
      ]
    },
    {
      "cell_type": "code",
      "metadata": {
        "id": "UIrozf-1w8PD",
        "colab_type": "code",
        "colab": {}
      },
      "source": [
        ""
      ],
      "execution_count": 0,
      "outputs": []
    }
  ]
}