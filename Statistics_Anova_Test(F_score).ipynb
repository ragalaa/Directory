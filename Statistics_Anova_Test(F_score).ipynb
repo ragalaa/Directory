{
  "nbformat": 4,
  "nbformat_minor": 0,
  "metadata": {
    "colab": {
      "name": "Statistics_Anova_Test(F-score).ipynb",
      "provenance": [],
      "include_colab_link": true
    },
    "kernelspec": {
      "name": "python3",
      "display_name": "Python 3"
    }
  },
  "cells": [
    {
      "cell_type": "markdown",
      "metadata": {
        "id": "view-in-github",
        "colab_type": "text"
      },
      "source": [
        "<a href=\"https://colab.research.google.com/github/ragalaa/Machine-Learning-Basics/blob/master/Statistics_Anova_Test(F_score).ipynb\" target=\"_parent\"><img src=\"https://colab.research.google.com/assets/colab-badge.svg\" alt=\"Open In Colab\"/></a>"
      ]
    },
    {
      "cell_type": "code",
      "metadata": {
        "id": "uEVix-c9AK-H",
        "colab_type": "code",
        "colab": {}
      },
      "source": [
        "\"\"\"\n",
        "\n",
        "\"\" ANOVA test:\n",
        "When you are dealing with data which are presented to you in different groups or sub-populations, \n",
        "you might be interested in knowing whether they arise from the same population, or they represent different populations (with different parameters).\n",
        "As you can see, there are three different footpaths. Now the question is: are those three footpaths belonging to the same species of animals? Well, \n",
        "we can guess that two of them (orange and black) actually do, \n",
        "since they belong to birds, while the third one (in blue) is more likely to belong to a dog.\n",
        "The answer to this problem is what the (One-way) ANalysis Of VAriance is meant for. \n",
        "It basically decomposes the variances within each group and among groups, \n",
        "relying on the Null Hypothesis that groups/samples have been drawn from the same population, hence their means are equivalent\n",
        "\n",
        "\n",
        "The ANOVA produces an F-statistic (explained later on): for high values of F (generally higher than 3.68, which corresponds to a significance level of 5%) \n",
        "we can reject with sufficient confidence the Null, concluding that groups are not arising from the same population.\n",
        "\n",
        "\"\"''\n",
        "\n",
        "As a case study, imagine a bunch of students from different colleges taking the same exam. You want to see if one college outperforms the other,\n",
        "hence your null hypothesis is that the means of GPAs in each group are equivalent to those of the other groups. \n",
        "To keep it simple, we will consider 3 groups (college ‘A’, ‘B’, ‘C’) with 6 students each.\n",
        "\"\"\""
      ],
      "execution_count": 0,
      "outputs": []
    },
    {
      "cell_type": "code",
      "metadata": {
        "id": "yY95y0uQAUia",
        "colab_type": "code",
        "outputId": "8d7a6e9d-f5a9-4ab3-c71d-d3e774fc0a20",
        "colab": {
          "base_uri": "https://localhost:8080/",
          "height": 228
        }
      },
      "source": [
        "import pandas as pd\n",
        "import numpy as np\n",
        "\n",
        "a=[25,25,27,30,23,20]\n",
        "b=[30,30,21,24,26,28]\n",
        "c=[18,30,29,29,24,26]\n",
        "list_of_tuples = list(zip(a, b,c))\n",
        "df = pd.DataFrame(list_of_tuples, columns = ['A', 'B', 'C'])\n",
        "df\n",
        "\n"
      ],
      "execution_count": 0,
      "outputs": [
        {
          "output_type": "execute_result",
          "data": {
            "text/html": [
              "<div>\n",
              "<style scoped>\n",
              "    .dataframe tbody tr th:only-of-type {\n",
              "        vertical-align: middle;\n",
              "    }\n",
              "\n",
              "    .dataframe tbody tr th {\n",
              "        vertical-align: top;\n",
              "    }\n",
              "\n",
              "    .dataframe thead th {\n",
              "        text-align: right;\n",
              "    }\n",
              "</style>\n",
              "<table border=\"1\" class=\"dataframe\">\n",
              "  <thead>\n",
              "    <tr style=\"text-align: right;\">\n",
              "      <th></th>\n",
              "      <th>A</th>\n",
              "      <th>B</th>\n",
              "      <th>C</th>\n",
              "    </tr>\n",
              "  </thead>\n",
              "  <tbody>\n",
              "    <tr>\n",
              "      <th>0</th>\n",
              "      <td>25</td>\n",
              "      <td>30</td>\n",
              "      <td>18</td>\n",
              "    </tr>\n",
              "    <tr>\n",
              "      <th>1</th>\n",
              "      <td>25</td>\n",
              "      <td>30</td>\n",
              "      <td>30</td>\n",
              "    </tr>\n",
              "    <tr>\n",
              "      <th>2</th>\n",
              "      <td>27</td>\n",
              "      <td>21</td>\n",
              "      <td>29</td>\n",
              "    </tr>\n",
              "    <tr>\n",
              "      <th>3</th>\n",
              "      <td>30</td>\n",
              "      <td>24</td>\n",
              "      <td>29</td>\n",
              "    </tr>\n",
              "    <tr>\n",
              "      <th>4</th>\n",
              "      <td>23</td>\n",
              "      <td>26</td>\n",
              "      <td>24</td>\n",
              "    </tr>\n",
              "    <tr>\n",
              "      <th>5</th>\n",
              "      <td>20</td>\n",
              "      <td>28</td>\n",
              "      <td>26</td>\n",
              "    </tr>\n",
              "  </tbody>\n",
              "</table>\n",
              "</div>"
            ],
            "text/plain": [
              "    A   B   C\n",
              "0  25  30  18\n",
              "1  25  30  30\n",
              "2  27  21  29\n",
              "3  30  24  29\n",
              "4  23  26  24\n",
              "5  20  28  26"
            ]
          },
          "metadata": {
            "tags": []
          },
          "execution_count": 4
        }
      ]
    },
    {
      "cell_type": "code",
      "metadata": {
        "id": "daKnOGEQAlsy",
        "colab_type": "code",
        "outputId": "93d922b4-c80f-42b2-8117-09c38a7ed055",
        "colab": {
          "base_uri": "https://localhost:8080/",
          "height": 72
        }
      },
      "source": [
        "m1 = np.mean(a)\n",
        "m2 = np.mean(b)\n",
        "m3 = np.mean(c)\n",
        "\n",
        "print(' Average mark for college A: {}'.format(m1))\n",
        "print(' Average mark for college B: {}'.format(m2))\n",
        "print(' Average mark for college C: {}'.format(m3))"
      ],
      "execution_count": 0,
      "outputs": [
        {
          "output_type": "stream",
          "text": [
            " Average mark for college A: 25.0\n",
            " Average mark for college B: 26.5\n",
            " Average mark for college C: 26.0\n"
          ],
          "name": "stdout"
        }
      ]
    },
    {
      "cell_type": "code",
      "metadata": {
        "id": "0-Xy7QsBB4c_",
        "colab_type": "code",
        "outputId": "ff3d64ce-3b02-4e9d-c59f-577ed7d53af0",
        "colab": {
          "base_uri": "https://localhost:8080/",
          "height": 35
        }
      },
      "source": [
        "### compute the overall mean (k is the number of groups, hence in our case k=3):\n",
        "\n",
        "M = (m1+m2+m3) / 3\n",
        "print( 'Overall mean of all values:{}'.format(M))"
      ],
      "execution_count": 0,
      "outputs": [
        {
          "output_type": "stream",
          "text": [
            "Overall mean of all values:25.833333333333332\n"
          ],
          "name": "stdout"
        }
      ]
    },
    {
      "cell_type": "code",
      "metadata": {
        "id": "FpCwAIGEDB-g",
        "colab_type": "code",
        "outputId": "ecb860e3-76fc-4a27-a1f3-78b663159f40",
        "colab": {
          "base_uri": "https://localhost:8080/",
          "height": 35
        }
      },
      "source": [
        "##compute the ‘between-group’ sum of squared differences (where n is the number of observations per group/college, hence in our case n=6):\n",
        "\n",
        "SSb=6*((m1-M)**2+(m2-M)**2+(m3-M)**2)\n",
        "print('Between-groups Sum of Squared Differences: {}'.format(SSb))\n"
      ],
      "execution_count": 0,
      "outputs": [
        {
          "output_type": "stream",
          "text": [
            "Between-groups Sum of Squared Differences: 6.999999999999999\n"
          ],
          "name": "stdout"
        }
      ]
    },
    {
      "cell_type": "code",
      "metadata": {
        "id": "8PgsJevpDbvo",
        "colab_type": "code",
        "outputId": "90bb8463-965f-4427-bddb-478d8ff1ba97",
        "colab": {
          "base_uri": "https://localhost:8080/",
          "height": 35
        }
      },
      "source": [
        "###With those results, we can already compute one of the components of our F-score, which is the between-group mean square value (MSb). \n",
        "### Indeed, knowing that the between-group degrees of freedom are k-1 (that means, one less than the number of groups), we can compute the MSb as:\n",
        "###  MSb = SSb /df( degree of freedom\n",
        "\n",
        "MSb=SSb/2\n",
        "print('Between-groups Mean Square value: {}'.format(MSb))"
      ],
      "execution_count": 0,
      "outputs": [
        {
          "output_type": "stream",
          "text": [
            "Between-groups Mean Square value: 3.4999999999999996\n"
          ],
          "name": "stdout"
        }
      ]
    },
    {
      "cell_type": "code",
      "metadata": {
        "id": "b9MRB168DyGE",
        "colab_type": "code",
        "outputId": "863c6cd4-f2aa-441c-eb6c-6098f062ff77",
        "colab": {
          "base_uri": "https://localhost:8080/",
          "height": 35
        }
      },
      "source": [
        "### calculate the “within-group” sum of squares.\n",
        "\n",
        "## SSW = Ei Ej(Yij - Y-J)^2\n",
        "\n",
        "err_a=list(a-m1)\n",
        "err_b=list(b-m2)\n",
        "err_c=list(c-m3)\n",
        "err=err_a+err_b+err_c\n",
        "ssw=[]\n",
        "for i in err:\n",
        "    ssw.append(i**2)\n",
        "    \n",
        "\n",
        "SSw=np.sum(ssw)\n",
        "\n",
        "print('Within-group Sum of Squared Differences: {}'.format(SSw))"
      ],
      "execution_count": 0,
      "outputs": [
        {
          "output_type": "stream",
          "text": [
            "Within-group Sum of Squared Differences: 223.5\n"
          ],
          "name": "stdout"
        }
      ]
    },
    {
      "cell_type": "code",
      "metadata": {
        "id": "MaM71GO9E_zv",
        "colab_type": "code",
        "outputId": "16dd7201-e8e0-4e49-9ba8-d435bcab077d",
        "colab": {
          "base_uri": "https://localhost:8080/",
          "height": 35
        }
      },
      "source": [
        "###Again, knowing that there are k(n-1) within-group degrees of freedom (hence in our case 15), we can compute the within-group mean square value:\n",
        "### MSb = SSb /df( degree of freedom\n",
        "MSw=SSw/15\n",
        "print('Within-group Mean Square value: {}'.format(MSw))"
      ],
      "execution_count": 0,
      "outputs": [
        {
          "output_type": "stream",
          "text": [
            "Within-group Mean Square value: 14.9\n"
          ],
          "name": "stdout"
        }
      ]
    },
    {
      "cell_type": "code",
      "metadata": {
        "id": "ZbkCHp4VFXmC",
        "colab_type": "code",
        "outputId": "0f6e1ffa-44a1-40b4-b0f9-135ad60cb0b4",
        "colab": {
          "base_uri": "https://localhost:8080/",
          "height": 35
        }
      },
      "source": [
        "##compute the F-score:\n",
        "## F = MSb /MSw\n",
        "\n",
        "F=MSb/MSw \n",
        "print('F-score: {}'.format(F)) "
      ],
      "execution_count": 0,
      "outputs": [
        {
          "output_type": "stream",
          "text": [
            "F-score: 0.23489932885906037\n"
          ],
          "name": "stdout"
        }
      ]
    },
    {
      "cell_type": "code",
      "metadata": {
        "id": "TxDP006KEgCL",
        "colab_type": "code",
        "outputId": "08d78ae5-f186-4684-be13-f3bc60f5bb84",
        "colab": {
          "base_uri": "https://localhost:8080/",
          "height": 35
        }
      },
      "source": [
        "### let's double cehck with SCIpy Python library\n",
        "\n",
        "import scipy.stats as stats \n",
        "stats.f_oneway(a,b,c) "
      ],
      "execution_count": 0,
      "outputs": [
        {
          "output_type": "execute_result",
          "data": {
            "text/plain": [
              "F_onewayResult(statistic=0.2348993288590604, pvalue=0.793504662732833)"
            ]
          },
          "metadata": {
            "tags": []
          },
          "execution_count": 22
        }
      ]
    },
    {
      "cell_type": "code",
      "metadata": {
        "id": "o8csYZlhGJVW",
        "colab_type": "code",
        "outputId": "a670fbc1-a271-4dc5-f9cb-1af7ec2a4be3",
        "colab": {
          "base_uri": "https://localhost:8080/",
          "height": 283
        }
      },
      "source": [
        "from scipy.stats import f\n",
        "import matplotlib.pyplot as plt\n",
        "fig, ax = plt.subplots(1, 1)\n",
        "dfn, dfd = 2,15\n",
        "x = np.linspace(f.ppf(0.01, dfn, dfd),f.ppf(0.99, dfn, dfd), 100)\n",
        "ax.plot(x, f.pdf(x, dfn, dfd),'r-', lw=5, alpha=0.6, label='f pdf')"
      ],
      "execution_count": 0,
      "outputs": [
        {
          "output_type": "execute_result",
          "data": {
            "text/plain": [
              "[<matplotlib.lines.Line2D at 0x7f7f353a0908>]"
            ]
          },
          "metadata": {
            "tags": []
          },
          "execution_count": 23
        },
        {
          "output_type": "display_data",
          "data": {
            "image/png": "[encoded data removed]",
            "text/plain": [
              "<Figure size 432x288 with 1 Axes>"
            ]
          },
          "metadata": {
            "tags": []
          }
        }
      ]
    },
    {
      "cell_type": "code",
      "metadata": {
        "id": "kiy4PoJgGlu_",
        "colab_type": "code",
        "outputId": "57d9bbb4-6ed7-4f7a-d9f1-a975436b4d77",
        "colab": {
          "base_uri": "https://localhost:8080/",
          "height": 283
        }
      },
      "source": [
        "#### Let’s say we set alpha, which the level of significance, equal to 5%. The corresponding F-critical value is 3.68. Hence:\n",
        "from scipy.stats import f\n",
        "import matplotlib.pyplot as plt\n",
        "fig, ax = plt.subplots(1, 1)\n",
        "dfn, dfd = 2,15\n",
        "\n",
        "\n",
        "x = np.linspace(f.ppf(0.01, dfn, dfd),f.ppf(0.99, dfn, dfd), 100)\n",
        "ax.plot(x, f.pdf(x, dfn, dfd),'r-', lw=5, alpha=0.6, label='f pdf')\n",
        "plt.axvline(x=3.68, label='Critical value for alpha=0.05', color='g')\n",
        "plt.axvline(x=F, label='F-score')\n",
        "plt.legend()"
      ],
      "execution_count": 0,
      "outputs": [
        {
          "output_type": "execute_result",
          "data": {
            "text/plain": [
              "<matplotlib.legend.Legend at 0x7f7f31c8d908>"
            ]
          },
          "metadata": {
            "tags": []
          },
          "execution_count": 42
        },
        {
          "output_type": "display_data",
          "data": {
            "image/png": "[encoded data removed]",
            "text/plain": [
              "<Figure size 432x288 with 1 Axes>"
            ]
          },
          "metadata": {
            "tags": []
          }
        }
      ]
    },
    {
      "cell_type": "code",
      "metadata": {
        "id": "hDa7mMNmICrD",
        "colab_type": "code",
        "colab": {}
      },
      "source": [
        "#####\n",
        "\"\"\"\n",
        "We do not reject the Null hypothesis about equality among means. \n",
        "We can conclude (with an error of 5%, or alternatively, with a confidence of 95%) that there is no significant difference between our three colleges A, B and C.\n",
        "\n",
        "\n",
        "\"\"\""
      ],
      "execution_count": 0,
      "outputs": []
    },
    {
      "cell_type": "markdown",
      "metadata": {
        "id": "Puyj4WI9k44z",
        "colab_type": "text"
      },
      "source": [
        "# Descriptive Statistics:\n",
        " Finding skewness, Kurtosis and PDF,CDF,PPF..."
      ]
    },
    {
      "cell_type": "code",
      "metadata": {
        "id": "bkXTX4M_lA9k",
        "colab_type": "code",
        "colab": {}
      },
      "source": [
        "\n",
        "import seaborn as sns\n",
        "iris = sns.load_dataset(\"iris\")\n",
        "X = iris.drop('species',axis=1)\n",
        "x=X['sepal_length']"
      ],
      "execution_count": 0,
      "outputs": []
    },
    {
      "cell_type": "code",
      "metadata": {
        "id": "X5EAyhNgmK8a",
        "colab_type": "code",
        "colab": {
          "base_uri": "https://localhost:8080/",
          "height": 72
        },
        "outputId": "ef4aa38f-1f99-4bef-9ce9-19eae4264fc2"
      },
      "source": [
        "\n",
        "import statistics\n",
        "import pandas as pd\n",
        "# print('Mean: {}'.format(x.mean()))\n",
        "mean=x.sum()/len(x)\n",
        "print('Mean: {}'.format(mean))\n",
        "median = x.median()\n",
        "print('Median: {}'.format(median))\n",
        "\n",
        "mode = list(x.mode())\n",
        "print('Mode: {}'.format(mode))\n",
        "\n",
        "\n"
      ],
      "execution_count": 76,
      "outputs": [
        {
          "output_type": "stream",
          "text": [
            "Mean: 5.843333333333334\n",
            "Median: 5.8\n",
            "Mode: [5.0]\n"
          ],
          "name": "stdout"
        }
      ]
    },
    {
      "cell_type": "code",
      "metadata": {
        "id": "NeeLt8LvlNV9",
        "colab_type": "code",
        "colab": {
          "base_uri": "https://localhost:8080/",
          "height": 280
        },
        "outputId": "b960ebc3-f33a-4168-906a-5ab95f982879"
      },
      "source": [
        "####  On the other hand, if have either mode>median>mean or mean>median>mode, we are facing an asymmetric distribution:\n",
        "\"\"\"\n",
        "The first picture (mean>median>mode) shows a positive asymmetric distribution, \n",
        "while the second one (mode>median>mean) exhibits a negative asymmetry. \n",
        "A way to check the symmetry of distribution is thought the measure of Skewness:\n",
        "\"\"\"\n",
        "\n",
        "\n",
        "f, (ax_box, ax_hist) = plt.subplots(2, sharex=True, gridspec_kw= {\"height_ratios\": (0.2, 1)})\n",
        "sns.boxplot(x, ax=ax_box)\n",
        "ax_box.axvline(mean, color='r', linestyle='--')\n",
        "ax_box.axvline(median, color='g', linestyle='-')\n",
        "ax_box.axvline(mode, color='b', linestyle='-')\n",
        "\n",
        "sns.distplot(x, ax=ax_hist)\n",
        "ax_hist.axvline(mean, color='r', linestyle='--')\n",
        "ax_hist.axvline(median, color='g', linestyle='-')\n",
        "ax_hist.axvline(mode, color='b', linestyle='-')\n",
        "\n",
        "plt.legend({'Mean':mean,'Median':median,'Mode':mode})\n",
        "ax_box.set(xlabel='')\n",
        "plt.show()"
      ],
      "execution_count": 77,
      "outputs": [
        {
          "output_type": "display_data",
          "data": {
            "image/png": "[encoded data removed]",
            "text/plain": [
              "<Figure size 432x288 with 2 Axes>"
            ]
          },
          "metadata": {
            "tags": []
          }
        }
      ]
    },
    {
      "cell_type": "code",
      "metadata": {
        "id": "-Shmwp5QpsBc",
        "colab_type": "code",
        "colab": {
          "base_uri": "https://localhost:8080/",
          "height": 35
        },
        "outputId": "24e80add-fc4a-46d8-d51d-002c115c0e5f"
      },
      "source": [
        "##Let’s compute the Skewness:\n",
        "\n",
        "from scipy.stats import skew\n",
        "print('Skewness: {}'.format(skew(x)))"
      ],
      "execution_count": 78,
      "outputs": [
        {
          "output_type": "stream",
          "text": [
            "Skewness: 0.3117530585022963\n"
          ],
          "name": "stdout"
        }
      ]
    },
    {
      "cell_type": "code",
      "metadata": {
        "id": "pKBYhMlQpzXo",
        "colab_type": "code",
        "colab": {}
      },
      "source": [
        "##As you can see, the skewness is greater than zero, hence it indicates a positive asymmetry, confirming the fact that mean>median>mode."
      ],
      "execution_count": 0,
      "outputs": []
    },
    {
      "cell_type": "markdown",
      "metadata": {
        "id": "8yUJA-ZKp3EI",
        "colab_type": "text"
      },
      "source": [
        "Measures of **Dispersion** **bold text**"
      ]
    },
    {
      "cell_type": "code",
      "metadata": {
        "id": "1GCJKr6Kp0sR",
        "colab_type": "code",
        "colab": {
          "base_uri": "https://localhost:8080/",
          "height": 35
        },
        "outputId": "d798f856-9580-4bf6-c92d-20ae6fe207d9"
      },
      "source": [
        "###Range: it is the most intuitive measure of dispersion. It is computed as the difference between the maximum and minimum values, and it suggests how spread our data are.\n",
        "\n",
        "r=x.max()-x.min()\n",
        "print('Range: ',r)"
      ],
      "execution_count": 79,
      "outputs": [
        {
          "output_type": "stream",
          "text": [
            "Range:  3.6000000000000005\n"
          ],
          "name": "stdout"
        }
      ]
    },
    {
      "cell_type": "code",
      "metadata": {
        "id": "8FBdWl5CqEOy",
        "colab_type": "code",
        "colab": {
          "base_uri": "https://localhost:8080/",
          "height": 281
        },
        "outputId": "7d2a55cb-04fd-4e00-d8bc-61cb672e5d09"
      },
      "source": [
        "fig1, ax1 = plt.subplots()\n",
        "ax1.set_title('BoxPlot')\n",
        "ax1.boxplot(x);"
      ],
      "execution_count": 81,
      "outputs": [
        {
          "output_type": "display_data",
          "data": {
            "image/png": "[encoded data removed]",
            "text/plain": [
              "<Figure size 432x288 with 1 Axes>"
            ]
          },
          "metadata": {
            "tags": []
          }
        }
      ]
    },
    {
      "cell_type": "markdown",
      "metadata": {
        "id": "pCOW1Cm6qMEh",
        "colab_type": "text"
      },
      "source": [
        "*Interquantile Range: *quantiles are cut points dividing the range of a probability distribution into continuous intervals with equal probabilities. More specifically, the 0.x quantile (also called x percentile) leaves at its left x% of the probability. Furthermore, the 0, 0.25, 0.5, 0.75 and 1 quantiles are known as, respectively, 0, 1st, 2nd,3rd and 4th quartiles. Note that the Second Quartile (Q2) corresponds to the median value, since it leaves 50% of the probability to its left and 50% of probability to its right."
      ]
    },
    {
      "cell_type": "code",
      "metadata": {
        "id": "ZW2hb4z7qS7u",
        "colab_type": "code",
        "colab": {
          "base_uri": "https://localhost:8080/",
          "height": 72
        },
        "outputId": "3fe07a7f-7605-49af-e9a7-388a832c1f60"
      },
      "source": [
        "Q1=np.percentile(x, 25) \n",
        "Q2=np.percentile(x, 50)  \n",
        "Q3=np.percentile(x, 75)\n",
        "print('Q1: {}'.format(Q1))\n",
        "print('Q2: {}'.format(Q2))\n",
        "print('Q3: {}'.format(Q3))"
      ],
      "execution_count": 82,
      "outputs": [
        {
          "output_type": "stream",
          "text": [
            "Q1: 5.1\n",
            "Q2: 5.8\n",
            "Q3: 6.4\n"
          ],
          "name": "stdout"
        }
      ]
    },
    {
      "cell_type": "code",
      "metadata": {
        "id": "947-2WKHqba3",
        "colab_type": "code",
        "colab": {
          "base_uri": "https://localhost:8080/",
          "height": 280
        },
        "outputId": "5a909dc3-ec78-4b46-c186-096635e3083d"
      },
      "source": [
        "##Let’s visualize them on our distribution graph:\n",
        "f, (ax_box, ax_hist) = plt.subplots(2, sharex=True, gridspec_kw= {\"height_ratios\": (0.2, 1)})\n",
        "sns.boxplot(x, ax=ax_box)\n",
        "ax_box.axvline(Q1, color='r', linestyle='--')\n",
        "ax_box.axvline(Q2, color='g', linestyle='-')\n",
        "ax_box.axvline(Q3, color='b', linestyle='-')\n",
        "\n",
        "sns.distplot(x, ax=ax_hist)\n",
        "ax_hist.axvline(Q1, color='r', linestyle='--')\n",
        "ax_hist.axvline(Q2, color='g', linestyle='-')\n",
        "ax_hist.axvline(Q3, color='b', linestyle='-')\n",
        "\n",
        "plt.legend({'Q1':Q1,'Q2':Q2,'Q3':Q3})\n",
        "ax_box.set(xlabel='')\n",
        "plt.show()"
      ],
      "execution_count": 83,
      "outputs": [
        {
          "output_type": "display_data",
          "data": {
            "image/png": "[encoded data removed]",
            "text/plain": [
              "<Figure size 432x288 with 2 Axes>"
            ]
          },
          "metadata": {
            "tags": []
          }
        }
      ]
    },
    {
      "cell_type": "code",
      "metadata": {
        "id": "AKv7kEfUqoj9",
        "colab_type": "code",
        "colab": {
          "base_uri": "https://localhost:8080/",
          "height": 35
        },
        "outputId": "6a528b45-6787-40e1-b7ef-8a05cea1d381"
      },
      "source": [
        "IQR=Q3-Q1\n",
        "print('Interquartile Range: ',IQR)"
      ],
      "execution_count": 84,
      "outputs": [
        {
          "output_type": "stream",
          "text": [
            "Interquartile Range:  1.3000000000000007\n"
          ],
          "name": "stdout"
        }
      ]
    },
    {
      "cell_type": "code",
      "metadata": {
        "id": "bI46OZFjrQ5Q",
        "colab_type": "code",
        "colab": {
          "base_uri": "https://localhost:8080/",
          "height": 35
        },
        "outputId": "9b79756e-3280-4ed3-aaaf-211348a5f722"
      },
      "source": [
        "sigma=np.std(x)\n",
        "print('Standard Deviation: ',sigma)"
      ],
      "execution_count": 85,
      "outputs": [
        {
          "output_type": "stream",
          "text": [
            "Standard Deviation:  0.8253012917851409\n"
          ],
          "name": "stdout"
        }
      ]
    },
    {
      "cell_type": "markdown",
      "metadata": {
        "id": "wXcJDEACuSNw",
        "colab_type": "text"
      },
      "source": [
        "# Hypothesis testing:\n",
        "\n",
        " Meaning : Proposed explaination\n",
        "           Objectively testable\n",
        "      Null hypothseis true until prove n\n",
        "      Alternarive Hypothesis will be to prove Null hyptheis wrong..\n",
        "      Ex:  Null hypthesis : no relationshipfor height between gender\n",
        "           Alternate: negative of null hypothesis( Average males taller than females)\n",
        "           \n",
        "           Prove select test to prove your hypothesis:\n",
        "           ANOVA and stats model will get the P value.( tell it was lucky or acula result it is significant)\n",
        "           Significant level1 % or 5 % - Small p value means your alternate hypothesis is indeep right which is\n",
        "           P value below significant 5 % - menans 95 % confidence..\n",
        "           \n",
        "     Ex2: lady testing tea --\n",
        "        Null hypothese - \" lady cannot tell differnece\"\n",
        "        Alternate: \" Lady can tell difference\"\n",
        "        \n",
        "        Test: 8 cups, 4 of each type ( lady got all correct)\n",
        "        test statistics : p value = 1/70 = 1.4% ( 8 combination 4 = 70 combination)\n",
        "        Significance level:  choose  5%  level which is less 5%\n",
        "        Accept/reject:  1.4 %  < 5 %  ==> reject null hypotheis.\n",
        "        \n",
        "        They ahve two errors Type 1 and type 2 error.\n",
        "        \n",
        "        \n",
        "        T- Test ( also called student T test, works best for two group comparison)\n",
        "        \n",
        "          This test used to get the averages across two categories( two population)\n",
        "           Ex:  Average male babay birth weight =  Average Female baby birth weight\n",
        "                Is the difference statistically significant\n",
        "                \n",
        "                This gives  differece in means.\n",
        "                P- value:\n",
        "                    whethere the T-statistic is significant\n",
        "                    low p-value of <5% menas the rsult cannot be due to chance\n",
        "                    \n",
        "          Diffefnt T-test:\n",
        "             One sample lOCATION TEST:  \n",
        "                  what is Average weight of babies born in a certain town?\n",
        "                  is it differernt from the average of general population?\n",
        "            Two sample lOCATION TEST:      \n",
        "                  what is Average weight of babies born in a town A different ffrom Town B?\n",
        "            Paired differnce test:( same population at differnet point in time / event)\n",
        "                   is the average weight of babies born in winter differnet from babies born in summer?\n",
        "            Regession coeffcent test: independent variable/OLS       \n",
        "                  \n",
        "      "
      ]
    },
    {
      "cell_type": "markdown",
      "metadata": {
        "id": "7akLDb4UH5u_",
        "colab_type": "text"
      },
      "source": [
        "# ANOVA for Multiple Groups compared to T - tests:\n"
      ]
    },
    {
      "cell_type": "code",
      "metadata": {
        "id": "Wrq5oI33uVy6",
        "colab_type": "code",
        "colab": {
          "base_uri": "https://localhost:8080/",
          "height": 265
        },
        "outputId": "c0a60098-b831-49c6-f020-202af0504fe4"
      },
      "source": [
        "##As you can see, I manually generated normally distributed data, with mean=3 and standard deviation=2.\n",
        "## Now, the idea is extracting a sample from this population and checking whether it was actually extracted from a population with mean=3.\n",
        "\n",
        "import numpy as np\n",
        "\n",
        "## mean 3 and SD = 2\n",
        "mu, sigma = 3, 2 \n",
        "s = np.random.normal(mu, sigma, 10000)\n",
        "\n",
        "\n",
        "import matplotlib.pyplot as plt\n",
        "count, bins, ignored = plt.hist(s, 30, density=True)\n",
        "plt.plot(bins, 1/(sigma * np.sqrt(2 * np.pi)) *np.exp( - (bins - mu)**2 / (2 * sigma**2) ),linewidth=2, color='r')\n",
        "plt.show()"
      ],
      "execution_count": 88,
      "outputs": [
        {
          "output_type": "display_data",
          "data": {
            "image/png": "[encoded data removed]",
            "text/plain": [
              "<Figure size 432x288 with 1 Axes>"
            ]
          },
          "metadata": {
            "tags": []
          }
        }
      ]
    },
    {
      "cell_type": "code",
      "metadata": {
        "id": "iwZ0e-nQu5xc",
        "colab_type": "code",
        "colab": {
          "base_uri": "https://localhost:8080/",
          "height": 269
        },
        "outputId": "446bc2d0-b943-443e-d7d0-046e1cb9d454"
      },
      "source": [
        "\n",
        "\n",
        "## mean 1.5 and SD = 2\n",
        "sample_mean, sample_sigma = 1.5, 2\n",
        "sample = np.random.normal(sample_mean, sample_sigma, 200)\n",
        "\n",
        "\n",
        "count, bins, ignored = plt.hist(sample, 30, density=True)\n",
        "plt.plot(bins, 1/(sigma * np.sqrt(2 * np.pi)) *np.exp( - (bins - mu)**2 / (2 * sigma**2) ),linewidth=2, color='r')\n",
        "plt.show()"
      ],
      "execution_count": 96,
      "outputs": [
        {
          "output_type": "display_data",
          "data": {
            "image/png": "[encoded data removed]",
            "text/plain": [
              "<Figure size 432x288 with 1 Axes>"
            ]
          },
          "metadata": {
            "tags": []
          }
        }
      ]
    },
    {
      "cell_type": "code",
      "metadata": {
        "id": "MXAEh02nvmV1",
        "colab_type": "code",
        "colab": {
          "base_uri": "https://localhost:8080/",
          "height": 269
        },
        "outputId": "f3954b04-3485-48eb-ab50-a54bfb90f92d"
      },
      "source": [
        "###First, let’s have a look at both the distribution:\n",
        "\n",
        "\n",
        "count, bins, ignored = plt.hist(s, 30, alpha=0.1, density=True)\n",
        "sample_count, sample_bins, sample_ignored = plt.hist(sample, 30, alpha=0.1, color='r',density=True)\n",
        "\n",
        "plt.plot(sample_bins,1/(sample_sigma * np.sqrt(2 * np.pi)) *np.exp( - (sample_bins - sample_mean)**2 / (2 * sample_sigma**2) ),linewidth=2, color='r')\n",
        "\n",
        "plt.plot(bins,1/(sigma * np.sqrt(2 * np.pi)) *np.exp( - (bins - mu)**2 / (2 * sigma**2) ),linewidth=2, color='b')\n",
        "plt.show()\n"
      ],
      "execution_count": 97,
      "outputs": [
        {
          "output_type": "display_data",
          "data": {
            "image/png": "[encoded data removed]",
            "text/plain": [
              "<Figure size 432x288 with 1 Axes>"
            ]
          },
          "metadata": {
            "tags": []
          }
        }
      ]
    },
    {
      "cell_type": "markdown",
      "metadata": {
        "id": "qaIv47kxwHXt",
        "colab_type": "text"
      },
      "source": [
        "So in red we have our sample distribution, while in blue our real population distribution. In this case, we already know the answer to our problem: our sample does not arise from a population with the blue distribution, and it is obvious since I did not extract that sample from our population. However, what if you are not provided with the real population distribution? We need to inquire about the likelihood of the mean of our sample to be equal to that of our population."
      ]
    },
    {
      "cell_type": "markdown",
      "metadata": {
        "id": "mnHmurE7wL29",
        "colab_type": "text"
      },
      "source": [
        "Hence, let’s compute the confidence interval of our sample. Just to recall, a confidence interval of x% expresses that, given a population and a collection of samples from that, in 95% of those samples the sample mean (or whatever parameter you are inquiring about) will be included in that interval.\n",
        "We can easily compute the interval, with confidence=95%, with a scipy tool:"
      ]
    },
    {
      "cell_type": "code",
      "metadata": {
        "id": "kaWz1NuFu-FO",
        "colab_type": "code",
        "colab": {
          "base_uri": "https://localhost:8080/",
          "height": 269
        },
        "outputId": "e76d171f-91b2-441a-ff3d-c6ce51d96124"
      },
      "source": [
        "import scipy\n",
        "ci = scipy.stats.norm.interval(0.95, loc=1.5, scale=2)\n",
        "count, bins, ignored = plt.hist(s, 30, alpha=0.1, density=True)\n",
        "sample_count, sample_bins, sample_ignored = plt.hist(sample, 30, alpha=0.1, color='r',density=True)\n",
        "\n",
        "plt.plot(sample_bins,1/(sample_sigma * np.sqrt(2 * np.pi)) *np.exp( - (sample_bins - sample_mean)**2 / (2 * sample_sigma**2) ),linewidth=2, color='r')\n",
        "plt.plot(bins,1/(sigma * np.sqrt(2 * np.pi)) *np.exp( - (bins - mu)**2 / (2 * sigma**2) ),linewidth=2, color='b')\n",
        "\n",
        "plt.axvline(ci[0],color='g')\n",
        "plt.axvline(ci[1],color='g')\n",
        "plt.show()\n"
      ],
      "execution_count": 103,
      "outputs": [
        {
          "output_type": "display_data",
          "data": {
            "image/png": "[encoded data removed]",
            "text/plain": [
              "<Figure size 432x288 with 1 Axes>"
            ]
          },
          "metadata": {
            "tags": []
          }
        }
      ]
    },
    {
      "cell_type": "code",
      "metadata": {
        "id": "o_h_zt0KwqaJ",
        "colab_type": "code",
        "colab": {
          "base_uri": "https://localhost:8080/",
          "height": 269
        },
        "outputId": "4744621c-197f-4468-ce89-aab47e07ee9e"
      },
      "source": [
        "###Now let’s inquire at the possible outcomes of our test:\n",
        "\n",
        "count, bins, ignored = plt.hist(s, 30, alpha=0.1, density=True)\n",
        "sample_count, sample_bins, sample_ignored = plt.hist(sample, 30, alpha=0.1, color='r',density=True)\n",
        "\n",
        "plt.plot(sample_bins,1/(sample_sigma * np.sqrt(2 * np.pi)) *np.exp( - (sample_bins - sample_mean)**2 / (2 * sample_sigma**2) ),linewidth=2, color='r')\n",
        "plt.plot(bins,1/(sigma * np.sqrt(2 * np.pi)) *np.exp( - (bins - mu)**2 / (2 * sigma**2) ),linewidth=2, color='b')\n",
        "\n",
        "plt.axvline(ci[0],color='g')\n",
        "plt.axvline(ci[1],color='g')\n",
        "\n",
        "plt.fill_between(x=np.arange(-4,ci[0],0.01), \n",
        "                 y1= scipy.stats.norm.pdf(np.arange(-4,ci[0],0.01),loc=1.5,scale=2) ,\n",
        "                 facecolor='red',\n",
        "                 alpha=0.35)\n",
        "\n",
        "plt.fill_between(x=np.arange(ci[1],7.5,0.01), \n",
        "                 y1= scipy.stats.norm.pdf(np.arange(ci[1],7.5,0.01),loc=1.5,scale=2) ,\n",
        "                 facecolor='red',\n",
        "                 alpha=0.5)\n",
        "\n",
        "plt.fill_between(x=np.arange(ci[0],ci[1],0.01), \n",
        "                 y1= scipy.stats.norm.pdf(np.arange(ci[0],ci[1],0.01),loc=3, scale=2) ,\n",
        "                 facecolor='blue',\n",
        "                 alpha=0.5)\n",
        "\n",
        "plt.text(x=0, y=0.18, s= \"Null Hypothesis\")\n",
        "plt.text(x=6, y=0.05, s= \"Alternative\")\n",
        "plt.text(x=-4, y=0.01, s= \"Type 1 Error\")\n",
        "plt.text(x=6.2, y=0.01, s= \"Type 1 Error\")\n",
        "plt.text(x=2, y=0.02, s= \"Type 2 Error\")\n",
        "\n",
        "plt.show()"
      ],
      "execution_count": 107,
      "outputs": [
        {
          "output_type": "display_data",
          "data": {
            "image/png": "[encoded data removed]",
            "text/plain": [
              "<Figure size 432x288 with 1 Axes>"
            ]
          },
          "metadata": {
            "tags": []
          }
        }
      ]
    },
    {
      "cell_type": "markdown",
      "metadata": {
        "id": "lS3jLuSvx2Se",
        "colab_type": "text"
      },
      "source": [
        "As you can see, the sample mean (1.5) is included in the Type 2 Error area (meaning that we do not reject the null when it is false). To double-check, let’s compute the p-value, keeping in mind that our confidence level is 5% (hence, we do not reject the null if the p-value is greater than 5%).\n",
        "\n"
      ]
    },
    {
      "cell_type": "code",
      "metadata": {
        "id": "04zS2BTgx9J6",
        "colab_type": "code",
        "colab": {
          "base_uri": "https://localhost:8080/",
          "height": 54
        },
        "outputId": "6e39ce13-2fb0-42b7-f0aa-e14882b79c9c"
      },
      "source": [
        "z_score=(sample_mean-mu)/sigma \n",
        "p_value = scipy.stats.norm.sf(abs(z_score)) \n",
        "print('P-value= {}'.format(p_value))\n",
        " \n",
        "if p_value<0.05: \n",
        "     print('P-value<alpha: reject H0') \n",
        "else: \n",
        "     print('P-value>alpha: do not reject H0')"
      ],
      "execution_count": 108,
      "outputs": [
        {
          "output_type": "stream",
          "text": [
            "P-value= 0.2266273523768682\n",
            "P-value>alpha: do not reject H0\n"
          ],
          "name": "stdout"
        }
      ]
    },
    {
      "cell_type": "code",
      "metadata": {
        "id": "Xzu3fpSKIHdu",
        "colab_type": "code",
        "colab": {
          "base_uri": "https://localhost:8080/",
          "height": 399
        },
        "outputId": "4af8b5c6-332f-4f7f-9efe-28e0d3f63bb2"
      },
      "source": [
        "import statsmodels\n",
        "jobtest = pd.read_csv('./Jobtest_data.csv')\n",
        "jobtest.head"
      ],
      "execution_count": 121,
      "outputs": [
        {
          "output_type": "execute_result",
          "data": {
            "text/plain": [
              "<bound method NDFrame.head of     TEST  MINORITY  JPERF\n",
              "0   0.28         1   1.83\n",
              "1   0.97         1   4.59\n",
              "2   1.25         1   2.97\n",
              "3   2.46         1   8.14\n",
              "4   2.51         1   8.00\n",
              "5   1.17         1   3.30\n",
              "6   1.78         1   7.53\n",
              "7   1.21         1   2.03\n",
              "8   1.63         1   5.00\n",
              "9   1.98         1   8.04\n",
              "10  2.36         0   3.25\n",
              "11  2.11         0   5.30\n",
              "12  0.45         0   1.39\n",
              "13  1.76         0   4.69\n",
              "14  2.09         0   6.56\n",
              "15  1.50         0   3.00\n",
              "16  1.25         0   5.85\n",
              "17  0.72         0   1.90\n",
              "18  0.42         0   3.85\n",
              "19  1.53         0   2.95>"
            ]
          },
          "metadata": {
            "tags": []
          },
          "execution_count": 121
        }
      ]
    },
    {
      "cell_type": "code",
      "metadata": {
        "id": "9QHgCnjMJdHR",
        "colab_type": "code",
        "colab": {
          "base_uri": "https://localhost:8080/",
          "height": 301
        },
        "outputId": "3909f6a7-8a67-4ce5-907b-c31e46db3787"
      },
      "source": [
        "jobtest.boxplot(column=['JPERF'], by='MINORITY');"
      ],
      "execution_count": 114,
      "outputs": [
        {
          "output_type": "display_data",
          "data": {
            "image/png": "[encoded data removed]",
            "text/plain": [
              "<Figure size 432x288 with 1 Axes>"
            ]
          },
          "metadata": {
            "tags": []
          }
        }
      ]
    },
    {
      "cell_type": "code",
      "metadata": {
        "id": "ibffCXjqKHXY",
        "colab_type": "code",
        "colab": {
          "base_uri": "https://localhost:8080/",
          "height": 348
        },
        "outputId": "12ff918c-72ee-4699-e041-449c463972d0"
      },
      "source": [
        "minority_0 = jobtest[jobtest['MINORITY'] == 0]\n",
        "minority_1 = jobtest[jobtest['MINORITY'] == 1]\n",
        "minority_0"
      ],
      "execution_count": 116,
      "outputs": [
        {
          "output_type": "execute_result",
          "data": {
            "text/html": [
              "<div>\n",
              "<style scoped>\n",
              "    .dataframe tbody tr th:only-of-type {\n",
              "        vertical-align: middle;\n",
              "    }\n",
              "\n",
              "    .dataframe tbody tr th {\n",
              "        vertical-align: top;\n",
              "    }\n",
              "\n",
              "    .dataframe thead th {\n",
              "        text-align: right;\n",
              "    }\n",
              "</style>\n",
              "<table border=\"1\" class=\"dataframe\">\n",
              "  <thead>\n",
              "    <tr style=\"text-align: right;\">\n",
              "      <th></th>\n",
              "      <th>TEST</th>\n",
              "      <th>MINORITY</th>\n",
              "      <th>JPERF</th>\n",
              "    </tr>\n",
              "  </thead>\n",
              "  <tbody>\n",
              "    <tr>\n",
              "      <th>10</th>\n",
              "      <td>2.36</td>\n",
              "      <td>0</td>\n",
              "      <td>3.25</td>\n",
              "    </tr>\n",
              "    <tr>\n",
              "      <th>11</th>\n",
              "      <td>2.11</td>\n",
              "      <td>0</td>\n",
              "      <td>5.30</td>\n",
              "    </tr>\n",
              "    <tr>\n",
              "      <th>12</th>\n",
              "      <td>0.45</td>\n",
              "      <td>0</td>\n",
              "      <td>1.39</td>\n",
              "    </tr>\n",
              "    <tr>\n",
              "      <th>13</th>\n",
              "      <td>1.76</td>\n",
              "      <td>0</td>\n",
              "      <td>4.69</td>\n",
              "    </tr>\n",
              "    <tr>\n",
              "      <th>14</th>\n",
              "      <td>2.09</td>\n",
              "      <td>0</td>\n",
              "      <td>6.56</td>\n",
              "    </tr>\n",
              "    <tr>\n",
              "      <th>15</th>\n",
              "      <td>1.50</td>\n",
              "      <td>0</td>\n",
              "      <td>3.00</td>\n",
              "    </tr>\n",
              "    <tr>\n",
              "      <th>16</th>\n",
              "      <td>1.25</td>\n",
              "      <td>0</td>\n",
              "      <td>5.85</td>\n",
              "    </tr>\n",
              "    <tr>\n",
              "      <th>17</th>\n",
              "      <td>0.72</td>\n",
              "      <td>0</td>\n",
              "      <td>1.90</td>\n",
              "    </tr>\n",
              "    <tr>\n",
              "      <th>18</th>\n",
              "      <td>0.42</td>\n",
              "      <td>0</td>\n",
              "      <td>3.85</td>\n",
              "    </tr>\n",
              "    <tr>\n",
              "      <th>19</th>\n",
              "      <td>1.53</td>\n",
              "      <td>0</td>\n",
              "      <td>2.95</td>\n",
              "    </tr>\n",
              "  </tbody>\n",
              "</table>\n",
              "</div>"
            ],
            "text/plain": [
              "    TEST  MINORITY  JPERF\n",
              "10  2.36         0   3.25\n",
              "11  2.11         0   5.30\n",
              "12  0.45         0   1.39\n",
              "13  1.76         0   4.69\n",
              "14  2.09         0   6.56\n",
              "15  1.50         0   3.00\n",
              "16  1.25         0   5.85\n",
              "17  0.72         0   1.90\n",
              "18  0.42         0   3.85\n",
              "19  1.53         0   2.95"
            ]
          },
          "metadata": {
            "tags": []
          },
          "execution_count": 116
        }
      ]
    },
    {
      "cell_type": "code",
      "metadata": {
        "id": "qiki_njWKWDI",
        "colab_type": "code",
        "colab": {
          "base_uri": "https://localhost:8080/",
          "height": 35
        },
        "outputId": "db43612e-cd6c-43c7-8d6b-1fe89c5a5c40"
      },
      "source": [
        "## are te job performance scores for minority and non minority differnt?\n",
        "import warnings\n",
        "warnings.simplefilter('ignore')\n",
        "from statsmodels.stats.weightstats import ttest_ind\n",
        "\n",
        "## Testing H0 -- job perfomcance is not different\n",
        "##     h1 job perfomrnce is different  \n",
        "\n",
        "### it cehckje if the alternative if gereate than value = 0\n",
        "ttest_ind(minority_1['JPERF'],minority_0['JPERF'], alternative = 'two-sided', value=0)\n",
        "\n"
      ],
      "execution_count": 124,
      "outputs": [
        {
          "output_type": "execute_result",
          "data": {
            "text/plain": [
              "(1.296372732868917, 0.21122206282829198, 18.0)"
            ]
          },
          "metadata": {
            "tags": []
          },
          "execution_count": 124
        }
      ]
    },
    {
      "cell_type": "code",
      "metadata": {
        "id": "oyGG-9eoMKhB",
        "colab_type": "code",
        "colab": {}
      },
      "source": [
        "## above tells 1.2 tehre is some diffreence in mean but how significant that tels the P value next to it:\n",
        "\n",
        "## P-value 21% greater than 5%% means we can reject alternative hypothesis"
      ],
      "execution_count": 0,
      "outputs": []
    },
    {
      "cell_type": "code",
      "metadata": {
        "id": "K2uS_uAmM5MR",
        "colab_type": "code",
        "colab": {
          "base_uri": "https://localhost:8080/",
          "height": 288
        },
        "outputId": "3b71becc-448e-49a9-f348-bffbd157f27d"
      },
      "source": [
        "## example 2:\n",
        "\n",
        "jobtest.describe()"
      ],
      "execution_count": 125,
      "outputs": [
        {
          "output_type": "execute_result",
          "data": {
            "text/html": [
              "<div>\n",
              "<style scoped>\n",
              "    .dataframe tbody tr th:only-of-type {\n",
              "        vertical-align: middle;\n",
              "    }\n",
              "\n",
              "    .dataframe tbody tr th {\n",
              "        vertical-align: top;\n",
              "    }\n",
              "\n",
              "    .dataframe thead th {\n",
              "        text-align: right;\n",
              "    }\n",
              "</style>\n",
              "<table border=\"1\" class=\"dataframe\">\n",
              "  <thead>\n",
              "    <tr style=\"text-align: right;\">\n",
              "      <th></th>\n",
              "      <th>TEST</th>\n",
              "      <th>MINORITY</th>\n",
              "      <th>JPERF</th>\n",
              "    </tr>\n",
              "  </thead>\n",
              "  <tbody>\n",
              "    <tr>\n",
              "      <th>count</th>\n",
              "      <td>20.00000</td>\n",
              "      <td>20.000000</td>\n",
              "      <td>20.000000</td>\n",
              "    </tr>\n",
              "    <tr>\n",
              "      <th>mean</th>\n",
              "      <td>1.47150</td>\n",
              "      <td>0.500000</td>\n",
              "      <td>4.508500</td>\n",
              "    </tr>\n",
              "    <tr>\n",
              "      <th>std</th>\n",
              "      <td>0.67839</td>\n",
              "      <td>0.512989</td>\n",
              "      <td>2.227711</td>\n",
              "    </tr>\n",
              "    <tr>\n",
              "      <th>min</th>\n",
              "      <td>0.28000</td>\n",
              "      <td>0.000000</td>\n",
              "      <td>1.390000</td>\n",
              "    </tr>\n",
              "    <tr>\n",
              "      <th>25%</th>\n",
              "      <td>1.12000</td>\n",
              "      <td>0.000000</td>\n",
              "      <td>2.965000</td>\n",
              "    </tr>\n",
              "    <tr>\n",
              "      <th>50%</th>\n",
              "      <td>1.51500</td>\n",
              "      <td>0.500000</td>\n",
              "      <td>4.220000</td>\n",
              "    </tr>\n",
              "    <tr>\n",
              "      <th>75%</th>\n",
              "      <td>2.00750</td>\n",
              "      <td>1.000000</td>\n",
              "      <td>6.027500</td>\n",
              "    </tr>\n",
              "    <tr>\n",
              "      <th>max</th>\n",
              "      <td>2.51000</td>\n",
              "      <td>1.000000</td>\n",
              "      <td>8.140000</td>\n",
              "    </tr>\n",
              "  </tbody>\n",
              "</table>\n",
              "</div>"
            ],
            "text/plain": [
              "           TEST   MINORITY      JPERF\n",
              "count  20.00000  20.000000  20.000000\n",
              "mean    1.47150   0.500000   4.508500\n",
              "std     0.67839   0.512989   2.227711\n",
              "min     0.28000   0.000000   1.390000\n",
              "25%     1.12000   0.000000   2.965000\n",
              "50%     1.51500   0.500000   4.220000\n",
              "75%     2.00750   1.000000   6.027500\n",
              "max     2.51000   1.000000   8.140000"
            ]
          },
          "metadata": {
            "tags": []
          },
          "execution_count": 125
        }
      ]
    },
    {
      "cell_type": "code",
      "metadata": {
        "id": "eDDWoRb3M9-k",
        "colab_type": "code",
        "colab": {}
      },
      "source": [
        "## pick median values of TEST in to two groups abd test T tests..\n",
        "low_test = jobtest[jobtest['TEST'] < 1.50]\n",
        "high_test = jobtest[jobtest['TEST'] >= 1.50]"
      ],
      "execution_count": 0,
      "outputs": []
    },
    {
      "cell_type": "code",
      "metadata": {
        "id": "YTZse46iNf7G",
        "colab_type": "code",
        "colab": {
          "base_uri": "https://localhost:8080/",
          "height": 35
        },
        "outputId": "74218ad3-1916-4f9d-a86c-9b070edd3c68"
      },
      "source": [
        "## Now perfrom T-test  for job performance aginst employee above median and below median\n",
        "\n",
        "ttest_ind(low_test['JPERF'],high_test['JPERF'], alternative = 'two-sided', value=0)"
      ],
      "execution_count": 128,
      "outputs": [
        {
          "output_type": "execute_result",
          "data": {
            "text/plain": [
              "(-3.1453782341253196, 0.005594750418932361, 18.0)"
            ]
          },
          "metadata": {
            "tags": []
          },
          "execution_count": 128
        }
      ]
    },
    {
      "cell_type": "code",
      "metadata": {
        "id": "zQMKNsoyN52g",
        "colab_type": "code",
        "colab": {}
      },
      "source": [
        "## Now perfrom T-test shows there is diffrecen in average in means aof test with job perfocmance\n",
        "### P- vaue -.0005  < 5% is significant..\n",
        "## accept alertive hypthesis"
      ],
      "execution_count": 0,
      "outputs": []
    }
  ]
}