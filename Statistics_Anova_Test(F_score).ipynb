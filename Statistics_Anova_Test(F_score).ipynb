{
  "nbformat": 4,
  "nbformat_minor": 0,
  "metadata": {
    "colab": {
      "name": "Statistics_Anova_Test(F-score).ipynb",
      "provenance": [],
      "include_colab_link": true
    },
    "kernelspec": {
      "name": "python3",
      "display_name": "Python 3"
    }
  },
  "cells": [
    {
      "cell_type": "markdown",
      "metadata": {
        "id": "view-in-github",
        "colab_type": "text"
      },
      "source": [
        "<a href=\"https://colab.research.google.com/github/ragalaa/Machine-Learning-Basics/blob/master/Statistics_Anova_Test(F_score).ipynb\" target=\"_parent\"><img src=\"https://colab.research.google.com/assets/colab-badge.svg\" alt=\"Open In Colab\"/></a>"
      ]
    },
    {
      "cell_type": "code",
      "metadata": {
        "id": "uEVix-c9AK-H",
        "colab_type": "code",
        "colab": {}
      },
      "source": [
        "\"\"\"\n",
        "\n",
        "\"\" ANOVA test:\n",
        "When you are dealing with data which are presented to you in different groups or sub-populations, \n",
        "you might be interested in knowing whether they arise from the same population, or they represent different populations (with different parameters).\n",
        "As you can see, there are three different footpaths. Now the question is: are those three footpaths belonging to the same species of animals? Well, \n",
        "we can guess that two of them (orange and black) actually do, \n",
        "since they belong to birds, while the third one (in blue) is more likely to belong to a dog.\n",
        "The answer to this problem is what the (One-way) ANalysis Of VAriance is meant for. \n",
        "It basically decomposes the variances within each group and among groups, \n",
        "relying on the Null Hypothesis that groups/samples have been drawn from the same population, hence their means are equivalent\n",
        "\n",
        "\n",
        "The ANOVA produces an F-statistic (explained later on): for high values of F (generally higher than 3.68, which corresponds to a significance level of 5%) \n",
        "we can reject with sufficient confidence the Null, concluding that groups are not arising from the same population.\n",
        "\n",
        "\"\"''\n",
        "\n",
        "As a case study, imagine a bunch of students from different colleges taking the same exam. You want to see if one college outperforms the other,\n",
        "hence your null hypothesis is that the means of GPAs in each group are equivalent to those of the other groups. \n",
        "To keep it simple, we will consider 3 groups (college ‘A’, ‘B’, ‘C’) with 6 students each.\n",
        "\"\"\""
      ],
      "execution_count": 0,
      "outputs": []
    },
    {
      "cell_type": "code",
      "metadata": {
        "id": "yY95y0uQAUia",
        "colab_type": "code",
        "colab": {
          "base_uri": "https://localhost:8080/",
          "height": 228
        },
        "outputId": "8d7a6e9d-f5a9-4ab3-c71d-d3e774fc0a20"
      },
      "source": [
        "import pandas as pd\n",
        "import numpy as np\n",
        "\n",
        "a=[25,25,27,30,23,20]\n",
        "b=[30,30,21,24,26,28]\n",
        "c=[18,30,29,29,24,26]\n",
        "list_of_tuples = list(zip(a, b,c))\n",
        "df = pd.DataFrame(list_of_tuples, columns = ['A', 'B', 'C'])\n",
        "df\n",
        "\n"
      ],
      "execution_count": 4,
      "outputs": [
        {
          "output_type": "execute_result",
          "data": {
            "text/html": [
              "<div>\n",
              "<style scoped>\n",
              "    .dataframe tbody tr th:only-of-type {\n",
              "        vertical-align: middle;\n",
              "    }\n",
              "\n",
              "    .dataframe tbody tr th {\n",
              "        vertical-align: top;\n",
              "    }\n",
              "\n",
              "    .dataframe thead th {\n",
              "        text-align: right;\n",
              "    }\n",
              "</style>\n",
              "<table border=\"1\" class=\"dataframe\">\n",
              "  <thead>\n",
              "    <tr style=\"text-align: right;\">\n",
              "      <th></th>\n",
              "      <th>A</th>\n",
              "      <th>B</th>\n",
              "      <th>C</th>\n",
              "    </tr>\n",
              "  </thead>\n",
              "  <tbody>\n",
              "    <tr>\n",
              "      <th>0</th>\n",
              "      <td>25</td>\n",
              "      <td>30</td>\n",
              "      <td>18</td>\n",
              "    </tr>\n",
              "    <tr>\n",
              "      <th>1</th>\n",
              "      <td>25</td>\n",
              "      <td>30</td>\n",
              "      <td>30</td>\n",
              "    </tr>\n",
              "    <tr>\n",
              "      <th>2</th>\n",
              "      <td>27</td>\n",
              "      <td>21</td>\n",
              "      <td>29</td>\n",
              "    </tr>\n",
              "    <tr>\n",
              "      <th>3</th>\n",
              "      <td>30</td>\n",
              "      <td>24</td>\n",
              "      <td>29</td>\n",
              "    </tr>\n",
              "    <tr>\n",
              "      <th>4</th>\n",
              "      <td>23</td>\n",
              "      <td>26</td>\n",
              "      <td>24</td>\n",
              "    </tr>\n",
              "    <tr>\n",
              "      <th>5</th>\n",
              "      <td>20</td>\n",
              "      <td>28</td>\n",
              "      <td>26</td>\n",
              "    </tr>\n",
              "  </tbody>\n",
              "</table>\n",
              "</div>"
            ],
            "text/plain": [
              "    A   B   C\n",
              "0  25  30  18\n",
              "1  25  30  30\n",
              "2  27  21  29\n",
              "3  30  24  29\n",
              "4  23  26  24\n",
              "5  20  28  26"
            ]
          },
          "metadata": {
            "tags": []
          },
          "execution_count": 4
        }
      ]
    },
    {
      "cell_type": "code",
      "metadata": {
        "id": "daKnOGEQAlsy",
        "colab_type": "code",
        "colab": {
          "base_uri": "https://localhost:8080/",
          "height": 72
        },
        "outputId": "93d922b4-c80f-42b2-8117-09c38a7ed055"
      },
      "source": [
        "m1 = np.mean(a)\n",
        "m2 = np.mean(b)\n",
        "m3 = np.mean(c)\n",
        "\n",
        "print(' Average mark for college A: {}'.format(m1))\n",
        "print(' Average mark for college B: {}'.format(m2))\n",
        "print(' Average mark for college C: {}'.format(m3))"
      ],
      "execution_count": 6,
      "outputs": [
        {
          "output_type": "stream",
          "text": [
            " Average mark for college A: 25.0\n",
            " Average mark for college B: 26.5\n",
            " Average mark for college C: 26.0\n"
          ],
          "name": "stdout"
        }
      ]
    },
    {
      "cell_type": "code",
      "metadata": {
        "id": "0-Xy7QsBB4c_",
        "colab_type": "code",
        "colab": {
          "base_uri": "https://localhost:8080/",
          "height": 35
        },
        "outputId": "ff3d64ce-3b02-4e9d-c59f-577ed7d53af0"
      },
      "source": [
        "### compute the overall mean (k is the number of groups, hence in our case k=3):\n",
        "\n",
        "M = (m1+m2+m3) / 3\n",
        "print( 'Overall mean of all values:{}'.format(M))"
      ],
      "execution_count": 7,
      "outputs": [
        {
          "output_type": "stream",
          "text": [
            "Overall mean of all values:25.833333333333332\n"
          ],
          "name": "stdout"
        }
      ]
    },
    {
      "cell_type": "code",
      "metadata": {
        "id": "FpCwAIGEDB-g",
        "colab_type": "code",
        "colab": {
          "base_uri": "https://localhost:8080/",
          "height": 35
        },
        "outputId": "ecb860e3-76fc-4a27-a1f3-78b663159f40"
      },
      "source": [
        "##compute the ‘between-group’ sum of squared differences (where n is the number of observations per group/college, hence in our case n=6):\n",
        "\n",
        "SSb=6*((m1-M)**2+(m2-M)**2+(m3-M)**2)\n",
        "print('Between-groups Sum of Squared Differences: {}'.format(SSb))\n"
      ],
      "execution_count": 10,
      "outputs": [
        {
          "output_type": "stream",
          "text": [
            "Between-groups Sum of Squared Differences: 6.999999999999999\n"
          ],
          "name": "stdout"
        }
      ]
    },
    {
      "cell_type": "code",
      "metadata": {
        "id": "8PgsJevpDbvo",
        "colab_type": "code",
        "colab": {
          "base_uri": "https://localhost:8080/",
          "height": 35
        },
        "outputId": "90bb8463-965f-4427-bddb-478d8ff1ba97"
      },
      "source": [
        "###With those results, we can already compute one of the components of our F-score, which is the between-group mean square value (MSb). \n",
        "### Indeed, knowing that the between-group degrees of freedom are k-1 (that means, one less than the number of groups), we can compute the MSb as:\n",
        "###  MSb = SSb /df( degree of freedom\n",
        "\n",
        "MSb=SSb/2\n",
        "print('Between-groups Mean Square value: {}'.format(MSb))"
      ],
      "execution_count": 11,
      "outputs": [
        {
          "output_type": "stream",
          "text": [
            "Between-groups Mean Square value: 3.4999999999999996\n"
          ],
          "name": "stdout"
        }
      ]
    },
    {
      "cell_type": "code",
      "metadata": {
        "id": "b9MRB168DyGE",
        "colab_type": "code",
        "colab": {
          "base_uri": "https://localhost:8080/",
          "height": 35
        },
        "outputId": "863c6cd4-f2aa-441c-eb6c-6098f062ff77"
      },
      "source": [
        "### calculate the “within-group” sum of squares.\n",
        "\n",
        "## SSW = Ei Ej(Yij - Y-J)^2\n",
        "\n",
        "err_a=list(a-m1)\n",
        "err_b=list(b-m2)\n",
        "err_c=list(c-m3)\n",
        "err=err_a+err_b+err_c\n",
        "ssw=[]\n",
        "for i in err:\n",
        "    ssw.append(i**2)\n",
        "    \n",
        "\n",
        "SSw=np.sum(ssw)\n",
        "\n",
        "print('Within-group Sum of Squared Differences: {}'.format(SSw))"
      ],
      "execution_count": 18,
      "outputs": [
        {
          "output_type": "stream",
          "text": [
            "Within-group Sum of Squared Differences: 223.5\n"
          ],
          "name": "stdout"
        }
      ]
    },
    {
      "cell_type": "code",
      "metadata": {
        "id": "MaM71GO9E_zv",
        "colab_type": "code",
        "colab": {
          "base_uri": "https://localhost:8080/",
          "height": 35
        },
        "outputId": "16dd7201-e8e0-4e49-9ba8-d435bcab077d"
      },
      "source": [
        "###Again, knowing that there are k(n-1) within-group degrees of freedom (hence in our case 15), we can compute the within-group mean square value:\n",
        "### MSb = SSb /df( degree of freedom\n",
        "MSw=SSw/15\n",
        "print('Within-group Mean Square value: {}'.format(MSw))"
      ],
      "execution_count": 20,
      "outputs": [
        {
          "output_type": "stream",
          "text": [
            "Within-group Mean Square value: 14.9\n"
          ],
          "name": "stdout"
        }
      ]
    },
    {
      "cell_type": "code",
      "metadata": {
        "id": "ZbkCHp4VFXmC",
        "colab_type": "code",
        "colab": {
          "base_uri": "https://localhost:8080/",
          "height": 35
        },
        "outputId": "0f6e1ffa-44a1-40b4-b0f9-135ad60cb0b4"
      },
      "source": [
        "##compute the F-score:\n",
        "## F = MSb /MSw\n",
        "\n",
        "F=MSb/MSw \n",
        "print('F-score: {}'.format(F)) "
      ],
      "execution_count": 21,
      "outputs": [
        {
          "output_type": "stream",
          "text": [
            "F-score: 0.23489932885906037\n"
          ],
          "name": "stdout"
        }
      ]
    },
    {
      "cell_type": "code",
      "metadata": {
        "id": "TxDP006KEgCL",
        "colab_type": "code",
        "colab": {
          "base_uri": "https://localhost:8080/",
          "height": 35
        },
        "outputId": "08d78ae5-f186-4684-be13-f3bc60f5bb84"
      },
      "source": [
        "### let's double cehck with SCIpy Python library\n",
        "\n",
        "import scipy.stats as stats \n",
        "stats.f_oneway(a,b,c) "
      ],
      "execution_count": 22,
      "outputs": [
        {
          "output_type": "execute_result",
          "data": {
            "text/plain": [
              "F_onewayResult(statistic=0.2348993288590604, pvalue=0.793504662732833)"
            ]
          },
          "metadata": {
            "tags": []
          },
          "execution_count": 22
        }
      ]
    },
    {
      "cell_type": "code",
      "metadata": {
        "id": "o8csYZlhGJVW",
        "colab_type": "code",
        "colab": {
          "base_uri": "https://localhost:8080/",
          "height": 283
        },
        "outputId": "a670fbc1-a271-4dc5-f9cb-1af7ec2a4be3"
      },
      "source": [
        "from scipy.stats import f\n",
        "import matplotlib.pyplot as plt\n",
        "fig, ax = plt.subplots(1, 1)\n",
        "dfn, dfd = 2,15\n",
        "x = np.linspace(f.ppf(0.01, dfn, dfd),f.ppf(0.99, dfn, dfd), 100)\n",
        "ax.plot(x, f.pdf(x, dfn, dfd),'r-', lw=5, alpha=0.6, label='f pdf')"
      ],
      "execution_count": 23,
      "outputs": [
        {
          "output_type": "execute_result",
          "data": {
            "text/plain": [
              "[<matplotlib.lines.Line2D at 0x7f7f353a0908>]"
            ]
          },
          "metadata": {
            "tags": []
          },
          "execution_count": 23
        },
        {
          "output_type": "display_data",
          "data": {
            "image/png": "[encoded data removed]",
            "text/plain": [
              "<Figure size 432x288 with 1 Axes>"
            ]
          },
          "metadata": {
            "tags": []
          }
        }
      ]
    },
    {
      "cell_type": "code",
      "metadata": {
        "id": "kiy4PoJgGlu_",
        "colab_type": "code",
        "colab": {
          "base_uri": "https://localhost:8080/",
          "height": 283
        },
        "outputId": "57d9bbb4-6ed7-4f7a-d9f1-a975436b4d77"
      },
      "source": [
        "#### Let’s say we set alpha, which the level of significance, equal to 5%. The corresponding F-critical value is 3.68. Hence:\n",
        "from scipy.stats import f\n",
        "import matplotlib.pyplot as plt\n",
        "fig, ax = plt.subplots(1, 1)\n",
        "dfn, dfd = 2,15\n",
        "\n",
        "\n",
        "x = np.linspace(f.ppf(0.01, dfn, dfd),f.ppf(0.99, dfn, dfd), 100)\n",
        "ax.plot(x, f.pdf(x, dfn, dfd),'r-', lw=5, alpha=0.6, label='f pdf')\n",
        "plt.axvline(x=3.68, label='Critical value for alpha=0.05', color='g')\n",
        "plt.axvline(x=F, label='F-score')\n",
        "plt.legend()"
      ],
      "execution_count": 42,
      "outputs": [
        {
          "output_type": "execute_result",
          "data": {
            "text/plain": [
              "<matplotlib.legend.Legend at 0x7f7f31c8d908>"
            ]
          },
          "metadata": {
            "tags": []
          },
          "execution_count": 42
        },
        {
          "output_type": "display_data",
          "data": {
            "image/png": "[encoded data removed]",
            "text/plain": [
              "<Figure size 432x288 with 1 Axes>"
            ]
          },
          "metadata": {
            "tags": []
          }
        }
      ]
    },
    {
      "cell_type": "code",
      "metadata": {
        "id": "hDa7mMNmICrD",
        "colab_type": "code",
        "colab": {}
      },
      "source": [
        "#####\n",
        "\"\"\"\n",
        "We do not reject the Null hypothesis about equality among means. \n",
        "We can conclude (with an error of 5%, or alternatively, with a confidence of 95%) that there is no significant difference between our three colleges A, B and C.\n",
        "\n",
        "\n",
        "\"\"\""
      ],
      "execution_count": 0,
      "outputs": []
    }
  ]
}