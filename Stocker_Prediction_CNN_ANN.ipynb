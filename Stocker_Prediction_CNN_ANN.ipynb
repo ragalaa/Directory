{
  "nbformat": 4,
  "nbformat_minor": 0,
  "metadata": {
    "colab": {
      "name": "Stocker_Prediction_CNN-ANN.ipynb",
      "provenance": [],
      "authorship_tag": "ABX9TyMloDaqWcTqH/yjIYqK6BGC",
      "include_colab_link": true
    },
    "kernelspec": {
      "name": "python3",
      "display_name": "Python 3"
    }
  },
  "cells": [
    {
      "cell_type": "markdown",
      "metadata": {
        "id": "view-in-github",
        "colab_type": "text"
      },
      "source": [
        "<a href=\"https://colab.research.google.com/github/ragalaa/Machine-Learning-Basics/blob/master/Stocker_Prediction_CNN_ANN.ipynb\" target=\"_parent\"><img src=\"https://colab.research.google.com/assets/colab-badge.svg\" alt=\"Open In Colab\"/></a>"
      ]
    },
    {
      "cell_type": "code",
      "metadata": {
        "id": "Na0bl998oInJ",
        "colab_type": "code",
        "colab": {
          "base_uri": "https://localhost:8080/",
          "height": 708
        },
        "outputId": "e9eddc03-0f09-4a7f-b30a-7a2a00002414"
      },
      "source": [
        "!pip install stocker"
      ],
      "execution_count": 13,
      "outputs": [
        {
          "output_type": "stream",
          "text": [
            "Requirement already satisfied: stocker in /usr/local/lib/python3.6/dist-packages (0.1.5)\n",
            "Requirement already satisfied: pandas-datareader in /usr/local/lib/python3.6/dist-packages (from stocker) (0.7.4)\n",
            "Requirement already satisfied: tensorflow in /usr/local/lib/python3.6/dist-packages (from stocker) (1.15.0)\n",
            "Requirement already satisfied: pytrends in /usr/local/lib/python3.6/dist-packages (from stocker) (4.7.2)\n",
            "Requirement already satisfied: keras in /usr/local/lib/python3.6/dist-packages (from stocker) (2.2.5)\n",
            "Requirement already satisfied: pandas in /usr/local/lib/python3.6/dist-packages (from stocker) (0.25.3)\n",
            "Requirement already satisfied: scikit-learn in /usr/local/lib/python3.6/dist-packages (from stocker) (0.22.1)\n",
            "Requirement already satisfied: requests in /usr/local/lib/python3.6/dist-packages (from stocker) (2.21.0)\n",
            "Requirement already satisfied: numpy in /usr/local/lib/python3.6/dist-packages (from stocker) (1.17.5)\n",
            "Requirement already satisfied: wrapt in /usr/local/lib/python3.6/dist-packages (from pandas-datareader->stocker) (1.11.2)\n",
            "Requirement already satisfied: lxml in /usr/local/lib/python3.6/dist-packages (from pandas-datareader->stocker) (4.2.6)\n",
            "Requirement already satisfied: opt-einsum>=2.3.2 in /usr/local/lib/python3.6/dist-packages (from tensorflow->stocker) (3.1.0)\n",
            "Requirement already satisfied: six>=1.10.0 in /usr/local/lib/python3.6/dist-packages (from tensorflow->stocker) (1.12.0)\n",
            "Requirement already satisfied: grpcio>=1.8.6 in /usr/local/lib/python3.6/dist-packages (from tensorflow->stocker) (1.27.1)\n",
            "Requirement already satisfied: tensorflow-estimator==1.15.1 in /usr/local/lib/python3.6/dist-packages (from tensorflow->stocker) (1.15.1)\n",
            "Requirement already satisfied: tensorboard<1.16.0,>=1.15.0 in /usr/local/lib/python3.6/dist-packages (from tensorflow->stocker) (1.15.0)\n",
            "Requirement already satisfied: wheel>=0.26 in /usr/local/lib/python3.6/dist-packages (from tensorflow->stocker) (0.34.2)\n",
            "Requirement already satisfied: keras-preprocessing>=1.0.5 in /usr/local/lib/python3.6/dist-packages (from tensorflow->stocker) (1.1.0)\n",
            "Requirement already satisfied: astor>=0.6.0 in /usr/local/lib/python3.6/dist-packages (from tensorflow->stocker) (0.8.1)\n",
            "Requirement already satisfied: absl-py>=0.7.0 in /usr/local/lib/python3.6/dist-packages (from tensorflow->stocker) (0.9.0)\n",
            "Requirement already satisfied: protobuf>=3.6.1 in /usr/local/lib/python3.6/dist-packages (from tensorflow->stocker) (3.10.0)\n",
            "Requirement already satisfied: termcolor>=1.1.0 in /usr/local/lib/python3.6/dist-packages (from tensorflow->stocker) (1.1.0)\n",
            "Requirement already satisfied: gast==0.2.2 in /usr/local/lib/python3.6/dist-packages (from tensorflow->stocker) (0.2.2)\n",
            "Requirement already satisfied: google-pasta>=0.1.6 in /usr/local/lib/python3.6/dist-packages (from tensorflow->stocker) (0.1.8)\n",
            "Requirement already satisfied: keras-applications>=1.0.8 in /usr/local/lib/python3.6/dist-packages (from tensorflow->stocker) (1.0.8)\n",
            "Requirement already satisfied: h5py in /usr/local/lib/python3.6/dist-packages (from keras->stocker) (2.8.0)\n",
            "Requirement already satisfied: scipy>=0.14 in /usr/local/lib/python3.6/dist-packages (from keras->stocker) (1.4.1)\n",
            "Requirement already satisfied: pyyaml in /usr/local/lib/python3.6/dist-packages (from keras->stocker) (3.13)\n",
            "Requirement already satisfied: pytz>=2017.2 in /usr/local/lib/python3.6/dist-packages (from pandas->stocker) (2018.9)\n",
            "Requirement already satisfied: python-dateutil>=2.6.1 in /usr/local/lib/python3.6/dist-packages (from pandas->stocker) (2.6.1)\n",
            "Requirement already satisfied: joblib>=0.11 in /usr/local/lib/python3.6/dist-packages (from scikit-learn->stocker) (0.14.1)\n",
            "Requirement already satisfied: urllib3<1.25,>=1.21.1 in /usr/local/lib/python3.6/dist-packages (from requests->stocker) (1.24.3)\n",
            "Requirement already satisfied: idna<2.9,>=2.5 in /usr/local/lib/python3.6/dist-packages (from requests->stocker) (2.8)\n",
            "Requirement already satisfied: certifi>=2017.4.17 in /usr/local/lib/python3.6/dist-packages (from requests->stocker) (2019.11.28)\n",
            "Requirement already satisfied: chardet<3.1.0,>=3.0.2 in /usr/local/lib/python3.6/dist-packages (from requests->stocker) (3.0.4)\n",
            "Requirement already satisfied: setuptools>=41.0.0 in /usr/local/lib/python3.6/dist-packages (from tensorboard<1.16.0,>=1.15.0->tensorflow->stocker) (45.1.0)\n",
            "Requirement already satisfied: markdown>=2.6.8 in /usr/local/lib/python3.6/dist-packages (from tensorboard<1.16.0,>=1.15.0->tensorflow->stocker) (3.2.1)\n",
            "Requirement already satisfied: werkzeug>=0.11.15 in /usr/local/lib/python3.6/dist-packages (from tensorboard<1.16.0,>=1.15.0->tensorflow->stocker) (1.0.0)\n"
          ],
          "name": "stdout"
        }
      ]
    },
    {
      "cell_type": "code",
      "metadata": {
        "id": "sXoc7w8qoEJr",
        "colab_type": "code",
        "colab": {}
      },
      "source": [
        "# Matplotlib for plotting in the notebook\n",
        "import matplotlib.pyplot as plt\n",
        "\n",
        "%matplotlib inline\n",
        "\n",
        "import pandas as pd\n",
        "from pandas_datareader import data\n",
        "import requests\n",
        "import datetime as dt\n",
        "from pytrends.request import TrendReq"
      ],
      "execution_count": 0,
      "outputs": []
    },
    {
      "cell_type": "code",
      "metadata": {
        "id": "hvluHLWdsV1G",
        "colab_type": "code",
        "colab": {}
      },
      "source": [
        "def main(stock, years=1):  # function to get data from Yahoo Finance\n",
        "    end = dt.datetime.today().strftime('%Y-%m-%d')  # today as the end date\n",
        "    start = (dt.datetime.today() - dt.timedelta(days=365*years)).strftime('%Y-%m-%d')  # 1 year ago as start\n",
        "    df = data.DataReader(stock, 'yahoo', start, end)\n",
        "\n",
        "    return df, start, end"
      ],
      "execution_count": 0,
      "outputs": []
    },
    {
      "cell_type": "code",
      "metadata": {
        "id": "su6G7dBfoHvt",
        "colab_type": "code",
        "colab": {
          "base_uri": "https://localhost:8080/",
          "height": 437
        },
        "outputId": "eac45f5b-bfcf-4de3-ec82-02418716c40b"
      },
      "source": [
        "import stocker\n",
        "# from stocker import Stocker\n",
        "df = main('AMZN')\n",
        "df1 = stocker.predict.total('AMZN',years=1, interest=True, wiki_views=True, indicators=True, period=14)\n",
        "# years=1, interest=False, wiki_views=False, indicators=False, period=14\n",
        "# amazon = stocker.get_data.add_rsi(df1, period= 3)\n",
        "# intrest = stocker.get_data.get_interest('AMZN',timeframe= 'today 5-y')\n",
        "# intrest\n",
        "df1\n"
      ],
      "execution_count": 50,
      "outputs": [
        {
          "output_type": "execute_result",
          "data": {
            "text/html": [
              "<div>\n",
              "<style scoped>\n",
              "    .dataframe tbody tr th:only-of-type {\n",
              "        vertical-align: middle;\n",
              "    }\n",
              "\n",
              "    .dataframe tbody tr th {\n",
              "        vertical-align: top;\n",
              "    }\n",
              "\n",
              "    .dataframe thead th {\n",
              "        text-align: right;\n",
              "    }\n",
              "</style>\n",
              "<table border=\"1\" class=\"dataframe\">\n",
              "  <thead>\n",
              "    <tr style=\"text-align: right;\">\n",
              "      <th></th>\n",
              "      <th>High</th>\n",
              "      <th>Low</th>\n",
              "      <th>Open</th>\n",
              "      <th>Close</th>\n",
              "      <th>Volume</th>\n",
              "      <th>Adj Close</th>\n",
              "      <th>Interest</th>\n",
              "      <th>Wiki_views</th>\n",
              "      <th>%K</th>\n",
              "      <th>%R</th>\n",
              "      <th>RSI</th>\n",
              "    </tr>\n",
              "    <tr>\n",
              "      <th>Date</th>\n",
              "      <th></th>\n",
              "      <th></th>\n",
              "      <th></th>\n",
              "      <th></th>\n",
              "      <th></th>\n",
              "      <th></th>\n",
              "      <th></th>\n",
              "      <th></th>\n",
              "      <th></th>\n",
              "      <th></th>\n",
              "      <th></th>\n",
              "    </tr>\n",
              "  </thead>\n",
              "  <tbody>\n",
              "    <tr>\n",
              "      <th>2019-03-06</th>\n",
              "      <td>1697.750000</td>\n",
              "      <td>1668.280029</td>\n",
              "      <td>1695.969971</td>\n",
              "      <td>1668.949951</td>\n",
              "      <td>3996000</td>\n",
              "      <td>1668.949951</td>\n",
              "      <td>0.0</td>\n",
              "      <td>9.0</td>\n",
              "      <td>62.817944</td>\n",
              "      <td>-37.182056</td>\n",
              "      <td>54.285377</td>\n",
              "    </tr>\n",
              "    <tr>\n",
              "      <th>2019-03-07</th>\n",
              "      <td>1669.750000</td>\n",
              "      <td>1620.510010</td>\n",
              "      <td>1667.369995</td>\n",
              "      <td>1625.949951</td>\n",
              "      <td>4957000</td>\n",
              "      <td>1625.949951</td>\n",
              "      <td>43.0</td>\n",
              "      <td>15.0</td>\n",
              "      <td>23.321295</td>\n",
              "      <td>-76.678705</td>\n",
              "      <td>43.855289</td>\n",
              "    </tr>\n",
              "    <tr>\n",
              "      <th>2019-03-08</th>\n",
              "      <td>1622.719971</td>\n",
              "      <td>1586.569946</td>\n",
              "      <td>1604.010010</td>\n",
              "      <td>1620.800049</td>\n",
              "      <td>4667000</td>\n",
              "      <td>1620.800049</td>\n",
              "      <td>45.0</td>\n",
              "      <td>9.0</td>\n",
              "      <td>27.861039</td>\n",
              "      <td>-72.138961</td>\n",
              "      <td>52.807774</td>\n",
              "    </tr>\n",
              "    <tr>\n",
              "      <th>2019-03-11</th>\n",
              "      <td>1672.290039</td>\n",
              "      <td>1626.010010</td>\n",
              "      <td>1626.119995</td>\n",
              "      <td>1670.619995</td>\n",
              "      <td>3876400</td>\n",
              "      <td>1670.619995</td>\n",
              "      <td>0.0</td>\n",
              "      <td>6.0</td>\n",
              "      <td>68.411180</td>\n",
              "      <td>-31.588820</td>\n",
              "      <td>56.638745</td>\n",
              "    </tr>\n",
              "    <tr>\n",
              "      <th>2019-03-12</th>\n",
              "      <td>1684.270020</td>\n",
              "      <td>1660.979980</td>\n",
              "      <td>1669.000000</td>\n",
              "      <td>1673.099976</td>\n",
              "      <td>3614500</td>\n",
              "      <td>1673.099976</td>\n",
              "      <td>42.0</td>\n",
              "      <td>6.0</td>\n",
              "      <td>70.429720</td>\n",
              "      <td>-29.570280</td>\n",
              "      <td>59.520643</td>\n",
              "    </tr>\n",
              "    <tr>\n",
              "      <th>...</th>\n",
              "      <td>...</td>\n",
              "      <td>...</td>\n",
              "      <td>...</td>\n",
              "      <td>...</td>\n",
              "      <td>...</td>\n",
              "      <td>...</td>\n",
              "      <td>...</td>\n",
              "      <td>...</td>\n",
              "      <td>...</td>\n",
              "      <td>...</td>\n",
              "      <td>...</td>\n",
              "    </tr>\n",
              "    <tr>\n",
              "      <th>2020-02-10</th>\n",
              "      <td>2135.600098</td>\n",
              "      <td>2084.959961</td>\n",
              "      <td>2085.010010</td>\n",
              "      <td>2133.909912</td>\n",
              "      <td>5056200</td>\n",
              "      <td>2133.909912</td>\n",
              "      <td>0.0</td>\n",
              "      <td>26.0</td>\n",
              "      <td>99.472246</td>\n",
              "      <td>-0.527754</td>\n",
              "      <td>54.335179</td>\n",
              "    </tr>\n",
              "    <tr>\n",
              "      <th>2020-02-11</th>\n",
              "      <td>2185.949951</td>\n",
              "      <td>2136.000000</td>\n",
              "      <td>2150.899902</td>\n",
              "      <td>2150.800049</td>\n",
              "      <td>5746000</td>\n",
              "      <td>2150.800049</td>\n",
              "      <td>0.0</td>\n",
              "      <td>19.0</td>\n",
              "      <td>90.515662</td>\n",
              "      <td>-9.484338</td>\n",
              "      <td>56.080106</td>\n",
              "    </tr>\n",
              "    <tr>\n",
              "      <th>2020-02-12</th>\n",
              "      <td>2180.250000</td>\n",
              "      <td>2155.290039</td>\n",
              "      <td>2163.199951</td>\n",
              "      <td>2160.000000</td>\n",
              "      <td>3334300</td>\n",
              "      <td>2160.000000</td>\n",
              "      <td>0.0</td>\n",
              "      <td>20.0</td>\n",
              "      <td>92.998043</td>\n",
              "      <td>-7.001957</td>\n",
              "      <td>55.522017</td>\n",
              "    </tr>\n",
              "    <tr>\n",
              "      <th>2020-02-13</th>\n",
              "      <td>2170.280029</td>\n",
              "      <td>2142.000000</td>\n",
              "      <td>2144.989990</td>\n",
              "      <td>2149.870117</td>\n",
              "      <td>3024700</td>\n",
              "      <td>2149.870117</td>\n",
              "      <td>0.0</td>\n",
              "      <td>26.0</td>\n",
              "      <td>90.264743</td>\n",
              "      <td>-9.735257</td>\n",
              "      <td>63.194249</td>\n",
              "    </tr>\n",
              "    <tr>\n",
              "      <th>2020-02-14</th>\n",
              "      <td>2159.000000</td>\n",
              "      <td>2125.889893</td>\n",
              "      <td>2155.679932</td>\n",
              "      <td>2134.870117</td>\n",
              "      <td>2539580</td>\n",
              "      <td>2134.870117</td>\n",
              "      <td>0.0</td>\n",
              "      <td>26.0</td>\n",
              "      <td>85.648907</td>\n",
              "      <td>-14.351093</td>\n",
              "      <td>56.856000</td>\n",
              "    </tr>\n",
              "  </tbody>\n",
              "</table>\n",
              "<p>240 rows × 11 columns</p>\n",
              "</div>"
            ],
            "text/plain": [
              "                   High          Low  ...         %R        RSI\n",
              "Date                                  ...                      \n",
              "2019-03-06  1697.750000  1668.280029  ... -37.182056  54.285377\n",
              "2019-03-07  1669.750000  1620.510010  ... -76.678705  43.855289\n",
              "2019-03-08  1622.719971  1586.569946  ... -72.138961  52.807774\n",
              "2019-03-11  1672.290039  1626.010010  ... -31.588820  56.638745\n",
              "2019-03-12  1684.270020  1660.979980  ... -29.570280  59.520643\n",
              "...                 ...          ...  ...        ...        ...\n",
              "2020-02-10  2135.600098  2084.959961  ...  -0.527754  54.335179\n",
              "2020-02-11  2185.949951  2136.000000  ...  -9.484338  56.080106\n",
              "2020-02-12  2180.250000  2155.290039  ...  -7.001957  55.522017\n",
              "2020-02-13  2170.280029  2142.000000  ...  -9.735257  63.194249\n",
              "2020-02-14  2159.000000  2125.889893  ... -14.351093  56.856000\n",
              "\n",
              "[240 rows x 11 columns]"
            ]
          },
          "metadata": {
            "tags": []
          },
          "execution_count": 50
        }
      ]
    },
    {
      "cell_type": "code",
      "metadata": {
        "id": "cc3yh95RpbpF",
        "colab_type": "code",
        "colab": {}
      },
      "source": [
        "datset = stocker.get_data.correlation('AMZN',years=1, interest=True, wiki_views=True, indicators=True, period=14, complete=True, limit=0.5)\n"
      ],
      "execution_count": 0,
      "outputs": []
    },
    {
      "cell_type": "code",
      "metadata": {
        "id": "vvE2jFAJu43A",
        "colab_type": "code",
        "colab": {
          "base_uri": "https://localhost:8080/",
          "height": 235
        },
        "outputId": "57a1cac7-0287-42b7-8cde-5e6ffa85bcaa"
      },
      "source": [
        "datset"
      ],
      "execution_count": 53,
      "outputs": [
        {
          "output_type": "execute_result",
          "data": {
            "text/plain": [
              "High          0.992210\n",
              "Low           0.990982\n",
              "Open          0.979336\n",
              "Close         1.000000\n",
              "Volume        0.129519\n",
              "Adj Close     1.000000\n",
              "Interest     -0.150441\n",
              "Wiki_views    0.199730\n",
              "%K            0.441318\n",
              "%R            0.441318\n",
              "RSI           0.293050\n",
              "Name: Close, dtype: float64"
            ]
          },
          "metadata": {
            "tags": []
          },
          "execution_count": 53
        }
      ]
    },
    {
      "cell_type": "code",
      "metadata": {
        "id": "aDMr68vJvZp5",
        "colab_type": "code",
        "colab": {
          "base_uri": "https://localhost:8080/",
          "height": 35
        },
        "outputId": "88a7f260-831d-4797-ec59-fa438648dd4d"
      },
      "source": [
        "predict = stocker.predict.tomorrow('AMZN')\n",
        "predict"
      ],
      "execution_count": 54,
      "outputs": [
        {
          "output_type": "execute_result",
          "data": {
            "text/plain": [
              "[2130.59, 1.212, '2020-02-15']"
            ]
          },
          "metadata": {
            "tags": []
          },
          "execution_count": 54
        }
      ]
    },
    {
      "cell_type": "code",
      "metadata": {
        "id": "gilKFe-mv85J",
        "colab_type": "code",
        "colab": {}
      },
      "source": [
        "from keras.models import Sequential\n",
        "from keras.layers import Dense, LSTM, Dropout\n",
        "from sklearn.preprocessing import MinMaxScaler\n",
        "import numpy as np\n",
        "from stocker.error import get"
      ],
      "execution_count": 0,
      "outputs": []
    },
    {
      "cell_type": "code",
      "metadata": {
        "id": "SuthlrBgwaiZ",
        "colab_type": "code",
        "colab": {
          "base_uri": "https://localhost:8080/",
          "height": 171
        },
        "outputId": "8a10896d-4caf-4707-ab64-6302834b706d"
      },
      "source": [
        "# columns = stocker.get_data.data('AMZN')"
      ],
      "execution_count": 57,
      "outputs": [
        {
          "output_type": "error",
          "ename": "TypeError",
          "evalue": "ignored",
          "traceback": [
            "\u001b[0;31m---------------------------------------------------------------------------\u001b[0m",
            "\u001b[0;31mTypeError\u001b[0m                                 Traceback (most recent call last)",
            "\u001b[0;32m<ipython-input-57-626754afa8a8>\u001b[0m in \u001b[0;36m<module>\u001b[0;34m()\u001b[0m\n\u001b[0;32m----> 1\u001b[0;31m \u001b[0mcolumns\u001b[0m \u001b[0;34m=\u001b[0m \u001b[0mstocker\u001b[0m\u001b[0;34m.\u001b[0m\u001b[0mget_data\u001b[0m\u001b[0;34m.\u001b[0m\u001b[0mdata\u001b[0m\u001b[0;34m(\u001b[0m\u001b[0;34m'AMZN'\u001b[0m\u001b[0;34m)\u001b[0m\u001b[0;34m\u001b[0m\u001b[0;34m\u001b[0m\u001b[0m\n\u001b[0m",
            "\u001b[0;31mTypeError\u001b[0m: 'module' object is not callable"
          ]
        }
      ]
    },
    {
      "cell_type": "code",
      "metadata": {
        "id": "H4AOYxjwwDET",
        "colab_type": "code",
        "colab": {
          "base_uri": "https://localhost:8080/",
          "height": 35
        },
        "outputId": "d2ded8ae-8057-4cb7-aa84-44a788744bca"
      },
      "source": [
        "LTSM = stocker.lstm.run(df1, features=['Open','Close'], steps=1, training=0.9, error_method='mape')\n",
        "LTSM"
      ],
      "execution_count": 62,
      "outputs": [
        {
          "output_type": "execute_result",
          "data": {
            "text/plain": [
              "[2129.81, 1.404]"
            ]
          },
          "metadata": {
            "tags": []
          },
          "execution_count": 62
        }
      ]
    }
  ]
}