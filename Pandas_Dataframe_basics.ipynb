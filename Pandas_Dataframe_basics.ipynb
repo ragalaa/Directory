{
  "nbformat": 4,
  "nbformat_minor": 0,
  "metadata": {
    "colab": {
      "name": "Pandas_Dataframe basics",
      "provenance": [],
      "include_colab_link": true
    },
    "kernelspec": {
      "name": "python3",
      "display_name": "Python 3"
    }
  },
  "cells": [
    {
      "cell_type": "markdown",
      "metadata": {
        "id": "view-in-github",
        "colab_type": "text"
      },
      "source": [
        "<a href=\"https://colab.research.google.com/github/ragalaa/Directory/blob/master/Pandas_Dataframe_basics.ipynb\" target=\"_parent\"><img src=\"https://colab.research.google.com/assets/colab-badge.svg\" alt=\"Open In Colab\"/></a>"
      ]
    },
    {
      "cell_type": "code",
      "metadata": {
        "id": "lYlijO01nW09",
        "colab_type": "code",
        "colab": {
          "base_uri": "https://localhost:8080/",
          "height": 35
        },
        "outputId": "bff3b741-2598-4804-d8ca-a35181809c17"
      },
      "source": [
        "!git clone https://github.com/magdapoppins/pandas-basics.git\n",
        " "
      ],
      "execution_count": 2,
      "outputs": [
        {
          "output_type": "stream",
          "text": [
            "fatal: destination path 'pandas-basics' already exists and is not an empty directory.\n"
          ],
          "name": "stdout"
        }
      ]
    },
    {
      "cell_type": "code",
      "metadata": {
        "id": "_5k6b6tjoOrT",
        "colab_type": "code",
        "colab": {
          "base_uri": "https://localhost:8080/",
          "height": 108
        },
        "outputId": "48b02e7c-5193-44a2-a198-eab9a36a33ef"
      },
      "source": [
        "import json\n",
        "import pandas as pd\n",
        "import numpy as np\n",
        "\n",
        "records = [\n",
        "    ('Math', 'Chemistry', 'Physics'),\n",
        "    ('Crafts','Art', 'Electronics')]\n",
        "\n",
        "pd.DataFrame.from_records(records)\n",
        "\n",
        "\n"
      ],
      "execution_count": 12,
      "outputs": [
        {
          "output_type": "execute_result",
          "data": {
            "text/html": [
              "<div>\n",
              "<style scoped>\n",
              "    .dataframe tbody tr th:only-of-type {\n",
              "        vertical-align: middle;\n",
              "    }\n",
              "\n",
              "    .dataframe tbody tr th {\n",
              "        vertical-align: top;\n",
              "    }\n",
              "\n",
              "    .dataframe thead th {\n",
              "        text-align: right;\n",
              "    }\n",
              "</style>\n",
              "<table border=\"1\" class=\"dataframe\">\n",
              "  <thead>\n",
              "    <tr style=\"text-align: right;\">\n",
              "      <th></th>\n",
              "      <th>0</th>\n",
              "      <th>1</th>\n",
              "      <th>2</th>\n",
              "    </tr>\n",
              "  </thead>\n",
              "  <tbody>\n",
              "    <tr>\n",
              "      <th>0</th>\n",
              "      <td>Math</td>\n",
              "      <td>Chemistry</td>\n",
              "      <td>Physics</td>\n",
              "    </tr>\n",
              "    <tr>\n",
              "      <th>1</th>\n",
              "      <td>Crafts</td>\n",
              "      <td>Art</td>\n",
              "      <td>Electronics</td>\n",
              "    </tr>\n",
              "  </tbody>\n",
              "</table>\n",
              "</div>"
            ],
            "text/plain": [
              "        0          1            2\n",
              "0    Math  Chemistry      Physics\n",
              "1  Crafts        Art  Electronics"
            ]
          },
          "metadata": {
            "tags": []
          },
          "execution_count": 12
        }
      ]
    },
    {
      "cell_type": "code",
      "metadata": {
        "id": "WAmyY0rbrNVi",
        "colab_type": "code",
        "colab": {
          "base_uri": "https://localhost:8080/",
          "height": 35
        },
        "outputId": "5c3158cc-3a3c-4e12-a926-701ab6a23d3d"
      },
      "source": [
        "# dataset = pd.read_csv('\\pandas-basics\\artworkdata.csv')\n",
        "numpArray = np.random.rand(3)\n",
        "type(numpArray)\n",
        "\n",
        "my_series = pd.Series(numpArray,index=[\"First\",\"second\",\"third\"])  ## Labels defined our self.\n",
        "## Index using Label\n",
        "# my_series[\"First\"]\n",
        "my_series.index\n"
      ],
      "execution_count": 26,
      "outputs": [
        {
          "output_type": "execute_result",
          "data": {
            "text/plain": [
              "Index(['First', 'second', 'third'], dtype='object')"
            ]
          },
          "metadata": {
            "tags": []
          },
          "execution_count": 26
        }
      ]
    },
    {
      "cell_type": "code",
      "metadata": {
        "id": "FQVG7EfvtS3A",
        "colab_type": "code",
        "colab": {
          "base_uri": "https://localhost:8080/",
          "height": 72
        },
        "outputId": "5e6c1544-9314-4f66-daff-be6bde59e475"
      },
      "source": [
        "### More columns than one\n",
        "\n",
        "array_2d = np.random.rand(3,2)\n",
        "array_2d"
      ],
      "execution_count": 28,
      "outputs": [
        {
          "output_type": "execute_result",
          "data": {
            "text/plain": [
              "array([[0.23073318, 0.61880705],\n",
              "       [0.00273927, 0.37562751],\n",
              "       [0.73933144, 0.72875963]])"
            ]
          },
          "metadata": {
            "tags": []
          },
          "execution_count": 28
        }
      ]
    },
    {
      "cell_type": "code",
      "metadata": {
        "id": "u9hMk1g9tA3G",
        "colab_type": "code",
        "colab": {
          "base_uri": "https://localhost:8080/",
          "height": 35
        },
        "outputId": "8021d3d1-b254-4efd-965a-81e65c82633b"
      },
      "source": [
        "array_2d[0,1]"
      ],
      "execution_count": 29,
      "outputs": [
        {
          "output_type": "execute_result",
          "data": {
            "text/plain": [
              "0.6188070518728948"
            ]
          },
          "metadata": {
            "tags": []
          },
          "execution_count": 29
        }
      ]
    },
    {
      "cell_type": "code",
      "metadata": {
        "id": "dM5VuGTAtqon",
        "colab_type": "code",
        "colab": {
          "base_uri": "https://localhost:8080/",
          "height": 138
        },
        "outputId": "5b8e9f77-0fb4-4ae7-9a48-7062a88d447a"
      },
      "source": [
        "## Creating data frame\n",
        "\n",
        "df = pd.DataFrame(array_2d)\n",
        "df"
      ],
      "execution_count": 31,
      "outputs": [
        {
          "output_type": "execute_result",
          "data": {
            "text/html": [
              "<div>\n",
              "<style scoped>\n",
              "    .dataframe tbody tr th:only-of-type {\n",
              "        vertical-align: middle;\n",
              "    }\n",
              "\n",
              "    .dataframe tbody tr th {\n",
              "        vertical-align: top;\n",
              "    }\n",
              "\n",
              "    .dataframe thead th {\n",
              "        text-align: right;\n",
              "    }\n",
              "</style>\n",
              "<table border=\"1\" class=\"dataframe\">\n",
              "  <thead>\n",
              "    <tr style=\"text-align: right;\">\n",
              "      <th></th>\n",
              "      <th>0</th>\n",
              "      <th>1</th>\n",
              "    </tr>\n",
              "  </thead>\n",
              "  <tbody>\n",
              "    <tr>\n",
              "      <th>0</th>\n",
              "      <td>0.230733</td>\n",
              "      <td>0.618807</td>\n",
              "    </tr>\n",
              "    <tr>\n",
              "      <th>1</th>\n",
              "      <td>0.002739</td>\n",
              "      <td>0.375628</td>\n",
              "    </tr>\n",
              "    <tr>\n",
              "      <th>2</th>\n",
              "      <td>0.739331</td>\n",
              "      <td>0.728760</td>\n",
              "    </tr>\n",
              "  </tbody>\n",
              "</table>\n",
              "</div>"
            ],
            "text/plain": [
              "          0         1\n",
              "0  0.230733  0.618807\n",
              "1  0.002739  0.375628\n",
              "2  0.739331  0.728760"
            ]
          },
          "metadata": {
            "tags": []
          },
          "execution_count": 31
        }
      ]
    },
    {
      "cell_type": "code",
      "metadata": {
        "id": "p_ukGIQRt3kQ",
        "colab_type": "code",
        "colab": {
          "base_uri": "https://localhost:8080/",
          "height": 138
        },
        "outputId": "9695239d-d85b-416c-89ba-ee4903244e45"
      },
      "source": [
        "df.columns =[\"First\",\"second\"]\n",
        "df"
      ],
      "execution_count": 32,
      "outputs": [
        {
          "output_type": "execute_result",
          "data": {
            "text/html": [
              "<div>\n",
              "<style scoped>\n",
              "    .dataframe tbody tr th:only-of-type {\n",
              "        vertical-align: middle;\n",
              "    }\n",
              "\n",
              "    .dataframe tbody tr th {\n",
              "        vertical-align: top;\n",
              "    }\n",
              "\n",
              "    .dataframe thead th {\n",
              "        text-align: right;\n",
              "    }\n",
              "</style>\n",
              "<table border=\"1\" class=\"dataframe\">\n",
              "  <thead>\n",
              "    <tr style=\"text-align: right;\">\n",
              "      <th></th>\n",
              "      <th>First</th>\n",
              "      <th>second</th>\n",
              "    </tr>\n",
              "  </thead>\n",
              "  <tbody>\n",
              "    <tr>\n",
              "      <th>0</th>\n",
              "      <td>0.230733</td>\n",
              "      <td>0.618807</td>\n",
              "    </tr>\n",
              "    <tr>\n",
              "      <th>1</th>\n",
              "      <td>0.002739</td>\n",
              "      <td>0.375628</td>\n",
              "    </tr>\n",
              "    <tr>\n",
              "      <th>2</th>\n",
              "      <td>0.739331</td>\n",
              "      <td>0.728760</td>\n",
              "    </tr>\n",
              "  </tbody>\n",
              "</table>\n",
              "</div>"
            ],
            "text/plain": [
              "      First    second\n",
              "0  0.230733  0.618807\n",
              "1  0.002739  0.375628\n",
              "2  0.739331  0.728760"
            ]
          },
          "metadata": {
            "tags": []
          },
          "execution_count": 32
        }
      ]
    },
    {
      "cell_type": "code",
      "metadata": {
        "id": "VqarI9ZcuJqG",
        "colab_type": "code",
        "colab": {
          "base_uri": "https://localhost:8080/",
          "height": 90
        },
        "outputId": "d93f3963-b164-4fee-ea10-eb82e945d0dd"
      },
      "source": [
        "df[\"second\"]"
      ],
      "execution_count": 33,
      "outputs": [
        {
          "output_type": "execute_result",
          "data": {
            "text/plain": [
              "0    0.618807\n",
              "1    0.375628\n",
              "2    0.728760\n",
              "Name: second, dtype: float64"
            ]
          },
          "metadata": {
            "tags": []
          },
          "execution_count": 33
        }
      ]
    },
    {
      "cell_type": "markdown",
      "metadata": {
        "id": "vdumlaUJuSr_",
        "colab_type": "text"
      },
      "source": [
        "# Pandas Data Input capabilities: Reading from JSON with OS"
      ]
    },
    {
      "cell_type": "code",
      "metadata": {
        "id": "X_yRJ2MxuZU3",
        "colab_type": "code",
        "colab": {
          "base_uri": "https://localhost:8080/",
          "height": 228
        },
        "outputId": "3679a81f-48b1-4856-d2b6-ab1e0abe30a7"
      },
      "source": [
        "\n",
        "COLS_TO_USE = ['id','artist','title','medium','year','acquisitionYear','height','width','units']\n",
        "Dataset = pd.read_csv('./pandas-basics/artworkdata.csv',nrows = 5 , \n",
        "                      index_col='id', usecols=['id','artist'],low_memory=False)\n",
        "Dataset.head()"
      ],
      "execution_count": 41,
      "outputs": [
        {
          "output_type": "execute_result",
          "data": {
            "text/html": [
              "<div>\n",
              "<style scoped>\n",
              "    .dataframe tbody tr th:only-of-type {\n",
              "        vertical-align: middle;\n",
              "    }\n",
              "\n",
              "    .dataframe tbody tr th {\n",
              "        vertical-align: top;\n",
              "    }\n",
              "\n",
              "    .dataframe thead th {\n",
              "        text-align: right;\n",
              "    }\n",
              "</style>\n",
              "<table border=\"1\" class=\"dataframe\">\n",
              "  <thead>\n",
              "    <tr style=\"text-align: right;\">\n",
              "      <th></th>\n",
              "      <th>artist</th>\n",
              "    </tr>\n",
              "    <tr>\n",
              "      <th>id</th>\n",
              "      <th></th>\n",
              "    </tr>\n",
              "  </thead>\n",
              "  <tbody>\n",
              "    <tr>\n",
              "      <th>1035</th>\n",
              "      <td>Blake, Robert</td>\n",
              "    </tr>\n",
              "    <tr>\n",
              "      <th>1036</th>\n",
              "      <td>Blake, Robert</td>\n",
              "    </tr>\n",
              "    <tr>\n",
              "      <th>1037</th>\n",
              "      <td>Blake, Robert</td>\n",
              "    </tr>\n",
              "    <tr>\n",
              "      <th>1038</th>\n",
              "      <td>Blake, Robert</td>\n",
              "    </tr>\n",
              "    <tr>\n",
              "      <th>1039</th>\n",
              "      <td>Blake, William</td>\n",
              "    </tr>\n",
              "  </tbody>\n",
              "</table>\n",
              "</div>"
            ],
            "text/plain": [
              "              artist\n",
              "id                  \n",
              "1035   Blake, Robert\n",
              "1036   Blake, Robert\n",
              "1037   Blake, Robert\n",
              "1038   Blake, Robert\n",
              "1039  Blake, William"
            ]
          },
          "metadata": {
            "tags": []
          },
          "execution_count": 41
        }
      ]
    },
    {
      "cell_type": "code",
      "metadata": {
        "id": "CHLu5DaQwtc4",
        "colab_type": "code",
        "colab": {
          "base_uri": "https://localhost:8080/",
          "height": 401
        },
        "outputId": "279290ab-c02e-4763-c9ba-e462639c3c72"
      },
      "source": [
        "Dataset = pd.read_csv('./pandas-basics/artworkdata.csv',nrows = 50 , \n",
        "                      index_col='id', usecols=COLS_TO_USE,low_memory=False)\n",
        "Dataset.head()"
      ],
      "execution_count": 43,
      "outputs": [
        {
          "output_type": "execute_result",
          "data": {
            "text/html": [
              "<div>\n",
              "<style scoped>\n",
              "    .dataframe tbody tr th:only-of-type {\n",
              "        vertical-align: middle;\n",
              "    }\n",
              "\n",
              "    .dataframe tbody tr th {\n",
              "        vertical-align: top;\n",
              "    }\n",
              "\n",
              "    .dataframe thead th {\n",
              "        text-align: right;\n",
              "    }\n",
              "</style>\n",
              "<table border=\"1\" class=\"dataframe\">\n",
              "  <thead>\n",
              "    <tr style=\"text-align: right;\">\n",
              "      <th></th>\n",
              "      <th>artist</th>\n",
              "      <th>title</th>\n",
              "      <th>medium</th>\n",
              "      <th>year</th>\n",
              "      <th>acquisitionYear</th>\n",
              "      <th>width</th>\n",
              "      <th>height</th>\n",
              "      <th>units</th>\n",
              "    </tr>\n",
              "    <tr>\n",
              "      <th>id</th>\n",
              "      <th></th>\n",
              "      <th></th>\n",
              "      <th></th>\n",
              "      <th></th>\n",
              "      <th></th>\n",
              "      <th></th>\n",
              "      <th></th>\n",
              "      <th></th>\n",
              "    </tr>\n",
              "  </thead>\n",
              "  <tbody>\n",
              "    <tr>\n",
              "      <th>1035</th>\n",
              "      <td>Blake, Robert</td>\n",
              "      <td>A Figure Bowing before a Seated Old Man with h...</td>\n",
              "      <td>Watercolour, ink, chalk and graphite on paper....</td>\n",
              "      <td>NaN</td>\n",
              "      <td>1922</td>\n",
              "      <td>394</td>\n",
              "      <td>419</td>\n",
              "      <td>mm</td>\n",
              "    </tr>\n",
              "    <tr>\n",
              "      <th>1036</th>\n",
              "      <td>Blake, Robert</td>\n",
              "      <td>Two Drawings of Frightened Figures, Probably f...</td>\n",
              "      <td>Graphite on paper</td>\n",
              "      <td>NaN</td>\n",
              "      <td>1922</td>\n",
              "      <td>311</td>\n",
              "      <td>213</td>\n",
              "      <td>mm</td>\n",
              "    </tr>\n",
              "    <tr>\n",
              "      <th>1037</th>\n",
              "      <td>Blake, Robert</td>\n",
              "      <td>The Preaching of Warning. Verso: An Old Man En...</td>\n",
              "      <td>Graphite on paper. Verso: graphite on paper</td>\n",
              "      <td>1785.0</td>\n",
              "      <td>1922</td>\n",
              "      <td>343</td>\n",
              "      <td>467</td>\n",
              "      <td>mm</td>\n",
              "    </tr>\n",
              "    <tr>\n",
              "      <th>1038</th>\n",
              "      <td>Blake, Robert</td>\n",
              "      <td>Six Drawings of Figures with Outstretched Arms</td>\n",
              "      <td>Graphite on paper</td>\n",
              "      <td>NaN</td>\n",
              "      <td>1922</td>\n",
              "      <td>318</td>\n",
              "      <td>394</td>\n",
              "      <td>mm</td>\n",
              "    </tr>\n",
              "    <tr>\n",
              "      <th>1039</th>\n",
              "      <td>Blake, William</td>\n",
              "      <td>The Circle of the Lustful: Francesca da Rimini...</td>\n",
              "      <td>Line engraving on paper</td>\n",
              "      <td>1826.0</td>\n",
              "      <td>1919</td>\n",
              "      <td>243</td>\n",
              "      <td>335</td>\n",
              "      <td>mm</td>\n",
              "    </tr>\n",
              "  </tbody>\n",
              "</table>\n",
              "</div>"
            ],
            "text/plain": [
              "              artist  ... units\n",
              "id                    ...      \n",
              "1035   Blake, Robert  ...    mm\n",
              "1036   Blake, Robert  ...    mm\n",
              "1037   Blake, Robert  ...    mm\n",
              "1038   Blake, Robert  ...    mm\n",
              "1039  Blake, William  ...    mm\n",
              "\n",
              "[5 rows x 8 columns]"
            ]
          },
          "metadata": {
            "tags": []
          },
          "execution_count": 43
        }
      ]
    },
    {
      "cell_type": "code",
      "metadata": {
        "id": "kmxoP9eHxEH0",
        "colab_type": "code",
        "colab": {}
      },
      "source": [
        "## Load to disk by serializing the data the python Objects\n",
        "df.to_pickle(\"./pandas-basics/dummy.pkl\")"
      ],
      "execution_count": 0,
      "outputs": []
    },
    {
      "cell_type": "code",
      "metadata": {
        "id": "tou_oX42uZ8i",
        "colab_type": "code",
        "colab": {
          "base_uri": "https://localhost:8080/",
          "height": 108
        },
        "outputId": "01eff20c-26a9-457b-b233-73e219cc1024"
      },
      "source": [
        "### JSON nested Objects\n",
        "## Traverse folders to get all json files\n",
        "## Find the way to read them so that pandas understands\n",
        "### Try to produceidentical DataFrame as  for CSV\n",
        "\n",
        "records = [(\"Espresso\",\"5$\"),\n",
        "           (\"Flat White\", \"10$\")]\n",
        "pd.DataFrame.from_records(records)\n",
        "pd.DataFrame.from_records(records, columns=[\"coffe\",\"price\"])"
      ],
      "execution_count": 46,
      "outputs": [
        {
          "output_type": "execute_result",
          "data": {
            "text/html": [
              "<div>\n",
              "<style scoped>\n",
              "    .dataframe tbody tr th:only-of-type {\n",
              "        vertical-align: middle;\n",
              "    }\n",
              "\n",
              "    .dataframe tbody tr th {\n",
              "        vertical-align: top;\n",
              "    }\n",
              "\n",
              "    .dataframe thead th {\n",
              "        text-align: right;\n",
              "    }\n",
              "</style>\n",
              "<table border=\"1\" class=\"dataframe\">\n",
              "  <thead>\n",
              "    <tr style=\"text-align: right;\">\n",
              "      <th></th>\n",
              "      <th>coffe</th>\n",
              "      <th>price</th>\n",
              "    </tr>\n",
              "  </thead>\n",
              "  <tbody>\n",
              "    <tr>\n",
              "      <th>0</th>\n",
              "      <td>Espresso</td>\n",
              "      <td>5$</td>\n",
              "    </tr>\n",
              "    <tr>\n",
              "      <th>1</th>\n",
              "      <td>Flat White</td>\n",
              "      <td>10$</td>\n",
              "    </tr>\n",
              "  </tbody>\n",
              "</table>\n",
              "</div>"
            ],
            "text/plain": [
              "        coffe price\n",
              "0    Espresso    5$\n",
              "1  Flat White   10$"
            ]
          },
          "metadata": {
            "tags": []
          },
          "execution_count": 46
        }
      ]
    },
    {
      "cell_type": "code",
      "metadata": {
        "id": "lrj4qbIxuaGO",
        "colab_type": "code",
        "colab": {}
      },
      "source": [
        "### Reading Json files\n",
        "# file_path = './pandas-basics/artworkdata.csv'\n",
        "\n",
        "def get_record_from_file(file_path,COLS_TO_USE):\n",
        "    \"\"\" Process single json file and return a tuple\n",
        "     containing specific fields.\"\"\"\n",
        "    \n",
        "    with open(file_path) as artwork_file:\n",
        "        content = json.load(artwork_file)\n",
        "    \n",
        "    record = []\n",
        "    for field in COLS_TO_USE:\n",
        "        record.append(content[field])\n",
        "        \n",
        "    return tuple(record)     \n",
        "        "
      ],
      "execution_count": 0,
      "outputs": []
    },
    {
      "cell_type": "code",
      "metadata": {
        "id": "JzXHN9upLj7e",
        "colab_type": "code",
        "colab": {
          "base_uri": "https://localhost:8080/",
          "height": 183
        },
        "outputId": "f633a676-f0fe-4ae8-c7fd-eb192584963f"
      },
      "source": [
        "### process the files by specifying the path to json file\n",
        "COLS_TO_USE_JSON = ['id','all_artists','title','medium','acquisitionYear','height','width','units']\n",
        "file_path = './pandas-basics/artworks/a/000/a00001-1035.json'\n",
        "sample_record = get_record_from_file(file_path, COLS_TO_USE_JSON)\n",
        "\n",
        "sample_record"
      ],
      "execution_count": 55,
      "outputs": [
        {
          "output_type": "execute_result",
          "data": {
            "text/plain": [
              "(1035,\n",
              " 'Robert Blake',\n",
              " 'A Figure Bowing before a Seated Old Man with his Arm Outstretched in Benediction. Verso: Indecipherable Sketch',\n",
              " 'Watercolour, ink, chalk and graphite on paper. Verso: graphite on paper',\n",
              " 1922,\n",
              " '419',\n",
              " '394',\n",
              " 'mm')"
            ]
          },
          "metadata": {
            "tags": []
          },
          "execution_count": 55
        }
      ]
    },
    {
      "cell_type": "code",
      "metadata": {
        "id": "a99zUCsrOFWc",
        "colab_type": "code",
        "colab": {}
      },
      "source": [
        "import os as os\n",
        "\n",
        "def read_artworks_from_json(COLS_TO_USE_JSON):\n",
        "    \n",
        "    \"\"\" Traverse the directories with JSON files\n",
        "       For first file in each directory call fucntion\n",
        "       for processing single file and goto next directory\n",
        "    \"\"\"\n",
        "    Json_root = './pandas-basics/artworks'\n",
        "    artworks = []\n",
        "\n",
        "    for root,_,files in os.walk(Json_root):\n",
        "    \n",
        "        for f in files:\n",
        "            if f.endswith('json'):\n",
        "                record = get_record_from_file(os.path.join(root,f), \n",
        "                                          COLS_TO_USE_JSON)\n",
        "                artworks.append(record)\n",
        "#         break\n",
        "        \n",
        "    Data = pd.DataFrame.from_records(artworks, \n",
        "                               columns= COLS_TO_USE_JSON,\n",
        "                               index = \"id\")  \n",
        "    return Data"
      ],
      "execution_count": 0,
      "outputs": []
    },
    {
      "cell_type": "code",
      "metadata": {
        "id": "62d7RyN0R7hz",
        "colab_type": "code",
        "colab": {
          "base_uri": "https://localhost:8080/",
          "height": 551
        },
        "outputId": "16a9692a-e28e-446d-8f17-2828c51c03f2"
      },
      "source": [
        "### call th function with key fields\n",
        "df = read_artworks_from_json(COLS_TO_USE_JSON)\n",
        "df.sample(10)"
      ],
      "execution_count": 108,
      "outputs": [
        {
          "output_type": "execute_result",
          "data": {
            "text/html": [
              "<div>\n",
              "<style scoped>\n",
              "    .dataframe tbody tr th:only-of-type {\n",
              "        vertical-align: middle;\n",
              "    }\n",
              "\n",
              "    .dataframe tbody tr th {\n",
              "        vertical-align: top;\n",
              "    }\n",
              "\n",
              "    .dataframe thead th {\n",
              "        text-align: right;\n",
              "    }\n",
              "</style>\n",
              "<table border=\"1\" class=\"dataframe\">\n",
              "  <thead>\n",
              "    <tr style=\"text-align: right;\">\n",
              "      <th></th>\n",
              "      <th>all_artists</th>\n",
              "      <th>title</th>\n",
              "      <th>medium</th>\n",
              "      <th>acquisitionYear</th>\n",
              "      <th>height</th>\n",
              "      <th>width</th>\n",
              "      <th>units</th>\n",
              "    </tr>\n",
              "    <tr>\n",
              "      <th>id</th>\n",
              "      <th></th>\n",
              "      <th></th>\n",
              "      <th></th>\n",
              "      <th></th>\n",
              "      <th></th>\n",
              "      <th></th>\n",
              "      <th></th>\n",
              "    </tr>\n",
              "  </thead>\n",
              "  <tbody>\n",
              "    <tr>\n",
              "      <th>27814</th>\n",
              "      <td>Joseph Mallord William Turner</td>\n",
              "      <td>Studies of Rustic Groups: Women Gossiping; a M...</td>\n",
              "      <td>Graphite and watercolour on paper</td>\n",
              "      <td>1856</td>\n",
              "      <td>265</td>\n",
              "      <td>210</td>\n",
              "      <td>mm</td>\n",
              "    </tr>\n",
              "    <tr>\n",
              "      <th>7564</th>\n",
              "      <td>George Jones</td>\n",
              "      <td>[title not known]</td>\n",
              "      <td>Graphite on paper</td>\n",
              "      <td>1888</td>\n",
              "      <td></td>\n",
              "      <td></td>\n",
              "      <td></td>\n",
              "    </tr>\n",
              "    <tr>\n",
              "      <th>7477</th>\n",
              "      <td>George Jones</td>\n",
              "      <td>[title not known]</td>\n",
              "      <td>Ink on paper</td>\n",
              "      <td>1888</td>\n",
              "      <td></td>\n",
              "      <td></td>\n",
              "      <td></td>\n",
              "    </tr>\n",
              "    <tr>\n",
              "      <th>1934</th>\n",
              "      <td>William Callow</td>\n",
              "      <td>Rotterdam</td>\n",
              "      <td>Graphite on paper</td>\n",
              "      <td>1912</td>\n",
              "      <td>362</td>\n",
              "      <td>264</td>\n",
              "      <td>mm</td>\n",
              "    </tr>\n",
              "    <tr>\n",
              "      <th>27682</th>\n",
              "      <td>Joseph Mallord William Turner</td>\n",
              "      <td>Blank</td>\n",
              "      <td>None</td>\n",
              "      <td>1856</td>\n",
              "      <td>101</td>\n",
              "      <td>151</td>\n",
              "      <td>mm</td>\n",
              "    </tr>\n",
              "    <tr>\n",
              "      <th>27870</th>\n",
              "      <td>Joseph Mallord William Turner</td>\n",
              "      <td>Newport, Isle of Wight: The Town Hall</td>\n",
              "      <td>Graphite on paper</td>\n",
              "      <td>1856</td>\n",
              "      <td>204</td>\n",
              "      <td>264</td>\n",
              "      <td>mm</td>\n",
              "    </tr>\n",
              "    <tr>\n",
              "      <th>7297</th>\n",
              "      <td>George Jones</td>\n",
              "      <td>[title not known]</td>\n",
              "      <td>Ink and graphite on paper</td>\n",
              "      <td>1888</td>\n",
              "      <td></td>\n",
              "      <td></td>\n",
              "      <td></td>\n",
              "    </tr>\n",
              "    <tr>\n",
              "      <th>7286</th>\n",
              "      <td>George Jones</td>\n",
              "      <td>[title not known]</td>\n",
              "      <td>Ink on paper</td>\n",
              "      <td>1888</td>\n",
              "      <td></td>\n",
              "      <td></td>\n",
              "      <td></td>\n",
              "    </tr>\n",
              "    <tr>\n",
              "      <th>6724</th>\n",
              "      <td>Arthur Boyd Houghton</td>\n",
              "      <td>[title not known]</td>\n",
              "      <td>Graphite on paper</td>\n",
              "      <td>1922</td>\n",
              "      <td></td>\n",
              "      <td></td>\n",
              "      <td></td>\n",
              "    </tr>\n",
              "    <tr>\n",
              "      <th>7432</th>\n",
              "      <td>George Jones</td>\n",
              "      <td>[title not known]</td>\n",
              "      <td>Ink and watercolour on paper</td>\n",
              "      <td>1888</td>\n",
              "      <td></td>\n",
              "      <td></td>\n",
              "      <td></td>\n",
              "    </tr>\n",
              "  </tbody>\n",
              "</table>\n",
              "</div>"
            ],
            "text/plain": [
              "                         all_artists  ... units\n",
              "id                                    ...      \n",
              "27814  Joseph Mallord William Turner  ...    mm\n",
              "7564                    George Jones  ...      \n",
              "7477                    George Jones  ...      \n",
              "1934                  William Callow  ...    mm\n",
              "27682  Joseph Mallord William Turner  ...    mm\n",
              "27870  Joseph Mallord William Turner  ...    mm\n",
              "7297                    George Jones  ...      \n",
              "7286                    George Jones  ...      \n",
              "6724            Arthur Boyd Houghton  ...      \n",
              "7432                    George Jones  ...      \n",
              "\n",
              "[10 rows x 7 columns]"
            ]
          },
          "metadata": {
            "tags": []
          },
          "execution_count": 108
        }
      ]
    },
    {
      "cell_type": "markdown",
      "metadata": {
        "id": "o7t3eJbGWW8v",
        "colab_type": "text"
      },
      "source": [
        "# Indexing and Filtering :"
      ]
    },
    {
      "cell_type": "code",
      "metadata": {
        "id": "TEVnmWbCWjEa",
        "colab_type": "code",
        "colab": {
          "base_uri": "https://localhost:8080/",
          "height": 55
        },
        "outputId": "2920e673-02c0-42c0-f551-b088e82539b6"
      },
      "source": [
        "## Data selection as we have to clean input date\n",
        "\"\"\" \n",
        "  Question like : Howmany distinct artists are there in the dataset\n",
        "       How many artworks by Francis Bacon are there\n",
        "       what is the artwork with the biggest dimension\n",
        " \"\"\"\n",
        "\n",
        "## column selection in data frameis like\n",
        "# Dataset[['artist','medium']]\n"
      ],
      "execution_count": 114,
      "outputs": [
        {
          "output_type": "execute_result",
          "data": {
            "text/plain": [
              "' \\n  Question like : Howmany distinct artists are there in the dataset\\n       How many artworks by Francis Bacon are there\\n       what is the artwork with the biggest dimension\\n '"
            ]
          },
          "metadata": {
            "tags": []
          },
          "execution_count": 114
        }
      ]
    },
    {
      "cell_type": "code",
      "metadata": {
        "id": "9glAWPOGYMLI",
        "colab_type": "code",
        "colab": {
          "base_uri": "https://localhost:8080/",
          "height": 90
        },
        "outputId": "ce4667de-750e-40f6-c391-5b0a5c450d85"
      },
      "source": [
        "df = pd.read_pickle(os.path.join('./pandas-basics/dummy.pkl'))\n",
        "\n"
      ],
      "execution_count": 117,
      "outputs": [
        {
          "output_type": "execute_result",
          "data": {
            "text/plain": [
              "<bound method NDFrame.head of       First    second\n",
              "0  0.230733  0.618807\n",
              "1  0.002739  0.375628\n",
              "2  0.739331  0.728760>"
            ]
          },
          "metadata": {
            "tags": []
          },
          "execution_count": 117
        }
      ]
    },
    {
      "cell_type": "code",
      "metadata": {
        "id": "AgiGObr9ZG0Y",
        "colab_type": "code",
        "colab": {
          "base_uri": "https://localhost:8080/",
          "height": 35
        },
        "outputId": "2e44fabb-ae21-4d9e-ec8c-989d1ccf14e4"
      },
      "source": [
        "\n",
        "### Howmany distinct artists are there in the dataset\n",
        "Dataset.artist\n",
        "artists = Dataset['artist']\n",
        "pd.unique(artists)\n",
        "len(pd.unique(artists))"
      ],
      "execution_count": 122,
      "outputs": [
        {
          "output_type": "execute_result",
          "data": {
            "text/plain": [
              "3"
            ]
          },
          "metadata": {
            "tags": []
          },
          "execution_count": 122
        }
      ]
    },
    {
      "cell_type": "code",
      "metadata": {
        "id": "tJNEL1eUZtBn",
        "colab_type": "code",
        "colab": {
          "base_uri": "https://localhost:8080/",
          "height": 35
        },
        "outputId": "f038a712-553a-4edd-8135-3321be7ed8e4"
      },
      "source": [
        "###  How many artworks by Francis Bacon are there\n",
        "## Convert to series and then boolean which contains ID and artist value true/false\n",
        "\n",
        "# S = Dataset['artist'] == 'Blake, William'\n",
        "# S.value_counts()\n",
        "# type(S)\n",
        "\n",
        "\n",
        "### Other way's\n",
        "\n",
        "artist_count = Dataset['artist'].value_counts()\n",
        "artist_count['Blake, William']\n",
        "type(artist_count)\n"
      ],
      "execution_count": 132,
      "outputs": [
        {
          "output_type": "execute_result",
          "data": {
            "text/plain": [
              "pandas.core.series.Series"
            ]
          },
          "metadata": {
            "tags": []
          },
          "execution_count": 132
        }
      ]
    },
    {
      "cell_type": "code",
      "metadata": {
        "id": "3bAvKKpWbko5",
        "colab_type": "code",
        "colab": {}
      },
      "source": [
        "### Indexing done the right way\n",
        "\"\"\"\n",
        "     loc and Iloc to bringall\n",
        "     LOc by label\n",
        "     iloc by position\n",
        "     \n",
        "    Row labels as Index we set as\n",
        "    Columnlabel is   0    1\n",
        "                     1\n",
        "   selecting by label  df.loc[ \"Row Indexer\" , \"Column Indexer\"]  \n",
        "    Example : df.loc[1035,'artist']\n",
        "     Also boolean expression df.loc[df['artist']==''Blake, William', :( all columns)]\n",
        "     \n",
        " Selecting by iloc by position\n",
        " Example: df.iloc[ row indexer , column indexer\n",
        "                    100:100     ,  [0,1,4]]\n",
        "            df.iloc[ row indexer , column indexer\n",
        "                    :(all rows)     ,  [0,1,4]]        \n",
        " \n",
        " \n",
        "\"\"\""
      ],
      "execution_count": 0,
      "outputs": []
    },
    {
      "cell_type": "code",
      "metadata": {
        "id": "YuKkFRL_YHl2",
        "colab_type": "code",
        "colab": {
          "base_uri": "https://localhost:8080/",
          "height": 35
        },
        "outputId": "a2cc27f9-121b-44c8-c599-76d02502621a"
      },
      "source": [
        "####what is the artwork with the biggest dimension\n",
        "\n",
        "Dataset.loc[1035,'artist']\n",
        "Dataset.iloc[0,0]\n",
        "Dataset.iloc[0,:]\n",
        "Dataset.iloc[0:2,0:2]"
      ],
      "execution_count": 136,
      "outputs": [
        {
          "output_type": "execute_result",
          "data": {
            "text/plain": [
              "'Blake, Robert'"
            ]
          },
          "metadata": {
            "tags": []
          },
          "execution_count": 136
        }
      ]
    },
    {
      "cell_type": "code",
      "metadata": {
        "id": "u-yKzi-8dxuD",
        "colab_type": "code",
        "colab": {}
      },
      "source": [
        "## Try Multiplication\n",
        "# Dataset['height'] * Dataset['width']\n",
        "#  Dataset['width'].sort_values().head()\n",
        "#  Dataset['width'].sort_values().tail()"
      ],
      "execution_count": 0,
      "outputs": []
    },
    {
      "cell_type": "code",
      "metadata": {
        "id": "QySWAdcSXwoB",
        "colab_type": "code",
        "colab": {}
      },
      "source": [
        "## Try to convert data object to numeric data types\n",
        "\n",
        "pd.to_numeric(Dataset['width'])\n",
        "\n",
        "### Force NAN's\n",
        "pd.to_numeric(Dataset['width'], errors = 'coerce')\n",
        "Dataset.loc[:,'width'] = pd.to_numeric(Dataset['width'], errors = 'coerce')\n",
        "\n"
      ],
      "execution_count": 0,
      "outputs": []
    },
    {
      "cell_type": "code",
      "metadata": {
        "id": "bF2N5c-Yf-5W",
        "colab_type": "code",
        "colab": {
          "base_uri": "https://localhost:8080/",
          "height": 54
        },
        "outputId": "dd5f1358-229d-4670-cfc9-bd3dfa92d598"
      },
      "source": [
        "Dataset['units'].value_counts()"
      ],
      "execution_count": 146,
      "outputs": [
        {
          "output_type": "execute_result",
          "data": {
            "text/plain": [
              "mm    50\n",
              "Name: units, dtype: int64"
            ]
          },
          "metadata": {
            "tags": []
          },
          "execution_count": 146
        }
      ]
    },
    {
      "cell_type": "code",
      "metadata": {
        "id": "NQHopH_dgHkg",
        "colab_type": "code",
        "colab": {
          "base_uri": "https://localhost:8080/",
          "height": 207
        },
        "outputId": "13aeaf80-dcc6-4bde-cf35-3fa07434f780"
      },
      "source": [
        "### create new column with Area\n",
        "\n",
        "area = Dataset['height'] * Dataset['width']\n",
        "Dataset = Dataset.assign(area = area)\n",
        "\n",
        "Dataset.sample(2)"
      ],
      "execution_count": 150,
      "outputs": [
        {
          "output_type": "execute_result",
          "data": {
            "text/html": [
              "<div>\n",
              "<style scoped>\n",
              "    .dataframe tbody tr th:only-of-type {\n",
              "        vertical-align: middle;\n",
              "    }\n",
              "\n",
              "    .dataframe tbody tr th {\n",
              "        vertical-align: top;\n",
              "    }\n",
              "\n",
              "    .dataframe thead th {\n",
              "        text-align: right;\n",
              "    }\n",
              "</style>\n",
              "<table border=\"1\" class=\"dataframe\">\n",
              "  <thead>\n",
              "    <tr style=\"text-align: right;\">\n",
              "      <th></th>\n",
              "      <th>artist</th>\n",
              "      <th>title</th>\n",
              "      <th>medium</th>\n",
              "      <th>year</th>\n",
              "      <th>acquisitionYear</th>\n",
              "      <th>width</th>\n",
              "      <th>height</th>\n",
              "      <th>units</th>\n",
              "      <th>area</th>\n",
              "    </tr>\n",
              "    <tr>\n",
              "      <th>id</th>\n",
              "      <th></th>\n",
              "      <th></th>\n",
              "      <th></th>\n",
              "      <th></th>\n",
              "      <th></th>\n",
              "      <th></th>\n",
              "      <th></th>\n",
              "      <th></th>\n",
              "      <th></th>\n",
              "    </tr>\n",
              "  </thead>\n",
              "  <tbody>\n",
              "    <tr>\n",
              "      <th>1064</th>\n",
              "      <td>Blake, William</td>\n",
              "      <td>Every Man also Gave him a Piece of Money</td>\n",
              "      <td>Line engraving on paper</td>\n",
              "      <td>1825.0</td>\n",
              "      <td>1919</td>\n",
              "      <td>197</td>\n",
              "      <td>150</td>\n",
              "      <td>mm</td>\n",
              "      <td>29550</td>\n",
              "    </tr>\n",
              "    <tr>\n",
              "      <th>1059</th>\n",
              "      <td>Blake, William</td>\n",
              "      <td>When the Morning Stars Sang Together</td>\n",
              "      <td>Line engraving on paper</td>\n",
              "      <td>1825.0</td>\n",
              "      <td>1919</td>\n",
              "      <td>191</td>\n",
              "      <td>150</td>\n",
              "      <td>mm</td>\n",
              "      <td>28650</td>\n",
              "    </tr>\n",
              "  </tbody>\n",
              "</table>\n",
              "</div>"
            ],
            "text/plain": [
              "              artist                                     title  ... units   area\n",
              "id                                                              ...             \n",
              "1064  Blake, William  Every Man also Gave him a Piece of Money  ...    mm  29550\n",
              "1059  Blake, William      When the Morning Stars Sang Together  ...    mm  28650\n",
              "\n",
              "[2 rows x 9 columns]"
            ]
          },
          "metadata": {
            "tags": []
          },
          "execution_count": 150
        }
      ]
    },
    {
      "cell_type": "code",
      "metadata": {
        "id": "dlGupoafgjGW",
        "colab_type": "code",
        "colab": {
          "base_uri": "https://localhost:8080/",
          "height": 199
        },
        "outputId": "137e1063-776d-4f8f-a1e6-cc199b3cdfc8"
      },
      "source": [
        "Dataset['area'].max()\n",
        "Dataset['area'].idxmax()  # Index of Maximum row which will display\n",
        "Dataset.loc[Dataset['area'].idxmax(),:]"
      ],
      "execution_count": 155,
      "outputs": [
        {
          "output_type": "execute_result",
          "data": {
            "text/plain": [
              "artist                                                Blake, William\n",
              "title              Preliminary Sketch for ‘Christ Girding Himself...\n",
              "medium                   Graphite on paper. Verso: graphite on paper\n",
              "year                                                            1805\n",
              "acquisitionYear                                                 1922\n",
              "width                                                            505\n",
              "height                                                           425\n",
              "units                                                             mm\n",
              "area                                                          214625\n",
              "Name: 1077, dtype: object"
            ]
          },
          "metadata": {
            "tags": []
          },
          "execution_count": 155
        }
      ]
    },
    {
      "cell_type": "code",
      "metadata": {
        "id": "SAXn1bIleZZ0",
        "colab_type": "code",
        "colab": {}
      },
      "source": [
        ""
      ],
      "execution_count": 0,
      "outputs": []
    },
    {
      "cell_type": "code",
      "metadata": {
        "id": "zNjuQF71WjvP",
        "colab_type": "code",
        "colab": {}
      },
      "source": [
        ""
      ],
      "execution_count": 0,
      "outputs": []
    },
    {
      "cell_type": "code",
      "metadata": {
        "id": "ppMqXpqZWj7n",
        "colab_type": "code",
        "colab": {}
      },
      "source": [
        ""
      ],
      "execution_count": 0,
      "outputs": []
    },
    {
      "cell_type": "code",
      "metadata": {
        "id": "9fC72xY8Wj_U",
        "colab_type": "code",
        "colab": {}
      },
      "source": [
        ""
      ],
      "execution_count": 0,
      "outputs": []
    },
    {
      "cell_type": "code",
      "metadata": {
        "id": "OdDVquHmWkri",
        "colab_type": "code",
        "colab": {}
      },
      "source": [
        ""
      ],
      "execution_count": 0,
      "outputs": []
    },
    {
      "cell_type": "code",
      "metadata": {
        "id": "ehQz2mvYWj6P",
        "colab_type": "code",
        "colab": {}
      },
      "source": [
        ""
      ],
      "execution_count": 0,
      "outputs": []
    },
    {
      "cell_type": "code",
      "metadata": {
        "id": "7YI4wWTZWj3d",
        "colab_type": "code",
        "colab": {}
      },
      "source": [
        ""
      ],
      "execution_count": 0,
      "outputs": []
    },
    {
      "cell_type": "code",
      "metadata": {
        "id": "jBEozCRcWj1B",
        "colab_type": "code",
        "colab": {}
      },
      "source": [
        ""
      ],
      "execution_count": 0,
      "outputs": []
    },
    {
      "cell_type": "code",
      "metadata": {
        "id": "mF6BxqkCWjx9",
        "colab_type": "code",
        "colab": {}
      },
      "source": [
        ""
      ],
      "execution_count": 0,
      "outputs": []
    }
  ]
}