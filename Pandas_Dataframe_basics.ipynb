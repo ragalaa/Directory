{
  "nbformat": 4,
  "nbformat_minor": 0,
  "metadata": {
    "colab": {
      "name": "Pandas_Dataframe basics",
      "provenance": [],
      "include_colab_link": true
    },
    "kernelspec": {
      "name": "python3",
      "display_name": "Python 3"
    }
  },
  "cells": [
    {
      "cell_type": "markdown",
      "metadata": {
        "id": "view-in-github",
        "colab_type": "text"
      },
      "source": [
        "<a href=\"https://colab.research.google.com/github/ragalaa/Directory/blob/master/Pandas_Dataframe_basics.ipynb\" target=\"_parent\"><img src=\"https://colab.research.google.com/assets/colab-badge.svg\" alt=\"Open In Colab\"/></a>"
      ]
    },
    {
      "cell_type": "code",
      "metadata": {
        "id": "lYlijO01nW09",
        "colab_type": "code",
        "colab": {
          "base_uri": "https://localhost:8080/",
          "height": 35
        },
        "outputId": "bff3b741-2598-4804-d8ca-a35181809c17"
      },
      "source": [
        "!git clone https://github.com/magdapoppins/pandas-basics.git\n",
        " "
      ],
      "execution_count": 2,
      "outputs": [
        {
          "output_type": "stream",
          "text": [
            "fatal: destination path 'pandas-basics' already exists and is not an empty directory.\n"
          ],
          "name": "stdout"
        }
      ]
    },
    {
      "cell_type": "code",
      "metadata": {
        "id": "_5k6b6tjoOrT",
        "colab_type": "code",
        "colab": {
          "base_uri": "https://localhost:8080/",
          "height": 108
        },
        "outputId": "48b02e7c-5193-44a2-a198-eab9a36a33ef"
      },
      "source": [
        "import json\n",
        "import pandas as pd\n",
        "import numpy as np\n",
        "\n",
        "records = [\n",
        "    ('Math', 'Chemistry', 'Physics'),\n",
        "    ('Crafts','Art', 'Electronics')]\n",
        "\n",
        "pd.DataFrame.from_records(records)\n",
        "\n",
        "\n"
      ],
      "execution_count": 12,
      "outputs": [
        {
          "output_type": "execute_result",
          "data": {
            "text/html": [
              "<div>\n",
              "<style scoped>\n",
              "    .dataframe tbody tr th:only-of-type {\n",
              "        vertical-align: middle;\n",
              "    }\n",
              "\n",
              "    .dataframe tbody tr th {\n",
              "        vertical-align: top;\n",
              "    }\n",
              "\n",
              "    .dataframe thead th {\n",
              "        text-align: right;\n",
              "    }\n",
              "</style>\n",
              "<table border=\"1\" class=\"dataframe\">\n",
              "  <thead>\n",
              "    <tr style=\"text-align: right;\">\n",
              "      <th></th>\n",
              "      <th>0</th>\n",
              "      <th>1</th>\n",
              "      <th>2</th>\n",
              "    </tr>\n",
              "  </thead>\n",
              "  <tbody>\n",
              "    <tr>\n",
              "      <th>0</th>\n",
              "      <td>Math</td>\n",
              "      <td>Chemistry</td>\n",
              "      <td>Physics</td>\n",
              "    </tr>\n",
              "    <tr>\n",
              "      <th>1</th>\n",
              "      <td>Crafts</td>\n",
              "      <td>Art</td>\n",
              "      <td>Electronics</td>\n",
              "    </tr>\n",
              "  </tbody>\n",
              "</table>\n",
              "</div>"
            ],
            "text/plain": [
              "        0          1            2\n",
              "0    Math  Chemistry      Physics\n",
              "1  Crafts        Art  Electronics"
            ]
          },
          "metadata": {
            "tags": []
          },
          "execution_count": 12
        }
      ]
    },
    {
      "cell_type": "code",
      "metadata": {
        "id": "WAmyY0rbrNVi",
        "colab_type": "code",
        "colab": {
          "base_uri": "https://localhost:8080/",
          "height": 35
        },
        "outputId": "5c3158cc-3a3c-4e12-a926-701ab6a23d3d"
      },
      "source": [
        "# dataset = pd.read_csv('\\pandas-basics\\artworkdata.csv')\n",
        "numpArray = np.random.rand(3)\n",
        "type(numpArray)\n",
        "\n",
        "my_series = pd.Series(numpArray,index=[\"First\",\"second\",\"third\"])  ## Labels defined our self.\n",
        "## Index using Label\n",
        "# my_series[\"First\"]\n",
        "my_series.index\n"
      ],
      "execution_count": 26,
      "outputs": [
        {
          "output_type": "execute_result",
          "data": {
            "text/plain": [
              "Index(['First', 'second', 'third'], dtype='object')"
            ]
          },
          "metadata": {
            "tags": []
          },
          "execution_count": 26
        }
      ]
    },
    {
      "cell_type": "code",
      "metadata": {
        "id": "FQVG7EfvtS3A",
        "colab_type": "code",
        "colab": {
          "base_uri": "https://localhost:8080/",
          "height": 72
        },
        "outputId": "5e6c1544-9314-4f66-daff-be6bde59e475"
      },
      "source": [
        "### More columns than one\n",
        "\n",
        "array_2d = np.random.rand(3,2)\n",
        "array_2d"
      ],
      "execution_count": 28,
      "outputs": [
        {
          "output_type": "execute_result",
          "data": {
            "text/plain": [
              "array([[0.23073318, 0.61880705],\n",
              "       [0.00273927, 0.37562751],\n",
              "       [0.73933144, 0.72875963]])"
            ]
          },
          "metadata": {
            "tags": []
          },
          "execution_count": 28
        }
      ]
    },
    {
      "cell_type": "code",
      "metadata": {
        "id": "u9hMk1g9tA3G",
        "colab_type": "code",
        "colab": {
          "base_uri": "https://localhost:8080/",
          "height": 35
        },
        "outputId": "8021d3d1-b254-4efd-965a-81e65c82633b"
      },
      "source": [
        "array_2d[0,1]"
      ],
      "execution_count": 29,
      "outputs": [
        {
          "output_type": "execute_result",
          "data": {
            "text/plain": [
              "0.6188070518728948"
            ]
          },
          "metadata": {
            "tags": []
          },
          "execution_count": 29
        }
      ]
    },
    {
      "cell_type": "code",
      "metadata": {
        "id": "dM5VuGTAtqon",
        "colab_type": "code",
        "colab": {
          "base_uri": "https://localhost:8080/",
          "height": 138
        },
        "outputId": "5b8e9f77-0fb4-4ae7-9a48-7062a88d447a"
      },
      "source": [
        "## Creating data frame\n",
        "\n",
        "df = pd.DataFrame(array_2d)\n",
        "df"
      ],
      "execution_count": 31,
      "outputs": [
        {
          "output_type": "execute_result",
          "data": {
            "text/html": [
              "<div>\n",
              "<style scoped>\n",
              "    .dataframe tbody tr th:only-of-type {\n",
              "        vertical-align: middle;\n",
              "    }\n",
              "\n",
              "    .dataframe tbody tr th {\n",
              "        vertical-align: top;\n",
              "    }\n",
              "\n",
              "    .dataframe thead th {\n",
              "        text-align: right;\n",
              "    }\n",
              "</style>\n",
              "<table border=\"1\" class=\"dataframe\">\n",
              "  <thead>\n",
              "    <tr style=\"text-align: right;\">\n",
              "      <th></th>\n",
              "      <th>0</th>\n",
              "      <th>1</th>\n",
              "    </tr>\n",
              "  </thead>\n",
              "  <tbody>\n",
              "    <tr>\n",
              "      <th>0</th>\n",
              "      <td>0.230733</td>\n",
              "      <td>0.618807</td>\n",
              "    </tr>\n",
              "    <tr>\n",
              "      <th>1</th>\n",
              "      <td>0.002739</td>\n",
              "      <td>0.375628</td>\n",
              "    </tr>\n",
              "    <tr>\n",
              "      <th>2</th>\n",
              "      <td>0.739331</td>\n",
              "      <td>0.728760</td>\n",
              "    </tr>\n",
              "  </tbody>\n",
              "</table>\n",
              "</div>"
            ],
            "text/plain": [
              "          0         1\n",
              "0  0.230733  0.618807\n",
              "1  0.002739  0.375628\n",
              "2  0.739331  0.728760"
            ]
          },
          "metadata": {
            "tags": []
          },
          "execution_count": 31
        }
      ]
    },
    {
      "cell_type": "code",
      "metadata": {
        "id": "p_ukGIQRt3kQ",
        "colab_type": "code",
        "colab": {
          "base_uri": "https://localhost:8080/",
          "height": 138
        },
        "outputId": "9695239d-d85b-416c-89ba-ee4903244e45"
      },
      "source": [
        "df.columns =[\"First\",\"second\"]\n",
        "df"
      ],
      "execution_count": 32,
      "outputs": [
        {
          "output_type": "execute_result",
          "data": {
            "text/html": [
              "<div>\n",
              "<style scoped>\n",
              "    .dataframe tbody tr th:only-of-type {\n",
              "        vertical-align: middle;\n",
              "    }\n",
              "\n",
              "    .dataframe tbody tr th {\n",
              "        vertical-align: top;\n",
              "    }\n",
              "\n",
              "    .dataframe thead th {\n",
              "        text-align: right;\n",
              "    }\n",
              "</style>\n",
              "<table border=\"1\" class=\"dataframe\">\n",
              "  <thead>\n",
              "    <tr style=\"text-align: right;\">\n",
              "      <th></th>\n",
              "      <th>First</th>\n",
              "      <th>second</th>\n",
              "    </tr>\n",
              "  </thead>\n",
              "  <tbody>\n",
              "    <tr>\n",
              "      <th>0</th>\n",
              "      <td>0.230733</td>\n",
              "      <td>0.618807</td>\n",
              "    </tr>\n",
              "    <tr>\n",
              "      <th>1</th>\n",
              "      <td>0.002739</td>\n",
              "      <td>0.375628</td>\n",
              "    </tr>\n",
              "    <tr>\n",
              "      <th>2</th>\n",
              "      <td>0.739331</td>\n",
              "      <td>0.728760</td>\n",
              "    </tr>\n",
              "  </tbody>\n",
              "</table>\n",
              "</div>"
            ],
            "text/plain": [
              "      First    second\n",
              "0  0.230733  0.618807\n",
              "1  0.002739  0.375628\n",
              "2  0.739331  0.728760"
            ]
          },
          "metadata": {
            "tags": []
          },
          "execution_count": 32
        }
      ]
    },
    {
      "cell_type": "code",
      "metadata": {
        "id": "VqarI9ZcuJqG",
        "colab_type": "code",
        "colab": {
          "base_uri": "https://localhost:8080/",
          "height": 90
        },
        "outputId": "d93f3963-b164-4fee-ea10-eb82e945d0dd"
      },
      "source": [
        "df[\"second\"]"
      ],
      "execution_count": 33,
      "outputs": [
        {
          "output_type": "execute_result",
          "data": {
            "text/plain": [
              "0    0.618807\n",
              "1    0.375628\n",
              "2    0.728760\n",
              "Name: second, dtype: float64"
            ]
          },
          "metadata": {
            "tags": []
          },
          "execution_count": 33
        }
      ]
    },
    {
      "cell_type": "markdown",
      "metadata": {
        "id": "vdumlaUJuSr_",
        "colab_type": "text"
      },
      "source": [
        "# Pandas Data Input capabilities: Reading from JSON with OS"
      ]
    },
    {
      "cell_type": "code",
      "metadata": {
        "id": "X_yRJ2MxuZU3",
        "colab_type": "code",
        "colab": {
          "base_uri": "https://localhost:8080/",
          "height": 228
        },
        "outputId": "3679a81f-48b1-4856-d2b6-ab1e0abe30a7"
      },
      "source": [
        "\n",
        "COLS_TO_USE = ['id','artist','title','medium','year','acquisitionYear','height','width','units']\n",
        "Dataset = pd.read_csv('./pandas-basics/artworkdata.csv',nrows = 5 , \n",
        "                      index_col='id', usecols=['id','artist'],low_memory=False)\n",
        "Dataset.head()"
      ],
      "execution_count": 41,
      "outputs": [
        {
          "output_type": "execute_result",
          "data": {
            "text/html": [
              "<div>\n",
              "<style scoped>\n",
              "    .dataframe tbody tr th:only-of-type {\n",
              "        vertical-align: middle;\n",
              "    }\n",
              "\n",
              "    .dataframe tbody tr th {\n",
              "        vertical-align: top;\n",
              "    }\n",
              "\n",
              "    .dataframe thead th {\n",
              "        text-align: right;\n",
              "    }\n",
              "</style>\n",
              "<table border=\"1\" class=\"dataframe\">\n",
              "  <thead>\n",
              "    <tr style=\"text-align: right;\">\n",
              "      <th></th>\n",
              "      <th>artist</th>\n",
              "    </tr>\n",
              "    <tr>\n",
              "      <th>id</th>\n",
              "      <th></th>\n",
              "    </tr>\n",
              "  </thead>\n",
              "  <tbody>\n",
              "    <tr>\n",
              "      <th>1035</th>\n",
              "      <td>Blake, Robert</td>\n",
              "    </tr>\n",
              "    <tr>\n",
              "      <th>1036</th>\n",
              "      <td>Blake, Robert</td>\n",
              "    </tr>\n",
              "    <tr>\n",
              "      <th>1037</th>\n",
              "      <td>Blake, Robert</td>\n",
              "    </tr>\n",
              "    <tr>\n",
              "      <th>1038</th>\n",
              "      <td>Blake, Robert</td>\n",
              "    </tr>\n",
              "    <tr>\n",
              "      <th>1039</th>\n",
              "      <td>Blake, William</td>\n",
              "    </tr>\n",
              "  </tbody>\n",
              "</table>\n",
              "</div>"
            ],
            "text/plain": [
              "              artist\n",
              "id                  \n",
              "1035   Blake, Robert\n",
              "1036   Blake, Robert\n",
              "1037   Blake, Robert\n",
              "1038   Blake, Robert\n",
              "1039  Blake, William"
            ]
          },
          "metadata": {
            "tags": []
          },
          "execution_count": 41
        }
      ]
    },
    {
      "cell_type": "code",
      "metadata": {
        "id": "CHLu5DaQwtc4",
        "colab_type": "code",
        "colab": {
          "base_uri": "https://localhost:8080/",
          "height": 228
        },
        "outputId": "56bb1ec1-4d53-42ab-f893-ef9a1f179810"
      },
      "source": [
        "Dataset = pd.read_csv('./pandas-basics/artworkdata.csv', \n",
        "                      index_col='id', usecols=COLS_TO_USE,low_memory=False)\n",
        "Dataset.head()"
      ],
      "execution_count": 156,
      "outputs": [
        {
          "output_type": "execute_result",
          "data": {
            "text/html": [
              "<div>\n",
              "<style scoped>\n",
              "    .dataframe tbody tr th:only-of-type {\n",
              "        vertical-align: middle;\n",
              "    }\n",
              "\n",
              "    .dataframe tbody tr th {\n",
              "        vertical-align: top;\n",
              "    }\n",
              "\n",
              "    .dataframe thead th {\n",
              "        text-align: right;\n",
              "    }\n",
              "</style>\n",
              "<table border=\"1\" class=\"dataframe\">\n",
              "  <thead>\n",
              "    <tr style=\"text-align: right;\">\n",
              "      <th></th>\n",
              "      <th>artist</th>\n",
              "      <th>title</th>\n",
              "      <th>medium</th>\n",
              "      <th>year</th>\n",
              "      <th>acquisitionYear</th>\n",
              "      <th>width</th>\n",
              "      <th>height</th>\n",
              "      <th>units</th>\n",
              "    </tr>\n",
              "    <tr>\n",
              "      <th>id</th>\n",
              "      <th></th>\n",
              "      <th></th>\n",
              "      <th></th>\n",
              "      <th></th>\n",
              "      <th></th>\n",
              "      <th></th>\n",
              "      <th></th>\n",
              "      <th></th>\n",
              "    </tr>\n",
              "  </thead>\n",
              "  <tbody>\n",
              "    <tr>\n",
              "      <th>1035</th>\n",
              "      <td>Blake, Robert</td>\n",
              "      <td>A Figure Bowing before a Seated Old Man with h...</td>\n",
              "      <td>Watercolour, ink, chalk and graphite on paper....</td>\n",
              "      <td>NaN</td>\n",
              "      <td>1922.0</td>\n",
              "      <td>394</td>\n",
              "      <td>419</td>\n",
              "      <td>mm</td>\n",
              "    </tr>\n",
              "    <tr>\n",
              "      <th>1036</th>\n",
              "      <td>Blake, Robert</td>\n",
              "      <td>Two Drawings of Frightened Figures, Probably f...</td>\n",
              "      <td>Graphite on paper</td>\n",
              "      <td>NaN</td>\n",
              "      <td>1922.0</td>\n",
              "      <td>311</td>\n",
              "      <td>213</td>\n",
              "      <td>mm</td>\n",
              "    </tr>\n",
              "    <tr>\n",
              "      <th>1037</th>\n",
              "      <td>Blake, Robert</td>\n",
              "      <td>The Preaching of Warning. Verso: An Old Man En...</td>\n",
              "      <td>Graphite on paper. Verso: graphite on paper</td>\n",
              "      <td>1785</td>\n",
              "      <td>1922.0</td>\n",
              "      <td>343</td>\n",
              "      <td>467</td>\n",
              "      <td>mm</td>\n",
              "    </tr>\n",
              "    <tr>\n",
              "      <th>1038</th>\n",
              "      <td>Blake, Robert</td>\n",
              "      <td>Six Drawings of Figures with Outstretched Arms</td>\n",
              "      <td>Graphite on paper</td>\n",
              "      <td>NaN</td>\n",
              "      <td>1922.0</td>\n",
              "      <td>318</td>\n",
              "      <td>394</td>\n",
              "      <td>mm</td>\n",
              "    </tr>\n",
              "    <tr>\n",
              "      <th>1039</th>\n",
              "      <td>Blake, William</td>\n",
              "      <td>The Circle of the Lustful: Francesca da Rimini...</td>\n",
              "      <td>Line engraving on paper</td>\n",
              "      <td>1826</td>\n",
              "      <td>1919.0</td>\n",
              "      <td>243</td>\n",
              "      <td>335</td>\n",
              "      <td>mm</td>\n",
              "    </tr>\n",
              "  </tbody>\n",
              "</table>\n",
              "</div>"
            ],
            "text/plain": [
              "              artist  ... units\n",
              "id                    ...      \n",
              "1035   Blake, Robert  ...    mm\n",
              "1036   Blake, Robert  ...    mm\n",
              "1037   Blake, Robert  ...    mm\n",
              "1038   Blake, Robert  ...    mm\n",
              "1039  Blake, William  ...    mm\n",
              "\n",
              "[5 rows x 8 columns]"
            ]
          },
          "metadata": {
            "tags": []
          },
          "execution_count": 156
        }
      ]
    },
    {
      "cell_type": "code",
      "metadata": {
        "id": "kmxoP9eHxEH0",
        "colab_type": "code",
        "colab": {}
      },
      "source": [
        "## Load to disk by serializing the data the python Objects\n",
        "df.to_pickle(\"./pandas-basics/dummy.pkl\")"
      ],
      "execution_count": 0,
      "outputs": []
    },
    {
      "cell_type": "code",
      "metadata": {
        "id": "tou_oX42uZ8i",
        "colab_type": "code",
        "colab": {
          "base_uri": "https://localhost:8080/",
          "height": 108
        },
        "outputId": "01eff20c-26a9-457b-b233-73e219cc1024"
      },
      "source": [
        "### JSON nested Objects\n",
        "## Traverse folders to get all json files\n",
        "## Find the way to read them so that pandas understands\n",
        "### Try to produceidentical DataFrame as  for CSV\n",
        "\n",
        "records = [(\"Espresso\",\"5$\"),\n",
        "           (\"Flat White\", \"10$\")]\n",
        "pd.DataFrame.from_records(records)\n",
        "pd.DataFrame.from_records(records, columns=[\"coffe\",\"price\"])"
      ],
      "execution_count": 46,
      "outputs": [
        {
          "output_type": "execute_result",
          "data": {
            "text/html": [
              "<div>\n",
              "<style scoped>\n",
              "    .dataframe tbody tr th:only-of-type {\n",
              "        vertical-align: middle;\n",
              "    }\n",
              "\n",
              "    .dataframe tbody tr th {\n",
              "        vertical-align: top;\n",
              "    }\n",
              "\n",
              "    .dataframe thead th {\n",
              "        text-align: right;\n",
              "    }\n",
              "</style>\n",
              "<table border=\"1\" class=\"dataframe\">\n",
              "  <thead>\n",
              "    <tr style=\"text-align: right;\">\n",
              "      <th></th>\n",
              "      <th>coffe</th>\n",
              "      <th>price</th>\n",
              "    </tr>\n",
              "  </thead>\n",
              "  <tbody>\n",
              "    <tr>\n",
              "      <th>0</th>\n",
              "      <td>Espresso</td>\n",
              "      <td>5$</td>\n",
              "    </tr>\n",
              "    <tr>\n",
              "      <th>1</th>\n",
              "      <td>Flat White</td>\n",
              "      <td>10$</td>\n",
              "    </tr>\n",
              "  </tbody>\n",
              "</table>\n",
              "</div>"
            ],
            "text/plain": [
              "        coffe price\n",
              "0    Espresso    5$\n",
              "1  Flat White   10$"
            ]
          },
          "metadata": {
            "tags": []
          },
          "execution_count": 46
        }
      ]
    },
    {
      "cell_type": "code",
      "metadata": {
        "id": "lrj4qbIxuaGO",
        "colab_type": "code",
        "colab": {}
      },
      "source": [
        "### Reading Json files\n",
        "# file_path = './pandas-basics/artworkdata.csv'\n",
        "\n",
        "def get_record_from_file(file_path,COLS_TO_USE):\n",
        "    \"\"\" Process single json file and return a tuple\n",
        "     containing specific fields.\"\"\"\n",
        "    \n",
        "    with open(file_path) as artwork_file:\n",
        "        content = json.load(artwork_file)\n",
        "    \n",
        "    record = []\n",
        "    for field in COLS_TO_USE:\n",
        "        record.append(content[field])\n",
        "        \n",
        "    return tuple(record)     \n",
        "        "
      ],
      "execution_count": 0,
      "outputs": []
    },
    {
      "cell_type": "code",
      "metadata": {
        "id": "JzXHN9upLj7e",
        "colab_type": "code",
        "colab": {
          "base_uri": "https://localhost:8080/",
          "height": 163
        },
        "outputId": "f633a676-f0fe-4ae8-c7fd-eb192584963f"
      },
      "source": [
        "### process the files by specifying the path to json file\n",
        "COLS_TO_USE_JSON = ['id','all_artists','title','medium','acquisitionYear','height','width','units']\n",
        "file_path = './pandas-basics/artworks/a/000/a00001-1035.json'\n",
        "sample_record = get_record_from_file(file_path, COLS_TO_USE_JSON)\n",
        "\n",
        "sample_record"
      ],
      "execution_count": 55,
      "outputs": [
        {
          "output_type": "execute_result",
          "data": {
            "text/plain": [
              "(1035,\n",
              " 'Robert Blake',\n",
              " 'A Figure Bowing before a Seated Old Man with his Arm Outstretched in Benediction. Verso: Indecipherable Sketch',\n",
              " 'Watercolour, ink, chalk and graphite on paper. Verso: graphite on paper',\n",
              " 1922,\n",
              " '419',\n",
              " '394',\n",
              " 'mm')"
            ]
          },
          "metadata": {
            "tags": []
          },
          "execution_count": 55
        }
      ]
    },
    {
      "cell_type": "code",
      "metadata": {
        "id": "a99zUCsrOFWc",
        "colab_type": "code",
        "colab": {}
      },
      "source": [
        "import os as os\n",
        "\n",
        "def read_artworks_from_json(COLS_TO_USE_JSON):\n",
        "    \n",
        "    \"\"\" Traverse the directories with JSON files\n",
        "       For first file in each directory call fucntion\n",
        "       for processing single file and goto next directory\n",
        "    \"\"\"\n",
        "    Json_root = './pandas-basics/artworks'\n",
        "    artworks = []\n",
        "\n",
        "    for root,_,files in os.walk(Json_root):\n",
        "    \n",
        "        for f in files:\n",
        "            if f.endswith('json'):\n",
        "                record = get_record_from_file(os.path.join(root,f), \n",
        "                                          COLS_TO_USE_JSON)\n",
        "                artworks.append(record)\n",
        "#         break\n",
        "        \n",
        "    Data = pd.DataFrame.from_records(artworks, \n",
        "                               columns= COLS_TO_USE_JSON,\n",
        "                               index = \"id\")  \n",
        "    return Data"
      ],
      "execution_count": 0,
      "outputs": []
    },
    {
      "cell_type": "code",
      "metadata": {
        "id": "62d7RyN0R7hz",
        "colab_type": "code",
        "colab": {
          "base_uri": "https://localhost:8080/",
          "height": 378
        },
        "outputId": "16a9692a-e28e-446d-8f17-2828c51c03f2"
      },
      "source": [
        "### call th function with key fields\n",
        "df = read_artworks_from_json(COLS_TO_USE_JSON)\n",
        "df.sample(10)"
      ],
      "execution_count": 108,
      "outputs": [
        {
          "output_type": "execute_result",
          "data": {
            "text/html": [
              "<div>\n",
              "<style scoped>\n",
              "    .dataframe tbody tr th:only-of-type {\n",
              "        vertical-align: middle;\n",
              "    }\n",
              "\n",
              "    .dataframe tbody tr th {\n",
              "        vertical-align: top;\n",
              "    }\n",
              "\n",
              "    .dataframe thead th {\n",
              "        text-align: right;\n",
              "    }\n",
              "</style>\n",
              "<table border=\"1\" class=\"dataframe\">\n",
              "  <thead>\n",
              "    <tr style=\"text-align: right;\">\n",
              "      <th></th>\n",
              "      <th>all_artists</th>\n",
              "      <th>title</th>\n",
              "      <th>medium</th>\n",
              "      <th>acquisitionYear</th>\n",
              "      <th>height</th>\n",
              "      <th>width</th>\n",
              "      <th>units</th>\n",
              "    </tr>\n",
              "    <tr>\n",
              "      <th>id</th>\n",
              "      <th></th>\n",
              "      <th></th>\n",
              "      <th></th>\n",
              "      <th></th>\n",
              "      <th></th>\n",
              "      <th></th>\n",
              "      <th></th>\n",
              "    </tr>\n",
              "  </thead>\n",
              "  <tbody>\n",
              "    <tr>\n",
              "      <th>27814</th>\n",
              "      <td>Joseph Mallord William Turner</td>\n",
              "      <td>Studies of Rustic Groups: Women Gossiping; a M...</td>\n",
              "      <td>Graphite and watercolour on paper</td>\n",
              "      <td>1856</td>\n",
              "      <td>265</td>\n",
              "      <td>210</td>\n",
              "      <td>mm</td>\n",
              "    </tr>\n",
              "    <tr>\n",
              "      <th>7564</th>\n",
              "      <td>George Jones</td>\n",
              "      <td>[title not known]</td>\n",
              "      <td>Graphite on paper</td>\n",
              "      <td>1888</td>\n",
              "      <td></td>\n",
              "      <td></td>\n",
              "      <td></td>\n",
              "    </tr>\n",
              "    <tr>\n",
              "      <th>7477</th>\n",
              "      <td>George Jones</td>\n",
              "      <td>[title not known]</td>\n",
              "      <td>Ink on paper</td>\n",
              "      <td>1888</td>\n",
              "      <td></td>\n",
              "      <td></td>\n",
              "      <td></td>\n",
              "    </tr>\n",
              "    <tr>\n",
              "      <th>1934</th>\n",
              "      <td>William Callow</td>\n",
              "      <td>Rotterdam</td>\n",
              "      <td>Graphite on paper</td>\n",
              "      <td>1912</td>\n",
              "      <td>362</td>\n",
              "      <td>264</td>\n",
              "      <td>mm</td>\n",
              "    </tr>\n",
              "    <tr>\n",
              "      <th>27682</th>\n",
              "      <td>Joseph Mallord William Turner</td>\n",
              "      <td>Blank</td>\n",
              "      <td>None</td>\n",
              "      <td>1856</td>\n",
              "      <td>101</td>\n",
              "      <td>151</td>\n",
              "      <td>mm</td>\n",
              "    </tr>\n",
              "    <tr>\n",
              "      <th>27870</th>\n",
              "      <td>Joseph Mallord William Turner</td>\n",
              "      <td>Newport, Isle of Wight: The Town Hall</td>\n",
              "      <td>Graphite on paper</td>\n",
              "      <td>1856</td>\n",
              "      <td>204</td>\n",
              "      <td>264</td>\n",
              "      <td>mm</td>\n",
              "    </tr>\n",
              "    <tr>\n",
              "      <th>7297</th>\n",
              "      <td>George Jones</td>\n",
              "      <td>[title not known]</td>\n",
              "      <td>Ink and graphite on paper</td>\n",
              "      <td>1888</td>\n",
              "      <td></td>\n",
              "      <td></td>\n",
              "      <td></td>\n",
              "    </tr>\n",
              "    <tr>\n",
              "      <th>7286</th>\n",
              "      <td>George Jones</td>\n",
              "      <td>[title not known]</td>\n",
              "      <td>Ink on paper</td>\n",
              "      <td>1888</td>\n",
              "      <td></td>\n",
              "      <td></td>\n",
              "      <td></td>\n",
              "    </tr>\n",
              "    <tr>\n",
              "      <th>6724</th>\n",
              "      <td>Arthur Boyd Houghton</td>\n",
              "      <td>[title not known]</td>\n",
              "      <td>Graphite on paper</td>\n",
              "      <td>1922</td>\n",
              "      <td></td>\n",
              "      <td></td>\n",
              "      <td></td>\n",
              "    </tr>\n",
              "    <tr>\n",
              "      <th>7432</th>\n",
              "      <td>George Jones</td>\n",
              "      <td>[title not known]</td>\n",
              "      <td>Ink and watercolour on paper</td>\n",
              "      <td>1888</td>\n",
              "      <td></td>\n",
              "      <td></td>\n",
              "      <td></td>\n",
              "    </tr>\n",
              "  </tbody>\n",
              "</table>\n",
              "</div>"
            ],
            "text/plain": [
              "                         all_artists  ... units\n",
              "id                                    ...      \n",
              "27814  Joseph Mallord William Turner  ...    mm\n",
              "7564                    George Jones  ...      \n",
              "7477                    George Jones  ...      \n",
              "1934                  William Callow  ...    mm\n",
              "27682  Joseph Mallord William Turner  ...    mm\n",
              "27870  Joseph Mallord William Turner  ...    mm\n",
              "7297                    George Jones  ...      \n",
              "7286                    George Jones  ...      \n",
              "6724            Arthur Boyd Houghton  ...      \n",
              "7432                    George Jones  ...      \n",
              "\n",
              "[10 rows x 7 columns]"
            ]
          },
          "metadata": {
            "tags": []
          },
          "execution_count": 108
        }
      ]
    },
    {
      "cell_type": "markdown",
      "metadata": {
        "id": "o7t3eJbGWW8v",
        "colab_type": "text"
      },
      "source": [
        "# Indexing and Filtering :"
      ]
    },
    {
      "cell_type": "code",
      "metadata": {
        "id": "TEVnmWbCWjEa",
        "colab_type": "code",
        "colab": {
          "base_uri": "https://localhost:8080/",
          "height": 35
        },
        "outputId": "2920e673-02c0-42c0-f551-b088e82539b6"
      },
      "source": [
        "## Data selection as we have to clean input date\n",
        "\"\"\" \n",
        "  Question like : Howmany distinct artists are there in the dataset\n",
        "       How many artworks by Francis Bacon are there\n",
        "       what is the artwork with the biggest dimension\n",
        " \"\"\"\n",
        "\n",
        "## column selection in data frameis like\n",
        "# Dataset[['artist','medium']]\n"
      ],
      "execution_count": 114,
      "outputs": [
        {
          "output_type": "execute_result",
          "data": {
            "text/plain": [
              "' \\n  Question like : Howmany distinct artists are there in the dataset\\n       How many artworks by Francis Bacon are there\\n       what is the artwork with the biggest dimension\\n '"
            ]
          },
          "metadata": {
            "tags": []
          },
          "execution_count": 114
        }
      ]
    },
    {
      "cell_type": "code",
      "metadata": {
        "id": "9glAWPOGYMLI",
        "colab_type": "code",
        "colab": {
          "base_uri": "https://localhost:8080/",
          "height": 90
        },
        "outputId": "ce4667de-750e-40f6-c391-5b0a5c450d85"
      },
      "source": [
        "df = pd.read_pickle(os.path.join('./pandas-basics/dummy.pkl'))\n",
        "\n"
      ],
      "execution_count": 117,
      "outputs": [
        {
          "output_type": "execute_result",
          "data": {
            "text/plain": [
              "<bound method NDFrame.head of       First    second\n",
              "0  0.230733  0.618807\n",
              "1  0.002739  0.375628\n",
              "2  0.739331  0.728760>"
            ]
          },
          "metadata": {
            "tags": []
          },
          "execution_count": 117
        }
      ]
    },
    {
      "cell_type": "code",
      "metadata": {
        "id": "AgiGObr9ZG0Y",
        "colab_type": "code",
        "colab": {
          "base_uri": "https://localhost:8080/",
          "height": 35
        },
        "outputId": "2e44fabb-ae21-4d9e-ec8c-989d1ccf14e4"
      },
      "source": [
        "\n",
        "### Howmany distinct artists are there in the dataset\n",
        "Dataset.artist\n",
        "artists = Dataset['artist']\n",
        "pd.unique(artists)\n",
        "len(pd.unique(artists))"
      ],
      "execution_count": 122,
      "outputs": [
        {
          "output_type": "execute_result",
          "data": {
            "text/plain": [
              "3"
            ]
          },
          "metadata": {
            "tags": []
          },
          "execution_count": 122
        }
      ]
    },
    {
      "cell_type": "code",
      "metadata": {
        "id": "tJNEL1eUZtBn",
        "colab_type": "code",
        "colab": {
          "base_uri": "https://localhost:8080/",
          "height": 35
        },
        "outputId": "f038a712-553a-4edd-8135-3321be7ed8e4"
      },
      "source": [
        "###  How many artworks by Francis Bacon are there\n",
        "## Convert to series and then boolean which contains ID and artist value true/false\n",
        "\n",
        "# S = Dataset['artist'] == 'Blake, William'\n",
        "# S.value_counts()\n",
        "# type(S)\n",
        "\n",
        "\n",
        "### Other way's\n",
        "\n",
        "artist_count = Dataset['artist'].value_counts()\n",
        "artist_count['Blake, William']\n",
        "type(artist_count)\n"
      ],
      "execution_count": 132,
      "outputs": [
        {
          "output_type": "execute_result",
          "data": {
            "text/plain": [
              "pandas.core.series.Series"
            ]
          },
          "metadata": {
            "tags": []
          },
          "execution_count": 132
        }
      ]
    },
    {
      "cell_type": "code",
      "metadata": {
        "id": "3bAvKKpWbko5",
        "colab_type": "code",
        "colab": {}
      },
      "source": [
        "### Indexing done the right way\n",
        "\"\"\"\n",
        "     loc and Iloc to bringall\n",
        "     LOc by label\n",
        "     iloc by position\n",
        "     \n",
        "    Row labels as Index we set as\n",
        "    Columnlabel is   0    1\n",
        "                     1\n",
        "   selecting by label  df.loc[ \"Row Indexer\" , \"Column Indexer\"]  \n",
        "    Example : df.loc[1035,'artist']\n",
        "     Also boolean expression df.loc[df['artist']==''Blake, William', :( all columns)]\n",
        "     \n",
        " Selecting by iloc by position\n",
        " Example: df.iloc[ row indexer , column indexer\n",
        "                    100:100     ,  [0,1,4]]\n",
        "            df.iloc[ row indexer , column indexer\n",
        "                    :(all rows)     ,  [0,1,4]]        \n",
        " \n",
        " \n",
        "\"\"\""
      ],
      "execution_count": 0,
      "outputs": []
    },
    {
      "cell_type": "code",
      "metadata": {
        "id": "YuKkFRL_YHl2",
        "colab_type": "code",
        "colab": {
          "base_uri": "https://localhost:8080/",
          "height": 35
        },
        "outputId": "a2cc27f9-121b-44c8-c599-76d02502621a"
      },
      "source": [
        "####what is the artwork with the biggest dimension\n",
        "\n",
        "Dataset.loc[1035,'artist']\n",
        "Dataset.iloc[0,0]\n",
        "Dataset.iloc[0,:]\n",
        "Dataset.iloc[0:2,0:2]"
      ],
      "execution_count": 136,
      "outputs": [
        {
          "output_type": "execute_result",
          "data": {
            "text/plain": [
              "'Blake, Robert'"
            ]
          },
          "metadata": {
            "tags": []
          },
          "execution_count": 136
        }
      ]
    },
    {
      "cell_type": "code",
      "metadata": {
        "id": "u-yKzi-8dxuD",
        "colab_type": "code",
        "colab": {}
      },
      "source": [
        "## Try Multiplication\n",
        "# Dataset['height'] * Dataset['width']\n",
        "#  Dataset['width'].sort_values().head()\n",
        "#  Dataset['width'].sort_values().tail()"
      ],
      "execution_count": 0,
      "outputs": []
    },
    {
      "cell_type": "code",
      "metadata": {
        "id": "QySWAdcSXwoB",
        "colab_type": "code",
        "colab": {}
      },
      "source": [
        "## Try to convert data object to numeric data types\n",
        "\n",
        "pd.to_numeric(Dataset['width'])\n",
        "\n",
        "### Force NAN's\n",
        "pd.to_numeric(Dataset['width'], errors = 'coerce')\n",
        "Dataset.loc[:,'width'] = pd.to_numeric(Dataset['width'], errors = 'coerce')\n",
        "\n"
      ],
      "execution_count": 0,
      "outputs": []
    },
    {
      "cell_type": "code",
      "metadata": {
        "id": "bF2N5c-Yf-5W",
        "colab_type": "code",
        "colab": {
          "base_uri": "https://localhost:8080/",
          "height": 54
        },
        "outputId": "dd5f1358-229d-4670-cfc9-bd3dfa92d598"
      },
      "source": [
        "Dataset['units'].value_counts()"
      ],
      "execution_count": 146,
      "outputs": [
        {
          "output_type": "execute_result",
          "data": {
            "text/plain": [
              "mm    50\n",
              "Name: units, dtype: int64"
            ]
          },
          "metadata": {
            "tags": []
          },
          "execution_count": 146
        }
      ]
    },
    {
      "cell_type": "code",
      "metadata": {
        "id": "NQHopH_dgHkg",
        "colab_type": "code",
        "colab": {
          "base_uri": "https://localhost:8080/",
          "height": 138
        },
        "outputId": "13aeaf80-dcc6-4bde-cf35-3fa07434f780"
      },
      "source": [
        "### create new column with Area\n",
        "\n",
        "area = Dataset['height'] * Dataset['width']\n",
        "Dataset = Dataset.assign(area = area)\n",
        "\n",
        "Dataset.sample(2)"
      ],
      "execution_count": 150,
      "outputs": [
        {
          "output_type": "execute_result",
          "data": {
            "text/html": [
              "<div>\n",
              "<style scoped>\n",
              "    .dataframe tbody tr th:only-of-type {\n",
              "        vertical-align: middle;\n",
              "    }\n",
              "\n",
              "    .dataframe tbody tr th {\n",
              "        vertical-align: top;\n",
              "    }\n",
              "\n",
              "    .dataframe thead th {\n",
              "        text-align: right;\n",
              "    }\n",
              "</style>\n",
              "<table border=\"1\" class=\"dataframe\">\n",
              "  <thead>\n",
              "    <tr style=\"text-align: right;\">\n",
              "      <th></th>\n",
              "      <th>artist</th>\n",
              "      <th>title</th>\n",
              "      <th>medium</th>\n",
              "      <th>year</th>\n",
              "      <th>acquisitionYear</th>\n",
              "      <th>width</th>\n",
              "      <th>height</th>\n",
              "      <th>units</th>\n",
              "      <th>area</th>\n",
              "    </tr>\n",
              "    <tr>\n",
              "      <th>id</th>\n",
              "      <th></th>\n",
              "      <th></th>\n",
              "      <th></th>\n",
              "      <th></th>\n",
              "      <th></th>\n",
              "      <th></th>\n",
              "      <th></th>\n",
              "      <th></th>\n",
              "      <th></th>\n",
              "    </tr>\n",
              "  </thead>\n",
              "  <tbody>\n",
              "    <tr>\n",
              "      <th>1064</th>\n",
              "      <td>Blake, William</td>\n",
              "      <td>Every Man also Gave him a Piece of Money</td>\n",
              "      <td>Line engraving on paper</td>\n",
              "      <td>1825.0</td>\n",
              "      <td>1919</td>\n",
              "      <td>197</td>\n",
              "      <td>150</td>\n",
              "      <td>mm</td>\n",
              "      <td>29550</td>\n",
              "    </tr>\n",
              "    <tr>\n",
              "      <th>1059</th>\n",
              "      <td>Blake, William</td>\n",
              "      <td>When the Morning Stars Sang Together</td>\n",
              "      <td>Line engraving on paper</td>\n",
              "      <td>1825.0</td>\n",
              "      <td>1919</td>\n",
              "      <td>191</td>\n",
              "      <td>150</td>\n",
              "      <td>mm</td>\n",
              "      <td>28650</td>\n",
              "    </tr>\n",
              "  </tbody>\n",
              "</table>\n",
              "</div>"
            ],
            "text/plain": [
              "              artist                                     title  ... units   area\n",
              "id                                                              ...             \n",
              "1064  Blake, William  Every Man also Gave him a Piece of Money  ...    mm  29550\n",
              "1059  Blake, William      When the Morning Stars Sang Together  ...    mm  28650\n",
              "\n",
              "[2 rows x 9 columns]"
            ]
          },
          "metadata": {
            "tags": []
          },
          "execution_count": 150
        }
      ]
    },
    {
      "cell_type": "code",
      "metadata": {
        "id": "dlGupoafgjGW",
        "colab_type": "code",
        "colab": {
          "base_uri": "https://localhost:8080/",
          "height": 199
        },
        "outputId": "137e1063-776d-4f8f-a1e6-cc199b3cdfc8"
      },
      "source": [
        "Dataset['area'].max()\n",
        "Dataset['area'].idxmax()  # Index of Maximum row which will display\n",
        "Dataset.loc[Dataset['area'].idxmax(),:]"
      ],
      "execution_count": 155,
      "outputs": [
        {
          "output_type": "execute_result",
          "data": {
            "text/plain": [
              "artist                                                Blake, William\n",
              "title              Preliminary Sketch for ‘Christ Girding Himself...\n",
              "medium                   Graphite on paper. Verso: graphite on paper\n",
              "year                                                            1805\n",
              "acquisitionYear                                                 1922\n",
              "width                                                            505\n",
              "height                                                           425\n",
              "units                                                             mm\n",
              "area                                                          214625\n",
              "Name: 1077, dtype: object"
            ]
          },
          "metadata": {
            "tags": []
          },
          "execution_count": 155
        }
      ]
    },
    {
      "cell_type": "code",
      "metadata": {
        "id": "SAXn1bIleZZ0",
        "colab_type": "code",
        "colab": {}
      },
      "source": [
        ""
      ],
      "execution_count": 0,
      "outputs": []
    },
    {
      "cell_type": "markdown",
      "metadata": {
        "id": "4PaOqU1OqkQM",
        "colab_type": "text"
      },
      "source": [
        "# Operations on Grouping:"
      ]
    },
    {
      "cell_type": "code",
      "metadata": {
        "id": "Immy3VAtqtxX",
        "colab_type": "code",
        "colab": {}
      },
      "source": [
        "### For missing values with nan\n",
        "### and filling with most frequesnt data with NAN\n",
        "### (Transfromation)\n",
        "## DF.groupby('column') subbset for data frame to small dataframe we can iterate\n",
        "## and group and further filter data\n",
        "\n",
        "\n",
        "\"\"\"\n",
        "Iterate over artist Groups\n",
        "find the date of the first acuistion for each artist\n",
        "fill some missing values\n",
        "\n",
        "\"\"\"\n",
        "\n"
      ],
      "execution_count": 0,
      "outputs": []
    },
    {
      "cell_type": "code",
      "metadata": {
        "id": "o-IwELYTqt31",
        "colab_type": "code",
        "colab": {
          "base_uri": "https://localhost:8080/",
          "height": 35
        },
        "outputId": "4fc6a194-e906-4330-de2d-1f5baaa1c053"
      },
      "source": [
        "## Picking small subsetof data\n",
        "Small_Data = Dataset.iloc[49980:50019,:].copy()\n",
        "grouped = Small_Data.groupby('artist')\n",
        "type(grouped)"
      ],
      "execution_count": 172,
      "outputs": [
        {
          "output_type": "execute_result",
          "data": {
            "text/plain": [
              "pandas.core.groupby.generic.DataFrameGroupBy"
            ]
          },
          "metadata": {
            "tags": []
          },
          "execution_count": 172
        }
      ]
    },
    {
      "cell_type": "code",
      "metadata": {
        "id": "TghmwOP1tibx",
        "colab_type": "code",
        "colab": {
          "base_uri": "https://localhost:8080/",
          "height": 254
        },
        "outputId": "2393b1e4-17fd-460b-f77b-10f9bdd5f697"
      },
      "source": [
        "for name,group_df in grouped:\n",
        "    print(name)\n",
        "    print(group_df)\n",
        "    break"
      ],
      "execution_count": 165,
      "outputs": [
        {
          "output_type": "stream",
          "text": [
            "Frost, Sir Terry\n",
            "                artist            title               medium  ... width  height units\n",
            "id                                                            ...                    \n",
            "4704  Frost, Sir Terry        Blue Moon  Lithograph on paper  ...   355     273    mm\n",
            "4705  Frost, Sir Terry      Boat Shapes     Linocut on paper  ...   132     143    mm\n",
            "4706  Frost, Sir Terry      Boat Shapes     Linocut on paper  ...   131     155    mm\n",
            "4707  Frost, Sir Terry      Boat Shapes     Linocut on paper  ...   193     267    mm\n",
            "4708  Frost, Sir Terry            Leeds    Drypoint on paper  ...   125     167    mm\n",
            "4709  Frost, Sir Terry  Camping, Anduze     Etching on paper  ...   257     209    mm\n",
            "4710  Frost, Sir Terry     Umea, Sweden     Etching on paper  ...   NaN     NaN   NaN\n",
            "4711  Frost, Sir Terry    Self-Portrait     Etching on paper  ...   277     200    mm\n",
            "\n",
            "[8 rows x 8 columns]\n"
          ],
          "name": "stdout"
        }
      ]
    },
    {
      "cell_type": "code",
      "metadata": {
        "id": "4QSmsQAquM1L",
        "colab_type": "code",
        "colab": {
          "base_uri": "https://localhost:8080/",
          "height": 72
        },
        "outputId": "19c4a6f4-cdb6-4537-b19f-f87284f6dcd2"
      },
      "source": [
        "## Aggregate\n",
        "## Min\n",
        "\n",
        "for name,group_df in Small_Data.groupby('artist'):\n",
        "    min_year = group_df['acquisitionYear'].min()\n",
        "    print(\"{}:{}\".format(name,min_year))"
      ],
      "execution_count": 166,
      "outputs": [
        {
          "output_type": "stream",
          "text": [
            "Frost, Sir Terry:1983.0\n",
            "Phillips, Esq Tom:1983.0\n",
            "Wols:1983.0\n"
          ],
          "name": "stdout"
        }
      ]
    },
    {
      "cell_type": "code",
      "metadata": {
        "id": "ADJozIMcu1Qj",
        "colab_type": "code",
        "colab": {}
      },
      "source": [
        "### Transformation\n",
        "### Equivelent of editing by hand\n",
        "### make a case when there is no data to infer\n",
        "## small_df.loc[[11838,16441],'medium'] = np.nan\n",
        "\n",
        "def fill_values(series):\n",
        "    values_counted = series.value_counts()\n",
        "    if values_counted.empty:\n",
        "        return series\n",
        "    most_frequent = values_counted.index[0]\n",
        "    new_medium    = series.fillna(most_frequent)\n",
        "    return new_medium\n",
        "\n"
      ],
      "execution_count": 0,
      "outputs": []
    },
    {
      "cell_type": "code",
      "metadata": {
        "id": "NqiPy9d5qudu",
        "colab_type": "code",
        "colab": {}
      },
      "source": [
        "def transform_df(source_df):\n",
        "    group_dfs = []\n",
        "    for name,group_df in source_df.groupby('artist'):\n",
        "        filled_df = group_df.copy()\n",
        "        filled_df.loc[:,'medium'] = fill_values(group_df['medium'])\n",
        "        group_dfs.append(filled_df)\n",
        "        \n",
        "    new_df = pd.concat(group_dfs)\n",
        "    return new_df\n",
        "    "
      ],
      "execution_count": 0,
      "outputs": []
    },
    {
      "cell_type": "code",
      "metadata": {
        "id": "9Xq6Z5f_yDKD",
        "colab_type": "code",
        "colab": {}
      },
      "source": [
        "# Small_Data"
      ],
      "execution_count": 0,
      "outputs": []
    },
    {
      "cell_type": "code",
      "metadata": {
        "id": "RjOrrzUAqult",
        "colab_type": "code",
        "colab": {}
      },
      "source": [
        "##Now check the result\n",
        "\n",
        "filled_df = transform_df(Small_Data)\n"
      ],
      "execution_count": 0,
      "outputs": []
    },
    {
      "cell_type": "code",
      "metadata": {
        "id": "m1yffWtuyTwH",
        "colab_type": "code",
        "colab": {
          "base_uri": "https://localhost:8080/",
          "height": 1000
        },
        "outputId": "259c2502-ed35-41b6-d1a5-a0557eecf4da"
      },
      "source": [
        "#### Built in transformations datanwithe  same case above.\n",
        "\n",
        "### perform aggregation, transformation and \n",
        "## filtering using built in methods\n",
        "\n",
        "grouped_mediums = Small_Data.groupby('artist')['medium']\n",
        "Small_Data.loc[:,'medium'] = grouped_mediums.transform(fill_values)\n",
        "\n",
        "\n",
        "\n"
      ],
      "execution_count": 184,
      "outputs": [
        {
          "output_type": "execute_result",
          "data": {
            "text/html": [
              "<div>\n",
              "<style scoped>\n",
              "    .dataframe tbody tr th:only-of-type {\n",
              "        vertical-align: middle;\n",
              "    }\n",
              "\n",
              "    .dataframe tbody tr th {\n",
              "        vertical-align: top;\n",
              "    }\n",
              "\n",
              "    .dataframe thead th {\n",
              "        text-align: right;\n",
              "    }\n",
              "</style>\n",
              "<table border=\"1\" class=\"dataframe\">\n",
              "  <thead>\n",
              "    <tr style=\"text-align: right;\">\n",
              "      <th></th>\n",
              "      <th>artist</th>\n",
              "      <th>title</th>\n",
              "      <th>medium</th>\n",
              "      <th>year</th>\n",
              "      <th>acquisitionYear</th>\n",
              "      <th>width</th>\n",
              "      <th>height</th>\n",
              "      <th>units</th>\n",
              "    </tr>\n",
              "    <tr>\n",
              "      <th>id</th>\n",
              "      <th></th>\n",
              "      <th></th>\n",
              "      <th></th>\n",
              "      <th></th>\n",
              "      <th></th>\n",
              "      <th></th>\n",
              "      <th></th>\n",
              "      <th></th>\n",
              "    </tr>\n",
              "  </thead>\n",
              "  <tbody>\n",
              "    <tr>\n",
              "      <th>16412</th>\n",
              "      <td>Wols</td>\n",
              "      <td>[no title]</td>\n",
              "      <td>Etching on paper</td>\n",
              "      <td>1937</td>\n",
              "      <td>1983.0</td>\n",
              "      <td>130</td>\n",
              "      <td>80</td>\n",
              "      <td>mm</td>\n",
              "    </tr>\n",
              "    <tr>\n",
              "      <th>16413</th>\n",
              "      <td>Wols</td>\n",
              "      <td>[no title]</td>\n",
              "      <td>Etching and drypoint on paper</td>\n",
              "      <td>1937</td>\n",
              "      <td>1983.0</td>\n",
              "      <td>187</td>\n",
              "      <td>102</td>\n",
              "      <td>mm</td>\n",
              "    </tr>\n",
              "    <tr>\n",
              "      <th>16414</th>\n",
              "      <td>Wols</td>\n",
              "      <td>[no title]</td>\n",
              "      <td>Etching and drypoint on paper</td>\n",
              "      <td>1937</td>\n",
              "      <td>1983.0</td>\n",
              "      <td>248</td>\n",
              "      <td>168</td>\n",
              "      <td>mm</td>\n",
              "    </tr>\n",
              "    <tr>\n",
              "      <th>16415</th>\n",
              "      <td>Wols</td>\n",
              "      <td>[no title]</td>\n",
              "      <td>Etching and drypoint on paper</td>\n",
              "      <td>1937</td>\n",
              "      <td>1983.0</td>\n",
              "      <td>149</td>\n",
              "      <td>102</td>\n",
              "      <td>mm</td>\n",
              "    </tr>\n",
              "    <tr>\n",
              "      <th>16416</th>\n",
              "      <td>Wols</td>\n",
              "      <td>[no title]</td>\n",
              "      <td>Etching and drypoint on paper</td>\n",
              "      <td>1937</td>\n",
              "      <td>1983.0</td>\n",
              "      <td>203</td>\n",
              "      <td>120</td>\n",
              "      <td>mm</td>\n",
              "    </tr>\n",
              "    <tr>\n",
              "      <th>16417</th>\n",
              "      <td>Wols</td>\n",
              "      <td>[no title]</td>\n",
              "      <td>Etching on paper</td>\n",
              "      <td>1937</td>\n",
              "      <td>1983.0</td>\n",
              "      <td>130</td>\n",
              "      <td>79</td>\n",
              "      <td>mm</td>\n",
              "    </tr>\n",
              "    <tr>\n",
              "      <th>16418</th>\n",
              "      <td>Wols</td>\n",
              "      <td>[no title]</td>\n",
              "      <td>Etching and drypoint on paper</td>\n",
              "      <td>1937</td>\n",
              "      <td>1983.0</td>\n",
              "      <td>124</td>\n",
              "      <td>98</td>\n",
              "      <td>mm</td>\n",
              "    </tr>\n",
              "    <tr>\n",
              "      <th>16419</th>\n",
              "      <td>Wols</td>\n",
              "      <td>[no title]</td>\n",
              "      <td>Etching and drypoint on paper</td>\n",
              "      <td>1937</td>\n",
              "      <td>1983.0</td>\n",
              "      <td>140</td>\n",
              "      <td>89</td>\n",
              "      <td>mm</td>\n",
              "    </tr>\n",
              "    <tr>\n",
              "      <th>16420</th>\n",
              "      <td>Wols</td>\n",
              "      <td>[no title]</td>\n",
              "      <td>Etching and drypoint on paper</td>\n",
              "      <td>1937</td>\n",
              "      <td>1983.0</td>\n",
              "      <td>140</td>\n",
              "      <td>86</td>\n",
              "      <td>mm</td>\n",
              "    </tr>\n",
              "    <tr>\n",
              "      <th>16421</th>\n",
              "      <td>Wols</td>\n",
              "      <td>[no title]</td>\n",
              "      <td>Etching and drypoint on paper</td>\n",
              "      <td>1937</td>\n",
              "      <td>1983.0</td>\n",
              "      <td>83</td>\n",
              "      <td>79</td>\n",
              "      <td>mm</td>\n",
              "    </tr>\n",
              "    <tr>\n",
              "      <th>16422</th>\n",
              "      <td>Wols</td>\n",
              "      <td>[no title]</td>\n",
              "      <td>Etching and drypoint on paper</td>\n",
              "      <td>1937</td>\n",
              "      <td>1983.0</td>\n",
              "      <td>200</td>\n",
              "      <td>146</td>\n",
              "      <td>mm</td>\n",
              "    </tr>\n",
              "    <tr>\n",
              "      <th>16423</th>\n",
              "      <td>Wols</td>\n",
              "      <td>[no title]</td>\n",
              "      <td>Etching on paper</td>\n",
              "      <td>1937</td>\n",
              "      <td>1983.0</td>\n",
              "      <td>60</td>\n",
              "      <td>98</td>\n",
              "      <td>mm</td>\n",
              "    </tr>\n",
              "    <tr>\n",
              "      <th>16424</th>\n",
              "      <td>Wols</td>\n",
              "      <td>[no title]</td>\n",
              "      <td>Etching and drypoint on paper</td>\n",
              "      <td>1937</td>\n",
              "      <td>1983.0</td>\n",
              "      <td>124</td>\n",
              "      <td>98</td>\n",
              "      <td>mm</td>\n",
              "    </tr>\n",
              "    <tr>\n",
              "      <th>16425</th>\n",
              "      <td>Wols</td>\n",
              "      <td>[no title]</td>\n",
              "      <td>Etching on paper</td>\n",
              "      <td>1937</td>\n",
              "      <td>1983.0</td>\n",
              "      <td>124</td>\n",
              "      <td>98</td>\n",
              "      <td>mm</td>\n",
              "    </tr>\n",
              "    <tr>\n",
              "      <th>16426</th>\n",
              "      <td>Wols</td>\n",
              "      <td>[no title]</td>\n",
              "      <td>Etching and drypoint on paper</td>\n",
              "      <td>1937</td>\n",
              "      <td>1983.0</td>\n",
              "      <td>204</td>\n",
              "      <td>118</td>\n",
              "      <td>mm</td>\n",
              "    </tr>\n",
              "    <tr>\n",
              "      <th>16427</th>\n",
              "      <td>Wols</td>\n",
              "      <td>[no title]</td>\n",
              "      <td>Etching and drypoint on paper</td>\n",
              "      <td>1937</td>\n",
              "      <td>1983.0</td>\n",
              "      <td>105</td>\n",
              "      <td>98</td>\n",
              "      <td>mm</td>\n",
              "    </tr>\n",
              "    <tr>\n",
              "      <th>16428</th>\n",
              "      <td>Wols</td>\n",
              "      <td>[no title]</td>\n",
              "      <td>Etching and drypoint on paper</td>\n",
              "      <td>1937</td>\n",
              "      <td>1983.0</td>\n",
              "      <td>197</td>\n",
              "      <td>149</td>\n",
              "      <td>mm</td>\n",
              "    </tr>\n",
              "    <tr>\n",
              "      <th>16429</th>\n",
              "      <td>Wols</td>\n",
              "      <td>[no title]</td>\n",
              "      <td>Etching and drypoint on paper</td>\n",
              "      <td>1937</td>\n",
              "      <td>1983.0</td>\n",
              "      <td>102</td>\n",
              "      <td>120</td>\n",
              "      <td>mm</td>\n",
              "    </tr>\n",
              "    <tr>\n",
              "      <th>16430</th>\n",
              "      <td>Wols</td>\n",
              "      <td>[no title]</td>\n",
              "      <td>Etching and drypoint on paper</td>\n",
              "      <td>1937</td>\n",
              "      <td>1983.0</td>\n",
              "      <td>118</td>\n",
              "      <td>95</td>\n",
              "      <td>mm</td>\n",
              "    </tr>\n",
              "    <tr>\n",
              "      <th>16431</th>\n",
              "      <td>Wols</td>\n",
              "      <td>[no title]</td>\n",
              "      <td>Etching and drypoint on paper</td>\n",
              "      <td>1937</td>\n",
              "      <td>1983.0</td>\n",
              "      <td>140</td>\n",
              "      <td>79</td>\n",
              "      <td>mm</td>\n",
              "    </tr>\n",
              "    <tr>\n",
              "      <th>16432</th>\n",
              "      <td>Wols</td>\n",
              "      <td>[no title]</td>\n",
              "      <td>Etching and drypoint on paper</td>\n",
              "      <td>1937</td>\n",
              "      <td>1983.0</td>\n",
              "      <td>124</td>\n",
              "      <td>95</td>\n",
              "      <td>mm</td>\n",
              "    </tr>\n",
              "    <tr>\n",
              "      <th>16433</th>\n",
              "      <td>Wols</td>\n",
              "      <td>[no title]</td>\n",
              "      <td>Etching and drypoint on paper</td>\n",
              "      <td>1937</td>\n",
              "      <td>1983.0</td>\n",
              "      <td>105</td>\n",
              "      <td>73</td>\n",
              "      <td>mm</td>\n",
              "    </tr>\n",
              "    <tr>\n",
              "      <th>16434</th>\n",
              "      <td>Wols</td>\n",
              "      <td>[no title]</td>\n",
              "      <td>Etching and drypoint on paper</td>\n",
              "      <td>1937</td>\n",
              "      <td>1983.0</td>\n",
              "      <td>121</td>\n",
              "      <td>102</td>\n",
              "      <td>mm</td>\n",
              "    </tr>\n",
              "    <tr>\n",
              "      <th>16435</th>\n",
              "      <td>Wols</td>\n",
              "      <td>[no title]</td>\n",
              "      <td>Etching and drypoint on paper</td>\n",
              "      <td>1937</td>\n",
              "      <td>1983.0</td>\n",
              "      <td>121</td>\n",
              "      <td>92</td>\n",
              "      <td>mm</td>\n",
              "    </tr>\n",
              "    <tr>\n",
              "      <th>16436</th>\n",
              "      <td>Wols</td>\n",
              "      <td>[no title]</td>\n",
              "      <td>Etching and drypoint on paper</td>\n",
              "      <td>1937</td>\n",
              "      <td>1983.0</td>\n",
              "      <td>124</td>\n",
              "      <td>98</td>\n",
              "      <td>mm</td>\n",
              "    </tr>\n",
              "    <tr>\n",
              "      <th>16437</th>\n",
              "      <td>Wols</td>\n",
              "      <td>[no title]</td>\n",
              "      <td>Etching and drypoint on paper</td>\n",
              "      <td>1937</td>\n",
              "      <td>1983.0</td>\n",
              "      <td>124</td>\n",
              "      <td>98</td>\n",
              "      <td>mm</td>\n",
              "    </tr>\n",
              "    <tr>\n",
              "      <th>16438</th>\n",
              "      <td>Wols</td>\n",
              "      <td>[no title]</td>\n",
              "      <td>Etching and drypoint on paper</td>\n",
              "      <td>1937</td>\n",
              "      <td>1983.0</td>\n",
              "      <td>124</td>\n",
              "      <td>98</td>\n",
              "      <td>mm</td>\n",
              "    </tr>\n",
              "    <tr>\n",
              "      <th>16439</th>\n",
              "      <td>Wols</td>\n",
              "      <td>[no title]</td>\n",
              "      <td>Etching and drypoint on paper</td>\n",
              "      <td>1937</td>\n",
              "      <td>1983.0</td>\n",
              "      <td>102</td>\n",
              "      <td>70</td>\n",
              "      <td>mm</td>\n",
              "    </tr>\n",
              "    <tr>\n",
              "      <th>16440</th>\n",
              "      <td>Wols</td>\n",
              "      <td>[no title]</td>\n",
              "      <td>Etching and drypoint on paper</td>\n",
              "      <td>1937</td>\n",
              "      <td>1983.0</td>\n",
              "      <td>105</td>\n",
              "      <td>70</td>\n",
              "      <td>mm</td>\n",
              "    </tr>\n",
              "    <tr>\n",
              "      <th>16441</th>\n",
              "      <td>Wols</td>\n",
              "      <td>[no title]</td>\n",
              "      <td>Etching and drypoint on paper</td>\n",
              "      <td>1937</td>\n",
              "      <td>1983.0</td>\n",
              "      <td>324</td>\n",
              "      <td>248</td>\n",
              "      <td>mm</td>\n",
              "    </tr>\n",
              "    <tr>\n",
              "      <th>4704</th>\n",
              "      <td>Frost, Sir Terry</td>\n",
              "      <td>Blue Moon</td>\n",
              "      <td>Lithograph on paper</td>\n",
              "      <td>1952</td>\n",
              "      <td>1983.0</td>\n",
              "      <td>355</td>\n",
              "      <td>273</td>\n",
              "      <td>mm</td>\n",
              "    </tr>\n",
              "    <tr>\n",
              "      <th>4705</th>\n",
              "      <td>Frost, Sir Terry</td>\n",
              "      <td>Boat Shapes</td>\n",
              "      <td>Linocut on paper</td>\n",
              "      <td>1952</td>\n",
              "      <td>1983.0</td>\n",
              "      <td>132</td>\n",
              "      <td>143</td>\n",
              "      <td>mm</td>\n",
              "    </tr>\n",
              "    <tr>\n",
              "      <th>4706</th>\n",
              "      <td>Frost, Sir Terry</td>\n",
              "      <td>Boat Shapes</td>\n",
              "      <td>Linocut on paper</td>\n",
              "      <td>1954</td>\n",
              "      <td>1983.0</td>\n",
              "      <td>131</td>\n",
              "      <td>155</td>\n",
              "      <td>mm</td>\n",
              "    </tr>\n",
              "    <tr>\n",
              "      <th>4707</th>\n",
              "      <td>Frost, Sir Terry</td>\n",
              "      <td>Boat Shapes</td>\n",
              "      <td>Linocut on paper</td>\n",
              "      <td>1954</td>\n",
              "      <td>1983.0</td>\n",
              "      <td>193</td>\n",
              "      <td>267</td>\n",
              "      <td>mm</td>\n",
              "    </tr>\n",
              "    <tr>\n",
              "      <th>4708</th>\n",
              "      <td>Frost, Sir Terry</td>\n",
              "      <td>Leeds</td>\n",
              "      <td>Drypoint on paper</td>\n",
              "      <td>1956</td>\n",
              "      <td>1983.0</td>\n",
              "      <td>125</td>\n",
              "      <td>167</td>\n",
              "      <td>mm</td>\n",
              "    </tr>\n",
              "    <tr>\n",
              "      <th>4709</th>\n",
              "      <td>Frost, Sir Terry</td>\n",
              "      <td>Camping, Anduze</td>\n",
              "      <td>Etching on paper</td>\n",
              "      <td>1979</td>\n",
              "      <td>1983.0</td>\n",
              "      <td>257</td>\n",
              "      <td>209</td>\n",
              "      <td>mm</td>\n",
              "    </tr>\n",
              "    <tr>\n",
              "      <th>4710</th>\n",
              "      <td>Frost, Sir Terry</td>\n",
              "      <td>Umea, Sweden</td>\n",
              "      <td>Etching on paper</td>\n",
              "      <td>1979</td>\n",
              "      <td>1983.0</td>\n",
              "      <td>NaN</td>\n",
              "      <td>NaN</td>\n",
              "      <td>NaN</td>\n",
              "    </tr>\n",
              "    <tr>\n",
              "      <th>4711</th>\n",
              "      <td>Frost, Sir Terry</td>\n",
              "      <td>Self-Portrait</td>\n",
              "      <td>Etching on paper</td>\n",
              "      <td>1980</td>\n",
              "      <td>1983.0</td>\n",
              "      <td>277</td>\n",
              "      <td>200</td>\n",
              "      <td>mm</td>\n",
              "    </tr>\n",
              "    <tr>\n",
              "      <th>11838</th>\n",
              "      <td>Phillips, Esq Tom</td>\n",
              "      <td>[colophon]</td>\n",
              "      <td>Etching on paper</td>\n",
              "      <td>1979</td>\n",
              "      <td>1983.0</td>\n",
              "      <td>292</td>\n",
              "      <td>204</td>\n",
              "      <td>mm</td>\n",
              "    </tr>\n",
              "  </tbody>\n",
              "</table>\n",
              "</div>"
            ],
            "text/plain": [
              "                  artist            title  ... height units\n",
              "id                                         ...             \n",
              "16412               Wols       [no title]  ...     80    mm\n",
              "16413               Wols       [no title]  ...    102    mm\n",
              "16414               Wols       [no title]  ...    168    mm\n",
              "16415               Wols       [no title]  ...    102    mm\n",
              "16416               Wols       [no title]  ...    120    mm\n",
              "16417               Wols       [no title]  ...     79    mm\n",
              "16418               Wols       [no title]  ...     98    mm\n",
              "16419               Wols       [no title]  ...     89    mm\n",
              "16420               Wols       [no title]  ...     86    mm\n",
              "16421               Wols       [no title]  ...     79    mm\n",
              "16422               Wols       [no title]  ...    146    mm\n",
              "16423               Wols       [no title]  ...     98    mm\n",
              "16424               Wols       [no title]  ...     98    mm\n",
              "16425               Wols       [no title]  ...     98    mm\n",
              "16426               Wols       [no title]  ...    118    mm\n",
              "16427               Wols       [no title]  ...     98    mm\n",
              "16428               Wols       [no title]  ...    149    mm\n",
              "16429               Wols       [no title]  ...    120    mm\n",
              "16430               Wols       [no title]  ...     95    mm\n",
              "16431               Wols       [no title]  ...     79    mm\n",
              "16432               Wols       [no title]  ...     95    mm\n",
              "16433               Wols       [no title]  ...     73    mm\n",
              "16434               Wols       [no title]  ...    102    mm\n",
              "16435               Wols       [no title]  ...     92    mm\n",
              "16436               Wols       [no title]  ...     98    mm\n",
              "16437               Wols       [no title]  ...     98    mm\n",
              "16438               Wols       [no title]  ...     98    mm\n",
              "16439               Wols       [no title]  ...     70    mm\n",
              "16440               Wols       [no title]  ...     70    mm\n",
              "16441               Wols       [no title]  ...    248    mm\n",
              "4704    Frost, Sir Terry        Blue Moon  ...    273    mm\n",
              "4705    Frost, Sir Terry      Boat Shapes  ...    143    mm\n",
              "4706    Frost, Sir Terry      Boat Shapes  ...    155    mm\n",
              "4707    Frost, Sir Terry      Boat Shapes  ...    267    mm\n",
              "4708    Frost, Sir Terry            Leeds  ...    167    mm\n",
              "4709    Frost, Sir Terry  Camping, Anduze  ...    209    mm\n",
              "4710    Frost, Sir Terry     Umea, Sweden  ...    NaN   NaN\n",
              "4711    Frost, Sir Terry    Self-Portrait  ...    200    mm\n",
              "11838  Phillips, Esq Tom       [colophon]  ...    204    mm\n",
              "\n",
              "[39 rows x 8 columns]"
            ]
          },
          "metadata": {
            "tags": []
          },
          "execution_count": 184
        }
      ]
    },
    {
      "cell_type": "code",
      "metadata": {
        "id": "1iDjDPpGzwq6",
        "colab_type": "code",
        "colab": {
          "base_uri": "https://localhost:8080/",
          "height": 168
        },
        "outputId": "3638184d-1005-42d2-b591-5cb3d9cd9748"
      },
      "source": [
        "## min\n",
        "Small_Data.groupby('artist').agg(np.min)\n",
        "Small_Data.groupby('artist').min()"
      ],
      "execution_count": 188,
      "outputs": [
        {
          "output_type": "execute_result",
          "data": {
            "text/html": [
              "<div>\n",
              "<style scoped>\n",
              "    .dataframe tbody tr th:only-of-type {\n",
              "        vertical-align: middle;\n",
              "    }\n",
              "\n",
              "    .dataframe tbody tr th {\n",
              "        vertical-align: top;\n",
              "    }\n",
              "\n",
              "    .dataframe thead th {\n",
              "        text-align: right;\n",
              "    }\n",
              "</style>\n",
              "<table border=\"1\" class=\"dataframe\">\n",
              "  <thead>\n",
              "    <tr style=\"text-align: right;\">\n",
              "      <th></th>\n",
              "      <th>title</th>\n",
              "      <th>medium</th>\n",
              "      <th>year</th>\n",
              "      <th>acquisitionYear</th>\n",
              "    </tr>\n",
              "    <tr>\n",
              "      <th>artist</th>\n",
              "      <th></th>\n",
              "      <th></th>\n",
              "      <th></th>\n",
              "      <th></th>\n",
              "    </tr>\n",
              "  </thead>\n",
              "  <tbody>\n",
              "    <tr>\n",
              "      <th>Frost, Sir Terry</th>\n",
              "      <td>Blue Moon</td>\n",
              "      <td>Drypoint on paper</td>\n",
              "      <td>1952</td>\n",
              "      <td>1983.0</td>\n",
              "    </tr>\n",
              "    <tr>\n",
              "      <th>Phillips, Esq Tom</th>\n",
              "      <td>[colophon]</td>\n",
              "      <td>Etching on paper</td>\n",
              "      <td>1979</td>\n",
              "      <td>1983.0</td>\n",
              "    </tr>\n",
              "    <tr>\n",
              "      <th>Wols</th>\n",
              "      <td>[no title]</td>\n",
              "      <td>Etching and drypoint on paper</td>\n",
              "      <td>1937</td>\n",
              "      <td>1983.0</td>\n",
              "    </tr>\n",
              "  </tbody>\n",
              "</table>\n",
              "</div>"
            ],
            "text/plain": [
              "                        title  ... acquisitionYear\n",
              "artist                         ...                \n",
              "Frost, Sir Terry    Blue Moon  ...          1983.0\n",
              "Phillips, Esq Tom  [colophon]  ...          1983.0\n",
              "Wols               [no title]  ...          1983.0\n",
              "\n",
              "[3 rows x 4 columns]"
            ]
          },
          "metadata": {
            "tags": []
          },
          "execution_count": 188
        }
      ]
    },
    {
      "cell_type": "code",
      "metadata": {
        "id": "ATCORwXCz9Zu",
        "colab_type": "code",
        "colab": {
          "base_uri": "https://localhost:8080/",
          "height": 1000
        },
        "outputId": "20cfec55-ddb4-4e37-f9f3-b93455bc04fe"
      },
      "source": [
        "##filter\n",
        "grouped_titles = Small_Data.groupby('title')\n",
        "title_counts = grouped_titles.size().sort_values(ascending=False)\n",
        "title_counts\n",
        "## condition\n",
        "\n",
        "condition = lambda X: len(X.index) > 1\n",
        "dup_titles_df = grouped_titles.filter(condition)\n",
        "dup_titles_df.sort_values('title',inplace= True)\n",
        "\n",
        "dup_titles_df"
      ],
      "execution_count": 194,
      "outputs": [
        {
          "output_type": "stream",
          "text": [
            "/usr/local/lib/python3.6/dist-packages/ipykernel_launcher.py:8: SettingWithCopyWarning: \n",
            "A value is trying to be set on a copy of a slice from a DataFrame\n",
            "\n",
            "See the caveats in the documentation: http://pandas.pydata.org/pandas-docs/stable/indexing.html#indexing-view-versus-copy\n",
            "  \n"
          ],
          "name": "stderr"
        },
        {
          "output_type": "execute_result",
          "data": {
            "text/html": [
              "<div>\n",
              "<style scoped>\n",
              "    .dataframe tbody tr th:only-of-type {\n",
              "        vertical-align: middle;\n",
              "    }\n",
              "\n",
              "    .dataframe tbody tr th {\n",
              "        vertical-align: top;\n",
              "    }\n",
              "\n",
              "    .dataframe thead th {\n",
              "        text-align: right;\n",
              "    }\n",
              "</style>\n",
              "<table border=\"1\" class=\"dataframe\">\n",
              "  <thead>\n",
              "    <tr style=\"text-align: right;\">\n",
              "      <th></th>\n",
              "      <th>artist</th>\n",
              "      <th>title</th>\n",
              "      <th>medium</th>\n",
              "      <th>year</th>\n",
              "      <th>acquisitionYear</th>\n",
              "      <th>width</th>\n",
              "      <th>height</th>\n",
              "      <th>units</th>\n",
              "    </tr>\n",
              "    <tr>\n",
              "      <th>id</th>\n",
              "      <th></th>\n",
              "      <th></th>\n",
              "      <th></th>\n",
              "      <th></th>\n",
              "      <th></th>\n",
              "      <th></th>\n",
              "      <th></th>\n",
              "      <th></th>\n",
              "    </tr>\n",
              "  </thead>\n",
              "  <tbody>\n",
              "    <tr>\n",
              "      <th>4707</th>\n",
              "      <td>Frost, Sir Terry</td>\n",
              "      <td>Boat Shapes</td>\n",
              "      <td>Linocut on paper</td>\n",
              "      <td>1954</td>\n",
              "      <td>1983.0</td>\n",
              "      <td>193</td>\n",
              "      <td>267</td>\n",
              "      <td>mm</td>\n",
              "    </tr>\n",
              "    <tr>\n",
              "      <th>4705</th>\n",
              "      <td>Frost, Sir Terry</td>\n",
              "      <td>Boat Shapes</td>\n",
              "      <td>Linocut on paper</td>\n",
              "      <td>1952</td>\n",
              "      <td>1983.0</td>\n",
              "      <td>132</td>\n",
              "      <td>143</td>\n",
              "      <td>mm</td>\n",
              "    </tr>\n",
              "    <tr>\n",
              "      <th>4706</th>\n",
              "      <td>Frost, Sir Terry</td>\n",
              "      <td>Boat Shapes</td>\n",
              "      <td>Linocut on paper</td>\n",
              "      <td>1954</td>\n",
              "      <td>1983.0</td>\n",
              "      <td>131</td>\n",
              "      <td>155</td>\n",
              "      <td>mm</td>\n",
              "    </tr>\n",
              "    <tr>\n",
              "      <th>16441</th>\n",
              "      <td>Wols</td>\n",
              "      <td>[no title]</td>\n",
              "      <td>Etching and drypoint on paper</td>\n",
              "      <td>1937</td>\n",
              "      <td>1983.0</td>\n",
              "      <td>324</td>\n",
              "      <td>248</td>\n",
              "      <td>mm</td>\n",
              "    </tr>\n",
              "    <tr>\n",
              "      <th>16440</th>\n",
              "      <td>Wols</td>\n",
              "      <td>[no title]</td>\n",
              "      <td>Etching and drypoint on paper</td>\n",
              "      <td>1937</td>\n",
              "      <td>1983.0</td>\n",
              "      <td>105</td>\n",
              "      <td>70</td>\n",
              "      <td>mm</td>\n",
              "    </tr>\n",
              "    <tr>\n",
              "      <th>16439</th>\n",
              "      <td>Wols</td>\n",
              "      <td>[no title]</td>\n",
              "      <td>Etching and drypoint on paper</td>\n",
              "      <td>1937</td>\n",
              "      <td>1983.0</td>\n",
              "      <td>102</td>\n",
              "      <td>70</td>\n",
              "      <td>mm</td>\n",
              "    </tr>\n",
              "    <tr>\n",
              "      <th>16438</th>\n",
              "      <td>Wols</td>\n",
              "      <td>[no title]</td>\n",
              "      <td>Etching and drypoint on paper</td>\n",
              "      <td>1937</td>\n",
              "      <td>1983.0</td>\n",
              "      <td>124</td>\n",
              "      <td>98</td>\n",
              "      <td>mm</td>\n",
              "    </tr>\n",
              "    <tr>\n",
              "      <th>16437</th>\n",
              "      <td>Wols</td>\n",
              "      <td>[no title]</td>\n",
              "      <td>Etching and drypoint on paper</td>\n",
              "      <td>1937</td>\n",
              "      <td>1983.0</td>\n",
              "      <td>124</td>\n",
              "      <td>98</td>\n",
              "      <td>mm</td>\n",
              "    </tr>\n",
              "    <tr>\n",
              "      <th>16436</th>\n",
              "      <td>Wols</td>\n",
              "      <td>[no title]</td>\n",
              "      <td>Etching and drypoint on paper</td>\n",
              "      <td>1937</td>\n",
              "      <td>1983.0</td>\n",
              "      <td>124</td>\n",
              "      <td>98</td>\n",
              "      <td>mm</td>\n",
              "    </tr>\n",
              "    <tr>\n",
              "      <th>16435</th>\n",
              "      <td>Wols</td>\n",
              "      <td>[no title]</td>\n",
              "      <td>Etching and drypoint on paper</td>\n",
              "      <td>1937</td>\n",
              "      <td>1983.0</td>\n",
              "      <td>121</td>\n",
              "      <td>92</td>\n",
              "      <td>mm</td>\n",
              "    </tr>\n",
              "    <tr>\n",
              "      <th>16434</th>\n",
              "      <td>Wols</td>\n",
              "      <td>[no title]</td>\n",
              "      <td>Etching and drypoint on paper</td>\n",
              "      <td>1937</td>\n",
              "      <td>1983.0</td>\n",
              "      <td>121</td>\n",
              "      <td>102</td>\n",
              "      <td>mm</td>\n",
              "    </tr>\n",
              "    <tr>\n",
              "      <th>16433</th>\n",
              "      <td>Wols</td>\n",
              "      <td>[no title]</td>\n",
              "      <td>Etching and drypoint on paper</td>\n",
              "      <td>1937</td>\n",
              "      <td>1983.0</td>\n",
              "      <td>105</td>\n",
              "      <td>73</td>\n",
              "      <td>mm</td>\n",
              "    </tr>\n",
              "    <tr>\n",
              "      <th>16432</th>\n",
              "      <td>Wols</td>\n",
              "      <td>[no title]</td>\n",
              "      <td>Etching and drypoint on paper</td>\n",
              "      <td>1937</td>\n",
              "      <td>1983.0</td>\n",
              "      <td>124</td>\n",
              "      <td>95</td>\n",
              "      <td>mm</td>\n",
              "    </tr>\n",
              "    <tr>\n",
              "      <th>16431</th>\n",
              "      <td>Wols</td>\n",
              "      <td>[no title]</td>\n",
              "      <td>Etching and drypoint on paper</td>\n",
              "      <td>1937</td>\n",
              "      <td>1983.0</td>\n",
              "      <td>140</td>\n",
              "      <td>79</td>\n",
              "      <td>mm</td>\n",
              "    </tr>\n",
              "    <tr>\n",
              "      <th>16430</th>\n",
              "      <td>Wols</td>\n",
              "      <td>[no title]</td>\n",
              "      <td>Etching and drypoint on paper</td>\n",
              "      <td>1937</td>\n",
              "      <td>1983.0</td>\n",
              "      <td>118</td>\n",
              "      <td>95</td>\n",
              "      <td>mm</td>\n",
              "    </tr>\n",
              "    <tr>\n",
              "      <th>16429</th>\n",
              "      <td>Wols</td>\n",
              "      <td>[no title]</td>\n",
              "      <td>Etching and drypoint on paper</td>\n",
              "      <td>1937</td>\n",
              "      <td>1983.0</td>\n",
              "      <td>102</td>\n",
              "      <td>120</td>\n",
              "      <td>mm</td>\n",
              "    </tr>\n",
              "    <tr>\n",
              "      <th>16412</th>\n",
              "      <td>Wols</td>\n",
              "      <td>[no title]</td>\n",
              "      <td>Etching on paper</td>\n",
              "      <td>1937</td>\n",
              "      <td>1983.0</td>\n",
              "      <td>130</td>\n",
              "      <td>80</td>\n",
              "      <td>mm</td>\n",
              "    </tr>\n",
              "    <tr>\n",
              "      <th>16426</th>\n",
              "      <td>Wols</td>\n",
              "      <td>[no title]</td>\n",
              "      <td>Etching and drypoint on paper</td>\n",
              "      <td>1937</td>\n",
              "      <td>1983.0</td>\n",
              "      <td>204</td>\n",
              "      <td>118</td>\n",
              "      <td>mm</td>\n",
              "    </tr>\n",
              "    <tr>\n",
              "      <th>16425</th>\n",
              "      <td>Wols</td>\n",
              "      <td>[no title]</td>\n",
              "      <td>Etching on paper</td>\n",
              "      <td>1937</td>\n",
              "      <td>1983.0</td>\n",
              "      <td>124</td>\n",
              "      <td>98</td>\n",
              "      <td>mm</td>\n",
              "    </tr>\n",
              "    <tr>\n",
              "      <th>16424</th>\n",
              "      <td>Wols</td>\n",
              "      <td>[no title]</td>\n",
              "      <td>Etching and drypoint on paper</td>\n",
              "      <td>1937</td>\n",
              "      <td>1983.0</td>\n",
              "      <td>124</td>\n",
              "      <td>98</td>\n",
              "      <td>mm</td>\n",
              "    </tr>\n",
              "    <tr>\n",
              "      <th>16423</th>\n",
              "      <td>Wols</td>\n",
              "      <td>[no title]</td>\n",
              "      <td>Etching on paper</td>\n",
              "      <td>1937</td>\n",
              "      <td>1983.0</td>\n",
              "      <td>60</td>\n",
              "      <td>98</td>\n",
              "      <td>mm</td>\n",
              "    </tr>\n",
              "    <tr>\n",
              "      <th>16422</th>\n",
              "      <td>Wols</td>\n",
              "      <td>[no title]</td>\n",
              "      <td>Etching and drypoint on paper</td>\n",
              "      <td>1937</td>\n",
              "      <td>1983.0</td>\n",
              "      <td>200</td>\n",
              "      <td>146</td>\n",
              "      <td>mm</td>\n",
              "    </tr>\n",
              "    <tr>\n",
              "      <th>16421</th>\n",
              "      <td>Wols</td>\n",
              "      <td>[no title]</td>\n",
              "      <td>Etching and drypoint on paper</td>\n",
              "      <td>1937</td>\n",
              "      <td>1983.0</td>\n",
              "      <td>83</td>\n",
              "      <td>79</td>\n",
              "      <td>mm</td>\n",
              "    </tr>\n",
              "    <tr>\n",
              "      <th>16420</th>\n",
              "      <td>Wols</td>\n",
              "      <td>[no title]</td>\n",
              "      <td>Etching and drypoint on paper</td>\n",
              "      <td>1937</td>\n",
              "      <td>1983.0</td>\n",
              "      <td>140</td>\n",
              "      <td>86</td>\n",
              "      <td>mm</td>\n",
              "    </tr>\n",
              "    <tr>\n",
              "      <th>16419</th>\n",
              "      <td>Wols</td>\n",
              "      <td>[no title]</td>\n",
              "      <td>Etching and drypoint on paper</td>\n",
              "      <td>1937</td>\n",
              "      <td>1983.0</td>\n",
              "      <td>140</td>\n",
              "      <td>89</td>\n",
              "      <td>mm</td>\n",
              "    </tr>\n",
              "    <tr>\n",
              "      <th>16418</th>\n",
              "      <td>Wols</td>\n",
              "      <td>[no title]</td>\n",
              "      <td>Etching and drypoint on paper</td>\n",
              "      <td>1937</td>\n",
              "      <td>1983.0</td>\n",
              "      <td>124</td>\n",
              "      <td>98</td>\n",
              "      <td>mm</td>\n",
              "    </tr>\n",
              "    <tr>\n",
              "      <th>16417</th>\n",
              "      <td>Wols</td>\n",
              "      <td>[no title]</td>\n",
              "      <td>Etching on paper</td>\n",
              "      <td>1937</td>\n",
              "      <td>1983.0</td>\n",
              "      <td>130</td>\n",
              "      <td>79</td>\n",
              "      <td>mm</td>\n",
              "    </tr>\n",
              "    <tr>\n",
              "      <th>16416</th>\n",
              "      <td>Wols</td>\n",
              "      <td>[no title]</td>\n",
              "      <td>Etching and drypoint on paper</td>\n",
              "      <td>1937</td>\n",
              "      <td>1983.0</td>\n",
              "      <td>203</td>\n",
              "      <td>120</td>\n",
              "      <td>mm</td>\n",
              "    </tr>\n",
              "    <tr>\n",
              "      <th>16415</th>\n",
              "      <td>Wols</td>\n",
              "      <td>[no title]</td>\n",
              "      <td>Etching and drypoint on paper</td>\n",
              "      <td>1937</td>\n",
              "      <td>1983.0</td>\n",
              "      <td>149</td>\n",
              "      <td>102</td>\n",
              "      <td>mm</td>\n",
              "    </tr>\n",
              "    <tr>\n",
              "      <th>16414</th>\n",
              "      <td>Wols</td>\n",
              "      <td>[no title]</td>\n",
              "      <td>Etching and drypoint on paper</td>\n",
              "      <td>1937</td>\n",
              "      <td>1983.0</td>\n",
              "      <td>248</td>\n",
              "      <td>168</td>\n",
              "      <td>mm</td>\n",
              "    </tr>\n",
              "    <tr>\n",
              "      <th>16413</th>\n",
              "      <td>Wols</td>\n",
              "      <td>[no title]</td>\n",
              "      <td>Etching and drypoint on paper</td>\n",
              "      <td>1937</td>\n",
              "      <td>1983.0</td>\n",
              "      <td>187</td>\n",
              "      <td>102</td>\n",
              "      <td>mm</td>\n",
              "    </tr>\n",
              "    <tr>\n",
              "      <th>16427</th>\n",
              "      <td>Wols</td>\n",
              "      <td>[no title]</td>\n",
              "      <td>Etching and drypoint on paper</td>\n",
              "      <td>1937</td>\n",
              "      <td>1983.0</td>\n",
              "      <td>105</td>\n",
              "      <td>98</td>\n",
              "      <td>mm</td>\n",
              "    </tr>\n",
              "    <tr>\n",
              "      <th>16428</th>\n",
              "      <td>Wols</td>\n",
              "      <td>[no title]</td>\n",
              "      <td>Etching and drypoint on paper</td>\n",
              "      <td>1937</td>\n",
              "      <td>1983.0</td>\n",
              "      <td>197</td>\n",
              "      <td>149</td>\n",
              "      <td>mm</td>\n",
              "    </tr>\n",
              "  </tbody>\n",
              "</table>\n",
              "</div>"
            ],
            "text/plain": [
              "                 artist        title  ... height units\n",
              "id                                    ...             \n",
              "4707   Frost, Sir Terry  Boat Shapes  ...    267    mm\n",
              "4705   Frost, Sir Terry  Boat Shapes  ...    143    mm\n",
              "4706   Frost, Sir Terry  Boat Shapes  ...    155    mm\n",
              "16441              Wols   [no title]  ...    248    mm\n",
              "16440              Wols   [no title]  ...     70    mm\n",
              "16439              Wols   [no title]  ...     70    mm\n",
              "16438              Wols   [no title]  ...     98    mm\n",
              "16437              Wols   [no title]  ...     98    mm\n",
              "16436              Wols   [no title]  ...     98    mm\n",
              "16435              Wols   [no title]  ...     92    mm\n",
              "16434              Wols   [no title]  ...    102    mm\n",
              "16433              Wols   [no title]  ...     73    mm\n",
              "16432              Wols   [no title]  ...     95    mm\n",
              "16431              Wols   [no title]  ...     79    mm\n",
              "16430              Wols   [no title]  ...     95    mm\n",
              "16429              Wols   [no title]  ...    120    mm\n",
              "16412              Wols   [no title]  ...     80    mm\n",
              "16426              Wols   [no title]  ...    118    mm\n",
              "16425              Wols   [no title]  ...     98    mm\n",
              "16424              Wols   [no title]  ...     98    mm\n",
              "16423              Wols   [no title]  ...     98    mm\n",
              "16422              Wols   [no title]  ...    146    mm\n",
              "16421              Wols   [no title]  ...     79    mm\n",
              "16420              Wols   [no title]  ...     86    mm\n",
              "16419              Wols   [no title]  ...     89    mm\n",
              "16418              Wols   [no title]  ...     98    mm\n",
              "16417              Wols   [no title]  ...     79    mm\n",
              "16416              Wols   [no title]  ...    120    mm\n",
              "16415              Wols   [no title]  ...    102    mm\n",
              "16414              Wols   [no title]  ...    168    mm\n",
              "16413              Wols   [no title]  ...    102    mm\n",
              "16427              Wols   [no title]  ...     98    mm\n",
              "16428              Wols   [no title]  ...    149    mm\n",
              "\n",
              "[33 rows x 8 columns]"
            ]
          },
          "metadata": {
            "tags": []
          },
          "execution_count": 194
        }
      ]
    },
    {
      "cell_type": "code",
      "metadata": {
        "id": "6VTAKUi8yCRI",
        "colab_type": "code",
        "colab": {}
      },
      "source": [
        ""
      ],
      "execution_count": 0,
      "outputs": []
    },
    {
      "cell_type": "code",
      "metadata": {
        "id": "lxXz1UjqqukI",
        "colab_type": "code",
        "colab": {}
      },
      "source": [
        ""
      ],
      "execution_count": 0,
      "outputs": []
    },
    {
      "cell_type": "code",
      "metadata": {
        "id": "wVuSKfQsqug_",
        "colab_type": "code",
        "colab": {}
      },
      "source": [
        ""
      ],
      "execution_count": 0,
      "outputs": []
    },
    {
      "cell_type": "code",
      "metadata": {
        "id": "CKP1IfVmqt06",
        "colab_type": "code",
        "colab": {}
      },
      "source": [
        ""
      ],
      "execution_count": 0,
      "outputs": []
    }
  ]
}