{
  "nbformat": 4,
  "nbformat_minor": 0,
  "metadata": {
    "colab": {
      "name": "Pandas_Dataframe basics",
      "provenance": [],
      "toc_visible": true,
      "include_colab_link": true
    },
    "kernelspec": {
      "name": "python3",
      "display_name": "Python 3"
    }
  },
  "cells": [
    {
      "cell_type": "markdown",
      "metadata": {
        "id": "view-in-github",
        "colab_type": "text"
      },
      "source": [
        "<a href=\"https://colab.research.google.com/github/ragalaa/Directory/blob/master/Pandas_Dataframe_basics.ipynb\" target=\"_parent\"><img src=\"https://colab.research.google.com/assets/colab-badge.svg\" alt=\"Open In Colab\"/></a>"
      ]
    },
    {
      "cell_type": "code",
      "metadata": {
        "id": "lYlijO01nW09",
        "colab_type": "code",
        "colab": {
          "base_uri": "https://localhost:8080/",
          "height": 55
        },
        "outputId": "bff3b741-2598-4804-d8ca-a35181809c17"
      },
      "source": [
        "!git clone https://github.com/magdapoppins/pandas-basics.git\n",
        " "
      ],
      "execution_count": 2,
      "outputs": [
        {
          "output_type": "stream",
          "text": [
            "fatal: destination path 'pandas-basics' already exists and is not an empty directory.\n"
          ],
          "name": "stdout"
        }
      ]
    },
    {
      "cell_type": "code",
      "metadata": {
        "id": "_5k6b6tjoOrT",
        "colab_type": "code",
        "colab": {
          "base_uri": "https://localhost:8080/",
          "height": 108
        },
        "outputId": "48b02e7c-5193-44a2-a198-eab9a36a33ef"
      },
      "source": [
        "import json\n",
        "import pandas as pd\n",
        "import numpy as np\n",
        "\n",
        "records = [\n",
        "    ('Math', 'Chemistry', 'Physics'),\n",
        "    ('Crafts','Art', 'Electronics')]\n",
        "\n",
        "pd.DataFrame.from_records(records)\n",
        "\n",
        "\n"
      ],
      "execution_count": 12,
      "outputs": [
        {
          "output_type": "execute_result",
          "data": {
            "text/html": [
              "<div>\n",
              "<style scoped>\n",
              "    .dataframe tbody tr th:only-of-type {\n",
              "        vertical-align: middle;\n",
              "    }\n",
              "\n",
              "    .dataframe tbody tr th {\n",
              "        vertical-align: top;\n",
              "    }\n",
              "\n",
              "    .dataframe thead th {\n",
              "        text-align: right;\n",
              "    }\n",
              "</style>\n",
              "<table border=\"1\" class=\"dataframe\">\n",
              "  <thead>\n",
              "    <tr style=\"text-align: right;\">\n",
              "      <th></th>\n",
              "      <th>0</th>\n",
              "      <th>1</th>\n",
              "      <th>2</th>\n",
              "    </tr>\n",
              "  </thead>\n",
              "  <tbody>\n",
              "    <tr>\n",
              "      <th>0</th>\n",
              "      <td>Math</td>\n",
              "      <td>Chemistry</td>\n",
              "      <td>Physics</td>\n",
              "    </tr>\n",
              "    <tr>\n",
              "      <th>1</th>\n",
              "      <td>Crafts</td>\n",
              "      <td>Art</td>\n",
              "      <td>Electronics</td>\n",
              "    </tr>\n",
              "  </tbody>\n",
              "</table>\n",
              "</div>"
            ],
            "text/plain": [
              "        0          1            2\n",
              "0    Math  Chemistry      Physics\n",
              "1  Crafts        Art  Electronics"
            ]
          },
          "metadata": {
            "tags": []
          },
          "execution_count": 12
        }
      ]
    },
    {
      "cell_type": "code",
      "metadata": {
        "id": "WAmyY0rbrNVi",
        "colab_type": "code",
        "colab": {
          "base_uri": "https://localhost:8080/",
          "height": 35
        },
        "outputId": "5c3158cc-3a3c-4e12-a926-701ab6a23d3d"
      },
      "source": [
        "# dataset = pd.read_csv('\\pandas-basics\\artworkdata.csv')\n",
        "numpArray = np.random.rand(3)\n",
        "type(numpArray)\n",
        "\n",
        "my_series = pd.Series(numpArray,index=[\"First\",\"second\",\"third\"])  ## Labels defined our self.\n",
        "## Index using Label\n",
        "# my_series[\"First\"]\n",
        "my_series.index\n"
      ],
      "execution_count": 26,
      "outputs": [
        {
          "output_type": "execute_result",
          "data": {
            "text/plain": [
              "Index(['First', 'second', 'third'], dtype='object')"
            ]
          },
          "metadata": {
            "tags": []
          },
          "execution_count": 26
        }
      ]
    },
    {
      "cell_type": "code",
      "metadata": {
        "id": "FQVG7EfvtS3A",
        "colab_type": "code",
        "colab": {
          "base_uri": "https://localhost:8080/",
          "height": 72
        },
        "outputId": "5e6c1544-9314-4f66-daff-be6bde59e475"
      },
      "source": [
        "### More columns than one\n",
        "\n",
        "array_2d = np.random.rand(3,2)\n",
        "array_2d"
      ],
      "execution_count": 28,
      "outputs": [
        {
          "output_type": "execute_result",
          "data": {
            "text/plain": [
              "array([[0.23073318, 0.61880705],\n",
              "       [0.00273927, 0.37562751],\n",
              "       [0.73933144, 0.72875963]])"
            ]
          },
          "metadata": {
            "tags": []
          },
          "execution_count": 28
        }
      ]
    },
    {
      "cell_type": "code",
      "metadata": {
        "id": "u9hMk1g9tA3G",
        "colab_type": "code",
        "colab": {
          "base_uri": "https://localhost:8080/",
          "height": 35
        },
        "outputId": "8021d3d1-b254-4efd-965a-81e65c82633b"
      },
      "source": [
        "array_2d[0,1]"
      ],
      "execution_count": 29,
      "outputs": [
        {
          "output_type": "execute_result",
          "data": {
            "text/plain": [
              "0.6188070518728948"
            ]
          },
          "metadata": {
            "tags": []
          },
          "execution_count": 29
        }
      ]
    },
    {
      "cell_type": "code",
      "metadata": {
        "id": "dM5VuGTAtqon",
        "colab_type": "code",
        "colab": {
          "base_uri": "https://localhost:8080/",
          "height": 138
        },
        "outputId": "5b8e9f77-0fb4-4ae7-9a48-7062a88d447a"
      },
      "source": [
        "## Creating data frame\n",
        "\n",
        "df = pd.DataFrame(array_2d)\n",
        "df"
      ],
      "execution_count": 31,
      "outputs": [
        {
          "output_type": "execute_result",
          "data": {
            "text/html": [
              "<div>\n",
              "<style scoped>\n",
              "    .dataframe tbody tr th:only-of-type {\n",
              "        vertical-align: middle;\n",
              "    }\n",
              "\n",
              "    .dataframe tbody tr th {\n",
              "        vertical-align: top;\n",
              "    }\n",
              "\n",
              "    .dataframe thead th {\n",
              "        text-align: right;\n",
              "    }\n",
              "</style>\n",
              "<table border=\"1\" class=\"dataframe\">\n",
              "  <thead>\n",
              "    <tr style=\"text-align: right;\">\n",
              "      <th></th>\n",
              "      <th>0</th>\n",
              "      <th>1</th>\n",
              "    </tr>\n",
              "  </thead>\n",
              "  <tbody>\n",
              "    <tr>\n",
              "      <th>0</th>\n",
              "      <td>0.230733</td>\n",
              "      <td>0.618807</td>\n",
              "    </tr>\n",
              "    <tr>\n",
              "      <th>1</th>\n",
              "      <td>0.002739</td>\n",
              "      <td>0.375628</td>\n",
              "    </tr>\n",
              "    <tr>\n",
              "      <th>2</th>\n",
              "      <td>0.739331</td>\n",
              "      <td>0.728760</td>\n",
              "    </tr>\n",
              "  </tbody>\n",
              "</table>\n",
              "</div>"
            ],
            "text/plain": [
              "          0         1\n",
              "0  0.230733  0.618807\n",
              "1  0.002739  0.375628\n",
              "2  0.739331  0.728760"
            ]
          },
          "metadata": {
            "tags": []
          },
          "execution_count": 31
        }
      ]
    },
    {
      "cell_type": "code",
      "metadata": {
        "id": "p_ukGIQRt3kQ",
        "colab_type": "code",
        "colab": {
          "base_uri": "https://localhost:8080/",
          "height": 138
        },
        "outputId": "9695239d-d85b-416c-89ba-ee4903244e45"
      },
      "source": [
        "df.columns =[\"First\",\"second\"]\n",
        "df"
      ],
      "execution_count": 32,
      "outputs": [
        {
          "output_type": "execute_result",
          "data": {
            "text/html": [
              "<div>\n",
              "<style scoped>\n",
              "    .dataframe tbody tr th:only-of-type {\n",
              "        vertical-align: middle;\n",
              "    }\n",
              "\n",
              "    .dataframe tbody tr th {\n",
              "        vertical-align: top;\n",
              "    }\n",
              "\n",
              "    .dataframe thead th {\n",
              "        text-align: right;\n",
              "    }\n",
              "</style>\n",
              "<table border=\"1\" class=\"dataframe\">\n",
              "  <thead>\n",
              "    <tr style=\"text-align: right;\">\n",
              "      <th></th>\n",
              "      <th>First</th>\n",
              "      <th>second</th>\n",
              "    </tr>\n",
              "  </thead>\n",
              "  <tbody>\n",
              "    <tr>\n",
              "      <th>0</th>\n",
              "      <td>0.230733</td>\n",
              "      <td>0.618807</td>\n",
              "    </tr>\n",
              "    <tr>\n",
              "      <th>1</th>\n",
              "      <td>0.002739</td>\n",
              "      <td>0.375628</td>\n",
              "    </tr>\n",
              "    <tr>\n",
              "      <th>2</th>\n",
              "      <td>0.739331</td>\n",
              "      <td>0.728760</td>\n",
              "    </tr>\n",
              "  </tbody>\n",
              "</table>\n",
              "</div>"
            ],
            "text/plain": [
              "      First    second\n",
              "0  0.230733  0.618807\n",
              "1  0.002739  0.375628\n",
              "2  0.739331  0.728760"
            ]
          },
          "metadata": {
            "tags": []
          },
          "execution_count": 32
        }
      ]
    },
    {
      "cell_type": "code",
      "metadata": {
        "id": "VqarI9ZcuJqG",
        "colab_type": "code",
        "colab": {
          "base_uri": "https://localhost:8080/",
          "height": 90
        },
        "outputId": "d93f3963-b164-4fee-ea10-eb82e945d0dd"
      },
      "source": [
        "df[\"second\"]"
      ],
      "execution_count": 33,
      "outputs": [
        {
          "output_type": "execute_result",
          "data": {
            "text/plain": [
              "0    0.618807\n",
              "1    0.375628\n",
              "2    0.728760\n",
              "Name: second, dtype: float64"
            ]
          },
          "metadata": {
            "tags": []
          },
          "execution_count": 33
        }
      ]
    },
    {
      "cell_type": "markdown",
      "metadata": {
        "id": "vdumlaUJuSr_",
        "colab_type": "text"
      },
      "source": [
        "# Pandas Data Input capabilities:"
      ]
    },
    {
      "cell_type": "code",
      "metadata": {
        "id": "X_yRJ2MxuZU3",
        "colab_type": "code",
        "colab": {
          "base_uri": "https://localhost:8080/",
          "height": 228
        },
        "outputId": "3679a81f-48b1-4856-d2b6-ab1e0abe30a7"
      },
      "source": [
        "\n",
        "COLS_TO_USE = ['id','artist','title','medium','year','acquisitionYear','height','width','units']\n",
        "Dataset = pd.read_csv('./pandas-basics/artworkdata.csv',nrows = 5 , \n",
        "                      index_col='id', usecols=['id','artist'],low_memory=False)\n",
        "Dataset.head()"
      ],
      "execution_count": 41,
      "outputs": [
        {
          "output_type": "execute_result",
          "data": {
            "text/html": [
              "<div>\n",
              "<style scoped>\n",
              "    .dataframe tbody tr th:only-of-type {\n",
              "        vertical-align: middle;\n",
              "    }\n",
              "\n",
              "    .dataframe tbody tr th {\n",
              "        vertical-align: top;\n",
              "    }\n",
              "\n",
              "    .dataframe thead th {\n",
              "        text-align: right;\n",
              "    }\n",
              "</style>\n",
              "<table border=\"1\" class=\"dataframe\">\n",
              "  <thead>\n",
              "    <tr style=\"text-align: right;\">\n",
              "      <th></th>\n",
              "      <th>artist</th>\n",
              "    </tr>\n",
              "    <tr>\n",
              "      <th>id</th>\n",
              "      <th></th>\n",
              "    </tr>\n",
              "  </thead>\n",
              "  <tbody>\n",
              "    <tr>\n",
              "      <th>1035</th>\n",
              "      <td>Blake, Robert</td>\n",
              "    </tr>\n",
              "    <tr>\n",
              "      <th>1036</th>\n",
              "      <td>Blake, Robert</td>\n",
              "    </tr>\n",
              "    <tr>\n",
              "      <th>1037</th>\n",
              "      <td>Blake, Robert</td>\n",
              "    </tr>\n",
              "    <tr>\n",
              "      <th>1038</th>\n",
              "      <td>Blake, Robert</td>\n",
              "    </tr>\n",
              "    <tr>\n",
              "      <th>1039</th>\n",
              "      <td>Blake, William</td>\n",
              "    </tr>\n",
              "  </tbody>\n",
              "</table>\n",
              "</div>"
            ],
            "text/plain": [
              "              artist\n",
              "id                  \n",
              "1035   Blake, Robert\n",
              "1036   Blake, Robert\n",
              "1037   Blake, Robert\n",
              "1038   Blake, Robert\n",
              "1039  Blake, William"
            ]
          },
          "metadata": {
            "tags": []
          },
          "execution_count": 41
        }
      ]
    },
    {
      "cell_type": "code",
      "metadata": {
        "id": "CHLu5DaQwtc4",
        "colab_type": "code",
        "colab": {
          "base_uri": "https://localhost:8080/",
          "height": 594
        },
        "outputId": "279290ab-c02e-4763-c9ba-e462639c3c72"
      },
      "source": [
        "Dataset = pd.read_csv('./pandas-basics/artworkdata.csv',nrows = 50 , \n",
        "                      index_col='id', usecols=COLS_TO_USE,low_memory=False)\n",
        "Dataset.head()"
      ],
      "execution_count": 43,
      "outputs": [
        {
          "output_type": "execute_result",
          "data": {
            "text/html": [
              "<div>\n",
              "<style scoped>\n",
              "    .dataframe tbody tr th:only-of-type {\n",
              "        vertical-align: middle;\n",
              "    }\n",
              "\n",
              "    .dataframe tbody tr th {\n",
              "        vertical-align: top;\n",
              "    }\n",
              "\n",
              "    .dataframe thead th {\n",
              "        text-align: right;\n",
              "    }\n",
              "</style>\n",
              "<table border=\"1\" class=\"dataframe\">\n",
              "  <thead>\n",
              "    <tr style=\"text-align: right;\">\n",
              "      <th></th>\n",
              "      <th>artist</th>\n",
              "      <th>title</th>\n",
              "      <th>medium</th>\n",
              "      <th>year</th>\n",
              "      <th>acquisitionYear</th>\n",
              "      <th>width</th>\n",
              "      <th>height</th>\n",
              "      <th>units</th>\n",
              "    </tr>\n",
              "    <tr>\n",
              "      <th>id</th>\n",
              "      <th></th>\n",
              "      <th></th>\n",
              "      <th></th>\n",
              "      <th></th>\n",
              "      <th></th>\n",
              "      <th></th>\n",
              "      <th></th>\n",
              "      <th></th>\n",
              "    </tr>\n",
              "  </thead>\n",
              "  <tbody>\n",
              "    <tr>\n",
              "      <th>1035</th>\n",
              "      <td>Blake, Robert</td>\n",
              "      <td>A Figure Bowing before a Seated Old Man with h...</td>\n",
              "      <td>Watercolour, ink, chalk and graphite on paper....</td>\n",
              "      <td>NaN</td>\n",
              "      <td>1922</td>\n",
              "      <td>394</td>\n",
              "      <td>419</td>\n",
              "      <td>mm</td>\n",
              "    </tr>\n",
              "    <tr>\n",
              "      <th>1036</th>\n",
              "      <td>Blake, Robert</td>\n",
              "      <td>Two Drawings of Frightened Figures, Probably f...</td>\n",
              "      <td>Graphite on paper</td>\n",
              "      <td>NaN</td>\n",
              "      <td>1922</td>\n",
              "      <td>311</td>\n",
              "      <td>213</td>\n",
              "      <td>mm</td>\n",
              "    </tr>\n",
              "    <tr>\n",
              "      <th>1037</th>\n",
              "      <td>Blake, Robert</td>\n",
              "      <td>The Preaching of Warning. Verso: An Old Man En...</td>\n",
              "      <td>Graphite on paper. Verso: graphite on paper</td>\n",
              "      <td>1785.0</td>\n",
              "      <td>1922</td>\n",
              "      <td>343</td>\n",
              "      <td>467</td>\n",
              "      <td>mm</td>\n",
              "    </tr>\n",
              "    <tr>\n",
              "      <th>1038</th>\n",
              "      <td>Blake, Robert</td>\n",
              "      <td>Six Drawings of Figures with Outstretched Arms</td>\n",
              "      <td>Graphite on paper</td>\n",
              "      <td>NaN</td>\n",
              "      <td>1922</td>\n",
              "      <td>318</td>\n",
              "      <td>394</td>\n",
              "      <td>mm</td>\n",
              "    </tr>\n",
              "    <tr>\n",
              "      <th>1039</th>\n",
              "      <td>Blake, William</td>\n",
              "      <td>The Circle of the Lustful: Francesca da Rimini...</td>\n",
              "      <td>Line engraving on paper</td>\n",
              "      <td>1826.0</td>\n",
              "      <td>1919</td>\n",
              "      <td>243</td>\n",
              "      <td>335</td>\n",
              "      <td>mm</td>\n",
              "    </tr>\n",
              "  </tbody>\n",
              "</table>\n",
              "</div>"
            ],
            "text/plain": [
              "              artist  ... units\n",
              "id                    ...      \n",
              "1035   Blake, Robert  ...    mm\n",
              "1036   Blake, Robert  ...    mm\n",
              "1037   Blake, Robert  ...    mm\n",
              "1038   Blake, Robert  ...    mm\n",
              "1039  Blake, William  ...    mm\n",
              "\n",
              "[5 rows x 8 columns]"
            ]
          },
          "metadata": {
            "tags": []
          },
          "execution_count": 43
        }
      ]
    },
    {
      "cell_type": "code",
      "metadata": {
        "id": "kmxoP9eHxEH0",
        "colab_type": "code",
        "colab": {}
      },
      "source": [
        "## Load to disk by serializing the data the python Objects\n",
        "df.to_pickle(\"./pandas-basics/dummy.pkl\")"
      ],
      "execution_count": 0,
      "outputs": []
    },
    {
      "cell_type": "code",
      "metadata": {
        "id": "tou_oX42uZ8i",
        "colab_type": "code",
        "colab": {
          "base_uri": "https://localhost:8080/",
          "height": 108
        },
        "outputId": "3bd3a3cc-147c-4e85-ea81-d46e4e970933"
      },
      "source": [
        "### JSON nested Objects\n",
        "## Traverse folders to get all json files\n",
        "## Find the way to read them so that pandas understands\n",
        "### Try to produceidentical DataFrame as  for CSV\n",
        "\n",
        "records = [(\"Espresso\",\"5$\"),\n",
        "           (\"Flat White\", \"10$\")]\n",
        "pd.DataFrame.from_records(records)\n",
        "pd.DataFrame.from_records(records, columns=[\"coffe\",\"price\"])"
      ],
      "execution_count": 45,
      "outputs": [
        {
          "output_type": "execute_result",
          "data": {
            "text/html": [
              "<div>\n",
              "<style scoped>\n",
              "    .dataframe tbody tr th:only-of-type {\n",
              "        vertical-align: middle;\n",
              "    }\n",
              "\n",
              "    .dataframe tbody tr th {\n",
              "        vertical-align: top;\n",
              "    }\n",
              "\n",
              "    .dataframe thead th {\n",
              "        text-align: right;\n",
              "    }\n",
              "</style>\n",
              "<table border=\"1\" class=\"dataframe\">\n",
              "  <thead>\n",
              "    <tr style=\"text-align: right;\">\n",
              "      <th></th>\n",
              "      <th>coffe</th>\n",
              "      <th>price</th>\n",
              "    </tr>\n",
              "  </thead>\n",
              "  <tbody>\n",
              "    <tr>\n",
              "      <th>0</th>\n",
              "      <td>Espresso</td>\n",
              "      <td>5$</td>\n",
              "    </tr>\n",
              "    <tr>\n",
              "      <th>1</th>\n",
              "      <td>Flat White</td>\n",
              "      <td>10$</td>\n",
              "    </tr>\n",
              "  </tbody>\n",
              "</table>\n",
              "</div>"
            ],
            "text/plain": [
              "        coffe price\n",
              "0    Espresso    5$\n",
              "1  Flat White   10$"
            ]
          },
          "metadata": {
            "tags": []
          },
          "execution_count": 45
        }
      ]
    },
    {
      "cell_type": "code",
      "metadata": {
        "id": "lrj4qbIxuaGO",
        "colab_type": "code",
        "colab": {}
      },
      "source": [
        ""
      ],
      "execution_count": 0,
      "outputs": []
    },
    {
      "cell_type": "code",
      "metadata": {
        "id": "QEfSbjxEuaNB",
        "colab_type": "code",
        "colab": {}
      },
      "source": [
        ""
      ],
      "execution_count": 0,
      "outputs": []
    },
    {
      "cell_type": "code",
      "metadata": {
        "id": "Z9p-aM-fuaLV",
        "colab_type": "code",
        "colab": {}
      },
      "source": [
        ""
      ],
      "execution_count": 0,
      "outputs": []
    },
    {
      "cell_type": "code",
      "metadata": {
        "id": "2t6cvNipuaI5",
        "colab_type": "code",
        "colab": {}
      },
      "source": [
        ""
      ],
      "execution_count": 0,
      "outputs": []
    },
    {
      "cell_type": "code",
      "metadata": {
        "id": "ekzeew57uaEO",
        "colab_type": "code",
        "colab": {}
      },
      "source": [
        ""
      ],
      "execution_count": 0,
      "outputs": []
    },
    {
      "cell_type": "code",
      "metadata": {
        "id": "EvwmpAB7uaB3",
        "colab_type": "code",
        "colab": {}
      },
      "source": [
        ""
      ],
      "execution_count": 0,
      "outputs": []
    },
    {
      "cell_type": "code",
      "metadata": {
        "id": "_HnV9Dj9uZ_P",
        "colab_type": "code",
        "colab": {}
      },
      "source": [
        ""
      ],
      "execution_count": 0,
      "outputs": []
    }
  ]
}