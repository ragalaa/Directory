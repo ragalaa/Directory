{
  "nbformat": 4,
  "nbformat_minor": 0,
  "metadata": {
    "colab": {
      "name": "Quadrartic_Optimization_Risk_return",
      "provenance": [],
      "include_colab_link": true
    },
    "kernelspec": {
      "name": "python3",
      "display_name": "Python 3"
    }
  },
  "cells": [
    {
      "cell_type": "markdown",
      "metadata": {
        "id": "view-in-github",
        "colab_type": "text"
      },
      "source": [
        "<a href=\"https://colab.research.google.com/github/ragalaa/Directory/blob/master/Quadrartic_Optimization_Risk_return.ipynb\" target=\"_parent\"><img src=\"https://colab.research.google.com/assets/colab-badge.svg\" alt=\"Open In Colab\"/></a>"
      ]
    },
    {
      "cell_type": "code",
      "metadata": {
        "id": "XROvMzdkqUt-",
        "colab_type": "code",
        "colab": {}
      },
      "source": [
        "import pandas as pd\n",
        "import numpy as np"
      ],
      "execution_count": 0,
      "outputs": []
    },
    {
      "cell_type": "code",
      "metadata": {
        "id": "idY5a9rxq4eI",
        "colab_type": "code",
        "colab": {}
      },
      "source": [
        "data = pd.read_csv('Portfolio_Data.csv',sep=\",\")"
      ],
      "execution_count": 0,
      "outputs": []
    },
    {
      "cell_type": "code",
      "metadata": {
        "id": "e5aZpkQguLJ_",
        "colab_type": "code",
        "outputId": "2dcfe72c-ba6d-4a7e-ba92-45349cabe878",
        "colab": {
          "base_uri": "https://localhost:8080/",
          "height": 198
        }
      },
      "source": [
        "data.head()"
      ],
      "execution_count": 4,
      "outputs": [
        {
          "output_type": "execute_result",
          "data": {
            "text/html": [
              "<div>\n",
              "<style scoped>\n",
              "    .dataframe tbody tr th:only-of-type {\n",
              "        vertical-align: middle;\n",
              "    }\n",
              "\n",
              "    .dataframe tbody tr th {\n",
              "        vertical-align: top;\n",
              "    }\n",
              "\n",
              "    .dataframe thead th {\n",
              "        text-align: right;\n",
              "    }\n",
              "</style>\n",
              "<table border=\"1\" class=\"dataframe\">\n",
              "  <thead>\n",
              "    <tr style=\"text-align: right;\">\n",
              "      <th></th>\n",
              "      <th>Date</th>\n",
              "      <th>AAPL</th>\n",
              "      <th>ADBE</th>\n",
              "      <th>CVX</th>\n",
              "      <th>GOOG</th>\n",
              "      <th>IBM</th>\n",
              "      <th>MDLZ</th>\n",
              "      <th>MSFT</th>\n",
              "      <th>NFLX</th>\n",
              "      <th>ORCL</th>\n",
              "      <th>SBUX</th>\n",
              "    </tr>\n",
              "  </thead>\n",
              "  <tbody>\n",
              "    <tr>\n",
              "      <th>0</th>\n",
              "      <td>1-Jan-19</td>\n",
              "      <td>164.468567</td>\n",
              "      <td>247.820007</td>\n",
              "      <td>111.259331</td>\n",
              "      <td>1116.369995</td>\n",
              "      <td>129.782883</td>\n",
              "      <td>45.797958</td>\n",
              "      <td>103.258560</td>\n",
              "      <td>339.500000</td>\n",
              "      <td>49.608036</td>\n",
              "      <td>67.218437</td>\n",
              "    </tr>\n",
              "    <tr>\n",
              "      <th>1</th>\n",
              "      <td>1-Dec-18</td>\n",
              "      <td>155.871613</td>\n",
              "      <td>226.240005</td>\n",
              "      <td>105.572632</td>\n",
              "      <td>1035.609985</td>\n",
              "      <td>109.748711</td>\n",
              "      <td>39.374062</td>\n",
              "      <td>100.430641</td>\n",
              "      <td>267.660004</td>\n",
              "      <td>44.590942</td>\n",
              "      <td>63.529015</td>\n",
              "    </tr>\n",
              "    <tr>\n",
              "      <th>2</th>\n",
              "      <td>1-Nov-18</td>\n",
              "      <td>175.851181</td>\n",
              "      <td>250.889999</td>\n",
              "      <td>114.305328</td>\n",
              "      <td>1094.430054</td>\n",
              "      <td>118.474113</td>\n",
              "      <td>44.242950</td>\n",
              "      <td>109.174454</td>\n",
              "      <td>286.130005</td>\n",
              "      <td>48.156242</td>\n",
              "      <td>65.466148</td>\n",
              "    </tr>\n",
              "    <tr>\n",
              "      <th>3</th>\n",
              "      <td>1-Oct-18</td>\n",
              "      <td>215.515686</td>\n",
              "      <td>245.759995</td>\n",
              "      <td>107.299393</td>\n",
              "      <td>1076.770020</td>\n",
              "      <td>110.046410</td>\n",
              "      <td>41.292107</td>\n",
              "      <td>105.157578</td>\n",
              "      <td>301.779999</td>\n",
              "      <td>48.041821</td>\n",
              "      <td>57.174942</td>\n",
              "    </tr>\n",
              "    <tr>\n",
              "      <th>4</th>\n",
              "      <td>1-Sep-18</td>\n",
              "      <td>222.290543</td>\n",
              "      <td>269.950012</td>\n",
              "      <td>117.515182</td>\n",
              "      <td>1193.469971</td>\n",
              "      <td>144.157669</td>\n",
              "      <td>42.001965</td>\n",
              "      <td>112.600616</td>\n",
              "      <td>374.130005</td>\n",
              "      <td>50.717365</td>\n",
              "      <td>55.771816</td>\n",
              "    </tr>\n",
              "  </tbody>\n",
              "</table>\n",
              "</div>"
            ],
            "text/plain": [
              "       Date      \\nAAPL      \\nADBE  ...      \\nNFLX     \\nORCL     \\nSBUX\n",
              "0  1-Jan-19  164.468567  247.820007  ...  339.500000  49.608036  67.218437\n",
              "1  1-Dec-18  155.871613  226.240005  ...  267.660004  44.590942  63.529015\n",
              "2  1-Nov-18  175.851181  250.889999  ...  286.130005  48.156242  65.466148\n",
              "3  1-Oct-18  215.515686  245.759995  ...  301.779999  48.041821  57.174942\n",
              "4  1-Sep-18  222.290543  269.950012  ...  374.130005  50.717365  55.771816\n",
              "\n",
              "[5 rows x 11 columns]"
            ]
          },
          "metadata": {
            "tags": []
          },
          "execution_count": 4
        }
      ]
    },
    {
      "cell_type": "markdown",
      "metadata": {
        "id": "cBCUvbbt1pja",
        "colab_type": "text"
      },
      "source": [
        "# New Section"
      ]
    },
    {
      "cell_type": "code",
      "metadata": {
        "id": "47eSzfCKub0N",
        "colab_type": "code",
        "colab": {}
      },
      "source": [
        "### Convert date to format present in 4-Jan-19 to (DD-MM-YYY)\n",
        "data['Date'] = pd.to_datetime(data['Date'], format='%d-%b-%y')"
      ],
      "execution_count": 0,
      "outputs": []
    },
    {
      "cell_type": "code",
      "metadata": {
        "id": "74TaX2vGuOaN",
        "colab_type": "code",
        "outputId": "1e1aa646-3623-4d9a-8ad5-f031e79a4f89",
        "colab": {
          "base_uri": "https://localhost:8080/",
          "height": 198
        }
      },
      "source": [
        "data.sample(5)"
      ],
      "execution_count": 6,
      "outputs": [
        {
          "output_type": "execute_result",
          "data": {
            "text/html": [
              "<div>\n",
              "<style scoped>\n",
              "    .dataframe tbody tr th:only-of-type {\n",
              "        vertical-align: middle;\n",
              "    }\n",
              "\n",
              "    .dataframe tbody tr th {\n",
              "        vertical-align: top;\n",
              "    }\n",
              "\n",
              "    .dataframe thead th {\n",
              "        text-align: right;\n",
              "    }\n",
              "</style>\n",
              "<table border=\"1\" class=\"dataframe\">\n",
              "  <thead>\n",
              "    <tr style=\"text-align: right;\">\n",
              "      <th></th>\n",
              "      <th>Date</th>\n",
              "      <th>AAPL</th>\n",
              "      <th>ADBE</th>\n",
              "      <th>CVX</th>\n",
              "      <th>GOOG</th>\n",
              "      <th>IBM</th>\n",
              "      <th>MDLZ</th>\n",
              "      <th>MSFT</th>\n",
              "      <th>NFLX</th>\n",
              "      <th>ORCL</th>\n",
              "      <th>SBUX</th>\n",
              "    </tr>\n",
              "  </thead>\n",
              "  <tbody>\n",
              "    <tr>\n",
              "      <th>121</th>\n",
              "      <td>2008-12-01</td>\n",
              "      <td>10.640865</td>\n",
              "      <td>21.290001</td>\n",
              "      <td>49.557316</td>\n",
              "      <td>153.250580</td>\n",
              "      <td>61.140430</td>\n",
              "      <td>13.540571</td>\n",
              "      <td>15.001460</td>\n",
              "      <td>4.270000</td>\n",
              "      <td>15.575384</td>\n",
              "      <td>4.055146</td>\n",
              "    </tr>\n",
              "    <tr>\n",
              "      <th>7</th>\n",
              "      <td>2018-06-01</td>\n",
              "      <td>181.644363</td>\n",
              "      <td>243.809998</td>\n",
              "      <td>120.349632</td>\n",
              "      <td>1115.650024</td>\n",
              "      <td>131.760971</td>\n",
              "      <td>39.870529</td>\n",
              "      <td>96.712257</td>\n",
              "      <td>391.429993</td>\n",
              "      <td>43.170609</td>\n",
              "      <td>47.600578</td>\n",
              "    </tr>\n",
              "    <tr>\n",
              "      <th>119</th>\n",
              "      <td>2009-02-01</td>\n",
              "      <td>11.134572</td>\n",
              "      <td>16.700001</td>\n",
              "      <td>40.673584</td>\n",
              "      <td>168.363937</td>\n",
              "      <td>66.857841</td>\n",
              "      <td>11.613440</td>\n",
              "      <td>12.462632</td>\n",
              "      <td>5.177143</td>\n",
              "      <td>13.651523</td>\n",
              "      <td>3.922260</td>\n",
              "    </tr>\n",
              "    <tr>\n",
              "      <th>20</th>\n",
              "      <td>2017-05-01</td>\n",
              "      <td>146.998749</td>\n",
              "      <td>141.860001</td>\n",
              "      <td>93.884682</td>\n",
              "      <td>964.859985</td>\n",
              "      <td>136.796494</td>\n",
              "      <td>44.397869</td>\n",
              "      <td>66.801399</td>\n",
              "      <td>163.070007</td>\n",
              "      <td>43.780102</td>\n",
              "      <td>60.481525</td>\n",
              "    </tr>\n",
              "    <tr>\n",
              "      <th>102</th>\n",
              "      <td>2010-07-01</td>\n",
              "      <td>32.072212</td>\n",
              "      <td>28.719999</td>\n",
              "      <td>54.016651</td>\n",
              "      <td>241.519730</td>\n",
              "      <td>96.057358</td>\n",
              "      <td>15.898499</td>\n",
              "      <td>20.571890</td>\n",
              "      <td>14.650000</td>\n",
              "      <td>21.004835</td>\n",
              "      <td>10.696387</td>\n",
              "    </tr>\n",
              "  </tbody>\n",
              "</table>\n",
              "</div>"
            ],
            "text/plain": [
              "          Date      \\nAAPL      \\nADBE  ...      \\nNFLX     \\nORCL     \\nSBUX\n",
              "121 2008-12-01   10.640865   21.290001  ...    4.270000  15.575384   4.055146\n",
              "7   2018-06-01  181.644363  243.809998  ...  391.429993  43.170609  47.600578\n",
              "119 2009-02-01   11.134572   16.700001  ...    5.177143  13.651523   3.922260\n",
              "20  2017-05-01  146.998749  141.860001  ...  163.070007  43.780102  60.481525\n",
              "102 2010-07-01   32.072212   28.719999  ...   14.650000  21.004835  10.696387\n",
              "\n",
              "[5 rows x 11 columns]"
            ]
          },
          "metadata": {
            "tags": []
          },
          "execution_count": 6
        }
      ]
    },
    {
      "cell_type": "code",
      "metadata": {
        "id": "e832MyTGv5KZ",
        "colab_type": "code",
        "colab": {}
      },
      "source": [
        "### Sort values by Date\n",
        "data = data.sort_values(['Date'], ascending=[True])\n"
      ],
      "execution_count": 0,
      "outputs": []
    },
    {
      "cell_type": "code",
      "metadata": {
        "id": "82EQ4sSSw893",
        "colab_type": "code",
        "outputId": "85bcb994-c89f-4d72-b1c1-111e32f11957",
        "colab": {
          "base_uri": "https://localhost:8080/",
          "height": 198
        }
      },
      "source": [
        "### Data percentage changes \n",
        "### calculate % changes of adjacent rows in the data frame( on numerical columns only)\n",
        "\n",
        "## data.dtypes return  data types of columns\n",
        "\n",
        "### step 1 :Filter out all columns whose datatype's are not 'float64 and int64'\n",
        "\n",
        "returns = data[[key for key in dict(data.dtypes) if dict(data.dtypes)[key] in ['float64', 'int64']]].pct_change()\n",
        "returns = returns[1:]\n",
        "returns.head()"
      ],
      "execution_count": 8,
      "outputs": [
        {
          "output_type": "execute_result",
          "data": {
            "text/html": [
              "<div>\n",
              "<style scoped>\n",
              "    .dataframe tbody tr th:only-of-type {\n",
              "        vertical-align: middle;\n",
              "    }\n",
              "\n",
              "    .dataframe tbody tr th {\n",
              "        vertical-align: top;\n",
              "    }\n",
              "\n",
              "    .dataframe thead th {\n",
              "        text-align: right;\n",
              "    }\n",
              "</style>\n",
              "<table border=\"1\" class=\"dataframe\">\n",
              "  <thead>\n",
              "    <tr style=\"text-align: right;\">\n",
              "      <th></th>\n",
              "      <th>AAPL</th>\n",
              "      <th>ADBE</th>\n",
              "      <th>CVX</th>\n",
              "      <th>GOOG</th>\n",
              "      <th>IBM</th>\n",
              "      <th>MDLZ</th>\n",
              "      <th>MSFT</th>\n",
              "      <th>NFLX</th>\n",
              "      <th>ORCL</th>\n",
              "      <th>SBUX</th>\n",
              "    </tr>\n",
              "  </thead>\n",
              "  <tbody>\n",
              "    <tr>\n",
              "      <th>143</th>\n",
              "      <td>-0.013065</td>\n",
              "      <td>0.009776</td>\n",
              "      <td>-0.059825</td>\n",
              "      <td>-0.103789</td>\n",
              "      <td>-0.062633</td>\n",
              "      <td>-0.085624</td>\n",
              "      <td>-0.087168</td>\n",
              "      <td>-0.012275</td>\n",
              "      <td>-0.042541</td>\n",
              "      <td>-0.115627</td>\n",
              "    </tr>\n",
              "    <tr>\n",
              "      <th>142</th>\n",
              "      <td>0.098097</td>\n",
              "      <td>0.062420</td>\n",
              "      <td>0.087156</td>\n",
              "      <td>0.019379</td>\n",
              "      <td>0.017259</td>\n",
              "      <td>-0.008456</td>\n",
              "      <td>-0.007219</td>\n",
              "      <td>0.029294</td>\n",
              "      <td>0.103470</td>\n",
              "      <td>0.014887</td>\n",
              "    </tr>\n",
              "    <tr>\n",
              "      <th>141</th>\n",
              "      <td>0.074158</td>\n",
              "      <td>-0.003357</td>\n",
              "      <td>0.051785</td>\n",
              "      <td>0.028855</td>\n",
              "      <td>0.084341</td>\n",
              "      <td>0.065515</td>\n",
              "      <td>0.074273</td>\n",
              "      <td>-0.043984</td>\n",
              "      <td>0.036955</td>\n",
              "      <td>-0.010842</td>\n",
              "    </tr>\n",
              "    <tr>\n",
              "      <th>140</th>\n",
              "      <td>0.214329</td>\n",
              "      <td>0.060154</td>\n",
              "      <td>0.047564</td>\n",
              "      <td>0.056282</td>\n",
              "      <td>0.042951</td>\n",
              "      <td>0.011055</td>\n",
              "      <td>0.025050</td>\n",
              "      <td>-0.012178</td>\n",
              "      <td>0.030851</td>\n",
              "      <td>-0.071245</td>\n",
              "    </tr>\n",
              "    <tr>\n",
              "      <th>139</th>\n",
              "      <td>0.007014</td>\n",
              "      <td>-0.088743</td>\n",
              "      <td>0.041227</td>\n",
              "      <td>0.049788</td>\n",
              "      <td>-0.008821</td>\n",
              "      <td>0.041667</td>\n",
              "      <td>-0.036642</td>\n",
              "      <td>-0.114612</td>\n",
              "      <td>0.017028</td>\n",
              "      <td>-0.089205</td>\n",
              "    </tr>\n",
              "  </tbody>\n",
              "</table>\n",
              "</div>"
            ],
            "text/plain": [
              "       \\nAAPL    \\nADBE     \\nCVX  ...    \\nNFLX    \\nORCL    \\nSBUX\n",
              "143 -0.013065  0.009776 -0.059825  ... -0.012275 -0.042541 -0.115627\n",
              "142  0.098097  0.062420  0.087156  ...  0.029294  0.103470  0.014887\n",
              "141  0.074158 -0.003357  0.051785  ... -0.043984  0.036955 -0.010842\n",
              "140  0.214329  0.060154  0.047564  ... -0.012178  0.030851 -0.071245\n",
              "139  0.007014 -0.088743  0.041227  ... -0.114612  0.017028 -0.089205\n",
              "\n",
              "[5 rows x 10 columns]"
            ]
          },
          "metadata": {
            "tags": []
          },
          "execution_count": 8
        }
      ]
    },
    {
      "cell_type": "code",
      "metadata": {
        "id": "-htKol2rykt_",
        "colab_type": "code",
        "outputId": "bdc9239f-133a-4329-8938-a940b20d4098",
        "colab": {
          "base_uri": "https://localhost:8080/",
          "height": 217
        }
      },
      "source": [
        "# lists = []\n",
        "# for key in dict(data.dtypes):\n",
        "#     lists.append(key)\n",
        "# lists    \n",
        "dict(data.dtypes)"
      ],
      "execution_count": 9,
      "outputs": [
        {
          "output_type": "execute_result",
          "data": {
            "text/plain": [
              "{'\\nAAPL': dtype('float64'),\n",
              " '\\nADBE': dtype('float64'),\n",
              " '\\nCVX': dtype('float64'),\n",
              " '\\nGOOG': dtype('float64'),\n",
              " '\\nIBM': dtype('float64'),\n",
              " '\\nMDLZ': dtype('float64'),\n",
              " '\\nMSFT': dtype('float64'),\n",
              " '\\nNFLX': dtype('float64'),\n",
              " '\\nORCL': dtype('float64'),\n",
              " '\\nSBUX': dtype('float64'),\n",
              " 'Date': dtype('<M8[ns]')}"
            ]
          },
          "metadata": {
            "tags": []
          },
          "execution_count": 9
        }
      ]
    },
    {
      "cell_type": "code",
      "metadata": {
        "id": "Hpr6CGYn0VUn",
        "colab_type": "code",
        "outputId": "41ae481f-1605-4add-c8d4-81fd066fe85a",
        "colab": {
          "base_uri": "https://localhost:8080/",
          "height": 199
        }
      },
      "source": [
        "### set the tickers\n",
        "stocknames = [\"\\nAAPL\",\"\\nADBE\",\"\\nCVX\",\"\\nGOOG\",\"\\nIBM\",\"\\nMDLZ\",\"\\nMSFT\",\"\\nNFLX\",\"\\nORCL\",\"\\nSBUX\"]\n",
        "stocknames\n"
      ],
      "execution_count": 10,
      "outputs": [
        {
          "output_type": "execute_result",
          "data": {
            "text/plain": [
              "['\\nAAPL',\n",
              " '\\nADBE',\n",
              " '\\nCVX',\n",
              " '\\nGOOG',\n",
              " '\\nIBM',\n",
              " '\\nMDLZ',\n",
              " '\\nMSFT',\n",
              " '\\nNFLX',\n",
              " '\\nORCL',\n",
              " '\\nSBUX']"
            ]
          },
          "metadata": {
            "tags": []
          },
          "execution_count": 10
        }
      ]
    },
    {
      "cell_type": "code",
      "metadata": {
        "id": "ZpnGUrZ_1AKQ",
        "colab_type": "code",
        "outputId": "6b6b7f58-3bad-47e8-8a27-3001ac832f26",
        "colab": {
          "base_uri": "https://localhost:8080/",
          "height": 198
        }
      },
      "source": [
        "stockreturns = returns[stocknames]\n",
        "stockreturns.head()"
      ],
      "execution_count": 11,
      "outputs": [
        {
          "output_type": "execute_result",
          "data": {
            "text/html": [
              "<div>\n",
              "<style scoped>\n",
              "    .dataframe tbody tr th:only-of-type {\n",
              "        vertical-align: middle;\n",
              "    }\n",
              "\n",
              "    .dataframe tbody tr th {\n",
              "        vertical-align: top;\n",
              "    }\n",
              "\n",
              "    .dataframe thead th {\n",
              "        text-align: right;\n",
              "    }\n",
              "</style>\n",
              "<table border=\"1\" class=\"dataframe\">\n",
              "  <thead>\n",
              "    <tr style=\"text-align: right;\">\n",
              "      <th></th>\n",
              "      <th>AAPL</th>\n",
              "      <th>ADBE</th>\n",
              "      <th>CVX</th>\n",
              "      <th>GOOG</th>\n",
              "      <th>IBM</th>\n",
              "      <th>MDLZ</th>\n",
              "      <th>MSFT</th>\n",
              "      <th>NFLX</th>\n",
              "      <th>ORCL</th>\n",
              "      <th>SBUX</th>\n",
              "    </tr>\n",
              "  </thead>\n",
              "  <tbody>\n",
              "    <tr>\n",
              "      <th>143</th>\n",
              "      <td>-0.013065</td>\n",
              "      <td>0.009776</td>\n",
              "      <td>-0.059825</td>\n",
              "      <td>-0.103789</td>\n",
              "      <td>-0.062633</td>\n",
              "      <td>-0.085624</td>\n",
              "      <td>-0.087168</td>\n",
              "      <td>-0.012275</td>\n",
              "      <td>-0.042541</td>\n",
              "      <td>-0.115627</td>\n",
              "    </tr>\n",
              "    <tr>\n",
              "      <th>142</th>\n",
              "      <td>0.098097</td>\n",
              "      <td>0.062420</td>\n",
              "      <td>0.087156</td>\n",
              "      <td>0.019379</td>\n",
              "      <td>0.017259</td>\n",
              "      <td>-0.008456</td>\n",
              "      <td>-0.007219</td>\n",
              "      <td>0.029294</td>\n",
              "      <td>0.103470</td>\n",
              "      <td>0.014887</td>\n",
              "    </tr>\n",
              "    <tr>\n",
              "      <th>141</th>\n",
              "      <td>0.074158</td>\n",
              "      <td>-0.003357</td>\n",
              "      <td>0.051785</td>\n",
              "      <td>0.028855</td>\n",
              "      <td>0.084341</td>\n",
              "      <td>0.065515</td>\n",
              "      <td>0.074273</td>\n",
              "      <td>-0.043984</td>\n",
              "      <td>0.036955</td>\n",
              "      <td>-0.010842</td>\n",
              "    </tr>\n",
              "    <tr>\n",
              "      <th>140</th>\n",
              "      <td>0.214329</td>\n",
              "      <td>0.060154</td>\n",
              "      <td>0.047564</td>\n",
              "      <td>0.056282</td>\n",
              "      <td>0.042951</td>\n",
              "      <td>0.011055</td>\n",
              "      <td>0.025050</td>\n",
              "      <td>-0.012178</td>\n",
              "      <td>0.030851</td>\n",
              "      <td>-0.071245</td>\n",
              "    </tr>\n",
              "    <tr>\n",
              "      <th>139</th>\n",
              "      <td>0.007014</td>\n",
              "      <td>-0.088743</td>\n",
              "      <td>0.041227</td>\n",
              "      <td>0.049788</td>\n",
              "      <td>-0.008821</td>\n",
              "      <td>0.041667</td>\n",
              "      <td>-0.036642</td>\n",
              "      <td>-0.114612</td>\n",
              "      <td>0.017028</td>\n",
              "      <td>-0.089205</td>\n",
              "    </tr>\n",
              "  </tbody>\n",
              "</table>\n",
              "</div>"
            ],
            "text/plain": [
              "       \\nAAPL    \\nADBE     \\nCVX  ...    \\nNFLX    \\nORCL    \\nSBUX\n",
              "143 -0.013065  0.009776 -0.059825  ... -0.012275 -0.042541 -0.115627\n",
              "142  0.098097  0.062420  0.087156  ...  0.029294  0.103470  0.014887\n",
              "141  0.074158 -0.003357  0.051785  ... -0.043984  0.036955 -0.010842\n",
              "140  0.214329  0.060154  0.047564  ... -0.012178  0.030851 -0.071245\n",
              "139  0.007014 -0.088743  0.041227  ... -0.114612  0.017028 -0.089205\n",
              "\n",
              "[5 rows x 10 columns]"
            ]
          },
          "metadata": {
            "tags": []
          },
          "execution_count": 11
        }
      ]
    },
    {
      "cell_type": "code",
      "metadata": {
        "id": "kAfWT9aNY2XF",
        "colab_type": "code",
        "outputId": "6caa1c64-dac2-4506-df1b-13b890903053",
        "colab": {
          "base_uri": "https://localhost:8080/",
          "height": 348
        }
      },
      "source": [
        "### Co variance Matrix calculation\n",
        "\n",
        "Covstocks = stockreturns.cov()\n",
        "Covstocks"
      ],
      "execution_count": 12,
      "outputs": [
        {
          "output_type": "execute_result",
          "data": {
            "text/html": [
              "<div>\n",
              "<style scoped>\n",
              "    .dataframe tbody tr th:only-of-type {\n",
              "        vertical-align: middle;\n",
              "    }\n",
              "\n",
              "    .dataframe tbody tr th {\n",
              "        vertical-align: top;\n",
              "    }\n",
              "\n",
              "    .dataframe thead th {\n",
              "        text-align: right;\n",
              "    }\n",
              "</style>\n",
              "<table border=\"1\" class=\"dataframe\">\n",
              "  <thead>\n",
              "    <tr style=\"text-align: right;\">\n",
              "      <th></th>\n",
              "      <th>AAPL</th>\n",
              "      <th>ADBE</th>\n",
              "      <th>CVX</th>\n",
              "      <th>GOOG</th>\n",
              "      <th>IBM</th>\n",
              "      <th>MDLZ</th>\n",
              "      <th>MSFT</th>\n",
              "      <th>NFLX</th>\n",
              "      <th>ORCL</th>\n",
              "      <th>SBUX</th>\n",
              "    </tr>\n",
              "  </thead>\n",
              "  <tbody>\n",
              "    <tr>\n",
              "      <th>\\nAAPL</th>\n",
              "      <td>0.008082</td>\n",
              "      <td>0.003602</td>\n",
              "      <td>0.001523</td>\n",
              "      <td>0.003833</td>\n",
              "      <td>0.001774</td>\n",
              "      <td>0.001149</td>\n",
              "      <td>0.002857</td>\n",
              "      <td>0.001787</td>\n",
              "      <td>0.002676</td>\n",
              "      <td>0.002423</td>\n",
              "    </tr>\n",
              "    <tr>\n",
              "      <th>\\nADBE</th>\n",
              "      <td>0.003602</td>\n",
              "      <td>0.006779</td>\n",
              "      <td>0.001770</td>\n",
              "      <td>0.002829</td>\n",
              "      <td>0.002141</td>\n",
              "      <td>0.001611</td>\n",
              "      <td>0.003187</td>\n",
              "      <td>0.003178</td>\n",
              "      <td>0.002924</td>\n",
              "      <td>0.003280</td>\n",
              "    </tr>\n",
              "    <tr>\n",
              "      <th>\\nCVX</th>\n",
              "      <td>0.001523</td>\n",
              "      <td>0.001770</td>\n",
              "      <td>0.003549</td>\n",
              "      <td>0.001640</td>\n",
              "      <td>0.001431</td>\n",
              "      <td>0.000932</td>\n",
              "      <td>0.001711</td>\n",
              "      <td>0.000200</td>\n",
              "      <td>0.001836</td>\n",
              "      <td>0.000836</td>\n",
              "    </tr>\n",
              "    <tr>\n",
              "      <th>\\nGOOG</th>\n",
              "      <td>0.003833</td>\n",
              "      <td>0.002829</td>\n",
              "      <td>0.001640</td>\n",
              "      <td>0.006338</td>\n",
              "      <td>0.001667</td>\n",
              "      <td>0.001680</td>\n",
              "      <td>0.002962</td>\n",
              "      <td>0.001600</td>\n",
              "      <td>0.002165</td>\n",
              "      <td>0.002252</td>\n",
              "    </tr>\n",
              "    <tr>\n",
              "      <th>\\nIBM</th>\n",
              "      <td>0.001774</td>\n",
              "      <td>0.002141</td>\n",
              "      <td>0.001431</td>\n",
              "      <td>0.001667</td>\n",
              "      <td>0.003406</td>\n",
              "      <td>0.001188</td>\n",
              "      <td>0.001332</td>\n",
              "      <td>0.002099</td>\n",
              "      <td>0.001984</td>\n",
              "      <td>0.001734</td>\n",
              "    </tr>\n",
              "    <tr>\n",
              "      <th>\\nMDLZ</th>\n",
              "      <td>0.001149</td>\n",
              "      <td>0.001611</td>\n",
              "      <td>0.000932</td>\n",
              "      <td>0.001680</td>\n",
              "      <td>0.001188</td>\n",
              "      <td>0.005448</td>\n",
              "      <td>0.000768</td>\n",
              "      <td>0.000790</td>\n",
              "      <td>0.001278</td>\n",
              "      <td>0.001870</td>\n",
              "    </tr>\n",
              "    <tr>\n",
              "      <th>\\nMSFT</th>\n",
              "      <td>0.002857</td>\n",
              "      <td>0.003187</td>\n",
              "      <td>0.001711</td>\n",
              "      <td>0.002962</td>\n",
              "      <td>0.001332</td>\n",
              "      <td>0.000768</td>\n",
              "      <td>0.004767</td>\n",
              "      <td>0.002571</td>\n",
              "      <td>0.002410</td>\n",
              "      <td>0.001897</td>\n",
              "    </tr>\n",
              "    <tr>\n",
              "      <th>\\nNFLX</th>\n",
              "      <td>0.001787</td>\n",
              "      <td>0.003178</td>\n",
              "      <td>0.000200</td>\n",
              "      <td>0.001600</td>\n",
              "      <td>0.002099</td>\n",
              "      <td>0.000790</td>\n",
              "      <td>0.002571</td>\n",
              "      <td>0.028123</td>\n",
              "      <td>0.001793</td>\n",
              "      <td>0.001465</td>\n",
              "    </tr>\n",
              "    <tr>\n",
              "      <th>\\nORCL</th>\n",
              "      <td>0.002676</td>\n",
              "      <td>0.002924</td>\n",
              "      <td>0.001836</td>\n",
              "      <td>0.002165</td>\n",
              "      <td>0.001984</td>\n",
              "      <td>0.001278</td>\n",
              "      <td>0.002410</td>\n",
              "      <td>0.001793</td>\n",
              "      <td>0.004370</td>\n",
              "      <td>0.001930</td>\n",
              "    </tr>\n",
              "    <tr>\n",
              "      <th>\\nSBUX</th>\n",
              "      <td>0.002423</td>\n",
              "      <td>0.003280</td>\n",
              "      <td>0.000836</td>\n",
              "      <td>0.002252</td>\n",
              "      <td>0.001734</td>\n",
              "      <td>0.001870</td>\n",
              "      <td>0.001897</td>\n",
              "      <td>0.001465</td>\n",
              "      <td>0.001930</td>\n",
              "      <td>0.006015</td>\n",
              "    </tr>\n",
              "  </tbody>\n",
              "</table>\n",
              "</div>"
            ],
            "text/plain": [
              "          \\nAAPL    \\nADBE     \\nCVX  ...    \\nNFLX    \\nORCL    \\nSBUX\n",
              "\\nAAPL  0.008082  0.003602  0.001523  ...  0.001787  0.002676  0.002423\n",
              "\\nADBE  0.003602  0.006779  0.001770  ...  0.003178  0.002924  0.003280\n",
              "\\nCVX   0.001523  0.001770  0.003549  ...  0.000200  0.001836  0.000836\n",
              "\\nGOOG  0.003833  0.002829  0.001640  ...  0.001600  0.002165  0.002252\n",
              "\\nIBM   0.001774  0.002141  0.001431  ...  0.002099  0.001984  0.001734\n",
              "\\nMDLZ  0.001149  0.001611  0.000932  ...  0.000790  0.001278  0.001870\n",
              "\\nMSFT  0.002857  0.003187  0.001711  ...  0.002571  0.002410  0.001897\n",
              "\\nNFLX  0.001787  0.003178  0.000200  ...  0.028123  0.001793  0.001465\n",
              "\\nORCL  0.002676  0.002924  0.001836  ...  0.001793  0.004370  0.001930\n",
              "\\nSBUX  0.002423  0.003280  0.000836  ...  0.001465  0.001930  0.006015\n",
              "\n",
              "[10 rows x 10 columns]"
            ]
          },
          "metadata": {
            "tags": []
          },
          "execution_count": 12
        }
      ]
    },
    {
      "cell_type": "code",
      "metadata": {
        "id": "2eq1yNgCn2w6",
        "colab_type": "code",
        "colab": {
          "base_uri": "https://localhost:8080/",
          "height": 54
        },
        "outputId": "e5f4e4ce-1ebe-40c2-faf1-9c22eac23ca7"
      },
      "source": [
        "### Converting data frame to matrix representation\n",
        "!pip install CVXOPT\n",
        "import cvxopt as opt\n",
        "from cvxopt import matrix, solvers\n",
        "Covstocks = matrix(np.array(Covstocks))\n",
        "Covstocks"
      ],
      "execution_count": 16,
      "outputs": [
        {
          "output_type": "stream",
          "text": [
            "Requirement already satisfied: CVXOPT in /usr/local/lib/python3.6/dist-packages (1.2.3)\n"
          ],
          "name": "stdout"
        },
        {
          "output_type": "execute_result",
          "data": {
            "text/plain": [
              "<10x10 matrix, tc='d'>"
            ]
          },
          "metadata": {
            "tags": []
          },
          "execution_count": 16
        }
      ]
    },
    {
      "cell_type": "code",
      "metadata": {
        "id": "yLHJaLolz_eB",
        "colab_type": "code",
        "outputId": "c2e73bc9-2c34-4075-a4a0-4ccacea2635c",
        "colab": {
          "base_uri": "https://localhost:8080/",
          "height": 35
        }
      },
      "source": [
        "### Number  of stocks (n)\n",
        "\n",
        "n = len(stocknames)\n",
        "n"
      ],
      "execution_count": 19,
      "outputs": [
        {
          "output_type": "execute_result",
          "data": {
            "text/plain": [
              "10"
            ]
          },
          "metadata": {
            "tags": []
          },
          "execution_count": 19
        }
      ]
    },
    {
      "cell_type": "code",
      "metadata": {
        "id": "f2HOMEKp9Zj7",
        "colab_type": "code",
        "outputId": "9f5d9e99-c61d-4d4e-8760-5dee817367fa",
        "colab": {
          "base_uri": "https://localhost:8080/",
          "height": 35
        }
      },
      "source": [
        "### 1) Objective Fucntion of Optimuization\n",
        "\n",
        "Objective = Covstocks\n",
        "Objective"
      ],
      "execution_count": 17,
      "outputs": [
        {
          "output_type": "execute_result",
          "data": {
            "text/plain": [
              "<10x10 matrix, tc='d'>"
            ]
          },
          "metadata": {
            "tags": []
          },
          "execution_count": 17
        }
      ]
    },
    {
      "cell_type": "code",
      "metadata": {
        "id": "xfEKT5H-owrG",
        "colab_type": "code",
        "colab": {
          "base_uri": "https://localhost:8080/",
          "height": 35
        },
        "outputId": "b752e8cd-af35-48c4-f0b7-1ed0e97f530c"
      },
      "source": [
        "### Linear Objective = np.zeros\n",
        "### The linear portion of the objective fucntion = all Zeros,n rows, 1 column\n",
        "vector = matrix(np.zeros((n,1)))\n",
        "vector"
      ],
      "execution_count": 20,
      "outputs": [
        {
          "output_type": "execute_result",
          "data": {
            "text/plain": [
              "<10x1 matrix, tc='d'>"
            ]
          },
          "metadata": {
            "tags": []
          },
          "execution_count": 20
        }
      ]
    },
    {
      "cell_type": "code",
      "metadata": {
        "id": "oNdVzMQL4IpY",
        "colab_type": "code",
        "outputId": "10a14d9f-9cf4-4429-c5bb-0328e924d6ac",
        "colab": {
          "base_uri": "https://localhost:8080/",
          "height": 35
        }
      },
      "source": [
        "expectreturn = np.mean(stockreturns)\n",
        "### Conver to matrix the expected Return data frame\n",
        "expectreturn = matrix(expectreturn)\n",
        "expectreturn"
      ],
      "execution_count": 23,
      "outputs": [
        {
          "output_type": "execute_result",
          "data": {
            "text/plain": [
              "<10x1 matrix, tc='d'>"
            ]
          },
          "metadata": {
            "tags": []
          },
          "execution_count": 23
        }
      ]
    },
    {
      "cell_type": "code",
      "metadata": {
        "id": "9X6UKVsV9oSq",
        "colab_type": "code",
        "colab": {}
      },
      "source": [
        "### 2) seting Up Constaints "
      ],
      "execution_count": 0,
      "outputs": []
    },
    {
      "cell_type": "code",
      "metadata": {
        "id": "bRouitbQ9BCM",
        "colab_type": "code",
        "outputId": "dca01a1b-922e-4c9b-c94f-c770d5ebda16",
        "colab": {
          "base_uri": "https://localhost:8080/",
          "height": 35
        }
      },
      "source": [
        "### \n",
        "###Optimizer to short on some stocks\n",
        "\n",
        "# constraintInEqualityLhs = matrix(-np.transpose(np.array(expectreturn)))\n",
        "# constraintInEqualityLhs\n",
        "\n",
        "###2.2For long stratergy\n",
        "\n",
        "constraintInEquLhslong = matrix(-np.identity(n))\n",
        "constraintInEquLhslong\n",
        "\n"
      ],
      "execution_count": 42,
      "outputs": [
        {
          "output_type": "execute_result",
          "data": {
            "text/plain": [
              "<10x10 matrix, tc='d'>"
            ]
          },
          "metadata": {
            "tags": []
          },
          "execution_count": 42
        }
      ]
    },
    {
      "cell_type": "code",
      "metadata": {
        "id": "irkChw4B-ZR2",
        "colab_type": "code",
        "outputId": "b30895b1-b404-4f74-8f88-76f1b7dbfd97",
        "colab": {
          "base_uri": "https://localhost:8080/",
          "height": 35
        }
      },
      "source": [
        "### Right hand side of equality\n",
        "### Expected return will be bumped to >= 5%\n",
        "### Higher risk since shortselling stocks is allowed, so demand higher return\n",
        "constraintsInEqualityRHS = matrix(-np.ones((1,1))**0.05)\n",
        "constraintsInEqualityRHS"
      ],
      "execution_count": 25,
      "outputs": [
        {
          "output_type": "execute_result",
          "data": {
            "text/plain": [
              "<1x1 matrix, tc='d'>"
            ]
          },
          "metadata": {
            "tags": []
          },
          "execution_count": 25
        }
      ]
    },
    {
      "cell_type": "code",
      "metadata": {
        "id": "efq7RVkP-rF0",
        "colab_type": "code",
        "outputId": "1a1c5602-5041-431e-cc0c-06f2f5e0ce03",
        "colab": {
          "base_uri": "https://localhost:8080/",
          "height": 35
        }
      },
      "source": [
        "### Equality Constraints\n",
        "### Expected Return >= 5%\n",
        "## Force sum of all portfolio weights to be 1\n",
        "\n",
        "contraintsequalityLhs = matrix(1.0,(1,n))\n",
        "contraintsequalityLhs\n",
        "\n"
      ],
      "execution_count": 26,
      "outputs": [
        {
          "output_type": "execute_result",
          "data": {
            "text/plain": [
              "<1x10 matrix, tc='d'>"
            ]
          },
          "metadata": {
            "tags": []
          },
          "execution_count": 26
        }
      ]
    },
    {
      "cell_type": "code",
      "metadata": {
        "id": "UfRJJpAA_qEg",
        "colab_type": "code",
        "outputId": "05e6cc09-27c2-4f90-c7ef-ef7048e99a8e",
        "colab": {
          "base_uri": "https://localhost:8080/",
          "height": 35
        }
      },
      "source": [
        "### Non negative constraints :matrix(0.0,(n,1))\n",
        "### define RHS as all zeros,n rows and 1 column\n",
        "\n",
        "contraintsequalityRhs = matrix(1.0)\n",
        "contraintsequalityRhs"
      ],
      "execution_count": 27,
      "outputs": [
        {
          "output_type": "execute_result",
          "data": {
            "text/plain": [
              "<1x1 matrix, tc='d'>"
            ]
          },
          "metadata": {
            "tags": []
          },
          "execution_count": 27
        }
      ]
    },
    {
      "cell_type": "code",
      "metadata": {
        "id": "3emWBML1CXFU",
        "colab_type": "code",
        "outputId": "35e21f7c-a393-4843-ac4d-b8db1725cce7",
        "colab": {
          "base_uri": "https://localhost:8080/",
          "height": 163
        }
      },
      "source": [
        "#### Usings SOlver for optimizations\n",
        "### solving Qp( Quadratic programming variance )\n",
        "\n",
        "### Return solution object.\n",
        "\n",
        "solution = solvers.qp(Objective,vector , constraintInEqualityLhs, constraintsInEqualityRHS ,contraintsequalityLhs, constraintsInEqualityRHS)\n"
      ],
      "execution_count": 28,
      "outputs": [
        {
          "output_type": "stream",
          "text": [
            "     pcost       dcost       gap    pres   dres\n",
            " 0:  4.0382e-02  8.9539e-01  9e-01  2e+00  8e-18\n",
            " 1:  2.1343e-01  1.9561e+00  2e-02  8e-01  3e-17\n",
            " 2:  7.2074e+00  5.4180e+00  2e+00  8e-15  1e-15\n",
            " 3:  5.5665e+00  5.5290e+00  4e-02  3e-15  1e-16\n",
            " 4:  5.5294e+00  5.5290e+00  4e-04  4e-15  1e-16\n",
            " 5:  5.5290e+00  5.5290e+00  4e-06  2e-15  3e-16\n",
            "Optimal solution found.\n"
          ],
          "name": "stdout"
        }
      ]
    },
    {
      "cell_type": "code",
      "metadata": {
        "id": "xmfs2jKDeC1V",
        "colab_type": "code",
        "outputId": "8a3a2f80-db97-4bd1-f7c9-4d1848264d9d",
        "colab": {
          "base_uri": "https://localhost:8080/",
          "height": 35
        }
      },
      "source": [
        "WeightQuad= solution['x']\n",
        "WeightQuad"
      ],
      "execution_count": 32,
      "outputs": [
        {
          "output_type": "execute_result",
          "data": {
            "text/plain": [
              "<10x1 matrix, tc='d'>"
            ]
          },
          "metadata": {
            "tags": []
          },
          "execution_count": 32
        }
      ]
    },
    {
      "cell_type": "code",
      "metadata": {
        "id": "1x3Oo3e1sRvv",
        "colab_type": "code",
        "colab": {
          "base_uri": "https://localhost:8080/",
          "height": 199
        },
        "outputId": "6901b007-2f74-4af4-8da1-5682abaf4a2c"
      },
      "source": [
        "### solver tellint to go 23.3 % on apple\n",
        "## and short on chevron an other wiyh negative\n",
        "\n",
        "WeightQuad=np.array(WeightQuad)\n",
        "WeightQuad\n"
      ],
      "execution_count": 33,
      "outputs": [
        {
          "output_type": "execute_result",
          "data": {
            "text/plain": [
              "array([[ 23.37156967],\n",
              "       [  5.99907447],\n",
              "       [ -0.94527449],\n",
              "       [ -1.43790677],\n",
              "       [-33.23896297],\n",
              "       [ -1.1221376 ],\n",
              "       [ -9.05681612],\n",
              "       [ 15.19000969],\n",
              "       [ -4.24972261],\n",
              "       [  4.49016672]])"
            ]
          },
          "metadata": {
            "tags": []
          },
          "execution_count": 33
        }
      ]
    },
    {
      "cell_type": "code",
      "metadata": {
        "id": "PzFaoq6hsY7t",
        "colab_type": "code",
        "colab": {
          "base_uri": "https://localhost:8080/",
          "height": 35
        },
        "outputId": "e32f3cf7-29d3-42d6-d949-d9db7fbff2f1"
      },
      "source": [
        "sum(WeightQuad)"
      ],
      "execution_count": 34,
      "outputs": [
        {
          "output_type": "execute_result",
          "data": {
            "text/plain": [
              "array([-1.])"
            ]
          },
          "metadata": {
            "tags": []
          },
          "execution_count": 34
        }
      ]
    },
    {
      "cell_type": "code",
      "metadata": {
        "id": "-XrdYJ28egZt",
        "colab_type": "code",
        "outputId": "34f93e4e-54df-463a-daf8-55cc564cfdad",
        "colab": {
          "base_uri": "https://localhost:8080/",
          "height": 35
        }
      },
      "source": [
        "### Calculate Risk of Portfolio by \n",
        "### It resturn sum-product of weights and max losses\n",
        "\n",
        "portfolioRiskQuad = np.dot(np.dot(WeightQuad.T,Covstocks),WeightQuad)\n",
        "portfolioRiskQuad"
      ],
      "execution_count": 35,
      "outputs": [
        {
          "output_type": "execute_result",
          "data": {
            "text/plain": [
              "array([[11.05809005]])"
            ]
          },
          "metadata": {
            "tags": []
          },
          "execution_count": 35
        }
      ]
    },
    {
      "cell_type": "code",
      "metadata": {
        "id": "6saOx5gbe83o",
        "colab_type": "code",
        "outputId": "a0a38eb9-adfa-48ff-f621-930051dde079",
        "colab": {
          "base_uri": "https://localhost:8080/",
          "height": 35
        }
      },
      "source": [
        "### Calculate Return of Portfolio by \n",
        "### It resturn sum-product of weights and max losses\n",
        "### Two nested calls to numpy.dot to compute w_transpose* cov * w\n",
        "\n",
        "portfolioReturnQuad = np.dot(expectreturn.T,WeightQuad)\n",
        "portfolioReturnQuad"
      ],
      "execution_count": 36,
      "outputs": [
        {
          "output_type": "execute_result",
          "data": {
            "text/plain": [
              "array([[1.00000034]])"
            ]
          },
          "metadata": {
            "tags": []
          },
          "execution_count": 36
        }
      ]
    },
    {
      "cell_type": "code",
      "metadata": {
        "id": "fuCQBkO9gbpZ",
        "colab_type": "code",
        "colab": {}
      },
      "source": [
        ""
      ],
      "execution_count": 0,
      "outputs": []
    }
  ]
}